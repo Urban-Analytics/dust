{
 "cells": [
  {
   "cell_type": "markdown",
   "metadata": {},
   "source": [
    "# EnKF Experiments - GCS"
   ]
  },
  {
   "cell_type": "markdown",
   "metadata": {},
   "source": [
    "## Imports"
   ]
  },
  {
   "cell_type": "code",
   "execution_count": 1,
   "metadata": {},
   "outputs": [],
   "source": [
    "# Imports\n",
    "import matplotlib.pyplot as plt\n",
    "import numpy as np\n",
    "import pandas as pd\n",
    "import pickle\n",
    "from scipy.stats import shapiro, kruskal\n",
    "import seaborn as sns\n",
    "import sys"
   ]
  },
  {
   "cell_type": "code",
   "execution_count": 2,
   "metadata": {},
   "outputs": [],
   "source": [
    "sys.path.append('../../../../stationsim/')\n",
    "from ensemble_kalman_filter import EnsembleKalmanFilter, AgentIncluder\n",
    "from stationsim_gcs_model import Model"
   ]
  },
  {
   "cell_type": "code",
   "execution_count": 3,
   "metadata": {},
   "outputs": [],
   "source": [
    "sys.path.append('../')\n",
    "from experiment_utils import Modeller, Processor, Visualiser"
   ]
  },
  {
   "cell_type": "code",
   "execution_count": 4,
   "metadata": {},
   "outputs": [],
   "source": [
    "%matplotlib inline\n",
    "np.random.seed(42)"
   ]
  },
  {
   "cell_type": "markdown",
   "metadata": {},
   "source": [
    "## Functions"
   ]
  },
  {
   "cell_type": "code",
   "execution_count": 5,
   "metadata": {},
   "outputs": [],
   "source": [
    "def tidy_dataframe(df, independent_col: str, dependent_cols: list):\n",
    "    output = list()\n",
    "    \n",
    "    for i, row in df.iterrows():\n",
    "        for col in dependent_cols:\n",
    "            d = {independent_col: row[independent_col],\n",
    "                 'variable':  col,\n",
    "                 'value': row[col]}\n",
    "            output.append(d)\n",
    "    \n",
    "    output = pd.DataFrame(output)\n",
    "    return output"
   ]
  },
  {
   "cell_type": "markdown",
   "metadata": {},
   "source": [
    "## Data paths"
   ]
  },
  {
   "cell_type": "code",
   "execution_count": 6,
   "metadata": {},
   "outputs": [],
   "source": [
    "data_dir = '../results/data/exp1/'\n",
    "model_dir = '../results/models/exp1/'\n",
    "fig_dir = '../results/figures/exp1/'"
   ]
  },
  {
   "cell_type": "markdown",
   "metadata": {},
   "source": [
    "## Experiment 1 - Setting Up EnKF"
   ]
  },
  {
   "cell_type": "markdown",
   "metadata": {},
   "source": [
    "### Base model inclusion in error calculations"
   ]
  },
  {
   "cell_type": "code",
   "execution_count": 7,
   "metadata": {},
   "outputs": [],
   "source": [
    "# Modeller.run_experiment_1(pop_size=20, inclusion=AgentIncluder.MODE_EN)"
   ]
  },
  {
   "cell_type": "code",
   "execution_count": 8,
   "metadata": {},
   "outputs": [],
   "source": [
    "Processor.process_experiment_1()"
   ]
  },
  {
   "cell_type": "markdown",
   "metadata": {},
   "source": [
    "#### Read data"
   ]
  },
  {
   "cell_type": "code",
   "execution_count": 9,
   "metadata": {},
   "outputs": [
    {
     "data": {
      "text/html": [
       "<div>\n",
       "<style scoped>\n",
       "    .dataframe tbody tr th:only-of-type {\n",
       "        vertical-align: middle;\n",
       "    }\n",
       "\n",
       "    .dataframe tbody tr th {\n",
       "        vertical-align: top;\n",
       "    }\n",
       "\n",
       "    .dataframe thead th {\n",
       "        text-align: right;\n",
       "    }\n",
       "</style>\n",
       "<table border=\"1\" class=\"dataframe\">\n",
       "  <thead>\n",
       "    <tr style=\"text-align: right;\">\n",
       "      <th></th>\n",
       "      <th>time</th>\n",
       "      <th>forecast</th>\n",
       "      <th>obs</th>\n",
       "      <th>analysis</th>\n",
       "      <th>analysis_0</th>\n",
       "      <th>analysis_1</th>\n",
       "      <th>analysis_2</th>\n",
       "      <th>analysis_3</th>\n",
       "      <th>analysis_4</th>\n",
       "      <th>analysis_5</th>\n",
       "      <th>...</th>\n",
       "      <th>analysis_11</th>\n",
       "      <th>analysis_12</th>\n",
       "      <th>analysis_13</th>\n",
       "      <th>analysis_14</th>\n",
       "      <th>analysis_15</th>\n",
       "      <th>analysis_16</th>\n",
       "      <th>analysis_17</th>\n",
       "      <th>analysis_18</th>\n",
       "      <th>analysis_19</th>\n",
       "      <th>baseline</th>\n",
       "    </tr>\n",
       "  </thead>\n",
       "  <tbody>\n",
       "    <tr>\n",
       "      <th>0</th>\n",
       "      <td>0</td>\n",
       "      <td>NaN</td>\n",
       "      <td>NaN</td>\n",
       "      <td>NaN</td>\n",
       "      <td>NaN</td>\n",
       "      <td>NaN</td>\n",
       "      <td>NaN</td>\n",
       "      <td>NaN</td>\n",
       "      <td>NaN</td>\n",
       "      <td>NaN</td>\n",
       "      <td>...</td>\n",
       "      <td>NaN</td>\n",
       "      <td>NaN</td>\n",
       "      <td>NaN</td>\n",
       "      <td>NaN</td>\n",
       "      <td>NaN</td>\n",
       "      <td>NaN</td>\n",
       "      <td>NaN</td>\n",
       "      <td>NaN</td>\n",
       "      <td>NaN</td>\n",
       "      <td>NaN</td>\n",
       "    </tr>\n",
       "    <tr>\n",
       "      <th>1</th>\n",
       "      <td>20</td>\n",
       "      <td>45.195195</td>\n",
       "      <td>0.827537</td>\n",
       "      <td>0.281233</td>\n",
       "      <td>0.737668</td>\n",
       "      <td>0.474341</td>\n",
       "      <td>0.920247</td>\n",
       "      <td>0.416409</td>\n",
       "      <td>0.601326</td>\n",
       "      <td>0.223056</td>\n",
       "      <td>...</td>\n",
       "      <td>1.394070</td>\n",
       "      <td>0.709399</td>\n",
       "      <td>0.212519</td>\n",
       "      <td>0.410753</td>\n",
       "      <td>0.545496</td>\n",
       "      <td>1.572144</td>\n",
       "      <td>0.170481</td>\n",
       "      <td>0.483321</td>\n",
       "      <td>0.478022</td>\n",
       "      <td>64.181255</td>\n",
       "    </tr>\n",
       "    <tr>\n",
       "      <th>2</th>\n",
       "      <td>40</td>\n",
       "      <td>6.056728</td>\n",
       "      <td>1.206179</td>\n",
       "      <td>0.702330</td>\n",
       "      <td>0.906580</td>\n",
       "      <td>0.558394</td>\n",
       "      <td>0.938502</td>\n",
       "      <td>0.446845</td>\n",
       "      <td>1.140773</td>\n",
       "      <td>0.873259</td>\n",
       "      <td>...</td>\n",
       "      <td>0.938170</td>\n",
       "      <td>1.567501</td>\n",
       "      <td>0.657353</td>\n",
       "      <td>0.476745</td>\n",
       "      <td>0.763484</td>\n",
       "      <td>1.275902</td>\n",
       "      <td>1.083473</td>\n",
       "      <td>0.462785</td>\n",
       "      <td>0.562063</td>\n",
       "      <td>43.388943</td>\n",
       "    </tr>\n",
       "    <tr>\n",
       "      <th>3</th>\n",
       "      <td>60</td>\n",
       "      <td>10.058279</td>\n",
       "      <td>1.833711</td>\n",
       "      <td>0.544053</td>\n",
       "      <td>0.419511</td>\n",
       "      <td>0.401792</td>\n",
       "      <td>1.006703</td>\n",
       "      <td>0.864303</td>\n",
       "      <td>1.047906</td>\n",
       "      <td>1.485260</td>\n",
       "      <td>...</td>\n",
       "      <td>0.767431</td>\n",
       "      <td>0.706596</td>\n",
       "      <td>0.337290</td>\n",
       "      <td>0.614600</td>\n",
       "      <td>0.735850</td>\n",
       "      <td>0.581805</td>\n",
       "      <td>1.414973</td>\n",
       "      <td>0.291528</td>\n",
       "      <td>0.484728</td>\n",
       "      <td>42.351277</td>\n",
       "    </tr>\n",
       "    <tr>\n",
       "      <th>4</th>\n",
       "      <td>80</td>\n",
       "      <td>13.613127</td>\n",
       "      <td>1.139485</td>\n",
       "      <td>0.574179</td>\n",
       "      <td>0.715747</td>\n",
       "      <td>0.939574</td>\n",
       "      <td>0.533344</td>\n",
       "      <td>0.764006</td>\n",
       "      <td>0.685907</td>\n",
       "      <td>0.867158</td>\n",
       "      <td>...</td>\n",
       "      <td>1.162537</td>\n",
       "      <td>0.566900</td>\n",
       "      <td>0.943481</td>\n",
       "      <td>0.614970</td>\n",
       "      <td>0.532816</td>\n",
       "      <td>0.712951</td>\n",
       "      <td>0.970158</td>\n",
       "      <td>0.681870</td>\n",
       "      <td>0.574174</td>\n",
       "      <td>41.974411</td>\n",
       "    </tr>\n",
       "  </tbody>\n",
       "</table>\n",
       "<p>5 rows × 25 columns</p>\n",
       "</div>"
      ],
      "text/plain": [
       "   time   forecast       obs  analysis  analysis_0  analysis_1  analysis_2  \\\n",
       "0     0        NaN       NaN       NaN         NaN         NaN         NaN   \n",
       "1    20  45.195195  0.827537  0.281233    0.737668    0.474341    0.920247   \n",
       "2    40   6.056728  1.206179  0.702330    0.906580    0.558394    0.938502   \n",
       "3    60  10.058279  1.833711  0.544053    0.419511    0.401792    1.006703   \n",
       "4    80  13.613127  1.139485  0.574179    0.715747    0.939574    0.533344   \n",
       "\n",
       "   analysis_3  analysis_4  analysis_5  ...  analysis_11  analysis_12  \\\n",
       "0         NaN         NaN         NaN  ...          NaN          NaN   \n",
       "1    0.416409    0.601326    0.223056  ...     1.394070     0.709399   \n",
       "2    0.446845    1.140773    0.873259  ...     0.938170     1.567501   \n",
       "3    0.864303    1.047906    1.485260  ...     0.767431     0.706596   \n",
       "4    0.764006    0.685907    0.867158  ...     1.162537     0.566900   \n",
       "\n",
       "   analysis_13  analysis_14  analysis_15  analysis_16  analysis_17  \\\n",
       "0          NaN          NaN          NaN          NaN          NaN   \n",
       "1     0.212519     0.410753     0.545496     1.572144     0.170481   \n",
       "2     0.657353     0.476745     0.763484     1.275902     1.083473   \n",
       "3     0.337290     0.614600     0.735850     0.581805     1.414973   \n",
       "4     0.943481     0.614970     0.532816     0.712951     0.970158   \n",
       "\n",
       "   analysis_18  analysis_19   baseline  \n",
       "0          NaN          NaN        NaN  \n",
       "1     0.483321     0.478022  64.181255  \n",
       "2     0.462785     0.562063  43.388943  \n",
       "3     0.291528     0.484728  42.351277  \n",
       "4     0.681870     0.574174  41.974411  \n",
       "\n",
       "[5 rows x 25 columns]"
      ]
     },
     "execution_count": 9,
     "metadata": {},
     "output_type": "execute_result"
    }
   ],
   "source": [
    "results = pd.read_csv(data_dir + 'p20/metrics.csv')\n",
    "results.head()"
   ]
  },
  {
   "cell_type": "code",
   "execution_count": 10,
   "metadata": {},
   "outputs": [
    {
     "data": {
      "text/plain": [
       "(190, 25)"
      ]
     },
     "execution_count": 10,
     "metadata": {},
     "output_type": "execute_result"
    }
   ],
   "source": [
    "results.shape"
   ]
  },
  {
   "cell_type": "markdown",
   "metadata": {},
   "source": [
    "#### Tidy up data"
   ]
  },
  {
   "cell_type": "code",
   "execution_count": 11,
   "metadata": {},
   "outputs": [],
   "source": [
    "results_cols = list(results)\n",
    "error_types = [c for c in results_cols if c != 'time']"
   ]
  },
  {
   "cell_type": "code",
   "execution_count": 12,
   "metadata": {},
   "outputs": [],
   "source": [
    "base_error_types = ['forecast', 'obs', 'analysis', 'baseline']\n",
    "ensemble_error_types = [e for e in error_types if e not in base_error_types]"
   ]
  },
  {
   "cell_type": "code",
   "execution_count": 13,
   "metadata": {},
   "outputs": [
    {
     "data": {
      "text/plain": [
       "['forecast', 'obs', 'analysis', 'baseline']"
      ]
     },
     "execution_count": 13,
     "metadata": {},
     "output_type": "execute_result"
    }
   ],
   "source": [
    "base_error_types"
   ]
  },
  {
   "cell_type": "code",
   "execution_count": 14,
   "metadata": {},
   "outputs": [
    {
     "data": {
      "text/plain": [
       "['analysis_0',\n",
       " 'analysis_1',\n",
       " 'analysis_2',\n",
       " 'analysis_3',\n",
       " 'analysis_4',\n",
       " 'analysis_5',\n",
       " 'analysis_6',\n",
       " 'analysis_7',\n",
       " 'analysis_8',\n",
       " 'analysis_9',\n",
       " 'analysis_10',\n",
       " 'analysis_11',\n",
       " 'analysis_12',\n",
       " 'analysis_13',\n",
       " 'analysis_14',\n",
       " 'analysis_15',\n",
       " 'analysis_16',\n",
       " 'analysis_17',\n",
       " 'analysis_18',\n",
       " 'analysis_19']"
      ]
     },
     "execution_count": 14,
     "metadata": {},
     "output_type": "execute_result"
    }
   ],
   "source": [
    "ensemble_error_types"
   ]
  },
  {
   "cell_type": "code",
   "execution_count": 15,
   "metadata": {},
   "outputs": [
    {
     "data": {
      "text/html": [
       "<div>\n",
       "<style scoped>\n",
       "    .dataframe tbody tr th:only-of-type {\n",
       "        vertical-align: middle;\n",
       "    }\n",
       "\n",
       "    .dataframe tbody tr th {\n",
       "        vertical-align: top;\n",
       "    }\n",
       "\n",
       "    .dataframe thead th {\n",
       "        text-align: right;\n",
       "    }\n",
       "</style>\n",
       "<table border=\"1\" class=\"dataframe\">\n",
       "  <thead>\n",
       "    <tr style=\"text-align: right;\">\n",
       "      <th></th>\n",
       "      <th>time</th>\n",
       "      <th>variable</th>\n",
       "      <th>value</th>\n",
       "    </tr>\n",
       "  </thead>\n",
       "  <tbody>\n",
       "    <tr>\n",
       "      <th>0</th>\n",
       "      <td>0.0</td>\n",
       "      <td>forecast</td>\n",
       "      <td>NaN</td>\n",
       "    </tr>\n",
       "    <tr>\n",
       "      <th>1</th>\n",
       "      <td>0.0</td>\n",
       "      <td>obs</td>\n",
       "      <td>NaN</td>\n",
       "    </tr>\n",
       "    <tr>\n",
       "      <th>2</th>\n",
       "      <td>0.0</td>\n",
       "      <td>analysis</td>\n",
       "      <td>NaN</td>\n",
       "    </tr>\n",
       "    <tr>\n",
       "      <th>3</th>\n",
       "      <td>0.0</td>\n",
       "      <td>baseline</td>\n",
       "      <td>NaN</td>\n",
       "    </tr>\n",
       "    <tr>\n",
       "      <th>4</th>\n",
       "      <td>20.0</td>\n",
       "      <td>forecast</td>\n",
       "      <td>45.195195</td>\n",
       "    </tr>\n",
       "  </tbody>\n",
       "</table>\n",
       "</div>"
      ],
      "text/plain": [
       "   time  variable      value\n",
       "0   0.0  forecast        NaN\n",
       "1   0.0       obs        NaN\n",
       "2   0.0  analysis        NaN\n",
       "3   0.0  baseline        NaN\n",
       "4  20.0  forecast  45.195195"
      ]
     },
     "execution_count": 15,
     "metadata": {},
     "output_type": "execute_result"
    }
   ],
   "source": [
    "base_tidy_df = tidy_dataframe(results, 'time', base_error_types)\n",
    "base_tidy_df.head()"
   ]
  },
  {
   "cell_type": "code",
   "execution_count": 16,
   "metadata": {},
   "outputs": [
    {
     "data": {
      "text/html": [
       "<div>\n",
       "<style scoped>\n",
       "    .dataframe tbody tr th:only-of-type {\n",
       "        vertical-align: middle;\n",
       "    }\n",
       "\n",
       "    .dataframe tbody tr th {\n",
       "        vertical-align: top;\n",
       "    }\n",
       "\n",
       "    .dataframe thead th {\n",
       "        text-align: right;\n",
       "    }\n",
       "</style>\n",
       "<table border=\"1\" class=\"dataframe\">\n",
       "  <thead>\n",
       "    <tr style=\"text-align: right;\">\n",
       "      <th></th>\n",
       "      <th>time</th>\n",
       "      <th>variable</th>\n",
       "      <th>value</th>\n",
       "    </tr>\n",
       "  </thead>\n",
       "  <tbody>\n",
       "    <tr>\n",
       "      <th>0</th>\n",
       "      <td>0.0</td>\n",
       "      <td>analysis_0</td>\n",
       "      <td>NaN</td>\n",
       "    </tr>\n",
       "    <tr>\n",
       "      <th>1</th>\n",
       "      <td>0.0</td>\n",
       "      <td>analysis_1</td>\n",
       "      <td>NaN</td>\n",
       "    </tr>\n",
       "    <tr>\n",
       "      <th>2</th>\n",
       "      <td>0.0</td>\n",
       "      <td>analysis_2</td>\n",
       "      <td>NaN</td>\n",
       "    </tr>\n",
       "    <tr>\n",
       "      <th>3</th>\n",
       "      <td>0.0</td>\n",
       "      <td>analysis_3</td>\n",
       "      <td>NaN</td>\n",
       "    </tr>\n",
       "    <tr>\n",
       "      <th>4</th>\n",
       "      <td>0.0</td>\n",
       "      <td>analysis_4</td>\n",
       "      <td>NaN</td>\n",
       "    </tr>\n",
       "  </tbody>\n",
       "</table>\n",
       "</div>"
      ],
      "text/plain": [
       "   time    variable  value\n",
       "0   0.0  analysis_0    NaN\n",
       "1   0.0  analysis_1    NaN\n",
       "2   0.0  analysis_2    NaN\n",
       "3   0.0  analysis_3    NaN\n",
       "4   0.0  analysis_4    NaN"
      ]
     },
     "execution_count": 16,
     "metadata": {},
     "output_type": "execute_result"
    }
   ],
   "source": [
    "ensemble_tidy_df = tidy_dataframe(results, 'time', ensemble_error_types)\n",
    "ensemble_tidy_df.head()"
   ]
  },
  {
   "cell_type": "markdown",
   "metadata": {},
   "source": [
    "### Ensemble member errors"
   ]
  },
  {
   "cell_type": "code",
   "execution_count": 17,
   "metadata": {},
   "outputs": [],
   "source": [
    "ensemble_mean = base_tidy_df.loc[base_tidy_df['variable']=='analysis', :]"
   ]
  },
  {
   "cell_type": "code",
   "execution_count": 40,
   "metadata": {},
   "outputs": [
    {
     "data": {
      "image/png": "[encoded data removed]",
      "text/plain": [
       "<Figure size 576x576 with 1 Axes>"
      ]
     },
     "metadata": {
      "needs_background": "light"
     },
     "output_type": "display_data"
    }
   ],
   "source": [
    "plt.figure(figsize=(8, 8))\n",
    "sns.lineplot(x='time', y='value', hue='variable', alpha=0.3, data=ensemble_tidy_df)\n",
    "plt.plot(ensemble_mean['time'], ensemble_mean['value'], linewidth=3, color='black', label='mean')\n",
    "plt.ylabel('Error per agent')\n",
    "plt.xlabel('Time')\n",
    "plt.legend()\n",
    "plt.savefig(fig_dir + 'lineplot.pdf')\n",
    "plt.show()"
   ]
  },
  {
   "cell_type": "code",
   "execution_count": 35,
   "metadata": {},
   "outputs": [],
   "source": [
    "benchmark_mean = base_tidy_df.loc[base_tidy_df['variable']=='baseline', :]"
   ]
  },
  {
   "cell_type": "code",
   "execution_count": 36,
   "metadata": {},
   "outputs": [
    {
     "data": {
      "image/png": "[encoded data removed]",
      "text/plain": [
       "<Figure size 576x576 with 1 Axes>"
      ]
     },
     "metadata": {
      "needs_background": "light"
     },
     "output_type": "display_data"
    },
    {
     "data": {
      "text/plain": [
       "<Figure size 432x288 with 0 Axes>"
      ]
     },
     "metadata": {},
     "output_type": "display_data"
    }
   ],
   "source": [
    "plt.figure(figsize=(8, 8))\n",
    "plt.plot(benchmark_mean['time'], benchmark_mean['value'], color='red', label='benchmark')\n",
    "plt.xlabel('Time')\n",
    "plt.ylabel('Error per agent')\n",
    "plt.show()\n",
    "plt.savefig(fig_dir + 'benchmark.pdf')"
   ]
  },
  {
   "cell_type": "code",
   "execution_count": 33,
   "metadata": {},
   "outputs": [
    {
     "data": {
      "image/png": "[encoded data removed]",
      "text/plain": [
       "<Figure size 576x576 with 1 Axes>"
      ]
     },
     "metadata": {
      "needs_background": "light"
     },
     "output_type": "display_data"
    }
   ],
   "source": [
    "plt.figure(figsize=(8, 8))\n",
    "sns.kdeplot(x='time', y='value', data=ensemble_tidy_df, fill=True)\n",
    "plt.plot(ensemble_mean['time'], ensemble_mean['value'], label='mean')\n",
    "plt.ylabel('Error per agent')\n",
    "plt.xlabel('Time')\n",
    "plt.legend()\n",
    "plt.savefig(fig_dir + 'contourplot.pdf')\n",
    "plt.show()"
   ]
  },
  {
   "cell_type": "code",
   "execution_count": 32,
   "metadata": {},
   "outputs": [
    {
     "data": {
      "image/png": "[encoded data removed]",
      "text/plain": [
       "<Figure size 576x576 with 1 Axes>"
      ]
     },
     "metadata": {
      "needs_background": "light"
     },
     "output_type": "display_data"
    }
   ],
   "source": [
    "plt.figure(figsize=(8, 8))\n",
    "sns.lineplot(x='time', y='value', data=ensemble_tidy_df)\n",
    "plt.plot(ensemble_mean['time'], ensemble_mean['value'], label='mean')\n",
    "plt.ylabel('Error per agent')\n",
    "plt.xlabel('Time')\n",
    "plt.legend()\n",
    "plt.savefig(fig_dir + 'lineplot_ci.pdf')\n",
    "plt.show()"
   ]
  },
  {
   "cell_type": "markdown",
   "metadata": {},
   "source": [
    "## Working - mean errors"
   ]
  },
  {
   "cell_type": "markdown",
   "metadata": {},
   "source": [
    "Construct synthetic data:"
   ]
  },
  {
   "cell_type": "code",
   "execution_count": 78,
   "metadata": {},
   "outputs": [
    {
     "data": {
      "text/html": [
       "<div>\n",
       "<style scoped>\n",
       "    .dataframe tbody tr th:only-of-type {\n",
       "        vertical-align: middle;\n",
       "    }\n",
       "\n",
       "    .dataframe tbody tr th {\n",
       "        vertical-align: top;\n",
       "    }\n",
       "\n",
       "    .dataframe thead th {\n",
       "        text-align: right;\n",
       "    }\n",
       "</style>\n",
       "<table border=\"1\" class=\"dataframe\">\n",
       "  <thead>\n",
       "    <tr style=\"text-align: right;\">\n",
       "      <th></th>\n",
       "      <th>x</th>\n",
       "      <th>y</th>\n",
       "      <th>label</th>\n",
       "    </tr>\n",
       "  </thead>\n",
       "  <tbody>\n",
       "    <tr>\n",
       "      <th>0</th>\n",
       "      <td>24.000000</td>\n",
       "      <td>26</td>\n",
       "      <td>Ensemble member</td>\n",
       "    </tr>\n",
       "    <tr>\n",
       "      <th>1</th>\n",
       "      <td>23.000000</td>\n",
       "      <td>25</td>\n",
       "      <td>Ensemble member</td>\n",
       "    </tr>\n",
       "    <tr>\n",
       "      <th>2</th>\n",
       "      <td>24.000000</td>\n",
       "      <td>24</td>\n",
       "      <td>Ensemble member</td>\n",
       "    </tr>\n",
       "    <tr>\n",
       "      <th>3</th>\n",
       "      <td>23.666667</td>\n",
       "      <td>25</td>\n",
       "      <td>Ensemble mean</td>\n",
       "    </tr>\n",
       "    <tr>\n",
       "      <th>4</th>\n",
       "      <td>25.000000</td>\n",
       "      <td>25</td>\n",
       "      <td>Ground truth</td>\n",
       "    </tr>\n",
       "  </tbody>\n",
       "</table>\n",
       "</div>"
      ],
      "text/plain": [
       "           x   y            label\n",
       "0  24.000000  26  Ensemble member\n",
       "1  23.000000  25  Ensemble member\n",
       "2  24.000000  24  Ensemble member\n",
       "3  23.666667  25    Ensemble mean\n",
       "4  25.000000  25     Ground truth"
      ]
     },
     "execution_count": 78,
     "metadata": {},
     "output_type": "execute_result"
    }
   ],
   "source": [
    "member_states = [{'x': 24, 'y': 26, 'label': 'Ensemble member'},\n",
    "                  {'x': 23, 'y': 25, 'label': 'Ensemble member'},\n",
    "                  {'x': 24, 'y': 24, 'label': 'Ensemble member'}]\n",
    "mean_state = [{'x': 71/3, 'y': 25, 'label': 'Ensemble mean'}]\n",
    "ground_state = [{'x': 25, 'y': 25, 'label': 'Ground truth'}]\n",
    "\n",
    "working_states = member_states + mean_state + ground_state\n",
    "                  \n",
    "working_errors_df = pd.DataFrame(working_states)\n",
    "working_errors_df"
   ]
  },
  {
   "cell_type": "markdown",
   "metadata": {},
   "source": [
    "Construct line data:"
   ]
  },
  {
   "cell_type": "code",
   "execution_count": 79,
   "metadata": {},
   "outputs": [],
   "source": [
    "error_lines = [[[24, 25], [26, 25]],\n",
    "               [[23, 25], [25, 25]],\n",
    "               [[24, 25], [24, 25]],\n",
    "               [[71/3, 25], [25, 25]]]"
   ]
  },
  {
   "cell_type": "markdown",
   "metadata": {},
   "source": [
    "Plot:"
   ]
  },
  {
   "cell_type": "code",
   "execution_count": 95,
   "metadata": {},
   "outputs": [
    {
     "data": {
      "image/png": "[encoded data removed]",
      "text/plain": [
       "<Figure size 432x288 with 1 Axes>"
      ]
     },
     "metadata": {
      "needs_background": "light"
     },
     "output_type": "display_data"
    }
   ],
   "source": [
    "plt.figure()\n",
    "sns.scatterplot(x='x', y='y', hue='label', data=working_errors_df, marker='x')\n",
    "for el in error_lines:\n",
    "    plt.plot(el[0], el[1], linestyle='dashed', color='grey', alpha=0.3)\n",
    "plt.savefig(fig_dir + 'working_example.pdf')\n",
    "plt.show()"
   ]
  },
  {
   "cell_type": "markdown",
   "metadata": {},
   "source": [
    "Get means:"
   ]
  },
  {
   "cell_type": "code",
   "execution_count": 81,
   "metadata": {},
   "outputs": [],
   "source": [
    "members = working_errors_df.loc[working_errors_df['label']=='Ensemble member', :]\n",
    "x_mean = members['x'].mean()\n",
    "y_mean = members['y'].mean()"
   ]
  },
  {
   "cell_type": "code",
   "execution_count": 82,
   "metadata": {},
   "outputs": [],
   "source": [
    "en_mean = working_errors_df.loc[working_errors_df['label']=='Ensemble mean', :]"
   ]
  },
  {
   "cell_type": "markdown",
   "metadata": {},
   "source": [
    "Check mean:"
   ]
  },
  {
   "cell_type": "code",
   "execution_count": 83,
   "metadata": {},
   "outputs": [],
   "source": [
    "assert x_mean == en_mean['x'].values[0]"
   ]
  },
  {
   "cell_type": "code",
   "execution_count": 84,
   "metadata": {},
   "outputs": [],
   "source": [
    "assert y_mean == en_mean['y'].values[0]"
   ]
  },
  {
   "cell_type": "markdown",
   "metadata": {},
   "source": [
    "Error function:"
   ]
  },
  {
   "cell_type": "code",
   "execution_count": 87,
   "metadata": {},
   "outputs": [],
   "source": [
    "def calculate_error(ground_state, x, y):\n",
    "    return np.sqrt((ground_state['x'] - x)**2 + (ground_state['y'] - y)**2)"
   ]
  },
  {
   "cell_type": "markdown",
   "metadata": {},
   "source": [
    "Calculate mean error:"
   ]
  },
  {
   "cell_type": "code",
   "execution_count": 88,
   "metadata": {},
   "outputs": [
    {
     "data": {
      "text/plain": [
       "1.3333333333333321"
      ]
     },
     "execution_count": 88,
     "metadata": {},
     "output_type": "execute_result"
    }
   ],
   "source": [
    "calculate_error(ground_state[0], mean_state[0]['x'], mean_state[0]['y'])"
   ]
  },
  {
   "cell_type": "markdown",
   "metadata": {},
   "source": [
    "Calculate member state errors:"
   ]
  },
  {
   "cell_type": "code",
   "execution_count": 90,
   "metadata": {},
   "outputs": [],
   "source": [
    "member_errors = list()\n",
    "for m in member_states:\n",
    "    member_errors.append(calculate_error(ground_state[0], m['x'], m['y']))\n",
    "\n",
    "x = np.mean(member_errors)"
   ]
  },
  {
   "cell_type": "code",
   "execution_count": 91,
   "metadata": {},
   "outputs": [],
   "source": [
    "y = 2/3 * (np.sqrt(2) + 1)"
   ]
  },
  {
   "cell_type": "markdown",
   "metadata": {},
   "source": [
    "Check that average error is correct:"
   ]
  },
  {
   "cell_type": "code",
   "execution_count": 92,
   "metadata": {},
   "outputs": [],
   "source": [
    "assert x == y"
   ]
  }
 ],
 "metadata": {
  "kernelspec": {
   "display_name": "Python 3",
   "language": "python",
   "name": "python3"
  },
  "language_info": {
   "codemirror_mode": {
    "name": "ipython",
    "version": 3
   },
   "file_extension": ".py",
   "mimetype": "text/x-python",
   "name": "python",
   "nbconvert_exporter": "python",
   "pygments_lexer": "ipython3",
   "version": "3.8.3"
  }
 },
 "nbformat": 4,
 "nbformat_minor": 4
}
