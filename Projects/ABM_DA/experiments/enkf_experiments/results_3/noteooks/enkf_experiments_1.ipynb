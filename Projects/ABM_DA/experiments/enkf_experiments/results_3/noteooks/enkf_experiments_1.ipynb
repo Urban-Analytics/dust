{
 "cells": [
  {
   "cell_type": "markdown",
   "metadata": {},
   "source": [
    "# EnKF Experiments - GCS"
   ]
  },
  {
   "cell_type": "markdown",
   "metadata": {},
   "source": [
    "## Imports"
   ]
  },
  {
   "cell_type": "code",
   "execution_count": 1,
   "metadata": {},
   "outputs": [],
   "source": [
    "# Imports\n",
    "import matplotlib.pyplot as plt\n",
    "import numpy as np\n",
    "import pandas as pd\n",
    "import pickle\n",
    "from scipy.stats import shapiro, kruskal\n",
    "import seaborn as sns\n",
    "import sys"
   ]
  },
  {
   "cell_type": "code",
   "execution_count": 2,
   "metadata": {},
   "outputs": [],
   "source": [
    "sys.path.append('../../../../stationsim/')\n",
    "from ensemble_kalman_filter import EnsembleKalmanFilter, AgentIncluder, Inflation, ExitRandomisation, GateEstimator\n",
    "from stationsim_gcs_model import Model"
   ]
  },
  {
   "cell_type": "code",
   "execution_count": 3,
   "metadata": {},
   "outputs": [],
   "source": [
    "sys.path.append('../')\n",
    "from experiment_utils import Modeller, Processor, Visualiser"
   ]
  },
  {
   "cell_type": "code",
   "execution_count": 4,
   "metadata": {},
   "outputs": [],
   "source": [
    "%matplotlib inline\n",
    "np.random.seed(42)"
   ]
  },
  {
   "cell_type": "markdown",
   "metadata": {},
   "source": [
    "## Functions"
   ]
  },
  {
   "cell_type": "code",
   "execution_count": 5,
   "metadata": {},
   "outputs": [],
   "source": [
    "def tidy_dataframe(df, independent_col: str, dependent_cols: list):\n",
    "    output = list()\n",
    "    \n",
    "    for i, row in df.iterrows():\n",
    "        for col in dependent_cols:\n",
    "            d = {independent_col: row[independent_col],\n",
    "                 'variable':  col,\n",
    "                 'value': row[col]}\n",
    "            output.append(d)\n",
    "    \n",
    "    output = pd.DataFrame(output)\n",
    "    return output"
   ]
  },
  {
   "cell_type": "markdown",
   "metadata": {},
   "source": [
    "## Data paths"
   ]
  },
  {
   "cell_type": "code",
   "execution_count": 6,
   "metadata": {},
   "outputs": [],
   "source": [
    "data_dir = '../results/data/exp1/'\n",
    "model_dir = '../results/models/exp1/'\n",
    "fig_dir = '../results/figures/exp1/'"
   ]
  },
  {
   "cell_type": "markdown",
   "metadata": {},
   "source": [
    "## Experiment 1 - Setting Up EnKF"
   ]
  },
  {
   "cell_type": "markdown",
   "metadata": {},
   "source": [
    "### Base model inclusion in error calculations"
   ]
  },
  {
   "cell_type": "code",
   "execution_count": 7,
   "metadata": {},
   "outputs": [],
   "source": [
    "p = 5\n",
    "e = 100\n",
    "a = 100"
   ]
  },
  {
   "cell_type": "code",
   "execution_count": 8,
   "metadata": {},
   "outputs": [
    {
     "name": "stderr",
     "output_type": "stream",
     "text": [
      "/home/keiran/Documents/dev/dust/Projects/ABM_DA/experiments/enkf_experiments/results_3/noteooks/../../../../stationsim/ensemble_kalman_filter.py:208: RuntimeWarning: EnKF received unexpected attribute (vanilla_ensemble_size).\n",
      "  warns.warn(w, RuntimeWarning)\n",
      "/home/keiran/Documents/dev/dust/Projects/ABM_DA/experiments/enkf_experiments/results_3/noteooks/../../../../stationsim/ensemble_kalman_filter.py:208: RuntimeWarning: EnKF received unexpected attribute (inflation_rate).\n",
      "  warns.warn(w, RuntimeWarning)\n"
     ]
    },
    {
     "name": "stdout",
     "output_type": "stream",
     "text": [
      "Running Ensemble Kalman Filter...\n",
      "max_iterations:\t5000\n",
      "ensemble_size:\t100\n",
      "assimilation_period:\t100\n",
      "pop_size:\t5\n",
      "filter_type:\tEnsembleKalmanFilterType.DUAL_EXIT\n",
      "inclusion_type:\tAgentIncluder.MODE_EN\n",
      "ensemble_errors:\tFalse\n"
     ]
    }
   ],
   "source": [
    "Modeller.run_experiment_1(pop_size=p, ensemble_size=e, assimilation_period=a,\n",
    "                          standardise_state=True,\n",
    "                          inclusion=AgentIncluder.MODE_EN,\n",
    "                          gate_estimator=GateEstimator.ANGLE,\n",
    "                          exit_randomisation=ExitRandomisation.ALL_RANDOM,\n",
    "                          n_adjacent=1)"
   ]
  },
  {
   "cell_type": "code",
   "execution_count": 9,
   "metadata": {},
   "outputs": [],
   "source": [
    "Processor.process_experiment_1(pop_size=p)"
   ]
  },
  {
   "cell_type": "markdown",
   "metadata": {},
   "source": [
    "#### Read data"
   ]
  },
  {
   "cell_type": "code",
   "execution_count": 10,
   "metadata": {},
   "outputs": [
    {
     "data": {
      "text/html": [
       "<div>\n",
       "<style scoped>\n",
       "    .dataframe tbody tr th:only-of-type {\n",
       "        vertical-align: middle;\n",
       "    }\n",
       "\n",
       "    .dataframe tbody tr th {\n",
       "        vertical-align: top;\n",
       "    }\n",
       "\n",
       "    .dataframe thead th {\n",
       "        text-align: right;\n",
       "    }\n",
       "</style>\n",
       "<table border=\"1\" class=\"dataframe\">\n",
       "  <thead>\n",
       "    <tr style=\"text-align: right;\">\n",
       "      <th></th>\n",
       "      <th>time</th>\n",
       "      <th>forecast</th>\n",
       "      <th>obs</th>\n",
       "      <th>exit_accuracy</th>\n",
       "      <th>analysis</th>\n",
       "      <th>baseline</th>\n",
       "    </tr>\n",
       "  </thead>\n",
       "  <tbody>\n",
       "    <tr>\n",
       "      <th>0</th>\n",
       "      <td>100</td>\n",
       "      <td>44.955585</td>\n",
       "      <td>0.871939</td>\n",
       "      <td>0.0</td>\n",
       "      <td>0.885834</td>\n",
       "      <td>0.885834</td>\n",
       "    </tr>\n",
       "    <tr>\n",
       "      <th>1</th>\n",
       "      <td>200</td>\n",
       "      <td>49.801748</td>\n",
       "      <td>0.733577</td>\n",
       "      <td>0.4</td>\n",
       "      <td>0.721112</td>\n",
       "      <td>0.721112</td>\n",
       "    </tr>\n",
       "    <tr>\n",
       "      <th>2</th>\n",
       "      <td>300</td>\n",
       "      <td>49.411908</td>\n",
       "      <td>1.351472</td>\n",
       "      <td>0.6</td>\n",
       "      <td>1.367111</td>\n",
       "      <td>1.367111</td>\n",
       "    </tr>\n",
       "    <tr>\n",
       "      <th>3</th>\n",
       "      <td>400</td>\n",
       "      <td>56.399352</td>\n",
       "      <td>1.183969</td>\n",
       "      <td>0.4</td>\n",
       "      <td>1.211127</td>\n",
       "      <td>1.211127</td>\n",
       "    </tr>\n",
       "    <tr>\n",
       "      <th>4</th>\n",
       "      <td>500</td>\n",
       "      <td>53.195223</td>\n",
       "      <td>0.847037</td>\n",
       "      <td>0.6</td>\n",
       "      <td>0.992681</td>\n",
       "      <td>0.992681</td>\n",
       "    </tr>\n",
       "  </tbody>\n",
       "</table>\n",
       "</div>"
      ],
      "text/plain": [
       "   time   forecast       obs  exit_accuracy  analysis  baseline\n",
       "0   100  44.955585  0.871939            0.0  0.885834  0.885834\n",
       "1   200  49.801748  0.733577            0.4  0.721112  0.721112\n",
       "2   300  49.411908  1.351472            0.6  1.367111  1.367111\n",
       "3   400  56.399352  1.183969            0.4  1.211127  1.211127\n",
       "4   500  53.195223  0.847037            0.6  0.992681  0.992681"
      ]
     },
     "execution_count": 10,
     "metadata": {},
     "output_type": "execute_result"
    }
   ],
   "source": [
    "results = pd.read_csv(data_dir + f'p{p}/metrics.csv')\n",
    "results.head()"
   ]
  },
  {
   "cell_type": "code",
   "execution_count": 11,
   "metadata": {},
   "outputs": [
    {
     "data": {
      "image/png": "[encoded data removed]",
      "text/plain": [
       "<Figure size 432x288 with 1 Axes>"
      ]
     },
     "metadata": {
      "needs_background": "light"
     },
     "output_type": "display_data"
    }
   ],
   "source": [
    "plt.figure()\n",
    "plt.plot(results['time'], results['exit_accuracy'])\n",
    "plt.show()"
   ]
  },
  {
   "cell_type": "code",
   "execution_count": 12,
   "metadata": {},
   "outputs": [
    {
     "data": {
      "image/png": "[encoded data removed]",
      "text/plain": [
       "<Figure size 432x288 with 1 Axes>"
      ]
     },
     "metadata": {
      "needs_background": "light"
     },
     "output_type": "display_data"
    }
   ],
   "source": [
    "plt.figure()\n",
    "plt.plot(results['time'], results['analysis'], label='posterior')\n",
    "plt.plot(results['time'], results['forecast'], label='prior')\n",
    "plt.legend()\n",
    "plt.show()"
   ]
  },
  {
   "cell_type": "code",
   "execution_count": 13,
   "metadata": {},
   "outputs": [],
   "source": [
    "with open(f'../results/models/exp1/p{p}/model.pkl', 'rb') as f:\n",
    "    enkf = pickle.load(f)"
   ]
  },
  {
   "cell_type": "code",
   "execution_count": 14,
   "metadata": {},
   "outputs": [
    {
     "data": {
      "image/png": "[encoded data removed]",
      "text/plain": [
       "<Figure size 432x288 with 2 Axes>"
      ]
     },
     "metadata": {
      "needs_background": "light"
     },
     "output_type": "display_data"
    }
   ],
   "source": [
    "sns.heatmap(enkf.gain_matrix)\n",
    "plt.show()"
   ]
  },
  {
   "cell_type": "code",
   "execution_count": 15,
   "metadata": {},
   "outputs": [
    {
     "data": {
      "image/png": "[encoded data removed]",
      "text/plain": [
       "<Figure size 720x720 with 1 Axes>"
      ]
     },
     "metadata": {
      "needs_background": "light"
     },
     "output_type": "display_data"
    }
   ],
   "source": [
    "x = -1\n",
    "\n",
    "plt.figure(figsize=(10, 10))\n",
    "\n",
    "truth = enkf.results[x]['ground_truth']\n",
    "truth_x = truth[::2]\n",
    "truth_y = truth[1::2]\n",
    "plt.scatter(truth_x, truth_y, color='green', s=25)\n",
    "\n",
    "\n",
    "\n",
    "for i in range(e):\n",
    "    prior_label = f'prior_{i}'\n",
    "    posterior_label = f'posterior_{i}'\n",
    "    \n",
    "    prior = enkf.results[x][prior_label]\n",
    "    posterior = enkf.results[x][posterior_label]\n",
    "    \n",
    "    \n",
    "    prior_x = prior[:2]\n",
    "    prior_y = prior[2:4]\n",
    "    posterior_x = posterior[:2]\n",
    "    posterior_y = posterior[2:4]\n",
    "    \n",
    "    plt.scatter(prior_x, prior_y, color='blue', s=1)\n",
    "    plt.scatter(posterior_x, posterior_y, color='red', s=1)\n",
    "\n",
    "plt.xlim((0, 740))\n",
    "plt.ylim((0, 700))\n",
    "plt.show()"
   ]
  },
  {
   "cell_type": "code",
   "execution_count": 16,
   "metadata": {},
   "outputs": [],
   "source": [
    "output = list()\n",
    "for r in enkf.results:\n",
    "    d = dict()\n",
    "    # get time\n",
    "    d['time'] = r['time']\n",
    "    \n",
    "    for i in range(enkf.population_size):        \n",
    "        # get truth\n",
    "        truth = r['ground_truth']\n",
    "        d[f'truth_x_{i}'] = truth[2*i]\n",
    "        d[f'truth_y_{i}'] = truth[(2*i)+1]\n",
    "\n",
    "        # get prior\n",
    "        prior = r['prior']\n",
    "        d[f'prior_x_{i}'] = prior[i]\n",
    "        d[f'prior_y_{i}'] = prior[i + enkf.population_size]\n",
    "\n",
    "        # get posterior\n",
    "        posterior = r['posterior']\n",
    "        d[f'posterior_x_{i}'] = posterior[i]\n",
    "        d[f'posterior_y_{i}'] = posterior[i + enkf.population_size]\n",
    "\n",
    "        # get obs\n",
    "        obs = r['observation']\n",
    "        d[f'obs_x_{i}'] = obs[2*i]\n",
    "        d[f'obs_y_{i}'] = obs[(2*i)+1]\n",
    "\n",
    "        # get origin and destination\n",
    "        origin = r['origin']\n",
    "        d[f'origin_x_{i}'] = origin[2*i]\n",
    "        d[f'origin_y_{i}'] = origin[(2*i)+1]\n",
    "        destination = r['destination']\n",
    "        d[f'dest_x_{i}'] = destination[2*i]\n",
    "        d[f'dest_y_{i}'] = destination[(2*i)+1]\n",
    "    \n",
    "    output.append(d)\n",
    "    \n",
    "output = pd.DataFrame(output)\n"
   ]
  },
  {
   "cell_type": "code",
   "execution_count": 17,
   "metadata": {},
   "outputs": [
    {
     "data": {
      "text/html": [
       "<div>\n",
       "<style scoped>\n",
       "    .dataframe tbody tr th:only-of-type {\n",
       "        vertical-align: middle;\n",
       "    }\n",
       "\n",
       "    .dataframe tbody tr th {\n",
       "        vertical-align: top;\n",
       "    }\n",
       "\n",
       "    .dataframe thead th {\n",
       "        text-align: right;\n",
       "    }\n",
       "</style>\n",
       "<table border=\"1\" class=\"dataframe\">\n",
       "  <thead>\n",
       "    <tr style=\"text-align: right;\">\n",
       "      <th></th>\n",
       "      <th>time</th>\n",
       "      <th>truth_x_0</th>\n",
       "      <th>truth_y_0</th>\n",
       "      <th>prior_x_0</th>\n",
       "      <th>prior_y_0</th>\n",
       "      <th>posterior_x_0</th>\n",
       "      <th>posterior_y_0</th>\n",
       "      <th>obs_x_0</th>\n",
       "      <th>obs_y_0</th>\n",
       "      <th>origin_x_0</th>\n",
       "      <th>...</th>\n",
       "      <th>prior_x_4</th>\n",
       "      <th>prior_y_4</th>\n",
       "      <th>posterior_x_4</th>\n",
       "      <th>posterior_y_4</th>\n",
       "      <th>obs_x_4</th>\n",
       "      <th>obs_y_4</th>\n",
       "      <th>origin_x_4</th>\n",
       "      <th>origin_y_4</th>\n",
       "      <th>dest_x_4</th>\n",
       "      <th>dest_y_4</th>\n",
       "    </tr>\n",
       "  </thead>\n",
       "  <tbody>\n",
       "    <tr>\n",
       "      <th>0</th>\n",
       "      <td>100</td>\n",
       "      <td>685.753999</td>\n",
       "      <td>238.703256</td>\n",
       "      <td>702.420139</td>\n",
       "      <td>258.354880</td>\n",
       "      <td>686.198683</td>\n",
       "      <td>238.216253</td>\n",
       "      <td>686.068730</td>\n",
       "      <td>238.040064</td>\n",
       "      <td>732.65</td>\n",
       "      <td>...</td>\n",
       "      <td>716.399178</td>\n",
       "      <td>632.118653</td>\n",
       "      <td>699.669491</td>\n",
       "      <td>635.983816</td>\n",
       "      <td>699.433469</td>\n",
       "      <td>636.058597</td>\n",
       "      <td>732.65</td>\n",
       "      <td>650.614511</td>\n",
       "      <td>7.35</td>\n",
       "      <td>346.496057</td>\n",
       "    </tr>\n",
       "    <tr>\n",
       "      <th>1</th>\n",
       "      <td>200</td>\n",
       "      <td>638.857998</td>\n",
       "      <td>281.465686</td>\n",
       "      <td>665.825576</td>\n",
       "      <td>208.376890</td>\n",
       "      <td>638.931882</td>\n",
       "      <td>281.132015</td>\n",
       "      <td>638.864322</td>\n",
       "      <td>281.128292</td>\n",
       "      <td>732.65</td>\n",
       "      <td>...</td>\n",
       "      <td>663.491562</td>\n",
       "      <td>589.657055</td>\n",
       "      <td>611.314069</td>\n",
       "      <td>599.972787</td>\n",
       "      <td>611.237847</td>\n",
       "      <td>599.878894</td>\n",
       "      <td>732.65</td>\n",
       "      <td>650.614511</td>\n",
       "      <td>7.35</td>\n",
       "      <td>346.496057</td>\n",
       "    </tr>\n",
       "    <tr>\n",
       "      <th>2</th>\n",
       "      <td>300</td>\n",
       "      <td>591.961997</td>\n",
       "      <td>324.228116</td>\n",
       "      <td>659.695154</td>\n",
       "      <td>300.747385</td>\n",
       "      <td>594.579844</td>\n",
       "      <td>323.924263</td>\n",
       "      <td>594.337782</td>\n",
       "      <td>324.055746</td>\n",
       "      <td>732.65</td>\n",
       "      <td>...</td>\n",
       "      <td>627.076864</td>\n",
       "      <td>570.775653</td>\n",
       "      <td>523.422538</td>\n",
       "      <td>562.970253</td>\n",
       "      <td>523.434909</td>\n",
       "      <td>563.013590</td>\n",
       "      <td>732.65</td>\n",
       "      <td>650.614511</td>\n",
       "      <td>7.35</td>\n",
       "      <td>346.496057</td>\n",
       "    </tr>\n",
       "    <tr>\n",
       "      <th>3</th>\n",
       "      <td>400</td>\n",
       "      <td>545.065996</td>\n",
       "      <td>366.990545</td>\n",
       "      <td>626.572392</td>\n",
       "      <td>357.597065</td>\n",
       "      <td>545.729773</td>\n",
       "      <td>365.858666</td>\n",
       "      <td>545.661132</td>\n",
       "      <td>366.075931</td>\n",
       "      <td>732.65</td>\n",
       "      <td>...</td>\n",
       "      <td>570.162140</td>\n",
       "      <td>536.785225</td>\n",
       "      <td>434.220290</td>\n",
       "      <td>524.213783</td>\n",
       "      <td>434.118569</td>\n",
       "      <td>524.161580</td>\n",
       "      <td>732.65</td>\n",
       "      <td>650.614511</td>\n",
       "      <td>7.35</td>\n",
       "      <td>346.496057</td>\n",
       "    </tr>\n",
       "    <tr>\n",
       "      <th>4</th>\n",
       "      <td>500</td>\n",
       "      <td>498.169994</td>\n",
       "      <td>409.752975</td>\n",
       "      <td>550.406638</td>\n",
       "      <td>416.409854</td>\n",
       "      <td>498.330471</td>\n",
       "      <td>410.468852</td>\n",
       "      <td>497.984091</td>\n",
       "      <td>410.468862</td>\n",
       "      <td>732.65</td>\n",
       "      <td>...</td>\n",
       "      <td>482.593773</td>\n",
       "      <td>474.911892</td>\n",
       "      <td>348.063759</td>\n",
       "      <td>489.202002</td>\n",
       "      <td>347.810914</td>\n",
       "      <td>488.845311</td>\n",
       "      <td>732.65</td>\n",
       "      <td>650.614511</td>\n",
       "      <td>7.35</td>\n",
       "      <td>346.496057</td>\n",
       "    </tr>\n",
       "  </tbody>\n",
       "</table>\n",
       "<p>5 rows × 61 columns</p>\n",
       "</div>"
      ],
      "text/plain": [
       "   time   truth_x_0   truth_y_0   prior_x_0   prior_y_0  posterior_x_0  \\\n",
       "0   100  685.753999  238.703256  702.420139  258.354880     686.198683   \n",
       "1   200  638.857998  281.465686  665.825576  208.376890     638.931882   \n",
       "2   300  591.961997  324.228116  659.695154  300.747385     594.579844   \n",
       "3   400  545.065996  366.990545  626.572392  357.597065     545.729773   \n",
       "4   500  498.169994  409.752975  550.406638  416.409854     498.330471   \n",
       "\n",
       "   posterior_y_0     obs_x_0     obs_y_0  origin_x_0  ...   prior_x_4  \\\n",
       "0     238.216253  686.068730  238.040064      732.65  ...  716.399178   \n",
       "1     281.132015  638.864322  281.128292      732.65  ...  663.491562   \n",
       "2     323.924263  594.337782  324.055746      732.65  ...  627.076864   \n",
       "3     365.858666  545.661132  366.075931      732.65  ...  570.162140   \n",
       "4     410.468852  497.984091  410.468862      732.65  ...  482.593773   \n",
       "\n",
       "    prior_y_4  posterior_x_4  posterior_y_4     obs_x_4     obs_y_4  \\\n",
       "0  632.118653     699.669491     635.983816  699.433469  636.058597   \n",
       "1  589.657055     611.314069     599.972787  611.237847  599.878894   \n",
       "2  570.775653     523.422538     562.970253  523.434909  563.013590   \n",
       "3  536.785225     434.220290     524.213783  434.118569  524.161580   \n",
       "4  474.911892     348.063759     489.202002  347.810914  488.845311   \n",
       "\n",
       "   origin_x_4  origin_y_4  dest_x_4    dest_y_4  \n",
       "0      732.65  650.614511      7.35  346.496057  \n",
       "1      732.65  650.614511      7.35  346.496057  \n",
       "2      732.65  650.614511      7.35  346.496057  \n",
       "3      732.65  650.614511      7.35  346.496057  \n",
       "4      732.65  650.614511      7.35  346.496057  \n",
       "\n",
       "[5 rows x 61 columns]"
      ]
     },
     "execution_count": 17,
     "metadata": {},
     "output_type": "execute_result"
    }
   ],
   "source": [
    "output.head()"
   ]
  },
  {
   "cell_type": "code",
   "execution_count": 18,
   "metadata": {},
   "outputs": [],
   "source": [
    "def plot_path(output, aid, show_obs=True, show_od=True):\n",
    "    print(f'Agent {aid}')\n",
    "    plt.figure(figsize=(10, 10))\n",
    "    plt.plot(output[f'truth_x_{aid}'], output[f'truth_y_{aid}'], label=f'truth_{aid}', color='green')\n",
    "    plt.plot(output[f'prior_x_{aid}'], output[f'prior_y_{aid}'], label=f'prior_{aid}', color='blue')\n",
    "    plt.plot(output[f'posterior_x_{aid}'], output[f'posterior_y_{aid}'], label=f'posterior_{aid}', color='orange')\n",
    "\n",
    "    if show_obs:\n",
    "        plt.scatter(output[f'obs_x_{aid}'], output[f'obs_y_{aid}'], label=f'obs_{aid}', s=1, color='green')\n",
    "        \n",
    "    if show_od:\n",
    "        plt.scatter(output[f'origin_x_{aid}'], output[f'origin_y_{aid}'], label=f'origin_{aid}', s=25, color='blue')\n",
    "        plt.scatter(output[f'dest_x_{aid}'], output[f'dest_y_{aid}'], label=f'destination_{aid}', s=25, color='orange')\n",
    "\n",
    "    plt.xlim((0, 740))\n",
    "    plt.ylim((0, 700))\n",
    "    plt.legend()\n",
    "    plt.show()"
   ]
  },
  {
   "cell_type": "code",
   "execution_count": 19,
   "metadata": {},
   "outputs": [
    {
     "name": "stdout",
     "output_type": "stream",
     "text": [
      "Agent 0\n"
     ]
    },
    {
     "data": {
      "image/png": "[encoded data removed]",
      "text/plain": [
       "<Figure size 720x720 with 1 Axes>"
      ]
     },
     "metadata": {
      "needs_background": "light"
     },
     "output_type": "display_data"
    },
    {
     "name": "stdout",
     "output_type": "stream",
     "text": [
      "Agent 1\n"
     ]
    },
    {
     "data": {
      "image/png": "[encoded data removed]",
      "text/plain": [
       "<Figure size 720x720 with 1 Axes>"
      ]
     },
     "metadata": {
      "needs_background": "light"
     },
     "output_type": "display_data"
    },
    {
     "name": "stdout",
     "output_type": "stream",
     "text": [
      "Agent 2\n"
     ]
    },
    {
     "data": {
      "image/png": "[encoded data removed]",
      "text/plain": [
       "<Figure size 720x720 with 1 Axes>"
      ]
     },
     "metadata": {
      "needs_background": "light"
     },
     "output_type": "display_data"
    },
    {
     "name": "stdout",
     "output_type": "stream",
     "text": [
      "Agent 3\n"
     ]
    },
    {
     "data": {
      "image/png": "[encoded data removed]",
      "text/plain": [
       "<Figure size 720x720 with 1 Axes>"
      ]
     },
     "metadata": {
      "needs_background": "light"
     },
     "output_type": "display_data"
    },
    {
     "name": "stdout",
     "output_type": "stream",
     "text": [
      "Agent 4\n"
     ]
    },
    {
     "data": {
      "image/png": "[encoded data removed]",
      "text/plain": [
       "<Figure size 720x720 with 1 Axes>"
      ]
     },
     "metadata": {
      "needs_background": "light"
     },
     "output_type": "display_data"
    }
   ],
   "source": [
    "for i in range(enkf.population_size):\n",
    "    plot_path(output, i)"
   ]
  },
  {
   "cell_type": "code",
   "execution_count": 24,
   "metadata": {},
   "outputs": [],
   "source": [
    "def present_gate_estimates(agent_number, show_initial=True):\n",
    "    idx = (2 * enkf.population_size) + agent_number\n",
    "    true_gate = enkf.base_model.agents[agent_number].gate_out\n",
    "    print(f'Base model gate value: {true_gate}')\n",
    "\n",
    "    if hasattr(enkf, 'gate_angles'):\n",
    "        gate_edges = enkf.gate_angles[true_gate]\n",
    "        print(f'Gate edge angles: {gate_edges}')\n",
    "\n",
    "        gate_vals = enkf.state_ensemble[idx]\n",
    "    print(f'Gate value across ensemble: {gate_vals}')\n",
    "    \n",
    "    plt.hist(gate_vals, label='final', alpha=0.5, color='orange')\n",
    "    if show_initial:\n",
    "        plt.hist(enkf.initial_gates[agent_number], label='initial', alpha=0.5, color='blue')\n",
    "    \n",
    "    plt.legend()\n",
    "    plt.show()"
   ]
  },
  {
   "cell_type": "code",
   "execution_count": 25,
   "metadata": {},
   "outputs": [
    {
     "name": "stdout",
     "output_type": "stream",
     "text": [
      "0\n",
      "Base model gate value: 1\n",
      "Gate edge angles: (1.9010936816241504, 2.3839651267857658)\n",
      "Gate value across ensemble: [-1.58598798e+00 -1.36966416e-01  7.78558568e-01  3.27286397e-01\n",
      "  3.90185498e-01 -3.69317867e-01  1.91379570e-01  1.38302687e+00\n",
      "  4.15241294e-01  2.37221752e-01  5.34822471e-01  1.96874387e+00\n",
      "  6.49705208e-02 -4.47430541e-01  4.51247270e-01  1.77808281e+00\n",
      "  5.68639882e-01 -5.56886848e-02 -1.07070012e+00  7.40185366e-03\n",
      " -1.95551296e-01  3.35470360e-01  9.03026431e-01  6.26632360e-01\n",
      "  3.68470762e-01  6.48061757e-01 -2.91597212e-01  3.37912947e-01\n",
      "  2.01790533e+00  3.37997501e-01  1.21281712e+00  9.43103781e-01\n",
      "  5.54284071e-02  1.03923526e+00  4.09703051e-02  5.77609230e-01\n",
      "  7.11824741e-02 -3.11325341e-01  1.27842801e-01  3.14552287e-01\n",
      "  1.53404653e-01 -6.40294843e-01  7.23522817e-02  6.75313641e-01\n",
      "  3.47084718e-01  1.41798549e-01  2.96906930e-01  1.82409146e+00\n",
      "  9.87574060e-01  5.72059747e-01 -1.21268917e-01  1.11778050e+00\n",
      "  1.00399237e+00  1.52513679e-01  6.51231957e-01  2.75200403e-01\n",
      "  1.06275570e-01 -9.66006631e-01  6.61638143e-01  8.08915736e-01\n",
      "  1.74622464e-01  5.67730092e-01  8.45413937e-01  5.76879730e-01\n",
      " -3.32067849e-01  5.75817082e-01  6.16594729e-01  4.57146973e-01\n",
      " -9.49274410e-01  1.25739969e+00  3.73990512e-01  2.58694755e-01\n",
      " -5.94994805e-01 -6.60184275e-01  2.10736592e-01 -1.63497278e+00\n",
      " -6.51565645e-01  4.86484626e-02  2.23782982e+00  6.61367114e-01\n",
      "  3.93839299e-01  6.22573834e-01  4.31876590e-01  3.26417090e-01\n",
      "  1.91469963e-04  8.77826817e-01 -1.12808712e-01  4.11024724e-01\n",
      " -5.00016970e-01  5.32756624e-01  3.80247794e-01  3.89292763e-01\n",
      " -3.20821269e-01  2.30209241e-01  9.98168188e-01 -6.71393433e-01\n",
      "  2.52364256e-01  3.84943348e-01  9.03631395e-02  5.89051675e-01]\n"
     ]
    },
    {
     "data": {
      "image/png": "[encoded data removed]",
      "text/plain": [
       "<Figure size 432x288 with 1 Axes>"
      ]
     },
     "metadata": {
      "needs_background": "light"
     },
     "output_type": "display_data"
    },
    {
     "name": "stdout",
     "output_type": "stream",
     "text": [
      "1\n",
      "Base model gate value: 1\n",
      "Gate edge angles: (1.9010936816241504, 2.3839651267857658)\n",
      "Gate value across ensemble: [ 0.31931105  0.11234536  0.31180098 -0.53857638 -0.27401889 -0.68985671\n",
      " -0.10615813 -0.54245216 -0.48019685 -0.11110978 -0.12557834 -1.0778872\n",
      " -0.12629133 -0.18566396  0.4397143   0.58615245 -0.19913994  0.31498588\n",
      " -0.04791136 -0.05755329 -0.23222421 -0.24227386 -0.56446264  0.18852509\n",
      " -0.37222441 -1.08535075  0.34967818 -0.61872378 -0.63304348 -0.49841637\n",
      " -0.80379767 -0.45997552  0.82936937 -0.66226055  0.44306707  0.51330914\n",
      " -0.34182528 -0.01221211 -0.06248815  0.48921917 -0.57945821 -0.23435171\n",
      " -0.65520249 -0.20663778 -0.15437014 -0.19440913 -0.14778583 -0.2207531\n",
      "  0.18667216 -1.52021483 -0.01122932 -0.17085357 -0.19238898 -0.27837136\n",
      " -0.61061533  0.21952014 -0.26542517 -0.51010009 -0.77641342  0.30308841\n",
      " -0.51687955 -0.22117637 -0.21698881 -0.13324885 -0.1420376  -0.0353907\n",
      " -0.77025922 -0.08483714 -0.20783429 -0.9881049  -0.11736017 -0.84271317\n",
      "  0.51247716  0.71116155 -0.13307886  0.28497677 -0.31434475  0.02999462\n",
      " -0.09699016 -0.1549088   0.52216905 -0.2054788  -0.10014809  0.23360446\n",
      " -0.14500068  0.60673846 -0.04511911 -0.29167838 -0.14279722 -0.18382542\n",
      " -0.22829567 -0.85405548 -0.12062744 -0.15749361  0.68602078 -0.18930894\n",
      " -0.24239748 -0.20143901 -0.04123443 -0.76874898]\n"
     ]
    },
    {
     "data": {
      "image/png": "[encoded data removed]",
      "text/plain": [
       "<Figure size 432x288 with 1 Axes>"
      ]
     },
     "metadata": {
      "needs_background": "light"
     },
     "output_type": "display_data"
    },
    {
     "name": "stdout",
     "output_type": "stream",
     "text": [
      "2\n",
      "Base model gate value: 7\n",
      "Gate edge angles: (-0.7576275268040272, -1.0845536937073916)\n",
      "Gate value across ensemble: [-0.76912808 -0.8836783  -0.78590898 -0.97036468 -0.92858792 -0.74046655\n",
      " -0.87395795 -0.81811305 -0.92490244 -0.86222648 -0.85272129 -0.86749606\n",
      " -0.78233823 -0.8820061  -0.81718508 -0.93511086 -0.79544577 -0.76440564\n",
      " -0.83090423 -0.79345051 -0.80705433 -0.85016196 -0.90780906 -0.80917755\n",
      " -0.82230894 -0.85516348 -0.86216218 -0.94568677 -0.80184127 -0.84187628\n",
      " -0.80723007 -0.83116639 -1.09603379 -0.8115695  -0.91299156 -0.9246012\n",
      " -0.81237579 -0.82985949 -0.84811404 -0.88694134 -0.85278398 -0.88902122\n",
      " -0.78257949 -0.93155445 -0.7959566  -0.8136729  -0.92056475 -0.87188814\n",
      " -0.91916814 -0.86922096 -0.85189511 -0.77152883 -0.78926653 -0.88968791\n",
      " -0.84404549 -0.84220668 -0.87591784 -0.69202489 -0.80341572 -0.97700825\n",
      " -0.81686478 -0.83244154 -0.81975967 -0.77218184 -1.01344516 -0.8700042\n",
      " -0.87944406 -0.86189108 -0.87595894 -0.89698115 -0.84054117 -0.89359185\n",
      " -0.79850379 -0.83887561 -0.8594273  -0.80782443 -0.84212897 -0.85643472\n",
      " -0.84619911 -0.9664963  -0.93768437 -0.98637812 -0.78962744 -0.85559518\n",
      " -0.84177856 -0.8024097  -0.85803182 -0.85652588 -0.81154526 -0.83507038\n",
      " -0.81121032 -0.80562228 -0.9157641  -0.79330172 -1.00515128 -0.74471519\n",
      " -0.89961352 -0.88250681 -0.81567933 -0.75786494]\n"
     ]
    },
    {
     "data": {
      "image/png": "[encoded data removed]",
      "text/plain": [
       "<Figure size 432x288 with 1 Axes>"
      ]
     },
     "metadata": {
      "needs_background": "light"
     },
     "output_type": "display_data"
    },
    {
     "name": "stdout",
     "output_type": "stream",
     "text": [
      "3\n",
      "Base model gate value: 10\n",
      "Gate edge angles: (-2.0570389598824015, -2.3839651267857658)\n",
      "Gate value across ensemble: [-0.48827238 -0.49976491  0.48189987  0.42565645 -0.93924263  0.81282959\n",
      "  0.48434032 -0.13725008 -1.46751756 -0.58831418 -0.81301687  0.89890882\n",
      " -1.01725992  0.80761199  0.02122778  0.45887404 -0.26189601 -1.31107668\n",
      " -0.95943186 -0.56855419 -0.08769913  1.15575802 -0.58473706 -0.31391309\n",
      " -0.30731032 -0.61802248 -0.85764511 -0.78013871 -1.47807182  0.0857722\n",
      " -1.90876077 -0.4545388  -0.93633601 -0.47375167  0.5524701  -0.22252048\n",
      " -2.06933098 -0.51518235 -0.6632164   0.33295629  0.1207494  -1.26372181\n",
      " -0.64675365 -1.13524844 -0.44289646 -1.98661386 -0.74126603 -0.50304451\n",
      " -1.35487902 -0.13625891 -0.77719096 -0.4778888   0.10638068 -1.96950004\n",
      " -0.41234189 -0.47441225 -0.5605578  -0.12254971  0.20421706 -0.54784121\n",
      " -0.54188064 -0.32305205 -0.67813559 -1.36458979 -0.27763007 -0.39434331\n",
      " -0.49167311  0.05050451 -1.28648267 -0.44252066 -0.54281011 -0.7240423\n",
      " -0.2779269  -0.6124197  -0.09551039 -0.56258747  0.33410094 -0.50103643\n",
      " -0.49498341 -0.63830864  0.37413851 -0.57288588 -1.19906959 -0.20340763\n",
      " -0.66019404 -1.01298907 -1.23395948 -1.63324679 -0.70361333 -0.76123207\n",
      " -0.66110955 -1.17295172 -0.65137392 -0.42937677 -0.58415287  0.07355571\n",
      " -0.30702252  0.84685751 -0.0099904   0.32875863]\n"
     ]
    },
    {
     "data": {
      "image/png": "[encoded data removed]",
      "text/plain": [
       "<Figure size 432x288 with 1 Axes>"
      ]
     },
     "metadata": {
      "needs_background": "light"
     },
     "output_type": "display_data"
    },
    {
     "name": "stdout",
     "output_type": "stream",
     "text": [
      "4\n",
      "Base model gate value: 0\n",
      "Gate edge angles: (3.0072712116368248, -2.646040980103965)\n",
      "Gate value across ensemble: [-2.8441876  -1.63958498 -0.90476307 -1.56383415 -1.70362419 -1.72391041\n",
      " -1.88480531 -2.34521897 -1.60961556 -1.7819027  -1.64434658 -1.64847614\n",
      " -1.72301891 -1.81019712 -1.50668334 -0.93977594 -1.69638103 -1.71436218\n",
      " -1.09277635 -1.72850728 -1.71289425 -1.73529401 -1.59841414 -1.70430721\n",
      " -1.66793592 -1.31500454 -1.21235895 -1.7019857  -1.73897858 -1.50954131\n",
      " -1.69288845 -1.5295895  -1.70673223 -1.69920479 -1.67556679 -1.67616034\n",
      " -1.60505153 -1.60493242 -1.67445127 -1.62814364 -1.6952169  -0.77500579\n",
      " -1.78412122 -1.66110375 -2.43008215 -1.42267769 -1.74615537 -1.65286115\n",
      " -2.2228635  -1.60602769 -1.56498393 -1.69792797 -1.71035057 -1.58173269\n",
      " -1.71729192 -1.37792552 -1.68736896 -1.73700723 -2.2655386  -1.63381223\n",
      " -1.6419794  -1.64857913 -1.71168845 -1.71893259 -1.44803884 -1.76319354\n",
      " -2.36979592 -1.70696112 -1.73105324 -1.6847367  -1.72028747 -1.61660262\n",
      " -1.57374726 -1.70439893 -1.68997372 -1.69622835 -1.61637071 -1.59284407\n",
      " -1.59410904 -1.01871155 -1.67157113 -1.73463302 -0.86725329 -1.6639317\n",
      " -1.65100945 -1.64830793 -1.67918986 -1.62232288 -1.7548675  -1.78927091\n",
      " -1.67876912 -1.63279424 -1.75530984 -1.64200912 -1.65451918 -1.59345503\n",
      " -1.71246598 -2.37088181 -1.66690104 -1.62678896]\n"
     ]
    },
    {
     "data": {
      "image/png": "[encoded data removed]",
      "text/plain": [
       "<Figure size 432x288 with 1 Axes>"
      ]
     },
     "metadata": {
      "needs_background": "light"
     },
     "output_type": "display_data"
    }
   ],
   "source": [
    "for i in range(enkf.population_size):\n",
    "    print(i)\n",
    "    present_gate_estimates(i)"
   ]
  },
  {
   "cell_type": "code",
   "execution_count": null,
   "metadata": {},
   "outputs": [],
   "source": []
  },
  {
   "cell_type": "markdown",
   "metadata": {},
   "source": [
    "* Look at standardisation\n",
    "* scaling variables"
   ]
  },
  {
   "cell_type": "code",
   "execution_count": null,
   "metadata": {},
   "outputs": [],
   "source": []
  },
  {
   "cell_type": "code",
   "execution_count": null,
   "metadata": {},
   "outputs": [],
   "source": []
  },
  {
   "cell_type": "code",
   "execution_count": null,
   "metadata": {},
   "outputs": [],
   "source": []
  },
  {
   "cell_type": "code",
   "execution_count": null,
   "metadata": {},
   "outputs": [],
   "source": [
    "results.shape"
   ]
  },
  {
   "cell_type": "markdown",
   "metadata": {},
   "source": [
    "#### Tidy up data"
   ]
  },
  {
   "cell_type": "code",
   "execution_count": null,
   "metadata": {},
   "outputs": [],
   "source": [
    "results_cols = list(results)\n",
    "error_types = [c for c in results_cols if c != 'time']"
   ]
  },
  {
   "cell_type": "code",
   "execution_count": null,
   "metadata": {},
   "outputs": [],
   "source": [
    "base_error_types = ['forecast', 'obs', 'analysis', 'baseline']\n",
    "ensemble_error_types = [e for e in error_types if e not in base_error_types]"
   ]
  },
  {
   "cell_type": "code",
   "execution_count": null,
   "metadata": {},
   "outputs": [],
   "source": [
    "base_error_types"
   ]
  },
  {
   "cell_type": "code",
   "execution_count": null,
   "metadata": {},
   "outputs": [],
   "source": [
    "ensemble_error_types"
   ]
  },
  {
   "cell_type": "code",
   "execution_count": null,
   "metadata": {},
   "outputs": [],
   "source": [
    "base_tidy_df = tidy_dataframe(results, 'time', base_error_types)\n",
    "base_tidy_df.head()"
   ]
  },
  {
   "cell_type": "code",
   "execution_count": null,
   "metadata": {},
   "outputs": [],
   "source": [
    "ensemble_tidy_df = tidy_dataframe(results, 'time', ensemble_error_types)\n",
    "ensemble_tidy_df.head()"
   ]
  },
  {
   "cell_type": "code",
   "execution_count": null,
   "metadata": {},
   "outputs": [],
   "source": [
    "def analysis_to_model(row):\n",
    "    model_number = row['variable'].split('_')[1]\n",
    "    return f'Model {model_number}'"
   ]
  },
  {
   "cell_type": "code",
   "execution_count": null,
   "metadata": {},
   "outputs": [],
   "source": [
    "ensemble_tidy_df['variable'] = ensemble_tidy_df.apply(analysis_to_model, axis=1)\n",
    "ensemble_tidy_df.head()"
   ]
  },
  {
   "cell_type": "markdown",
   "metadata": {},
   "source": [
    "### Ensemble member errors"
   ]
  },
  {
   "cell_type": "code",
   "execution_count": null,
   "metadata": {},
   "outputs": [],
   "source": [
    "ensemble_mean = base_tidy_df.loc[base_tidy_df['variable']=='analysis', :]"
   ]
  },
  {
   "cell_type": "code",
   "execution_count": null,
   "metadata": {},
   "outputs": [],
   "source": [
    "plt.figure(figsize=(8, 8))\n",
    "sns.lineplot(x='time', y='value', hue='variable', alpha=0.3, data=ensemble_tidy_df)\n",
    "plt.plot(ensemble_mean['time'], ensemble_mean['value'], linewidth=3,\n",
    "         color='black', label='Ensemble mean')\n",
    "plt.ylabel('Error per agent')\n",
    "plt.xlabel('Time')\n",
    "plt.legend()\n",
    "plt.savefig(fig_dir + 'lineplot.pdf')\n",
    "plt.show()"
   ]
  },
  {
   "cell_type": "code",
   "execution_count": null,
   "metadata": {},
   "outputs": [],
   "source": [
    "benchmark_mean = base_tidy_df.loc[base_tidy_df['variable']=='baseline', :]"
   ]
  },
  {
   "cell_type": "code",
   "execution_count": null,
   "metadata": {},
   "outputs": [],
   "source": [
    "plt.figure(figsize=(8, 8))\n",
    "plt.plot(ensemble_mean['time'], ensemble_mean['value'], label='Filter ensemble mean')\n",
    "plt.plot(benchmark_mean['time'], benchmark_mean['value'], label='Benchmark ensemble mean')\n",
    "plt.xlabel('Time')\n",
    "plt.ylabel('Error per agent')\n",
    "plt.legend()\n",
    "plt.savefig(fig_dir + 'benchmark.pdf')\n",
    "plt.show()"
   ]
  },
  {
   "cell_type": "code",
   "execution_count": null,
   "metadata": {},
   "outputs": [],
   "source": [
    "plt.figure(figsize=(8, 8))\n",
    "sns.kdeplot(x='time', y='value', data=ensemble_tidy_df, fill=True, label='Ensemble models')\n",
    "plt.plot(ensemble_mean['time'], ensemble_mean['value'], label='Ensemble mean')\n",
    "plt.ylabel('Error per agent')\n",
    "plt.xlabel('Time')\n",
    "plt.legend()\n",
    "plt.savefig(fig_dir + 'contourplot.pdf')\n",
    "plt.show()"
   ]
  },
  {
   "cell_type": "code",
   "execution_count": null,
   "metadata": {},
   "outputs": [],
   "source": [
    "plt.figure(figsize=(8, 8))\n",
    "sns.lineplot(x='time', y='value', data=ensemble_tidy_df, label='Ensemble models')\n",
    "plt.plot(ensemble_mean['time'], ensemble_mean['value'], label='Ensemble mean')\n",
    "plt.ylabel('Error per agent')\n",
    "plt.xlabel('Time')\n",
    "plt.legend()\n",
    "plt.savefig(fig_dir + 'lineplot_ci.pdf')\n",
    "plt.show()"
   ]
  },
  {
   "cell_type": "markdown",
   "metadata": {},
   "source": [
    "## Working - mean errors"
   ]
  },
  {
   "cell_type": "markdown",
   "metadata": {},
   "source": [
    "Construct synthetic data:"
   ]
  },
  {
   "cell_type": "code",
   "execution_count": null,
   "metadata": {},
   "outputs": [],
   "source": [
    "member_states = [{'x': 24, 'y': 26, 'label': 'Ensemble member'},\n",
    "                  {'x': 23, 'y': 25, 'label': 'Ensemble member'},\n",
    "                  {'x': 24, 'y': 24, 'label': 'Ensemble member'}]\n",
    "mean_state = [{'x': 71/3, 'y': 25, 'label': 'Ensemble mean'}]\n",
    "ground_state = [{'x': 25, 'y': 25, 'label': 'Ground truth'}]\n",
    "\n",
    "working_states = member_states + mean_state + ground_state\n",
    "                  \n",
    "working_errors_df = pd.DataFrame(working_states)\n",
    "working_errors_df"
   ]
  },
  {
   "cell_type": "markdown",
   "metadata": {},
   "source": [
    "Construct line data:"
   ]
  },
  {
   "cell_type": "code",
   "execution_count": null,
   "metadata": {},
   "outputs": [],
   "source": [
    "error_lines = [[[24, 25], [26, 25]],\n",
    "               [[23, 25], [25, 25]],\n",
    "               [[24, 25], [24, 25]],\n",
    "               [[71/3, 25], [25, 25]]]"
   ]
  },
  {
   "cell_type": "markdown",
   "metadata": {},
   "source": [
    "Plot:"
   ]
  },
  {
   "cell_type": "code",
   "execution_count": null,
   "metadata": {},
   "outputs": [],
   "source": [
    "plt.figure()\n",
    "sns.scatterplot(x='x', y='y', hue='label', data=working_errors_df, marker='x')\n",
    "for el in error_lines:\n",
    "    plt.plot(el[0], el[1], linestyle='dashed', color='grey', alpha=0.3)\n",
    "plt.savefig(fig_dir + 'working_example.pdf')\n",
    "plt.show()"
   ]
  },
  {
   "cell_type": "markdown",
   "metadata": {},
   "source": [
    "Get means:"
   ]
  },
  {
   "cell_type": "code",
   "execution_count": null,
   "metadata": {},
   "outputs": [],
   "source": [
    "members = working_errors_df.loc[working_errors_df['label']=='Ensemble member', :]\n",
    "x_mean = members['x'].mean()\n",
    "y_mean = members['y'].mean()"
   ]
  },
  {
   "cell_type": "code",
   "execution_count": null,
   "metadata": {},
   "outputs": [],
   "source": [
    "en_mean = working_errors_df.loc[working_errors_df['label']=='Ensemble mean', :]"
   ]
  },
  {
   "cell_type": "markdown",
   "metadata": {},
   "source": [
    "Check mean:"
   ]
  },
  {
   "cell_type": "code",
   "execution_count": null,
   "metadata": {},
   "outputs": [],
   "source": [
    "assert x_mean == en_mean['x'].values[0]"
   ]
  },
  {
   "cell_type": "code",
   "execution_count": null,
   "metadata": {},
   "outputs": [],
   "source": [
    "assert y_mean == en_mean['y'].values[0]"
   ]
  },
  {
   "cell_type": "markdown",
   "metadata": {},
   "source": [
    "Error function:"
   ]
  },
  {
   "cell_type": "code",
   "execution_count": null,
   "metadata": {},
   "outputs": [],
   "source": [
    "def calculate_error(ground_state, x, y):\n",
    "    return np.sqrt((ground_state['x'] - x)**2 + (ground_state['y'] - y)**2)"
   ]
  },
  {
   "cell_type": "markdown",
   "metadata": {},
   "source": [
    "Calculate mean error:"
   ]
  },
  {
   "cell_type": "code",
   "execution_count": null,
   "metadata": {},
   "outputs": [],
   "source": [
    "ems = calculate_error(ground_state[0], mean_state[0]['x'], mean_state[0]['y'])\n",
    "ems"
   ]
  },
  {
   "cell_type": "markdown",
   "metadata": {},
   "source": [
    "Calculate member state errors:"
   ]
  },
  {
   "cell_type": "code",
   "execution_count": null,
   "metadata": {},
   "outputs": [],
   "source": [
    "member_errors = list()\n",
    "for m in member_states:\n",
    "    member_errors.append(calculate_error(ground_state[0], m['x'], m['y']))\n",
    "\n",
    "x = np.mean(member_errors)"
   ]
  },
  {
   "cell_type": "code",
   "execution_count": null,
   "metadata": {},
   "outputs": [],
   "source": [
    "y = 2/3 * (np.sqrt(2) + 1)"
   ]
  },
  {
   "cell_type": "markdown",
   "metadata": {},
   "source": [
    "Check that average error is correct:"
   ]
  },
  {
   "cell_type": "code",
   "execution_count": null,
   "metadata": {},
   "outputs": [],
   "source": [
    "assert x == y"
   ]
  },
  {
   "cell_type": "markdown",
   "metadata": {},
   "source": [
    "Check that error in mean state is less than or equal to the mean of the member model errors:"
   ]
  },
  {
   "cell_type": "code",
   "execution_count": null,
   "metadata": {},
   "outputs": [],
   "source": [
    "assert ems <= x"
   ]
  }
 ],
 "metadata": {
  "kernelspec": {
   "display_name": "Python 3 (ipykernel)",
   "language": "python",
   "name": "python3"
  },
  "language_info": {
   "codemirror_mode": {
    "name": "ipython",
    "version": 3
   },
   "file_extension": ".py",
   "mimetype": "text/x-python",
   "name": "python",
   "nbconvert_exporter": "python",
   "pygments_lexer": "ipython3",
   "version": "3.8.11"
  }
 },
 "nbformat": 4,
 "nbformat_minor": 4
}
