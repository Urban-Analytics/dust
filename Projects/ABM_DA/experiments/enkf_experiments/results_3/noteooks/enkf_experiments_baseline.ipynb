{
 "cells": [
  {
   "cell_type": "markdown",
   "metadata": {},
   "source": [
    "# EnKF Experiments - GCS benchmark"
   ]
  },
  {
   "cell_type": "markdown",
   "metadata": {},
   "source": [
    "This notebook consists of experiments undertaken for the benchmarking section of enkf results chapter 3.\n",
    "This chapter focuses on the application of the Ensemble Kalman Filter to scenarios in which we do not know each agent's target destination prior to the beginning of the simulation.\n",
    "In such scenarios, we need to use the Ensemble Kalman Filter to update estimates of both the locational state of each agent in the model and the target destination parameter for each agent.\n",
    "\n",
    "Up to this point, the filter has been used to update estimates of only the location of each of the agents - a problem that is not entirely dissimilar to those to which the Ensemble Kalman Filter is typically applied.\n",
    "In this case, however, the addition of estimating an agent's target destination presents an additional challenge.\n",
    "\n",
    "Choosing a target destination for an agent involves identifying the gate to which the agent should be heading which can be considered a categorical problem.\n",
    "Having identified a gate, we can then allocation a target destination in 2-dimensional real space as a location to which the agent will direct itself."
   ]
  },
  {
   "cell_type": "markdown",
   "metadata": {},
   "source": [
    "## Imports"
   ]
  },
  {
   "cell_type": "code",
   "execution_count": 1,
   "metadata": {},
   "outputs": [],
   "source": [
    "# Imports\n",
    "import gc\n",
    "import matplotlib.pyplot as plt\n",
    "import numpy as np\n",
    "import pandas as pd\n",
    "import pickle\n",
    "from scipy.stats import shapiro, kruskal\n",
    "import seaborn as sns\n",
    "import sys"
   ]
  },
  {
   "cell_type": "code",
   "execution_count": 2,
   "metadata": {},
   "outputs": [],
   "source": [
    "sys.path.append('../../../../stationsim/')\n",
    "from ensemble_kalman_filter import EnsembleKalmanFilter, AgentIncluder, GateEstimator, ExitRandomisation\n",
    "from stationsim_gcs_model import Model"
   ]
  },
  {
   "cell_type": "code",
   "execution_count": 3,
   "metadata": {},
   "outputs": [],
   "source": [
    "sys.path.append('../')\n",
    "from experiment_utils import Modeller, Processor, Visualiser"
   ]
  },
  {
   "cell_type": "code",
   "execution_count": 4,
   "metadata": {},
   "outputs": [],
   "source": [
    "%matplotlib inline\n",
    "np.random.seed(42)"
   ]
  },
  {
   "cell_type": "markdown",
   "metadata": {},
   "source": [
    "## Functions"
   ]
  },
  {
   "cell_type": "code",
   "execution_count": 5,
   "metadata": {},
   "outputs": [],
   "source": [
    "def tidy_dataframe(df, independent_col: str, dependent_cols: list):\n",
    "    output = list()\n",
    "    \n",
    "    for i, row in df.iterrows():\n",
    "        for col in dependent_cols:\n",
    "            d = {independent_col: row[independent_col],\n",
    "                 'variable':  col,\n",
    "                 'value': row[col]}\n",
    "            output.append(d)\n",
    "    \n",
    "    output = pd.DataFrame(output)\n",
    "    return output"
   ]
  },
  {
   "cell_type": "markdown",
   "metadata": {},
   "source": [
    "## Data paths"
   ]
  },
  {
   "cell_type": "code",
   "execution_count": 6,
   "metadata": {},
   "outputs": [],
   "source": [
    "data_dir = '../results/data/baseline/'\n",
    "model_dir = '../results/models/baseline/'\n",
    "fig_dir = '../results/figures/baseline/'"
   ]
  },
  {
   "cell_type": "markdown",
   "metadata": {},
   "source": [
    "## Experiment 0 - Baseline"
   ]
  },
  {
   "cell_type": "markdown",
   "metadata": {},
   "source": [
    "Set population size to use for benchmarking:"
   ]
  },
  {
   "cell_type": "code",
   "execution_count": 7,
   "metadata": {},
   "outputs": [],
   "source": [
    "pop_size = 20"
   ]
  },
  {
   "cell_type": "markdown",
   "metadata": {},
   "source": [
    "### Run experiment"
   ]
  },
  {
   "cell_type": "markdown",
   "metadata": {},
   "source": [
    "#### Benchmark"
   ]
  },
  {
   "cell_type": "markdown",
   "metadata": {},
   "source": [
    "Run benchmark:"
   ]
  },
  {
   "cell_type": "code",
   "execution_count": 8,
   "metadata": {},
   "outputs": [
    {
     "name": "stderr",
     "output_type": "stream",
     "text": [
      "../../../../stationsim/ensemble_kalman_filter.py:192: RuntimeWarning: EnKF received unexpected attribute (vanilla_ensemble_size).\n",
      "  warns.warn(w, RuntimeWarning)\n"
     ]
    },
    {
     "name": "stdout",
     "output_type": "stream",
     "text": [
      "Running Ensemble Kalman Filter...\n",
      "max_iterations:\tNone\n",
      "ensemble_size:\tNone\n",
      "assimilation_period:\tNone\n",
      "pop_size:\tNone\n",
      "filter_type:\tEnsembleKalmanFilterType.STATE\n",
      "inclusion_type:\tAgentIncluder.MODE_EN\n",
      "ensemble_errors:\tFalse\n"
     ]
    }
   ],
   "source": [
    "# Modeller.run_enkf_benchmark(ensemble_size=100, pop_size=pop_size,\n",
    "#                             exit_randomisation=ExitRandomisation.BY_AGENT)"
   ]
  },
  {
   "cell_type": "markdown",
   "metadata": {},
   "source": [
    "### Analysis"
   ]
  },
  {
   "cell_type": "markdown",
   "metadata": {},
   "source": [
    "#### Benchmark"
   ]
  },
  {
   "cell_type": "code",
   "execution_count": 9,
   "metadata": {},
   "outputs": [
    {
     "data": {
      "text/html": [
       "<div>\n",
       "<style scoped>\n",
       "    .dataframe tbody tr th:only-of-type {\n",
       "        vertical-align: middle;\n",
       "    }\n",
       "\n",
       "    .dataframe tbody tr th {\n",
       "        vertical-align: top;\n",
       "    }\n",
       "\n",
       "    .dataframe thead th {\n",
       "        text-align: right;\n",
       "    }\n",
       "</style>\n",
       "<table border=\"1\" class=\"dataframe\">\n",
       "  <thead>\n",
       "    <tr style=\"text-align: right;\">\n",
       "      <th></th>\n",
       "      <th>time</th>\n",
       "      <th>forecast</th>\n",
       "    </tr>\n",
       "  </thead>\n",
       "  <tbody>\n",
       "    <tr>\n",
       "      <th>0</th>\n",
       "      <td>0</td>\n",
       "      <td>0.000000</td>\n",
       "    </tr>\n",
       "    <tr>\n",
       "      <th>1</th>\n",
       "      <td>1</td>\n",
       "      <td>0.260416</td>\n",
       "    </tr>\n",
       "    <tr>\n",
       "      <th>2</th>\n",
       "      <td>2</td>\n",
       "      <td>0.259937</td>\n",
       "    </tr>\n",
       "    <tr>\n",
       "      <th>3</th>\n",
       "      <td>3</td>\n",
       "      <td>0.259459</td>\n",
       "    </tr>\n",
       "    <tr>\n",
       "      <th>4</th>\n",
       "      <td>4</td>\n",
       "      <td>0.258980</td>\n",
       "    </tr>\n",
       "  </tbody>\n",
       "</table>\n",
       "</div>"
      ],
      "text/plain": [
       "   time  forecast\n",
       "0     0  0.000000\n",
       "1     1  0.260416\n",
       "2     2  0.259937\n",
       "3     3  0.259459\n",
       "4     4  0.258980"
      ]
     },
     "execution_count": 9,
     "metadata": {},
     "output_type": "execute_result"
    }
   ],
   "source": [
    "with open(model_dir + 'baseline_BY_AGENT.pkl', 'rb') as f:\n",
    "    baseline_filter = pickle.load(f)\n",
    "\n",
    "baseline_results = pd.DataFrame(baseline_filter.forecast_error)\n",
    "baseline_results.head()"
   ]
  },
  {
   "cell_type": "code",
   "execution_count": 10,
   "metadata": {},
   "outputs": [
    {
     "data": {
      "image/png": "[encoded data removed]",
      "text/plain": [
       "<Figure size 432x288 with 1 Axes>"
      ]
     },
     "metadata": {
      "needs_background": "light"
     },
     "output_type": "display_data"
    }
   ],
   "source": [
    "plt.figure()\n",
    "sns.lineplot(x='time', y='forecast', data=baseline_results)\n",
    "plt.xlabel('Time')\n",
    "plt.ylabel('Mean distance error per agent')\n",
    "plt.savefig(fig_dir + f'baseline_errors_{pop_size}_by_agent.pdf')\n",
    "plt.show()"
   ]
  },
  {
   "cell_type": "code",
   "execution_count": 11,
   "metadata": {},
   "outputs": [],
   "source": [
    "bm = baseline_filter.base_model\n",
    "vms = baseline_filter.vanilla_models"
   ]
  },
  {
   "cell_type": "code",
   "execution_count": 12,
   "metadata": {},
   "outputs": [],
   "source": [
    "out_gates_truth = [agent.gate_out for agent in bm.agents]\n",
    "\n",
    "p = list()\n",
    "\n",
    "for m in vms:\n",
    "    x = [out_gates_truth[i]==agent.gate_out for i, agent in enumerate(m.agents)]\n",
    "    p.append(sum(x) / len(x))       "
   ]
  },
  {
   "cell_type": "code",
   "execution_count": 13,
   "metadata": {},
   "outputs": [
    {
     "data": {
      "image/png": "[encoded data removed]",
      "text/plain": [
       "<Figure size 432x288 with 1 Axes>"
      ]
     },
     "metadata": {
      "needs_background": "light"
     },
     "output_type": "display_data"
    }
   ],
   "source": [
    "plt.figure()\n",
    "plt.hist(p)\n",
    "plt.xlabel('Probabilty of picking the correct gate, p')\n",
    "plt.ylabel('Frequency')\n",
    "plt.savefig(fig_dir + f'benchmark_gates_correct_{pop_size}_{baseline_filter.exit_randomisation.name}.pdf')\n",
    "plt.show()"
   ]
  },
  {
   "cell_type": "code",
   "execution_count": 14,
   "metadata": {},
   "outputs": [
    {
     "data": {
      "text/plain": [
       "5618"
      ]
     },
     "execution_count": 14,
     "metadata": {},
     "output_type": "execute_result"
    }
   ],
   "source": [
    "del baseline_results\n",
    "del bm\n",
    "del vms\n",
    "gc.collect()"
   ]
  },
  {
   "cell_type": "markdown",
   "metadata": {},
   "source": [
    "Run benchmark:"
   ]
  },
  {
   "cell_type": "code",
   "execution_count": 15,
   "metadata": {},
   "outputs": [
    {
     "name": "stderr",
     "output_type": "stream",
     "text": [
      "../../../../stationsim/ensemble_kalman_filter.py:192: RuntimeWarning: EnKF received unexpected attribute (vanilla_ensemble_size).\n",
      "  warns.warn(w, RuntimeWarning)\n"
     ]
    },
    {
     "name": "stdout",
     "output_type": "stream",
     "text": [
      "Running Ensemble Kalman Filter...\n",
      "max_iterations:\tNone\n",
      "ensemble_size:\tNone\n",
      "assimilation_period:\tNone\n",
      "pop_size:\tNone\n",
      "filter_type:\tEnsembleKalmanFilterType.STATE\n",
      "inclusion_type:\tAgentIncluder.MODE_EN\n",
      "ensemble_errors:\tFalse\n"
     ]
    },
    {
     "ename": "KeyboardInterrupt",
     "evalue": "",
     "output_type": "error",
     "traceback": [
      "\u001b[0;31m---------------------------------------------------------------------------\u001b[0m",
      "\u001b[0;31mKeyboardInterrupt\u001b[0m                         Traceback (most recent call last)",
      "\u001b[0;32m<ipython-input-15-2e9832629588>\u001b[0m in \u001b[0;36m<module>\u001b[0;34m\u001b[0m\n\u001b[0;32m----> 1\u001b[0;31m Modeller.run_enkf_benchmark(ensemble_size=100, pop_size=pop_size,\n\u001b[0m\u001b[1;32m      2\u001b[0m                             exit_randomisation=ExitRandomisation.ALL_RANDOM)\n",
      "\u001b[0;32m~/Documents/dev/dust/Projects/ABM_DA/experiments/enkf_experiments/results_3/experiment_utils.py\u001b[0m in \u001b[0;36mrun_enkf_benchmark\u001b[0;34m(cls, ensemble_size, pop_size, station, results_path, mode, inclusion, exit_randomisation)\u001b[0m\n\u001b[1;32m    691\u001b[0m \u001b[0;34m\u001b[0m\u001b[0m\n\u001b[1;32m    692\u001b[0m         \u001b[0;32mwhile\u001b[0m \u001b[0menkf\u001b[0m\u001b[0;34m.\u001b[0m\u001b[0mactive\u001b[0m\u001b[0;34m:\u001b[0m\u001b[0;34m\u001b[0m\u001b[0;34m\u001b[0m\u001b[0m\n\u001b[0;32m--> 693\u001b[0;31m             \u001b[0menkf\u001b[0m\u001b[0;34m.\u001b[0m\u001b[0mbaseline_step\u001b[0m\u001b[0;34m(\u001b[0m\u001b[0;34m)\u001b[0m\u001b[0;34m\u001b[0m\u001b[0;34m\u001b[0m\u001b[0m\n\u001b[0m\u001b[1;32m    694\u001b[0m \u001b[0;34m\u001b[0m\u001b[0m\n\u001b[1;32m    695\u001b[0m         \u001b[0ms\u001b[0m \u001b[0;34m=\u001b[0m \u001b[0mresults_path\u001b[0m \u001b[0;34m+\u001b[0m \u001b[0;34mf'baseline_{exit_randomisation.name}.pkl'\u001b[0m\u001b[0;34m\u001b[0m\u001b[0;34m\u001b[0m\u001b[0m\n",
      "\u001b[0;32m~/Documents/dev/dust/Projects/ABM_DA/stationsim/ensemble_kalman_filter.py\u001b[0m in \u001b[0;36mbaseline_step\u001b[0;34m(self)\u001b[0m\n\u001b[1;32m    422\u001b[0m         \u001b[0;31m# Only predict-update if there is at least one active model\u001b[0m\u001b[0;34m\u001b[0m\u001b[0;34m\u001b[0m\u001b[0;34m\u001b[0m\u001b[0m\n\u001b[1;32m    423\u001b[0m         \u001b[0;32mif\u001b[0m \u001b[0mself\u001b[0m\u001b[0;34m.\u001b[0m\u001b[0mactive\u001b[0m\u001b[0;34m:\u001b[0m\u001b[0;34m\u001b[0m\u001b[0;34m\u001b[0m\u001b[0m\n\u001b[0;32m--> 424\u001b[0;31m             \u001b[0mself\u001b[0m\u001b[0;34m.\u001b[0m\u001b[0mpredict\u001b[0m\u001b[0;34m(\u001b[0m\u001b[0;34m)\u001b[0m\u001b[0;34m\u001b[0m\u001b[0;34m\u001b[0m\u001b[0m\n\u001b[0m\u001b[1;32m    425\u001b[0m             \u001b[0mself\u001b[0m\u001b[0;34m.\u001b[0m\u001b[0mupdate_state_ensemble\u001b[0m\u001b[0;34m(\u001b[0m\u001b[0;34m)\u001b[0m\u001b[0;34m\u001b[0m\u001b[0;34m\u001b[0m\u001b[0m\n\u001b[1;32m    426\u001b[0m             \u001b[0mself\u001b[0m\u001b[0;34m.\u001b[0m\u001b[0mupdate_state_means\u001b[0m\u001b[0;34m(\u001b[0m\u001b[0;34m)\u001b[0m\u001b[0;34m\u001b[0m\u001b[0;34m\u001b[0m\u001b[0m\n",
      "\u001b[0;32m~/Documents/dev/dust/Projects/ABM_DA/stationsim/ensemble_kalman_filter.py\u001b[0m in \u001b[0;36mpredict\u001b[0;34m(self)\u001b[0m\n\u001b[1;32m    453\u001b[0m         \u001b[0;32mif\u001b[0m \u001b[0mself\u001b[0m\u001b[0;34m.\u001b[0m\u001b[0mrun_vanilla\u001b[0m\u001b[0;34m:\u001b[0m\u001b[0;34m\u001b[0m\u001b[0;34m\u001b[0m\u001b[0m\n\u001b[1;32m    454\u001b[0m             \u001b[0;32mfor\u001b[0m \u001b[0mi\u001b[0m \u001b[0;32min\u001b[0m \u001b[0mrange\u001b[0m\u001b[0;34m(\u001b[0m\u001b[0mself\u001b[0m\u001b[0;34m.\u001b[0m\u001b[0mvanilla_ensemble_size\u001b[0m\u001b[0;34m)\u001b[0m\u001b[0;34m:\u001b[0m\u001b[0;34m\u001b[0m\u001b[0;34m\u001b[0m\u001b[0m\n\u001b[0;32m--> 455\u001b[0;31m                 \u001b[0mself\u001b[0m\u001b[0;34m.\u001b[0m\u001b[0mvanilla_models\u001b[0m\u001b[0;34m[\u001b[0m\u001b[0mi\u001b[0m\u001b[0;34m]\u001b[0m\u001b[0;34m.\u001b[0m\u001b[0mstep\u001b[0m\u001b[0;34m(\u001b[0m\u001b[0;34m)\u001b[0m\u001b[0;34m\u001b[0m\u001b[0;34m\u001b[0m\u001b[0m\n\u001b[0m\u001b[1;32m    456\u001b[0m \u001b[0;34m\u001b[0m\u001b[0m\n\u001b[1;32m    457\u001b[0m     \u001b[0;32mdef\u001b[0m \u001b[0mupdate\u001b[0m\u001b[0;34m(\u001b[0m\u001b[0mself\u001b[0m\u001b[0;34m,\u001b[0m \u001b[0mdata\u001b[0m\u001b[0;34m)\u001b[0m \u001b[0;34m->\u001b[0m \u001b[0;32mNone\u001b[0m\u001b[0;34m:\u001b[0m\u001b[0;34m\u001b[0m\u001b[0;34m\u001b[0m\u001b[0m\n",
      "\u001b[0;32m~/Documents/dev/dust/Projects/ABM_DA/stationsim/stationsim_gcs_model.py\u001b[0m in \u001b[0;36mstep\u001b[0;34m(self)\u001b[0m\n\u001b[1;32m    621\u001b[0m             \u001b[0mt\u001b[0m \u001b[0;34m=\u001b[0m \u001b[0;36m1.0\u001b[0m\u001b[0;34m\u001b[0m\u001b[0;34m\u001b[0m\u001b[0m\n\u001b[1;32m    622\u001b[0m             \u001b[0;32mwhile\u001b[0m \u001b[0;34m(\u001b[0m\u001b[0mt\u001b[0m \u001b[0;34m>\u001b[0m \u001b[0;36m0\u001b[0m\u001b[0;34m)\u001b[0m\u001b[0;34m:\u001b[0m\u001b[0;34m\u001b[0m\u001b[0;34m\u001b[0m\u001b[0m\n\u001b[0;32m--> 623\u001b[0;31m                 \u001b[0mcollisionTable\u001b[0m\u001b[0;34m,\u001b[0m \u001b[0mtmin\u001b[0m \u001b[0;34m=\u001b[0m \u001b[0mself\u001b[0m\u001b[0;34m.\u001b[0m\u001b[0mget_collisionTable\u001b[0m\u001b[0;34m(\u001b[0m\u001b[0;34m)\u001b[0m\u001b[0;34m\u001b[0m\u001b[0;34m\u001b[0m\u001b[0m\n\u001b[0m\u001b[1;32m    624\u001b[0m                 \u001b[0;32mif\u001b[0m \u001b[0;34m(\u001b[0m\u001b[0mtmin\u001b[0m \u001b[0;34m>\u001b[0m \u001b[0mt\u001b[0m\u001b[0;34m)\u001b[0m\u001b[0;34m:\u001b[0m\u001b[0;34m\u001b[0m\u001b[0;34m\u001b[0m\u001b[0m\n\u001b[1;32m    625\u001b[0m                     \u001b[0;34m[\u001b[0m\u001b[0magent\u001b[0m\u001b[0;34m.\u001b[0m\u001b[0mstep\u001b[0m\u001b[0;34m(\u001b[0m\u001b[0mt\u001b[0m\u001b[0;34m)\u001b[0m \u001b[0;32mfor\u001b[0m \u001b[0magent\u001b[0m \u001b[0;32min\u001b[0m \u001b[0mself\u001b[0m\u001b[0;34m.\u001b[0m\u001b[0magents\u001b[0m\u001b[0;34m]\u001b[0m\u001b[0;34m\u001b[0m\u001b[0;34m\u001b[0m\u001b[0m\n",
      "\u001b[0;32m~/Documents/dev/dust/Projects/ABM_DA/stationsim/stationsim_gcs_model.py\u001b[0m in \u001b[0;36mget_collisionTable\u001b[0;34m(self)\u001b[0m\n\u001b[1;32m    673\u001b[0m \u001b[0;34m\u001b[0m\u001b[0m\n\u001b[1;32m    674\u001b[0m                 \u001b[0;32mfor\u001b[0m \u001b[0mj\u001b[0m \u001b[0;32min\u001b[0m \u001b[0mrange\u001b[0m\u001b[0;34m(\u001b[0m\u001b[0mi\u001b[0m\u001b[0;34m+\u001b[0m\u001b[0;36m1\u001b[0m\u001b[0;34m,\u001b[0m \u001b[0mself\u001b[0m\u001b[0;34m.\u001b[0m\u001b[0mpop_total\u001b[0m\u001b[0;34m)\u001b[0m\u001b[0;34m:\u001b[0m\u001b[0;34m\u001b[0m\u001b[0;34m\u001b[0m\u001b[0m\n\u001b[0;32m--> 675\u001b[0;31m                     \u001b[0;32mif\u001b[0m \u001b[0;34m(\u001b[0m\u001b[0mself\u001b[0m\u001b[0;34m.\u001b[0m\u001b[0magents\u001b[0m\u001b[0;34m[\u001b[0m\u001b[0mj\u001b[0m\u001b[0;34m]\u001b[0m\u001b[0;34m.\u001b[0m\u001b[0mstatus\u001b[0m \u001b[0;34m==\u001b[0m \u001b[0;36m1\u001b[0m\u001b[0;34m)\u001b[0m\u001b[0;34m:\u001b[0m\u001b[0;34m\u001b[0m\u001b[0;34m\u001b[0m\u001b[0m\n\u001b[0m\u001b[1;32m    676\u001b[0m                         \u001b[0mcollisionTime\u001b[0m \u001b[0;34m=\u001b[0m \u001b[0mself\u001b[0m\u001b[0;34m.\u001b[0m\u001b[0magents\u001b[0m\u001b[0;34m[\u001b[0m\u001b[0mi\u001b[0m\u001b[0;34m]\u001b[0m\u001b[0;34m.\u001b[0m\u001b[0;31m\\\u001b[0m\u001b[0;34m\u001b[0m\u001b[0;34m\u001b[0m\u001b[0m\n\u001b[1;32m    677\u001b[0m                             \u001b[0mget_collisionTime2Agents\u001b[0m\u001b[0;34m(\u001b[0m\u001b[0mself\u001b[0m\u001b[0;34m.\u001b[0m\u001b[0magents\u001b[0m\u001b[0;34m[\u001b[0m\u001b[0mj\u001b[0m\u001b[0;34m]\u001b[0m\u001b[0;34m)\u001b[0m\u001b[0;34m\u001b[0m\u001b[0;34m\u001b[0m\u001b[0m\n",
      "\u001b[0;31mKeyboardInterrupt\u001b[0m: "
     ]
    }
   ],
   "source": [
    "# Modeller.run_enkf_benchmark(ensemble_size=100, pop_size=pop_size,\n",
    "#                             exit_randomisation=ExitRandomisation.ALL_RANDOM)"
   ]
  },
  {
   "cell_type": "markdown",
   "metadata": {},
   "source": [
    "### Analysis"
   ]
  },
  {
   "cell_type": "markdown",
   "metadata": {},
   "source": [
    "#### Benchmark"
   ]
  },
  {
   "cell_type": "code",
   "execution_count": null,
   "metadata": {},
   "outputs": [],
   "source": [
    "with open(model_dir + 'baseline_ALL_RANDOM.pkl', 'rb') as f:\n",
    "    baseline_filter = pickle.load(f)\n",
    "\n",
    "baseline_results = pd.DataFrame(baseline_filter.forecast_error)\n",
    "baseline_results.head()"
   ]
  },
  {
   "cell_type": "code",
   "execution_count": null,
   "metadata": {},
   "outputs": [],
   "source": [
    "plt.figure()\n",
    "sns.lineplot(x='time', y='forecast', data=baseline_results)\n",
    "plt.xlabel('Time')\n",
    "plt.ylabel('Mean distance error per agent')\n",
    "plt.savefig(fig_dir + f'baseline_errors_{pop_size}_all_random.pdf')\n",
    "plt.show()"
   ]
  },
  {
   "cell_type": "code",
   "execution_count": null,
   "metadata": {},
   "outputs": [],
   "source": [
    "bm = baseline_filter.base_model\n",
    "vms = baseline_filter.vanilla_models"
   ]
  },
  {
   "cell_type": "code",
   "execution_count": null,
   "metadata": {},
   "outputs": [],
   "source": [
    "out_gates_truth = [agent.gate_out for agent in bm.agents]\n",
    "\n",
    "p = list()\n",
    "\n",
    "for m in vms:\n",
    "    x = [out_gates_truth[i]==agent.gate_out for i, agent in enumerate(m.agents)]\n",
    "    p.append(sum(x) / len(x))       "
   ]
  },
  {
   "cell_type": "code",
   "execution_count": null,
   "metadata": {},
   "outputs": [],
   "source": [
    "plt.figure()\n",
    "plt.hist(p)\n",
    "plt.xlabel('Probabilty of picking the correct gate, p')\n",
    "plt.ylabel('Frequency')\n",
    "plt.savefig(fig_dir + f'benchmark_gates_correct_{pop_size}_{baseline_filter.exit_randomisation.name}.pdf')\n",
    "plt.show()"
   ]
  },
  {
   "cell_type": "code",
   "execution_count": null,
   "metadata": {},
   "outputs": [],
   "source": [
    "del baseline_results\n",
    "del bm\n",
    "del vms\n",
    "gc.collect()"
   ]
  },
  {
   "cell_type": "markdown",
   "metadata": {},
   "source": [
    "## Benchmarking filter without exit gate knowledge"
   ]
  },
  {
   "cell_type": "markdown",
   "metadata": {},
   "source": [
    "Run benchmark:"
   ]
  },
  {
   "cell_type": "code",
   "execution_count": null,
   "metadata": {},
   "outputs": [],
   "source": [
    "# Modeller.run_enkf_benchmark_filter(ensemble_size=100, pop_size=pop_size,\n",
    "#                                    exit_randomisation=ExitRandomisation.BY_AGENT)"
   ]
  },
  {
   "cell_type": "markdown",
   "metadata": {},
   "source": [
    "### Analysis"
   ]
  },
  {
   "cell_type": "markdown",
   "metadata": {},
   "source": [
    "#### Benchmark"
   ]
  },
  {
   "cell_type": "code",
   "execution_count": null,
   "metadata": {},
   "outputs": [],
   "source": [
    "with open(model_dir + 'baseline_filter_BY_AGENT.pkl', 'rb') as f:\n",
    "    baseline_filter = pickle.load(f)\n",
    "\n",
    "baseline_results = pd.DataFrame(baseline_filter.metrics)\n",
    "forecast_results = pd.DataFrame(baseline_filter.forecast_error)"
   ]
  },
  {
   "cell_type": "code",
   "execution_count": null,
   "metadata": {},
   "outputs": [],
   "source": [
    "plt.figure()\n",
    "sns.lineplot(x='time', y='analysis', data=baseline_results, label='analysis')\n",
    "sns.lineplot(x='time', y='forecast', data=baseline_results, label='forecast')\n",
    "plt.xlabel('Time')\n",
    "plt.ylabel('Mean distance error per agent')\n",
    "plt.legend()\n",
    "plt.savefig(fig_dir + f'baseline_errors_{pop_size}_by_agent_filter.pdf')\n",
    "plt.show()"
   ]
  },
  {
   "cell_type": "code",
   "execution_count": null,
   "metadata": {},
   "outputs": [],
   "source": [
    "plt.figure()\n",
    "sns.lineplot(x='time', y='forecast', data=forecast_results, label='all')\n",
    "sns.lineplot(x='time', y='forecast', data=baseline_results, label='assimilation_steps')\n",
    "plt.xlabel('Time')\n",
    "plt.ylabel('Mean distance error per agent')\n",
    "plt.legend()\n",
    "plt.savefig(fig_dir + f'baseline_errors_{pop_size}_by_agent_filter_forecast.pdf')\n",
    "plt.show()"
   ]
  },
  {
   "cell_type": "code",
   "execution_count": null,
   "metadata": {},
   "outputs": [],
   "source": [
    "r_all = baseline_filter.results\n",
    "l = len(r_all)\n",
    "print(l)"
   ]
  },
  {
   "cell_type": "code",
   "execution_count": null,
   "metadata": {},
   "outputs": [],
   "source": [
    "r = r_all[round(l/2)]"
   ]
  },
  {
   "cell_type": "code",
   "execution_count": null,
   "metadata": {},
   "outputs": [],
   "source": [
    "results = list()"
   ]
  },
  {
   "cell_type": "code",
   "execution_count": null,
   "metadata": {},
   "outputs": [],
   "source": [
    "obs = r['observation']\n",
    "obs_xs, obs_ys = baseline_filter.separate_coords(obs)\n",
    "\n",
    "for i in range(len(obs_xs)):\n",
    "    obs_x = {'label': 'observation',\n",
    "             'value_type': 'x',\n",
    "             'agent_id': i,\n",
    "             'value': obs_xs[i]}\n",
    "    obs_y = {'label': 'observation',\n",
    "             'value_type': 'y',\n",
    "             'agent_id': i,\n",
    "             'value': obs_ys[i]}\n",
    "    results.extend([obs_x, obs_y])"
   ]
  },
  {
   "cell_type": "code",
   "execution_count": null,
   "metadata": {},
   "outputs": [],
   "source": [
    "for i in range(100):\n",
    "    prior_label = f'prior_{i}'\n",
    "    prior = r[prior_label]\n",
    "    prior_xs, prior_ys = baseline_filter.separate_coords(prior)\n",
    "    \n",
    "    posterior_label = f'posterior_{i}'\n",
    "    posterior = r[posterior_label]\n",
    "    posterior_xs, posterior_ys = baseline_filter.separate_coords(posterior)\n",
    "    \n",
    "    assert len(prior_xs) == len(prior_ys)\n",
    "    assert len(prior_xs) == len(posterior_xs)\n",
    "    assert len(posterior_xs) == len(posterior_ys)\n",
    "    \n",
    "    population_size = len(prior_xs)\n",
    "        \n",
    "    for j in range(population_size):\n",
    "        \n",
    "        prior_x = {'label': 'prior',\n",
    "                   'value_type': 'x',\n",
    "                   'ensemble_id': i,\n",
    "                   'agent_id': j,\n",
    "                   'value': prior_xs[j]}\n",
    "        prior_y = {'label': 'prior',\n",
    "                   'value_type': 'y',\n",
    "                   'ensemble_id': i,\n",
    "                   'agent_id': j,\n",
    "                   'value': prior_ys[j]}\n",
    "        posterior_x = {'label': 'posterior',\n",
    "                       'value_type': 'x',\n",
    "                       'ensemble_id': i,\n",
    "                       'agent_id': j,\n",
    "                       'value': posterior_xs[j]}\n",
    "        posterior_y = {'label': 'posterior',\n",
    "                       'value_type': 'y',\n",
    "                       'ensemble_id': i,\n",
    "                       'agent_id': j,\n",
    "                       'value': posterior_ys[j]}\n",
    "        results.extend([prior_x, prior_y, posterior_x, posterior_y])"
   ]
  },
  {
   "cell_type": "code",
   "execution_count": null,
   "metadata": {},
   "outputs": [],
   "source": [
    "results = pd.DataFrame(results)\n",
    "results.head()"
   ]
  },
  {
   "cell_type": "code",
   "execution_count": null,
   "metadata": {},
   "outputs": [],
   "source": [
    "for i in range(10):\n",
    "    print(f'Agent {i}')\n",
    "    prior_x_i = results.loc[(results['label']=='prior') & (results['value_type']=='x') & (results['agent_id']==i), :]\n",
    "    posterior_x_i = results.loc[(results['label']=='posterior') & (results['value_type']=='x') & (results['agent_id']==i), :]\n",
    "    prior_y_i = results.loc[(results['label']=='prior') & (results['value_type']=='y') & (results['agent_id']==i), :]\n",
    "    posterior_y_i = results.loc[(results['label']=='posterior') & (results['value_type']=='y') & (results['agent_id']==i), :]\n",
    "    \n",
    "    obs_x_i = results.loc[(results['label']=='observation') & (results['value_type']=='x') & (results['agent_id']==i), :]\n",
    "    obs_y_i = results.loc[(results['label']=='observation') & (results['value_type']=='y') & (results['agent_id']==i), :]\n",
    "    \n",
    "    fig, (ax1, ax2) = plt.subplots(ncols=2, figsize=(12, 6))\n",
    "\n",
    "    sns.kdeplot(x=prior_x_i['value'], label='prior', ax=ax1)\n",
    "    sns.kdeplot(x=posterior_x_i['value'], label='posterior', ax=ax1)    \n",
    "    sns.kdeplot(x=prior_y_i['value'], label='prior', ax=ax2)\n",
    "    sns.kdeplot(x=posterior_y_i['value'], label='posterior', ax=ax2)\n",
    "    \n",
    "    ax1.axvline(obs_x_i['value'].unique()[0], color='black', linestyle='--', label='observation')\n",
    "    ax2.axvline(obs_y_i['value'].unique()[0], color='black', linestyle='--', label='observation')\n",
    "\n",
    "    ax1.legend()\n",
    "    ax1.set_xlabel('x location')\n",
    "    ax2.legend()\n",
    "    ax2.set_xlabel('y location')\n",
    "\n",
    "    plt.savefig(fig_dir + f'benchmark_filter_{pop_size}_by_agent_{i}.pdf')\n",
    "\n",
    "    plt.show()"
   ]
  },
  {
   "cell_type": "code",
   "execution_count": null,
   "metadata": {},
   "outputs": [],
   "source": [
    "bm = baseline_filter.base_model\n",
    "ms = baseline_filter.models"
   ]
  },
  {
   "cell_type": "code",
   "execution_count": null,
   "metadata": {},
   "outputs": [],
   "source": [
    "out_gates_truth = [agent.gate_out for agent in bm.agents]\n",
    "\n",
    "p = list()\n",
    "\n",
    "for m in ms:\n",
    "    x = [out_gates_truth[i]==agent.gate_out for i, agent in enumerate(m.agents)]\n",
    "    p.append(sum(x) / len(x))       "
   ]
  },
  {
   "cell_type": "code",
   "execution_count": null,
   "metadata": {},
   "outputs": [],
   "source": [
    "plt.figure()\n",
    "plt.hist(p)\n",
    "plt.xlabel('Probabilty of picking the correct gate, p')\n",
    "plt.ylabel('Frequency')\n",
    "plt.savefig(fig_dir + f'benchmark_filter_gates_correct_{pop_size}_{baseline_filter.exit_randomisation.name}.pdf')\n",
    "plt.show()"
   ]
  },
  {
   "cell_type": "code",
   "execution_count": null,
   "metadata": {},
   "outputs": [],
   "source": [
    "plt.figure()\n",
    "sns.heatmap(baseline_filter.gain_matrix)\n",
    "plt.savefig(fig_dir + f'benchmark_filter_gain_matrix_{pop_size}_{baseline_filter.exit_randomisation.name}.pdf')\n",
    "plt.show()"
   ]
  },
  {
   "cell_type": "code",
   "execution_count": null,
   "metadata": {},
   "outputs": [],
   "source": [
    "del baseline_results\n",
    "del bm\n",
    "del vms\n",
    "gc.collect()"
   ]
  },
  {
   "cell_type": "markdown",
   "metadata": {},
   "source": [
    "Run benchmark:"
   ]
  },
  {
   "cell_type": "code",
   "execution_count": null,
   "metadata": {},
   "outputs": [],
   "source": [
    "# Modeller.run_enkf_benchmark_filter(ensemble_size=100, pop_size=pop_size,\n",
    "#                                    exit_randomisation=ExitRandomisation.ALL_RANDOM)"
   ]
  },
  {
   "cell_type": "markdown",
   "metadata": {},
   "source": [
    "### Analysis"
   ]
  },
  {
   "cell_type": "markdown",
   "metadata": {},
   "source": [
    "#### Benchmark"
   ]
  },
  {
   "cell_type": "code",
   "execution_count": null,
   "metadata": {},
   "outputs": [],
   "source": [
    "with open(model_dir + 'baseline_filter_ALL_RANDOM.pkl', 'rb') as f:\n",
    "    baseline_filter = pickle.load(f)\n",
    "\n",
    "baseline_results = pd.DataFrame(baseline_filter.metrics)\n",
    "forecast_results = pd.DataFrame(baseline_filter.forecast_error)"
   ]
  },
  {
   "cell_type": "code",
   "execution_count": null,
   "metadata": {},
   "outputs": [],
   "source": [
    "plt.figure()\n",
    "sns.lineplot(x='time', y='analysis', data=baseline_results, label='analysis')\n",
    "sns.lineplot(x='time', y='forecast', data=baseline_results, label='forecast')\n",
    "plt.xlabel('Time')\n",
    "plt.ylabel('Mean distance error per agent')\n",
    "plt.legend()\n",
    "plt.savefig(fig_dir + f'baseline_errors_{pop_size}_all_random_filter.pdf')\n",
    "plt.show()"
   ]
  },
  {
   "cell_type": "code",
   "execution_count": null,
   "metadata": {},
   "outputs": [],
   "source": [
    "plt.figure()\n",
    "sns.lineplot(x='time', y='forecast', data=forecast_results, label='all')\n",
    "sns.lineplot(x='time', y='forecast', data=baseline_results, label='assimilation_steps')\n",
    "plt.xlabel('Time')\n",
    "plt.ylabel('Mean distance error per agent')\n",
    "plt.legend()\n",
    "plt.savefig(fig_dir + f'baseline_errors_{pop_size}_all_random_filter_forecast.pdf')\n",
    "plt.show()"
   ]
  },
  {
   "cell_type": "code",
   "execution_count": null,
   "metadata": {},
   "outputs": [],
   "source": [
    "r_all = baseline_filter.results\n",
    "l = len(r_all)\n",
    "print(l)"
   ]
  },
  {
   "cell_type": "code",
   "execution_count": null,
   "metadata": {},
   "outputs": [],
   "source": [
    "r = r_all[round(l/2)]"
   ]
  },
  {
   "cell_type": "code",
   "execution_count": null,
   "metadata": {},
   "outputs": [],
   "source": [
    "results = list()"
   ]
  },
  {
   "cell_type": "code",
   "execution_count": null,
   "metadata": {},
   "outputs": [],
   "source": [
    "obs = r['observation']\n",
    "obs_xs, obs_ys = baseline_filter.separate_coords(obs)\n",
    "\n",
    "for i in range(len(obs_xs)):\n",
    "    obs_x = {'label': 'observation',\n",
    "             'value_type': 'x',\n",
    "             'agent_id': i,\n",
    "             'value': obs_xs[i]}\n",
    "    obs_y = {'label': 'observation',\n",
    "             'value_type': 'y',\n",
    "             'agent_id': i,\n",
    "             'value': obs_ys[i]}\n",
    "    results.extend([obs_x, obs_y])"
   ]
  },
  {
   "cell_type": "code",
   "execution_count": null,
   "metadata": {},
   "outputs": [],
   "source": [
    "for i in range(100):\n",
    "    prior_label = f'prior_{i}'\n",
    "    prior = r[prior_label]\n",
    "    prior_xs, prior_ys = baseline_filter.separate_coords(prior)\n",
    "    \n",
    "    posterior_label = f'posterior_{i}'\n",
    "    posterior = r[posterior_label]\n",
    "    posterior_xs, posterior_ys = baseline_filter.separate_coords(posterior)\n",
    "    \n",
    "    assert len(prior_xs) == len(prior_ys)\n",
    "    assert len(prior_xs) == len(posterior_xs)\n",
    "    assert len(posterior_xs) == len(posterior_ys)\n",
    "    \n",
    "    population_size = len(prior_xs)\n",
    "        \n",
    "    for j in range(population_size):\n",
    "        \n",
    "        prior_x = {'label': 'prior',\n",
    "                   'value_type': 'x',\n",
    "                   'ensemble_id': i,\n",
    "                   'agent_id': j,\n",
    "                   'value': prior_xs[j]}\n",
    "        prior_y = {'label': 'prior',\n",
    "                   'value_type': 'y',\n",
    "                   'ensemble_id': i,\n",
    "                   'agent_id': j,\n",
    "                   'value': prior_ys[j]}\n",
    "        posterior_x = {'label': 'posterior',\n",
    "                       'value_type': 'x',\n",
    "                       'ensemble_id': i,\n",
    "                       'agent_id': j,\n",
    "                       'value': posterior_xs[j]}\n",
    "        posterior_y = {'label': 'posterior',\n",
    "                       'value_type': 'y',\n",
    "                       'ensemble_id': i,\n",
    "                       'agent_id': j,\n",
    "                       'value': posterior_ys[j]}\n",
    "        results.extend([prior_x, prior_y, posterior_x, posterior_y])"
   ]
  },
  {
   "cell_type": "code",
   "execution_count": null,
   "metadata": {},
   "outputs": [],
   "source": [
    "results = pd.DataFrame(results)\n",
    "results.head()"
   ]
  },
  {
   "cell_type": "code",
   "execution_count": null,
   "metadata": {},
   "outputs": [],
   "source": [
    "for i in range(10):\n",
    "    print(f'Agent {i}')\n",
    "    prior_x_i = results.loc[(results['label']=='prior') & (results['value_type']=='x') & (results['agent_id']==i), :]\n",
    "    posterior_x_i = results.loc[(results['label']=='posterior') & (results['value_type']=='x') & (results['agent_id']==i), :]\n",
    "    prior_y_i = results.loc[(results['label']=='prior') & (results['value_type']=='y') & (results['agent_id']==i), :]\n",
    "    posterior_y_i = results.loc[(results['label']=='posterior') & (results['value_type']=='y') & (results['agent_id']==i), :]\n",
    "    \n",
    "    obs_x_i = results.loc[(results['label']=='observation') & (results['value_type']=='x') & (results['agent_id']==i), :]\n",
    "    obs_y_i = results.loc[(results['label']=='observation') & (results['value_type']=='y') & (results['agent_id']==i), :]\n",
    "    \n",
    "    fig, (ax1, ax2) = plt.subplots(ncols=2, figsize=(12, 6))\n",
    "\n",
    "    sns.kdeplot(x=prior_x_i['value'], label='prior', ax=ax1)\n",
    "    sns.kdeplot(x=posterior_x_i['value'], label='posterior', ax=ax1)    \n",
    "    sns.kdeplot(x=prior_y_i['value'], label='prior', ax=ax2)\n",
    "    sns.kdeplot(x=posterior_y_i['value'], label='posterior', ax=ax2)\n",
    "    \n",
    "    ax1.axvline(obs_x_i['value'].unique()[0], color='black', linestyle='--', label='observation')\n",
    "    ax2.axvline(obs_y_i['value'].unique()[0], color='black', linestyle='--', label='observation')\n",
    "\n",
    "    ax1.legend()\n",
    "    ax1.set_xlabel('x location')\n",
    "    ax2.legend()\n",
    "    ax2.set_xlabel('y location')\n",
    "    \n",
    "    plt.savefig(fig_dir + f'benchmark_filter_{pop_size}_all_random_{i}.pdf')\n",
    "\n",
    "    plt.show()"
   ]
  },
  {
   "cell_type": "code",
   "execution_count": null,
   "metadata": {},
   "outputs": [],
   "source": [
    "bm = baseline_filter.base_model\n",
    "ms = baseline_filter.models"
   ]
  },
  {
   "cell_type": "code",
   "execution_count": null,
   "metadata": {},
   "outputs": [],
   "source": [
    "out_gates_truth = [agent.gate_out for agent in bm.agents]\n",
    "\n",
    "p = list()\n",
    "\n",
    "for m in ms:\n",
    "    x = [out_gates_truth[i]==agent.gate_out for i, agent in enumerate(m.agents)]\n",
    "    p.append(sum(x) / len(x))       "
   ]
  },
  {
   "cell_type": "code",
   "execution_count": null,
   "metadata": {},
   "outputs": [],
   "source": [
    "plt.figure()\n",
    "plt.hist(p)\n",
    "plt.xlabel('Probabilty of picking the correct gate, p')\n",
    "plt.ylabel('Frequency')\n",
    "plt.savefig(fig_dir + f'benchmark_filter_gates_correct_{pop_size}_{baseline_filter.exit_randomisation.name}.pdf')\n",
    "plt.show()"
   ]
  },
  {
   "cell_type": "markdown",
   "metadata": {},
   "source": [
    "TO DO: SORT OUT BINOMIAL ERROR DISTRIBUTION!"
   ]
  },
  {
   "cell_type": "markdown",
   "metadata": {},
   "source": [
    "* $n$: Number of trials\n",
    "* $k$: Number of successes\n",
    "* $p$: Probability of success"
   ]
  },
  {
   "cell_type": "markdown",
   "metadata": {},
   "source": [
    "$$P(X = k) = (n, k) p^k q^{n-k}$$"
   ]
  },
  {
   "cell_type": "code",
   "execution_count": null,
   "metadata": {},
   "outputs": [],
   "source": [
    "plt.figure()\n",
    "sns.heatmap(baseline_filter.gain_matrix)\n",
    "plt.savefig(fig_dir + f'benchmark_filter_gain_matrix_{pop_size}_{baseline_filter.exit_randomisation.name}.pdf')\n",
    "plt.show()"
   ]
  },
  {
   "cell_type": "code",
   "execution_count": null,
   "metadata": {},
   "outputs": [],
   "source": [
    "del baseline_results\n",
    "del bm\n",
    "del vms\n",
    "gc.collect()"
   ]
  }
 ],
 "metadata": {
  "kernelspec": {
   "display_name": "Python 3",
   "language": "python",
   "name": "python3"
  },
  "language_info": {
   "codemirror_mode": {
    "name": "ipython",
    "version": 3
   },
   "file_extension": ".py",
   "mimetype": "text/x-python",
   "name": "python",
   "nbconvert_exporter": "python",
   "pygments_lexer": "ipython3",
   "version": "3.8.3"
  }
 },
 "nbformat": 4,
 "nbformat_minor": 4
}
