{
 "cells": [
  {
   "cell_type": "markdown",
   "metadata": {},
   "source": [
    "# EnKF Experiments - GCS benchmark"
   ]
  },
  {
   "cell_type": "markdown",
   "metadata": {},
   "source": [
    "This notebook consists of experiments undertaken for the benchmarking section of enkf results chapter 3.\n",
    "This chapter focuses on the application of the Ensemble Kalman Filter to scenarios in which we do not know each agent's target destination prior to the beginning of the simulation.\n",
    "In such scenarios, we need to use the Ensemble Kalman Filter to update estimates of both the locational state of each agent in the model and the target destination parameter for each agent.\n",
    "\n",
    "Up to this point, the filter has been used to update estimates of only the location of each of the agents - a problem that is not entirely dissimilar to those to which the Ensemble Kalman Filter is typically applied.\n",
    "In this case, however, the addition of estimating an agent's target destination presents an additional challenge.\n",
    "\n",
    "Choosing a target destination for an agent involves identifying the gate to which the agent should be heading which can be considered a categorical problem.\n",
    "Having identified a gate, we can then allocation a target destination in 2-dimensional real space as a location to which the agent will direct itself."
   ]
  },
  {
   "cell_type": "markdown",
   "metadata": {},
   "source": [
    "## Imports"
   ]
  },
  {
   "cell_type": "code",
   "execution_count": 1,
   "metadata": {},
   "outputs": [],
   "source": [
    "# Imports\n",
    "import gc\n",
    "import matplotlib.pyplot as plt\n",
    "import numpy as np\n",
    "import pandas as pd\n",
    "import pickle\n",
    "import seaborn as sns\n",
    "import sys"
   ]
  },
  {
   "cell_type": "code",
   "execution_count": 2,
   "metadata": {},
   "outputs": [],
   "source": [
    "sys.path.append('../../../../stationsim/')\n",
    "from ensemble_kalman_filter import EnsembleKalmanFilter, AgentIncluder, GateEstimator, ExitRandomisation\n",
    "from stationsim_gcs_model import Model"
   ]
  },
  {
   "cell_type": "code",
   "execution_count": 3,
   "metadata": {},
   "outputs": [],
   "source": [
    "sys.path.append('../')\n",
    "from experiment_utils import Modeller, Processor, Visualiser"
   ]
  },
  {
   "cell_type": "code",
   "execution_count": 4,
   "metadata": {},
   "outputs": [],
   "source": [
    "%matplotlib inline\n",
    "# np.random.seed(42)"
   ]
  },
  {
   "cell_type": "markdown",
   "metadata": {},
   "source": [
    "## Functions"
   ]
  },
  {
   "cell_type": "code",
   "execution_count": 5,
   "metadata": {},
   "outputs": [],
   "source": [
    "def tidy_dataframe(df, independent_col: str, dependent_cols: list):\n",
    "    output = list()\n",
    "    \n",
    "    for _, row in df.iterrows():\n",
    "        for col in dependent_cols:\n",
    "            d = {independent_col: row[independent_col],\n",
    "                 'variable':  col,\n",
    "                 'value': row[col]}\n",
    "            output.append(d)\n",
    "    \n",
    "    output = pd.DataFrame(output)\n",
    "    return output"
   ]
  },
  {
   "cell_type": "code",
   "execution_count": 6,
   "metadata": {},
   "outputs": [],
   "source": [
    "def process_benchmark(model_path, vis=True):\n",
    "    with open(model_path, 'rb') as f:\n",
    "        baseline_filter = pickle.load(f)\n",
    "\n",
    "    baseline_results = pd.DataFrame(baseline_filter.forecast_error)\n",
    "    \n",
    "    pop_size = baseline_filter.base_model.pop_total\n",
    "    ensemble_size = baseline_filter.vanilla_ensemble_size\n",
    "    randomisation = baseline_filter.exit_randomisation.name\n",
    "    \n",
    "    plt.figure()\n",
    "    sns.lineplot(x='time', y='forecast', data=baseline_results)\n",
    "    plt.xlabel('Time')\n",
    "    plt.ylabel('Mean distance error per agent')\n",
    "    plt.ylim((0, 500))\n",
    "    plt.savefig(fig_dir + f'baseline_errors_p{pop_size}_e{ensemble_size}_{randomisation}.pdf')\n",
    "    if vis:\n",
    "        plt.show()\n",
    "    plt.close()\n",
    "    \n",
    "    bm = baseline_filter.base_model\n",
    "    vms = baseline_filter.vanilla_models\n",
    "    \n",
    "    out_gates_truth = [agent.gate_out for agent in bm.agents]\n",
    "\n",
    "    p = list()\n",
    "\n",
    "    for m in vms:\n",
    "        x = [out_gates_truth[i]==agent.gate_out for i, agent in enumerate(m.agents)]\n",
    "        p.append(sum(x) / len(x))       \n",
    "        \n",
    "    s = f'benchmark_gates_correct_p{pop_size}_e{ensemble_size}_{randomisation}.pdf'\n",
    "    plt.figure()\n",
    "    plt.hist(p)\n",
    "    plt.xlabel('Probabilty of picking the correct gate, p')\n",
    "    plt.ylabel('Frequency')\n",
    "    plt.savefig(fig_dir + s)\n",
    "    if vis:\n",
    "        plt.show()\n",
    "    plt.close()"
   ]
  },
  {
   "cell_type": "code",
   "execution_count": 7,
   "metadata": {},
   "outputs": [],
   "source": [
    "def process_filter_benchmark(model_path, vis=True):\n",
    "    with open(model_path, 'rb') as f:\n",
    "        baseline_filter = pickle.load(f)\n",
    "\n",
    "    baseline_results = pd.DataFrame(baseline_filter.metrics)\n",
    "    forecast_results = pd.DataFrame(baseline_filter.forecast_error)\n",
    "    \n",
    "    pop_size = baseline_filter.base_model.pop_total\n",
    "    ensemble_size = baseline_filter.ensemble_size\n",
    "    randomisation = baseline_filter.exit_randomisation.name\n",
    "    \n",
    "    plt.figure()\n",
    "    sns.lineplot(x='time', y='analysis', data=baseline_results, label='analysis')\n",
    "    sns.lineplot(x='time', y='forecast', data=baseline_results, label='forecast')\n",
    "    plt.xlabel('Time')\n",
    "    plt.ylabel('Mean distance error per agent')\n",
    "    plt.ylim(bottom=0)\n",
    "    plt.legend()\n",
    "    plt.savefig(fig_dir + f'filter_baseline_errors_p{pop_size}_e{ensemble_size}_{randomisation}.pdf')\n",
    "    if vis:\n",
    "        plt.show()\n",
    "    plt.close()\n",
    "    \n",
    "    plt.figure()\n",
    "    sns.lineplot(x='time', y='forecast', data=forecast_results, label='all')\n",
    "    sns.lineplot(x='time', y='forecast', data=baseline_results, label='assimilation_steps')\n",
    "    plt.xlabel('Time')\n",
    "    plt.ylabel('Mean distance error per agent')\n",
    "    plt.legend()\n",
    "    plt.savefig(fig_dir + f'filter_baseline_forecast_errors_{pop_size}_{ensemble_size}_{randomisation}.pdf')\n",
    "    if vis:\n",
    "        plt.show()\n",
    "    plt.close()\n",
    "    \n",
    "    r_all = baseline_filter.results\n",
    "    l = len(r_all)\n",
    "    r = r_all[round(l/2)]\n",
    "    results = list()\n",
    "    \n",
    "    obs = r['observation']\n",
    "    obs_xs, obs_ys = baseline_filter.separate_coords(obs)\n",
    "\n",
    "    for i in range(len(obs_xs)):\n",
    "        obs_x = {'label': 'observation',\n",
    "                 'value_type': 'x',\n",
    "                 'agent_id': i,\n",
    "                 'value': obs_xs[i]}\n",
    "        obs_y = {'label': 'observation',\n",
    "                 'value_type': 'y',\n",
    "                 'agent_id': i,\n",
    "                 'value': obs_ys[i]}\n",
    "        results.extend([obs_x, obs_y])\n",
    "    \n",
    "    for i in range(ensemble_size):\n",
    "        prior_label = f'prior_{i}'\n",
    "        prior = r[prior_label]\n",
    "        prior_xs, prior_ys = baseline_filter.separate_coords(prior)\n",
    "\n",
    "        posterior_label = f'posterior_{i}'\n",
    "        posterior = r[posterior_label]\n",
    "        posterior_xs, posterior_ys = baseline_filter.separate_coords(posterior)\n",
    "\n",
    "        assert len(prior_xs) == len(prior_ys)\n",
    "        assert len(prior_xs) == len(posterior_xs)\n",
    "        assert len(posterior_xs) == len(posterior_ys)\n",
    "\n",
    "        population_size = len(prior_xs)\n",
    "\n",
    "        for j in range(population_size):\n",
    "\n",
    "            prior_x = {'label': 'prior',\n",
    "                       'value_type': 'x',\n",
    "                       'ensemble_id': i,\n",
    "                       'agent_id': j,\n",
    "                       'value': prior_xs[j]}\n",
    "            prior_y = {'label': 'prior',\n",
    "                       'value_type': 'y',\n",
    "                       'ensemble_id': i,\n",
    "                       'agent_id': j,\n",
    "                       'value': prior_ys[j]}\n",
    "            posterior_x = {'label': 'posterior',\n",
    "                           'value_type': 'x',\n",
    "                           'ensemble_id': i,\n",
    "                           'agent_id': j,\n",
    "                           'value': posterior_xs[j]}\n",
    "            posterior_y = {'label': 'posterior',\n",
    "                           'value_type': 'y',\n",
    "                           'ensemble_id': i,\n",
    "                           'agent_id': j,\n",
    "                           'value': posterior_ys[j]}\n",
    "            results.extend([prior_x, prior_y, posterior_x, posterior_y])\n",
    "    \n",
    "    results = pd.DataFrame(results)\n",
    "\n",
    "    for i in range(pop_size):\n",
    "        print(f'Agent {i}')\n",
    "        prior_x_i = results.loc[(results['label']=='prior') & (results['value_type']=='x') & (results['agent_id']==i), :]\n",
    "        posterior_x_i = results.loc[(results['label']=='posterior') & (results['value_type']=='x') & (results['agent_id']==i), :]\n",
    "        prior_y_i = results.loc[(results['label']=='prior') & (results['value_type']=='y') & (results['agent_id']==i), :]\n",
    "        posterior_y_i = results.loc[(results['label']=='posterior') & (results['value_type']=='y') & (results['agent_id']==i), :]\n",
    "\n",
    "        obs_x_i = results.loc[(results['label']=='observation') & (results['value_type']=='x') & (results['agent_id']==i), :]\n",
    "        obs_y_i = results.loc[(results['label']=='observation') & (results['value_type']=='y') & (results['agent_id']==i), :]\n",
    "\n",
    "        fig, (ax1, ax2) = plt.subplots(ncols=2, figsize=(12, 6))\n",
    "\n",
    "        ax1.hist(x=prior_x_i['value'], label='prior')\n",
    "        ax1.hist(x=posterior_x_i['value'], label='posterior')    \n",
    "        ax2.hist(x=prior_y_i['value'], label='prior')\n",
    "        ax2.hist(x=posterior_y_i['value'], label='posterior')\n",
    "\n",
    "        ax1.axvline(obs_x_i['value'].unique()[0], color='black', linestyle='--', label='observation')\n",
    "        ax2.axvline(obs_y_i['value'].unique()[0], color='black', linestyle='--', label='observation')\n",
    "\n",
    "        ax1.legend()\n",
    "        ax1.set_ylabel('Frequency')\n",
    "        ax1.set_xlabel('$x$-location')\n",
    "        ax2.legend()\n",
    "        ax2.set_ylabel('Frequency')\n",
    "        ax2.set_xlabel('$y$-location')\n",
    "\n",
    "        plt.savefig(fig_dir + f'filter_benchmark_p{pop_size}_e{ensemble_size}_{randomisation}_{i}.pdf')\n",
    "        \n",
    "        if vis:\n",
    "            plt.show()\n",
    "        plt.close()\n",
    "    \n",
    "    bm = baseline_filter.base_model\n",
    "    ms = baseline_filter.models\n",
    "    \n",
    "    out_gates_truth = [agent.gate_out for agent in bm.agents]\n",
    "\n",
    "    p = list()\n",
    "\n",
    "    for m in ms:\n",
    "        x = [out_gates_truth[i]==agent.gate_out for i, agent in enumerate(m.agents)]\n",
    "        p.append(sum(x) / len(x))       \n",
    "    \n",
    "    plt.figure()\n",
    "    plt.hist(p)\n",
    "    plt.xlabel('Probabilty of picking the correct gate, p')\n",
    "    plt.ylabel('Frequency')\n",
    "    plt.savefig(fig_dir + f'filter_benchmark_gates_correct_p{pop_size}_e{ensemble_size}_{randomisation}.pdf')\n",
    "    if vis:\n",
    "        plt.show()\n",
    "    plt.close()\n",
    "\n",
    "#     print(f'max: {baseline_filter.gain_matrix.max()}, min: {baseline_filter.gain_matrix.min()}')\n",
    "    plt.figure()\n",
    "    sns.heatmap(baseline_filter.gain_matrix, vmin=-0.5, vmax=1, cmap='magma')\n",
    "    plt.savefig(fig_dir + f'filter_benchmark_gain_matrix_p{pop_size}_e{ensemble_size}_{randomisation}.pdf')\n",
    "    if vis:\n",
    "        plt.show()\n",
    "    plt.close()"
   ]
  },
  {
   "cell_type": "markdown",
   "metadata": {},
   "source": [
    "## Data paths"
   ]
  },
  {
   "cell_type": "code",
   "execution_count": 8,
   "metadata": {},
   "outputs": [],
   "source": [
    "data_dir = '../results/data/baseline/'\n",
    "model_dir = '../results/models/baseline/'\n",
    "fig_dir = '../results/figures/baseline/'"
   ]
  },
  {
   "cell_type": "markdown",
   "metadata": {},
   "source": [
    "## Experiment 0 - Baseline"
   ]
  },
  {
   "cell_type": "markdown",
   "metadata": {},
   "source": [
    "Set population size to use for benchmarking:"
   ]
  },
  {
   "cell_type": "code",
   "execution_count": 9,
   "metadata": {},
   "outputs": [],
   "source": [
    "pop_size = 5\n",
    "ensemble_size = 100\n",
    "assimilation_period = 100\n",
    "s=5"
   ]
  },
  {
   "cell_type": "markdown",
   "metadata": {},
   "source": [
    "### Run experiment"
   ]
  },
  {
   "cell_type": "markdown",
   "metadata": {},
   "source": [
    "#### Benchmark"
   ]
  },
  {
   "cell_type": "markdown",
   "metadata": {},
   "source": [
    "Run benchmark:"
   ]
  },
  {
   "cell_type": "code",
   "execution_count": 10,
   "metadata": {},
   "outputs": [],
   "source": [
    "# Modeller.run_enkf_benchmark(ensemble_size=ensemble_size, pop_size=pop_size,\n",
    "#                             exit_randomisation=ExitRandomisation.BY_AGENT)"
   ]
  },
  {
   "cell_type": "markdown",
   "metadata": {},
   "source": [
    "### Analysis"
   ]
  },
  {
   "cell_type": "markdown",
   "metadata": {},
   "source": [
    "#### Benchmark"
   ]
  },
  {
   "cell_type": "code",
   "execution_count": 11,
   "metadata": {},
   "outputs": [],
   "source": [
    "# process_benchmark(model_dir + 'baseline_BY_AGENT.pkl', vis=False)"
   ]
  },
  {
   "cell_type": "code",
   "execution_count": null,
   "metadata": {},
   "outputs": [],
   "source": []
  },
  {
   "cell_type": "code",
   "execution_count": 12,
   "metadata": {},
   "outputs": [],
   "source": [
    "# with open(model_dir + \"baseline_BY_AGENT.pkl\", 'rb') as f:\n",
    "#     e = pickle.load(f)"
   ]
  },
  {
   "cell_type": "code",
   "execution_count": 13,
   "metadata": {},
   "outputs": [],
   "source": [
    "# len(e.vanilla_models)"
   ]
  },
  {
   "cell_type": "code",
   "execution_count": 14,
   "metadata": {},
   "outputs": [],
   "source": [
    "# y = 3\n",
    "\n",
    "# plt.figure()\n",
    "# for _, m in enumerate(e.vanilla_models):\n",
    "#     a = m.agents[y]\n",
    "#     h = a.history_locations\n",
    "#     xs, ys = [h[i][0] for i in range(len(h))], [h[i][1] for i in range(len(h))]\n",
    "#     xs = [x for x in xs if x is not None]\n",
    "#     ys = [y for y in ys if y is not None]\n",
    "#     plt.plot(xs, ys)\n",
    "#     plt.scatter(xs[0], ys[0])\n",
    "\n",
    "# bma = e.base_model.agents[y]\n",
    "# bmh = bma.history_locations\n",
    "# bmxs = [bmh[i][0] for i in range(len(bmh))]\n",
    "# bmxs = [bmx for bmx in bmxs if bmx is not None]\n",
    "# bmys = [bmh[i][1] for i in range(len(bmh))]\n",
    "# bmys = [bmy for bmy in bmys if bmy is not None]\n",
    "\n",
    "# plt.plot(bmxs, bmys, color=\"black\", linewidth=5, label=\"Ground truth\")\n",
    "# plt.scatter(bmxs[0], bmys[0])\n",
    "\n",
    "# plt.legend()\n",
    "\n",
    "# plt.xlim(0, 740)\n",
    "# plt.ylim(0, 700)\n",
    "# plt.xlabel(\"$x$ location\")\n",
    "# plt.ylabel(\"$y$ location\")\n",
    "# plt.savefig(\"baseline_by_agent_trajectories.pdf\")\n",
    "# plt.show()"
   ]
  },
  {
   "cell_type": "code",
   "execution_count": null,
   "metadata": {},
   "outputs": [],
   "source": []
  },
  {
   "cell_type": "code",
   "execution_count": null,
   "metadata": {},
   "outputs": [],
   "source": []
  },
  {
   "cell_type": "markdown",
   "metadata": {},
   "source": [
    "Run benchmark:"
   ]
  },
  {
   "cell_type": "code",
   "execution_count": 15,
   "metadata": {},
   "outputs": [],
   "source": [
    "# Modeller.run_enkf_benchmark(ensemble_size=ensemble_size, pop_size=pop_size,\n",
    "#                             exit_randomisation=ExitRandomisation.ALL_RANDOM)"
   ]
  },
  {
   "cell_type": "markdown",
   "metadata": {},
   "source": [
    "### Analysis"
   ]
  },
  {
   "cell_type": "markdown",
   "metadata": {},
   "source": [
    "#### Benchmark"
   ]
  },
  {
   "cell_type": "code",
   "execution_count": 16,
   "metadata": {},
   "outputs": [],
   "source": [
    "# process_benchmark(model_dir + 'baseline_ALL_RANDOM.pkl', vis=False)"
   ]
  },
  {
   "cell_type": "code",
   "execution_count": null,
   "metadata": {},
   "outputs": [],
   "source": []
  },
  {
   "cell_type": "code",
   "execution_count": null,
   "metadata": {},
   "outputs": [],
   "source": []
  },
  {
   "cell_type": "code",
   "execution_count": null,
   "metadata": {},
   "outputs": [],
   "source": []
  },
  {
   "cell_type": "code",
   "execution_count": 17,
   "metadata": {},
   "outputs": [],
   "source": [
    "# with open(model_dir + \"baseline_ALL_RANDOM.pkl\", 'rb') as f:\n",
    "#         e = pickle.load(f)"
   ]
  },
  {
   "cell_type": "code",
   "execution_count": 18,
   "metadata": {},
   "outputs": [],
   "source": [
    "# len(e.vanilla_models)"
   ]
  },
  {
   "cell_type": "code",
   "execution_count": 19,
   "metadata": {},
   "outputs": [],
   "source": [
    "# y = 3\n",
    "\n",
    "# plt.figure()\n",
    "# for _, m in enumerate(e.vanilla_models):\n",
    "#     a = m.agents[y]\n",
    "#     h = a.history_locations\n",
    "#     xs, ys = [h[i][0] for i in range(len(h))], [h[i][1] for i in range(len(h))]\n",
    "#     xs = [x for x in xs if x is not None]\n",
    "#     ys = [y for y in ys if y is not None]\n",
    "#     plt.plot(xs, ys)\n",
    "#     plt.scatter(xs[0], ys[0])\n",
    "\n",
    "# bma = e.base_model.agents[y]\n",
    "# bmh = bma.history_locations\n",
    "# bmxs = [bmh[i][0] for i in range(len(bmh))]\n",
    "# bmxs = [bmx for bmx in bmxs if bmx is not None]\n",
    "# bmys = [bmh[i][1] for i in range(len(bmh))]\n",
    "# bmys = [bmy for bmy in bmys if bmy is not None]\n",
    "\n",
    "# plt.plot(bmxs, bmys, color=\"black\", linewidth=5, label=\"Ground truth\")\n",
    "# plt.scatter(bmxs[0], bmys[0])\n",
    "\n",
    "# plt.legend()\n",
    "\n",
    "# plt.xlim(0, 740)\n",
    "# plt.ylim(0, 700)\n",
    "# plt.xlabel(\"$x$ location\")\n",
    "# plt.ylabel(\"$y$ location\")\n",
    "# plt.savefig(\"baseline_all_random_trajectories.pdf\")\n",
    "# plt.show()"
   ]
  },
  {
   "cell_type": "markdown",
   "metadata": {},
   "source": [
    "Run benchmark:"
   ]
  },
  {
   "cell_type": "code",
   "execution_count": null,
   "metadata": {},
   "outputs": [],
   "source": []
  },
  {
   "cell_type": "code",
   "execution_count": 20,
   "metadata": {},
   "outputs": [],
   "source": [
    "# Modeller.run_enkf_benchmark(ensemble_size=ensemble_size, pop_size=pop_size,\n",
    "#                             exit_randomisation=ExitRandomisation.ADJACENT)"
   ]
  },
  {
   "cell_type": "markdown",
   "metadata": {},
   "source": [
    "### Analysis"
   ]
  },
  {
   "cell_type": "markdown",
   "metadata": {},
   "source": [
    "#### Benchmark"
   ]
  },
  {
   "cell_type": "code",
   "execution_count": 21,
   "metadata": {},
   "outputs": [],
   "source": [
    "# process_benchmark(model_dir + 'baseline_ADJACENT.pkl', vis=False)"
   ]
  },
  {
   "cell_type": "code",
   "execution_count": null,
   "metadata": {},
   "outputs": [],
   "source": []
  },
  {
   "cell_type": "code",
   "execution_count": null,
   "metadata": {},
   "outputs": [],
   "source": []
  },
  {
   "cell_type": "code",
   "execution_count": null,
   "metadata": {},
   "outputs": [],
   "source": []
  },
  {
   "cell_type": "code",
   "execution_count": 22,
   "metadata": {},
   "outputs": [],
   "source": [
    "# with open(model_dir + \"baseline_ADJACENT.pkl\", 'rb') as f:\n",
    "#         e = pickle.load(f)"
   ]
  },
  {
   "cell_type": "code",
   "execution_count": 23,
   "metadata": {},
   "outputs": [],
   "source": [
    "# len(e.vanilla_models)"
   ]
  },
  {
   "cell_type": "code",
   "execution_count": 24,
   "metadata": {},
   "outputs": [],
   "source": [
    "# y = 0\n",
    "\n",
    "# plt.figure()\n",
    "# for _, m in enumerate(e.vanilla_models):\n",
    "#     a = m.agents[y]\n",
    "#     h = a.history_locations\n",
    "#     xs, ys = [h[i][0] for i in range(len(h))], [h[i][1] for i in range(len(h))]\n",
    "#     xs = [x for x in xs if x is not None]\n",
    "#     ys = [y for y in ys if y is not None]\n",
    "#     plt.plot(xs, ys)\n",
    "#     plt.scatter(xs[0], ys[0])\n",
    "\n",
    "# bma = e.base_model.agents[y]\n",
    "# bmh = bma.history_locations\n",
    "# bmxs = [bmh[i][0] for i in range(len(bmh))]\n",
    "# bmxs = [bmx for bmx in bmxs if bmx is not None]\n",
    "# bmys = [bmh[i][1] for i in range(len(bmh))]\n",
    "# bmys = [bmy for bmy in bmys if bmy is not None]\n",
    "\n",
    "# plt.plot(bmxs, bmys, color=\"black\", linewidth=5, label=\"Ground truth\")\n",
    "# plt.scatter(bmxs[0], bmys[0])\n",
    "\n",
    "# plt.legend()\n",
    "\n",
    "# plt.xlim(0, 740)\n",
    "# plt.ylim(0, 700)\n",
    "# plt.xlabel(\"$x$ location\")\n",
    "# plt.ylabel(\"$y$ location\")\n",
    "# plt.savefig(\"baseline_adjacent_trajectories.pdf\")\n",
    "# plt.show()"
   ]
  },
  {
   "cell_type": "code",
   "execution_count": null,
   "metadata": {},
   "outputs": [],
   "source": []
  },
  {
   "cell_type": "markdown",
   "metadata": {},
   "source": [
    "## Benchmarking filter without exit gate knowledge"
   ]
  },
  {
   "cell_type": "markdown",
   "metadata": {},
   "source": [
    "Run benchmark:"
   ]
  },
  {
   "cell_type": "code",
   "execution_count": 25,
   "metadata": {},
   "outputs": [],
   "source": [
    "# Modeller.run_enkf_benchmark_filter(ensemble_size=ensemble_size, pop_size=pop_size,\n",
    "#                                    assimilation_period=assimilation_period,\n",
    "#                                    obs_noise_std=s,\n",
    "#                                    exit_randomisation=ExitRandomisation.BY_AGENT)"
   ]
  },
  {
   "cell_type": "markdown",
   "metadata": {},
   "source": [
    "### Analysis"
   ]
  },
  {
   "cell_type": "markdown",
   "metadata": {},
   "source": [
    "#### Benchmark"
   ]
  },
  {
   "cell_type": "code",
   "execution_count": 26,
   "metadata": {},
   "outputs": [
    {
     "name": "stdout",
     "output_type": "stream",
     "text": [
      "Agent 0\n",
      "Agent 1\n",
      "Agent 2\n",
      "Agent 3\n",
      "Agent 4\n"
     ]
    }
   ],
   "source": [
    "process_filter_benchmark(model_dir + 'baseline_filter_BY_AGENT.pkl', vis=False)"
   ]
  },
  {
   "cell_type": "code",
   "execution_count": null,
   "metadata": {},
   "outputs": [],
   "source": []
  },
  {
   "cell_type": "code",
   "execution_count": 27,
   "metadata": {},
   "outputs": [],
   "source": [
    "# with open(model_dir + \"baseline_filter_BY_AGENT.pkl\", 'rb') as f:\n",
    "#     e = pickle.load(f)"
   ]
  },
  {
   "cell_type": "code",
   "execution_count": 28,
   "metadata": {},
   "outputs": [],
   "source": [
    "# y = 0\n",
    "\n",
    "# plt.figure()\n",
    "# for _, m in enumerate(e.models):\n",
    "#     a = m.agents[y]\n",
    "#     h = a.history_locations\n",
    "#     xs, ys = [h[i][0] for i in range(len(h))], [h[i][1] for i in range(len(h))]\n",
    "#     xs = [x for x in xs if x is not None]\n",
    "#     ys = [y for y in ys if y is not None]\n",
    "#     plt.plot(xs, ys)\n",
    "#     plt.scatter(xs[0], ys[0])\n",
    "\n",
    "# bma = e.base_model.agents[y]\n",
    "# bmh = bma.history_locations\n",
    "# bmxs = [bmh[i][0] for i in range(len(bmh))]\n",
    "# bmxs = [bmx for bmx in bmxs if bmx is not None]\n",
    "# bmys = [bmh[i][1] for i in range(len(bmh))]\n",
    "# bmys = [bmy for bmy in bmys if bmy is not None]\n",
    "\n",
    "# plt.plot(bmxs, bmys, color=\"black\", linewidth=5, label=\"Ground truth\")\n",
    "# plt.scatter(bmxs[0], bmys[0])\n",
    "\n",
    "# plt.legend()\n",
    "\n",
    "# plt.xlim(0, 740)\n",
    "# plt.ylim(0, 700)\n",
    "# plt.xlabel(\"$x$ location\")\n",
    "# plt.ylabel(\"$y$ location\")\n",
    "# plt.savefig(\"baseline_filter_by_agent_trajectories.pdf\")\n",
    "# plt.show()"
   ]
  },
  {
   "cell_type": "code",
   "execution_count": null,
   "metadata": {},
   "outputs": [],
   "source": []
  },
  {
   "cell_type": "code",
   "execution_count": null,
   "metadata": {},
   "outputs": [],
   "source": []
  },
  {
   "cell_type": "markdown",
   "metadata": {},
   "source": [
    "Run benchmark:"
   ]
  },
  {
   "cell_type": "code",
   "execution_count": 29,
   "metadata": {},
   "outputs": [],
   "source": [
    "# Modeller.run_enkf_benchmark_filter(ensemble_size=ensemble_size, pop_size=pop_size,\n",
    "#                                    assimilation_period=assimilation_period,\n",
    "#                                    obs_noise_std=s,\n",
    "#                                    exit_randomisation=ExitRandomisation.ALL_RANDOM)"
   ]
  },
  {
   "cell_type": "markdown",
   "metadata": {},
   "source": [
    "### Analysis"
   ]
  },
  {
   "cell_type": "markdown",
   "metadata": {},
   "source": [
    "#### Benchmark"
   ]
  },
  {
   "cell_type": "code",
   "execution_count": 30,
   "metadata": {},
   "outputs": [
    {
     "name": "stdout",
     "output_type": "stream",
     "text": [
      "Agent 0\n",
      "Agent 1\n",
      "Agent 2\n",
      "Agent 3\n",
      "Agent 4\n"
     ]
    }
   ],
   "source": [
    "process_filter_benchmark(model_dir + 'baseline_filter_ALL_RANDOM.pkl', vis=False)"
   ]
  },
  {
   "cell_type": "markdown",
   "metadata": {},
   "source": [
    "Run benchmark:"
   ]
  },
  {
   "cell_type": "code",
   "execution_count": null,
   "metadata": {},
   "outputs": [],
   "source": []
  },
  {
   "cell_type": "code",
   "execution_count": null,
   "metadata": {},
   "outputs": [],
   "source": []
  },
  {
   "cell_type": "code",
   "execution_count": 31,
   "metadata": {},
   "outputs": [],
   "source": [
    "# with open(model_dir + \"baseline_filter_ALL_RANDOM.pkl\", 'rb') as f:\n",
    "#     e = pickle.load(f)"
   ]
  },
  {
   "cell_type": "code",
   "execution_count": 32,
   "metadata": {},
   "outputs": [],
   "source": [
    "# y = 3\n",
    "\n",
    "# plt.figure()\n",
    "# for _, m in enumerate(e.models):\n",
    "#     a = m.agents[y]\n",
    "#     h = a.history_locations\n",
    "#     xs, ys = [h[i][0] for i in range(len(h))], [h[i][1] for i in range(len(h))]\n",
    "#     xs = [x for x in xs if x is not None]\n",
    "#     ys = [y for y in ys if y is not None]\n",
    "#     plt.plot(xs, ys)\n",
    "#     plt.scatter(xs[0], ys[0])\n",
    "\n",
    "# bma = e.base_model.agents[y]\n",
    "# bmh = bma.history_locations\n",
    "# bmxs = [bmh[i][0] for i in range(len(bmh))]\n",
    "# bmxs = [bmx for bmx in bmxs if bmx is not None]\n",
    "# bmys = [bmh[i][1] for i in range(len(bmh))]\n",
    "# bmys = [bmy for bmy in bmys if bmy is not None]\n",
    "\n",
    "# plt.plot(bmxs, bmys, color=\"black\", linewidth=5, label=\"Ground truth\")\n",
    "# plt.scatter(bmxs[0], bmys[0])\n",
    "\n",
    "# plt.legend()\n",
    "\n",
    "# plt.xlim(0, 740)\n",
    "# plt.ylim(0, 700)\n",
    "# plt.xlabel(\"$x$ location\")\n",
    "# plt.ylabel(\"$y$ location\")\n",
    "# plt.savefig(\"baseline_filter_all_random_trajectories.pdf\")\n",
    "# plt.show()"
   ]
  },
  {
   "cell_type": "code",
   "execution_count": null,
   "metadata": {},
   "outputs": [],
   "source": []
  },
  {
   "cell_type": "code",
   "execution_count": 33,
   "metadata": {},
   "outputs": [],
   "source": [
    "# Modeller.run_enkf_benchmark_filter(ensemble_size=ensemble_size, pop_size=pop_size,\n",
    "#                                    assimilation_period=assimilation_period,\n",
    "#                                    obs_noise_std=s,\n",
    "#                                    exit_randomisation=ExitRandomisation.ADJACENT)"
   ]
  },
  {
   "cell_type": "markdown",
   "metadata": {},
   "source": [
    "### Analysis"
   ]
  },
  {
   "cell_type": "markdown",
   "metadata": {},
   "source": [
    "#### Benchmark"
   ]
  },
  {
   "cell_type": "code",
   "execution_count": 34,
   "metadata": {},
   "outputs": [
    {
     "name": "stdout",
     "output_type": "stream",
     "text": [
      "Agent 0\n",
      "Agent 1\n",
      "Agent 2\n",
      "Agent 3\n",
      "Agent 4\n"
     ]
    }
   ],
   "source": [
    "process_filter_benchmark(model_dir + 'baseline_filter_ADJACENT.pkl', vis=False)"
   ]
  },
  {
   "cell_type": "code",
   "execution_count": null,
   "metadata": {},
   "outputs": [],
   "source": []
  },
  {
   "cell_type": "code",
   "execution_count": null,
   "metadata": {},
   "outputs": [],
   "source": []
  },
  {
   "cell_type": "code",
   "execution_count": 35,
   "metadata": {},
   "outputs": [],
   "source": [
    "# with open(model_dir + \"baseline_filter_ADJACENT.pkl\", 'rb') as f:\n",
    "#     e = pickle.load(f)"
   ]
  },
  {
   "cell_type": "code",
   "execution_count": 36,
   "metadata": {},
   "outputs": [],
   "source": [
    "# y = 3\n",
    "\n",
    "# plt.figure()\n",
    "# for _, m in enumerate(e.models):\n",
    "#     a = m.agents[y]\n",
    "#     h = a.history_locations\n",
    "#     xs, ys = [h[i][0] for i in range(len(h))], [h[i][1] for i in range(len(h))]\n",
    "#     xs = [x for x in xs if x is not None]\n",
    "#     ys = [y for y in ys if y is not None]\n",
    "#     plt.plot(xs, ys)\n",
    "#     plt.scatter(xs[0], ys[0])\n",
    "\n",
    "# bma = e.base_model.agents[y]\n",
    "# bmh = bma.history_locations\n",
    "# bmxs = [bmh[i][0] for i in range(len(bmh))]\n",
    "# bmxs = [bmx for bmx in bmxs if bmx is not None]\n",
    "# bmys = [bmh[i][1] for i in range(len(bmh))]\n",
    "# bmys = [bmy for bmy in bmys if bmy is not None]\n",
    "\n",
    "# plt.plot(bmxs, bmys, color=\"black\", linewidth=5, label=\"Ground truth\")\n",
    "# plt.scatter(bmxs[0], bmys[0])\n",
    "\n",
    "# plt.legend()\n",
    "\n",
    "# plt.xlim(0, 740)\n",
    "# plt.ylim(0, 700)\n",
    "# plt.xlabel(\"$x$ location\")\n",
    "# plt.ylabel(\"$y$ location\")\n",
    "# plt.savefig(\"baseline_filter_adjacent_trajectories.pdf\")\n",
    "# plt.show()"
   ]
  }
 ],
 "metadata": {
  "kernelspec": {
   "display_name": "Python 3 (ipykernel)",
   "language": "python",
   "name": "python3"
  },
  "language_info": {
   "codemirror_mode": {
    "name": "ipython",
    "version": 3
   },
   "file_extension": ".py",
   "mimetype": "text/x-python",
   "name": "python",
   "nbconvert_exporter": "python",
   "pygments_lexer": "ipython3",
   "version": "3.8.11"
  }
 },
 "nbformat": 4,
 "nbformat_minor": 4
}
