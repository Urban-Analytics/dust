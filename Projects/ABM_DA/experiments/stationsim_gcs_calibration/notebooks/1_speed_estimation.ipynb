{
 "cells": [
  {
   "cell_type": "markdown",
   "metadata": {},
   "source": [
    "# Speed estimation"
   ]
  },
  {
   "cell_type": "markdown",
   "metadata": {},
   "source": [
    "## Setup"
   ]
  },
  {
   "cell_type": "markdown",
   "metadata": {},
   "source": [
    "### Imports"
   ]
  },
  {
   "cell_type": "code",
   "execution_count": 17,
   "metadata": {},
   "outputs": [],
   "source": [
    "import pandas as pd\n",
    "import numpy as np\n",
    "import matplotlib.pyplot as plt\n",
    "import seaborn as sns\n",
    "from math import sqrt\n",
    "\n",
    "%matplotlib inline"
   ]
  },
  {
   "cell_type": "markdown",
   "metadata": {},
   "source": [
    "### Functions"
   ]
  },
  {
   "cell_type": "code",
   "execution_count": 18,
   "metadata": {},
   "outputs": [],
   "source": [
    "def data_checks(df):\n",
    "    print(f'Shape: {df.shape}')\n",
    "    print('Basic info:')\n",
    "    print(df.info())\n",
    "    print('Basic statistical description:')\n",
    "    print(df.describe())"
   ]
  },
  {
   "cell_type": "code",
   "execution_count": 19,
   "metadata": {},
   "outputs": [],
   "source": [
    "def get_distance(x0, y0, x1, y1):\n",
    "    xdiff = x1 - x0\n",
    "    ydiff = y1 - y0\n",
    "    return sqrt(xdiff*xdiff + ydiff*ydiff)"
   ]
  },
  {
   "cell_type": "code",
   "execution_count": 20,
   "metadata": {},
   "outputs": [],
   "source": [
    "def get_speed_profile(x_coordinates, y_coordinates):\n",
    "    assert len(x_coordinates) == len(y_coordinates)\n",
    "    \n",
    "    FRAMES_PER_SECOND = 25\n",
    "    PIXELS_PER_METRE = 14\n",
    "    ratio = FRAMES_PER_SECOND / PIXELS_PER_METRE\n",
    "    \n",
    "    distances = list()\n",
    "    for i in range(len(x_coordinates) - 1):\n",
    "        x0, x1 = x_coordinates[i], x_coordinates[i + 1]\n",
    "        y0, y1 = y_coordinates[i], y_coordinates[i + 1]\n",
    "        distances.append(get_distance(x0, y0, x1, y1))\n",
    "    \n",
    "    speeds = [distance * ratio for distance in distances]\n",
    "    speeds = [speed for speed in speeds if (speed != 0 and speed < 10)]\n",
    "    \n",
    "    total_distance = get_distance(x_coordinates[0], y_coordinates[0],\n",
    "                                  x_coordinates[-1], y_coordinates[-1])\n",
    "    average_speed = ratio * total_distance / (len(x_coordinates) - 1)\n",
    "    \n",
    "    mean_speed = np.mean(speeds)\n",
    "    \n",
    "    return speeds, average_speed, mean_speed"
   ]
  },
  {
   "cell_type": "code",
   "execution_count": 21,
   "metadata": {},
   "outputs": [],
   "source": [
    "def make_hist(data, xlabel):\n",
    "    f = plt.figure()\n",
    "    plt.hist(data, bins=20, density=True)\n",
    "    sns.kdeplot(data)\n",
    "    plt.xlabel(xlabel)\n",
    "    plt.ylabel('Density')\n",
    "    plt.show()\n",
    "    return f"
   ]
  },
  {
   "cell_type": "markdown",
   "metadata": {},
   "source": [
    "### Paths and directories"
   ]
  },
  {
   "cell_type": "code",
   "execution_count": 22,
   "metadata": {},
   "outputs": [],
   "source": [
    "combined_frames_path = '../outputs/combined_frames.csv'"
   ]
  },
  {
   "cell_type": "code",
   "execution_count": 23,
   "metadata": {},
   "outputs": [],
   "source": [
    "fig_dir = '../outputs/figures/speed/'"
   ]
  },
  {
   "cell_type": "markdown",
   "metadata": {},
   "source": [
    "### Read in data"
   ]
  },
  {
   "cell_type": "code",
   "execution_count": 24,
   "metadata": {},
   "outputs": [
    {
     "name": "stdout",
     "output_type": "stream",
     "text": [
      "Shape: (226390, 4)\n",
      "Basic info:\n",
      "<class 'pandas.core.frame.DataFrame'>\n",
      "RangeIndex: 226390 entries, 0 to 226389\n",
      "Data columns (total 4 columns):\n",
      " #   Column        Non-Null Count   Dtype  \n",
      "---  ------        --------------   -----  \n",
      " 0   frame         226390 non-null  int64  \n",
      " 1   pedestrianID  226390 non-null  int64  \n",
      " 2   x             226390 non-null  float64\n",
      " 3   y             226390 non-null  float64\n",
      "dtypes: float64(2), int64(2)\n",
      "memory usage: 6.9 MB\n",
      "None\n",
      "Basic statistical description:\n",
      "               frame   pedestrianID              x              y\n",
      "count  226390.000000  226390.000000  226390.000000  226390.000000\n",
      "mean     2470.663850     155.137179     392.602947     354.959243\n",
      "std      1016.745355      74.562383     180.821820     192.724098\n",
      "min         0.000000       0.000000       0.273183       0.437440\n",
      "25%      1638.000000     100.000000     241.066288     195.457077\n",
      "50%      2390.000000     158.000000     403.850970     356.881671\n",
      "75%      3254.000000     224.000000     535.001010     514.518985\n",
      "max      5687.000000     273.000000     740.906807     700.025809\n"
     ]
    }
   ],
   "source": [
    "data = pd.read_csv(combined_frames_path)\n",
    "data_checks(data)"
   ]
  },
  {
   "cell_type": "markdown",
   "metadata": {},
   "source": [
    "## Analysis"
   ]
  },
  {
   "cell_type": "markdown",
   "metadata": {},
   "source": [
    "### Create speeds for agents"
   ]
  },
  {
   "cell_type": "markdown",
   "metadata": {},
   "source": [
    "Our dataset contiains the $x$-$y$ locations for pedestrians in a series of frames.\n",
    "For each pedestrian, there exist a series of coordinates that collectively form a trajectory which describes the path that he pedestrian takes around the station concourse.\n",
    "Armed with knowledge regarding the the time interval between frames, we can calculate the speed of individual pedestrians."
   ]
  },
  {
   "cell_type": "markdown",
   "metadata": {},
   "source": [
    "For each pedestrian, we have a series of $x$-coordinates and a series of $y$-coordinates:\n",
    "\n",
    "$$p_i = \\{[x_i^0, \\ldots, x_i^{n_i}], [y_i^0 \\ldots, y_i^{n_i}]\\} \\quad \\forall i \\in [0, N]$$\n",
    "\n",
    "where\n",
    "* $p_i$: the observations of the $i$th pedestrian\n",
    "* $x_i^j$: the $i$th pedestrian's $x$-coordinate in the $j$th frame in which the pedestrian appears\n",
    "* $y_i^j$: the $i$th pedestrian's $x$-coordinate in the $j$th frame in which the pedestrian appears\n",
    "* $N$: the number of pedestrians in the system\n",
    "* $n_i$: the number of observations of pedestrian $i$"
   ]
  },
  {
   "cell_type": "code",
   "execution_count": 25,
   "metadata": {},
   "outputs": [],
   "source": [
    "pedestrian_ids = data['pedestrianID'].unique()\n",
    "pedestrian_ids = sorted(pedestrian_ids)"
   ]
  },
  {
   "cell_type": "code",
   "execution_count": 26,
   "metadata": {},
   "outputs": [],
   "source": [
    "pedestrian_trajectories = dict()\n",
    "\n",
    "for pid in pedestrian_ids:\n",
    "    tdf = data.loc[data['pedestrianID']==pid, :]\n",
    "    tdf = tdf.sort_values(by='frame')\n",
    "    d = {'xs': list(tdf['x']),\n",
    "         'ys': list(tdf['y'])}\n",
    "    pedestrian_trajectories[pid] = d"
   ]
  },
  {
   "cell_type": "code",
   "execution_count": 27,
   "metadata": {},
   "outputs": [
    {
     "name": "stdout",
     "output_type": "stream",
     "text": [
      "274\n"
     ]
    }
   ],
   "source": [
    "print(len(pedestrian_trajectories))"
   ]
  },
  {
   "cell_type": "code",
   "execution_count": 28,
   "metadata": {},
   "outputs": [],
   "source": [
    "for trajectory in pedestrian_trajectories.values():\n",
    "    speed, average_speed, mean_speed = get_speed_profile(trajectory['xs'], trajectory['ys'])\n",
    "    trajectory['speed'] = speed\n",
    "    trajectory['average_speed'] = average_speed\n",
    "    trajectory['mean_speed'] = mean_speed"
   ]
  },
  {
   "cell_type": "markdown",
   "metadata": {},
   "source": [
    "### Average pedestrian speeds"
   ]
  },
  {
   "cell_type": "markdown",
   "metadata": {},
   "source": [
    "Total distance between pedestrian's initial position and pedestrian's final position:\n",
    "$$d_i = \\sqrt{(x_i^{n_i} - x_i^0)^2 + (y_i^{n_i} - y_i^0)^2}$$\n",
    "\n",
    "Total time between initial and final observation of $i$th pedestrian in system:\n",
    "$$t_i = n_i$$\n",
    "\n",
    "These distances are calculated in pixels and these times are calculated in number of frames. Consequently they need to be rescaled to metres and seconds based on the following information:\n",
    "* frames per second, $fps = 25$\n",
    "* pixels per metre , $ppm = 14$\n",
    "\n",
    "We can then calculate the average speed of the $i$th pedestrian, $\\bar{v}_i$:\n",
    "$$\\bar{v}_i = r \\times \\frac{d_i}{t_i}$$\n",
    "\n",
    "where $r$ is the rescaling factor:\n",
    "$$r = \\frac{fps}{ppm}$$\n",
    "\n",
    "Based on this, we can produce a histogram showing the distribution of average speeds for all pedestrians."
   ]
  },
  {
   "cell_type": "code",
   "execution_count": 29,
   "metadata": {},
   "outputs": [],
   "source": [
    "# Make list of average speeds, excluding 0s\n",
    "average_speeds = [d['average_speed'] for d in pedestrian_trajectories.values()]\n",
    "average_speeds = [s for s in average_speeds if s != 0]"
   ]
  },
  {
   "cell_type": "code",
   "execution_count": 30,
   "metadata": {},
   "outputs": [
    {
     "data": {
      "text/plain": [
       "0.31125359137714953"
      ]
     },
     "execution_count": 30,
     "metadata": {},
     "output_type": "execute_result"
    }
   ],
   "source": [
    "min(average_speeds)"
   ]
  },
  {
   "cell_type": "code",
   "execution_count": 31,
   "metadata": {},
   "outputs": [
    {
     "name": "stdout",
     "output_type": "stream",
     "text": [
      "Mean: 1.6026400144010877, std: 0.6642343305178546\n"
     ]
    }
   ],
   "source": [
    "print(f'Mean: {np.mean(average_speeds)}, std: {np.std(average_speeds)}')"
   ]
  },
  {
   "cell_type": "code",
   "execution_count": 32,
   "metadata": {},
   "outputs": [
    {
     "data": {
      "image/png": "[encoded data removed]",
      "text/plain": [
       "<Figure size 432x288 with 1 Axes>"
      ]
     },
     "metadata": {
      "needs_background": "light"
     },
     "output_type": "display_data"
    },
    {
     "ename": "FileNotFoundError",
     "evalue": "[Errno 2] No such file or directory: '../outputs/figures/speed/average_speed.pdf'",
     "output_type": "error",
     "traceback": [
      "\u001b[0;31m---------------------------------------------------------------------------\u001b[0m",
      "\u001b[0;31mFileNotFoundError\u001b[0m                         Traceback (most recent call last)",
      "\u001b[0;32m<ipython-input-32-e3dff275d57e>\u001b[0m in \u001b[0;36m<module>\u001b[0;34m\u001b[0m\n\u001b[1;32m      1\u001b[0m \u001b[0mf\u001b[0m \u001b[0;34m=\u001b[0m \u001b[0mmake_hist\u001b[0m\u001b[0;34m(\u001b[0m\u001b[0maverage_speeds\u001b[0m\u001b[0;34m,\u001b[0m \u001b[0;34m'Pedestrian Average Speed, $m s^{-1}$'\u001b[0m\u001b[0;34m)\u001b[0m\u001b[0;34m\u001b[0m\u001b[0;34m\u001b[0m\u001b[0m\n\u001b[0;32m----> 2\u001b[0;31m \u001b[0mf\u001b[0m\u001b[0;34m.\u001b[0m\u001b[0msavefig\u001b[0m\u001b[0;34m(\u001b[0m\u001b[0mfig_dir\u001b[0m \u001b[0;34m+\u001b[0m \u001b[0;34m'average_speed.pdf'\u001b[0m\u001b[0;34m)\u001b[0m\u001b[0;34m\u001b[0m\u001b[0;34m\u001b[0m\u001b[0m\n\u001b[0m",
      "\u001b[0;32m~/miniconda3/envs/dust/lib/python3.8/site-packages/matplotlib/figure.py\u001b[0m in \u001b[0;36msavefig\u001b[0;34m(self, fname, transparent, **kwargs)\u001b[0m\n\u001b[1;32m   2178\u001b[0m             \u001b[0mself\u001b[0m\u001b[0;34m.\u001b[0m\u001b[0mpatch\u001b[0m\u001b[0;34m.\u001b[0m\u001b[0mset_visible\u001b[0m\u001b[0;34m(\u001b[0m\u001b[0mframeon\u001b[0m\u001b[0;34m)\u001b[0m\u001b[0;34m\u001b[0m\u001b[0;34m\u001b[0m\u001b[0m\n\u001b[1;32m   2179\u001b[0m \u001b[0;34m\u001b[0m\u001b[0m\n\u001b[0;32m-> 2180\u001b[0;31m         \u001b[0mself\u001b[0m\u001b[0;34m.\u001b[0m\u001b[0mcanvas\u001b[0m\u001b[0;34m.\u001b[0m\u001b[0mprint_figure\u001b[0m\u001b[0;34m(\u001b[0m\u001b[0mfname\u001b[0m\u001b[0;34m,\u001b[0m \u001b[0;34m**\u001b[0m\u001b[0mkwargs\u001b[0m\u001b[0;34m)\u001b[0m\u001b[0;34m\u001b[0m\u001b[0;34m\u001b[0m\u001b[0m\n\u001b[0m\u001b[1;32m   2181\u001b[0m \u001b[0;34m\u001b[0m\u001b[0m\n\u001b[1;32m   2182\u001b[0m         \u001b[0;32mif\u001b[0m \u001b[0mframeon\u001b[0m\u001b[0;34m:\u001b[0m\u001b[0;34m\u001b[0m\u001b[0;34m\u001b[0m\u001b[0m\n",
      "\u001b[0;32m~/miniconda3/envs/dust/lib/python3.8/site-packages/matplotlib/backend_bases.py\u001b[0m in \u001b[0;36mprint_figure\u001b[0;34m(self, filename, dpi, facecolor, edgecolor, orientation, format, bbox_inches, **kwargs)\u001b[0m\n\u001b[1;32m   2082\u001b[0m \u001b[0;34m\u001b[0m\u001b[0m\n\u001b[1;32m   2083\u001b[0m             \u001b[0;32mtry\u001b[0m\u001b[0;34m:\u001b[0m\u001b[0;34m\u001b[0m\u001b[0;34m\u001b[0m\u001b[0m\n\u001b[0;32m-> 2084\u001b[0;31m                 result = print_method(\n\u001b[0m\u001b[1;32m   2085\u001b[0m                     \u001b[0mfilename\u001b[0m\u001b[0;34m,\u001b[0m\u001b[0;34m\u001b[0m\u001b[0;34m\u001b[0m\u001b[0m\n\u001b[1;32m   2086\u001b[0m                     \u001b[0mdpi\u001b[0m\u001b[0;34m=\u001b[0m\u001b[0mdpi\u001b[0m\u001b[0;34m,\u001b[0m\u001b[0;34m\u001b[0m\u001b[0;34m\u001b[0m\u001b[0m\n",
      "\u001b[0;32m~/miniconda3/envs/dust/lib/python3.8/site-packages/matplotlib/backends/backend_pdf.py\u001b[0m in \u001b[0;36mprint_pdf\u001b[0;34m(self, filename, dpi, bbox_inches_restore, metadata, **kwargs)\u001b[0m\n\u001b[1;32m   2494\u001b[0m             \u001b[0mfile\u001b[0m \u001b[0;34m=\u001b[0m \u001b[0mfilename\u001b[0m\u001b[0;34m.\u001b[0m\u001b[0m_file\u001b[0m\u001b[0;34m\u001b[0m\u001b[0;34m\u001b[0m\u001b[0m\n\u001b[1;32m   2495\u001b[0m         \u001b[0;32melse\u001b[0m\u001b[0;34m:\u001b[0m\u001b[0;34m\u001b[0m\u001b[0;34m\u001b[0m\u001b[0m\n\u001b[0;32m-> 2496\u001b[0;31m             \u001b[0mfile\u001b[0m \u001b[0;34m=\u001b[0m \u001b[0mPdfFile\u001b[0m\u001b[0;34m(\u001b[0m\u001b[0mfilename\u001b[0m\u001b[0;34m,\u001b[0m \u001b[0mmetadata\u001b[0m\u001b[0;34m=\u001b[0m\u001b[0mmetadata\u001b[0m\u001b[0;34m)\u001b[0m\u001b[0;34m\u001b[0m\u001b[0;34m\u001b[0m\u001b[0m\n\u001b[0m\u001b[1;32m   2497\u001b[0m         \u001b[0;32mtry\u001b[0m\u001b[0;34m:\u001b[0m\u001b[0;34m\u001b[0m\u001b[0;34m\u001b[0m\u001b[0m\n\u001b[1;32m   2498\u001b[0m             \u001b[0mfile\u001b[0m\u001b[0;34m.\u001b[0m\u001b[0mnewPage\u001b[0m\u001b[0;34m(\u001b[0m\u001b[0mwidth\u001b[0m\u001b[0;34m,\u001b[0m \u001b[0mheight\u001b[0m\u001b[0;34m)\u001b[0m\u001b[0;34m\u001b[0m\u001b[0;34m\u001b[0m\u001b[0m\n",
      "\u001b[0;32m~/miniconda3/envs/dust/lib/python3.8/site-packages/matplotlib/backends/backend_pdf.py\u001b[0m in \u001b[0;36m__init__\u001b[0;34m(self, filename, metadata)\u001b[0m\n\u001b[1;32m    430\u001b[0m         \u001b[0mself\u001b[0m\u001b[0;34m.\u001b[0m\u001b[0moriginal_file_like\u001b[0m \u001b[0;34m=\u001b[0m \u001b[0;32mNone\u001b[0m\u001b[0;34m\u001b[0m\u001b[0;34m\u001b[0m\u001b[0m\n\u001b[1;32m    431\u001b[0m         \u001b[0mself\u001b[0m\u001b[0;34m.\u001b[0m\u001b[0mtell_base\u001b[0m \u001b[0;34m=\u001b[0m \u001b[0;36m0\u001b[0m\u001b[0;34m\u001b[0m\u001b[0;34m\u001b[0m\u001b[0m\n\u001b[0;32m--> 432\u001b[0;31m         \u001b[0mfh\u001b[0m\u001b[0;34m,\u001b[0m \u001b[0mopened\u001b[0m \u001b[0;34m=\u001b[0m \u001b[0mcbook\u001b[0m\u001b[0;34m.\u001b[0m\u001b[0mto_filehandle\u001b[0m\u001b[0;34m(\u001b[0m\u001b[0mfilename\u001b[0m\u001b[0;34m,\u001b[0m \u001b[0;34m\"wb\"\u001b[0m\u001b[0;34m,\u001b[0m \u001b[0mreturn_opened\u001b[0m\u001b[0;34m=\u001b[0m\u001b[0;32mTrue\u001b[0m\u001b[0;34m)\u001b[0m\u001b[0;34m\u001b[0m\u001b[0;34m\u001b[0m\u001b[0m\n\u001b[0m\u001b[1;32m    433\u001b[0m         \u001b[0;32mif\u001b[0m \u001b[0;32mnot\u001b[0m \u001b[0mopened\u001b[0m\u001b[0;34m:\u001b[0m\u001b[0;34m\u001b[0m\u001b[0;34m\u001b[0m\u001b[0m\n\u001b[1;32m    434\u001b[0m             \u001b[0;32mtry\u001b[0m\u001b[0;34m:\u001b[0m\u001b[0;34m\u001b[0m\u001b[0;34m\u001b[0m\u001b[0m\n",
      "\u001b[0;32m~/miniconda3/envs/dust/lib/python3.8/site-packages/matplotlib/cbook/__init__.py\u001b[0m in \u001b[0;36mto_filehandle\u001b[0;34m(fname, flag, return_opened, encoding)\u001b[0m\n\u001b[1;32m    430\u001b[0m             \u001b[0mfh\u001b[0m \u001b[0;34m=\u001b[0m \u001b[0mbz2\u001b[0m\u001b[0;34m.\u001b[0m\u001b[0mBZ2File\u001b[0m\u001b[0;34m(\u001b[0m\u001b[0mfname\u001b[0m\u001b[0;34m,\u001b[0m \u001b[0mflag\u001b[0m\u001b[0;34m)\u001b[0m\u001b[0;34m\u001b[0m\u001b[0;34m\u001b[0m\u001b[0m\n\u001b[1;32m    431\u001b[0m         \u001b[0;32melse\u001b[0m\u001b[0;34m:\u001b[0m\u001b[0;34m\u001b[0m\u001b[0;34m\u001b[0m\u001b[0m\n\u001b[0;32m--> 432\u001b[0;31m             \u001b[0mfh\u001b[0m \u001b[0;34m=\u001b[0m \u001b[0mopen\u001b[0m\u001b[0;34m(\u001b[0m\u001b[0mfname\u001b[0m\u001b[0;34m,\u001b[0m \u001b[0mflag\u001b[0m\u001b[0;34m,\u001b[0m \u001b[0mencoding\u001b[0m\u001b[0;34m=\u001b[0m\u001b[0mencoding\u001b[0m\u001b[0;34m)\u001b[0m\u001b[0;34m\u001b[0m\u001b[0;34m\u001b[0m\u001b[0m\n\u001b[0m\u001b[1;32m    433\u001b[0m         \u001b[0mopened\u001b[0m \u001b[0;34m=\u001b[0m \u001b[0;32mTrue\u001b[0m\u001b[0;34m\u001b[0m\u001b[0;34m\u001b[0m\u001b[0m\n\u001b[1;32m    434\u001b[0m     \u001b[0;32melif\u001b[0m \u001b[0mhasattr\u001b[0m\u001b[0;34m(\u001b[0m\u001b[0mfname\u001b[0m\u001b[0;34m,\u001b[0m \u001b[0;34m'seek'\u001b[0m\u001b[0;34m)\u001b[0m\u001b[0;34m:\u001b[0m\u001b[0;34m\u001b[0m\u001b[0;34m\u001b[0m\u001b[0m\n",
      "\u001b[0;31mFileNotFoundError\u001b[0m: [Errno 2] No such file or directory: '../outputs/figures/speed/average_speed.pdf'"
     ]
    }
   ],
   "source": [
    "f = make_hist(average_speeds, 'Pedestrian Average Speed, $m s^{-1}$')\n",
    "f.savefig(fig_dir + 'average_speed.pdf')"
   ]
  },
  {
   "cell_type": "markdown",
   "metadata": {},
   "source": [
    "With a mean speed of $1.60$ and a standard deviation of $0.66$ this result is in largely in agreement with average pedestrian speeds observed in the literature [@finnis2006field], particularly when considering speeds observed in similar contexts [@young1999evaluation].\n",
    "There is, however, an issue with this approach: it measures the distance travelled by the pedestrian as a straight-line between the initial location and final location.\n",
    "This assumes that each pedestrian travelled in a straight-line for the entirety of their traversal of the station concourse --- this is rather unlikely.\n",
    "In reality, pedestrians are more likely to have crossed the station from initial location to final location in curve/arc, which would increase the distance travelled by the pedestrian in the time interval for which they are in the observed area."
   ]
  },
  {
   "cell_type": "markdown",
   "metadata": {},
   "source": [
    "The following sections attempt to overcome this issue by considering different approaches to finding the average speed of the pedestrians."
   ]
  },
  {
   "cell_type": "markdown",
   "metadata": {},
   "source": [
    "### All speeds for all pedestrians"
   ]
  },
  {
   "cell_type": "markdown",
   "metadata": {},
   "source": [
    "An alternative approach to exploring the speeds of pedestrians is to consider the instantaneous velocity of a pedestrian from one frame to the next.\n",
    "We can do this by considering the marginal distance travelled between frames; let us consider the distance travelled between the $j$th frame and the $(j+1)$th frame."
   ]
  },
  {
   "cell_type": "markdown",
   "metadata": {},
   "source": [
    "Marginal distance between pedestrian's $j$th position and pedestrian's $(j+1)$th position:\n",
    "$$d_i^j = \\sqrt{(x_i^{j+1} - x_i^j)^2 + (y_i^{j+1} - y_i^j)^2}$$\n",
    "\n",
    "Marginal time between $j$th observation and $(j+1)$th observation of $i$th pedestrian in system:\n",
    "$$t_i = 1$$\n",
    "\n",
    "i.e. 1 frame.\n",
    "\n",
    "Again, these distances and times are calculated in pixels and frames respectively. Consequently they need to be rescaled to metres and seconds based on the following information:\n",
    "* frames per second, $fps = 25$\n",
    "* pixels per metre , $ppm = 14$\n",
    "\n",
    "We can then calculate the instantaneous speed of the $i$th pedestrian in the $j$th observation, $v_i^j$:\n",
    "$$v_i^j = r \\times d_i^j$$\n",
    "\n",
    "where $r$ is the rescaling factor:\n",
    "$$r = \\frac{fps}{ppm}$$\n",
    "\n",
    "We can then construct a list of these speeds for each pedestrian:\n",
    "$$v_i = [v_i^0, \\ldots, v_i^{n_i - 1}]$$\n",
    "\n",
    "Based on this, we can produce a histogram showing the distribution of all instantaneous speeds for all pedestrians."
   ]
  },
  {
   "cell_type": "code",
   "execution_count": null,
   "metadata": {},
   "outputs": [],
   "source": [
    "# Make list of all speeds\n",
    "all_speeds = list()\n",
    "for trajectory in pedestrian_trajectories.values():\n",
    "    all_speeds.extend(trajectory['speed'])"
   ]
  },
  {
   "cell_type": "code",
   "execution_count": null,
   "metadata": {},
   "outputs": [],
   "source": [
    "# Filter for feasible human movement speeds\n",
    "# We shouldn't have anyone moving faster than 10 m/s\n",
    "all_speeds = [s for s in all_speeds if s < 10]"
   ]
  },
  {
   "cell_type": "code",
   "execution_count": null,
   "metadata": {},
   "outputs": [],
   "source": [
    "min(all_speeds)"
   ]
  },
  {
   "cell_type": "code",
   "execution_count": null,
   "metadata": {},
   "outputs": [],
   "source": [
    "f = make_hist(all_speeds, 'Instantaneous Pedestrian Speed, $m s^{-1}$')\n",
    "f.savefig(fig_dir + 'instantaneous_speeds.pdf')"
   ]
  },
  {
   "cell_type": "code",
   "execution_count": null,
   "metadata": {},
   "outputs": [],
   "source": [
    "print(f'Mean: {np.mean(all_speeds)}, Median: {np.median(all_speeds)}')"
   ]
  },
  {
   "cell_type": "markdown",
   "metadata": {},
   "source": [
    "This shows that whilst a substantial proportion of the speeds are in a sensible range (i.e. $< 2 m s^{-1}$), there is also a substantial proportion of the speeds that are $> 2 m s^{-1}$; this is reflected by the median speed of $1.99 m s^{-1}$.\n",
    "This may be a result of the dataset that has been used for this analysis - this dataset contains modifications to the original dataset whereby segments of pedestrian trails are joined together in order to form pedestrian trails that as complete as possible, i.e. as many pedestrians as possible have a full trajectory from an entrance gate to an exit gate.\n",
    "This involves interpolating a pedestrian's path between trail segments, which may require that the pedestrian would have move much faster than typically expected.\n",
    "This may, therefore, artificially introduce some pedestrian movements that are faster than expected."
   ]
  },
  {
   "cell_type": "markdown",
   "metadata": {},
   "source": [
    "### Mean pedestrian speeds"
   ]
  },
  {
   "cell_type": "markdown",
   "metadata": {},
   "source": [
    "An alternative approach to finding a pedestrian's average speed is to consider the list of speeds produced for each pedestrian in the previous section, and find the mean of that list:\n",
    "$$\\bar{v}_i = \\frac{1}{n_i - 1} \\sum_{j=0}^{n_i - 1} v_i^j$$\n",
    "\n",
    "Based on this, we can produce a histogram showing the distribution of average speeds for all pedestrians."
   ]
  },
  {
   "cell_type": "code",
   "execution_count": null,
   "metadata": {},
   "outputs": [],
   "source": [
    "# Make list of average speeds for each pedestrian\n",
    "mean_speeds = [d['mean_speed'] for d in pedestrian_trajectories.values()]"
   ]
  },
  {
   "cell_type": "code",
   "execution_count": null,
   "metadata": {},
   "outputs": [],
   "source": [
    "min(mean_speeds)"
   ]
  },
  {
   "cell_type": "code",
   "execution_count": null,
   "metadata": {},
   "outputs": [],
   "source": [
    "f = make_hist(mean_speeds, 'Pedestrian Average Speed, $m s^{-1}$')\n",
    "f.savefig(fig_dir + 'average_instantaneous_speed.pdf')"
   ]
  },
  {
   "cell_type": "code",
   "execution_count": null,
   "metadata": {},
   "outputs": [],
   "source": [
    "np.mean(mean_speeds)"
   ]
  },
  {
   "cell_type": "code",
   "execution_count": null,
   "metadata": {},
   "outputs": [],
   "source": [
    "np.std(mean_speeds)"
   ]
  },
  {
   "cell_type": "markdown",
   "metadata": {},
   "source": [
    "As with the previous approach, this shows a distribution of pedestrian walking speeds that are typically faster than would be expected (with a mean of $2.63 m s^{-1}$).\n",
    "Once again, this may be a result of the trajectory modification/connection process that the data have undergone.\n",
    "It may, therefore, be worthwhile looking at the original dataset which has not undergone any modifications to join up segments of pedestrian trajectories."
   ]
  }
 ],
 "metadata": {
  "kernelspec": {
   "display_name": "Python 3",
   "language": "python",
   "name": "python3"
  },
  "language_info": {
   "codemirror_mode": {
    "name": "ipython",
    "version": 3
   },
   "file_extension": ".py",
   "mimetype": "text/x-python",
   "name": "python",
   "nbconvert_exporter": "python",
   "pygments_lexer": "ipython3",
   "version": "3.8.3"
  },
  "toc-autonumbering": true
 },
 "nbformat": 4,
 "nbformat_minor": 4
}
