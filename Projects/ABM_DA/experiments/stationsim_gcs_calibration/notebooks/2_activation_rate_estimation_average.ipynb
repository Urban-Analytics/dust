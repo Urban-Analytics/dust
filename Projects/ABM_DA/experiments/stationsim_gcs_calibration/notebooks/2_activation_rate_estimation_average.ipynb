{
 "cells": [
  {
   "cell_type": "markdown",
   "metadata": {},
   "source": [
    "# Activation rate estimation"
   ]
  },
  {
   "cell_type": "markdown",
   "metadata": {},
   "source": [
    "## Setup"
   ]
  },
  {
   "cell_type": "markdown",
   "metadata": {},
   "source": [
    "### Imports"
   ]
  },
  {
   "cell_type": "code",
   "execution_count": 13,
   "metadata": {},
   "outputs": [],
   "source": [
    "import json\n",
    "import pandas as pd\n",
    "import seaborn as sns\n",
    "import matplotlib.pyplot as plt\n",
    "import numpy as np\n",
    "import sys\n",
    "import time\n",
    "\n",
    "%matplotlib inline"
   ]
  },
  {
   "cell_type": "code",
   "execution_count": 14,
   "metadata": {},
   "outputs": [],
   "source": [
    "sys.path.append('../../../stationsim/')\n",
    "from stationsim_gcs_model import Model"
   ]
  },
  {
   "cell_type": "markdown",
   "metadata": {},
   "source": [
    "### Functions"
   ]
  },
  {
   "cell_type": "code",
   "execution_count": 15,
   "metadata": {},
   "outputs": [],
   "source": [
    "def data_checks(df):\n",
    "    print(f'Shape: {df.shape}')\n",
    "    print('Basic info:')\n",
    "    print(df.info())\n",
    "    print('Basic statistical description:')\n",
    "    print(df.describe())"
   ]
  },
  {
   "cell_type": "code",
   "execution_count": 16,
   "metadata": {},
   "outputs": [],
   "source": [
    "def get_number_pedestrians_in_frame(df, frame):\n",
    "    tdf = df.loc[df['frame']==frame, :]\n",
    "    return len(tdf['pedestrianID'].unique())"
   ]
  },
  {
   "cell_type": "code",
   "execution_count": 17,
   "metadata": {},
   "outputs": [],
   "source": [
    "def make_hist(data, xlabel):\n",
    "    plt.figure()\n",
    "    plt.hist(data, bins=20, density=True)\n",
    "    sns.kdeplot(data)\n",
    "    plt.xlabel(xlabel)\n",
    "    plt.ylabel('Density')\n",
    "    plt.show()"
   ]
  },
  {
   "cell_type": "code",
   "execution_count": 18,
   "metadata": {},
   "outputs": [],
   "source": [
    "def __get_error(observed, model, variable):\n",
    "    return observed[variable] - model[variable]"
   ]
  },
  {
   "cell_type": "code",
   "execution_count": 19,
   "metadata": {},
   "outputs": [],
   "source": [
    "def get_error(observed_results, model_results):\n",
    "    n_max_peds = __get_error(observed_results, model_results, 'n_max_active_pop')\n",
    "    t_max_peds = __get_error(observed_results, model_results, 't_max_active_pop')\n",
    "    t_max = __get_error(observed_results, model_results, 't_max')\n",
    "    \n",
    "    results = {'n_max_active_pop': n_max_peds,\n",
    "               't_max_active_pop': t_max_peds,\n",
    "               't_max': t_max,\n",
    "               'rate': model_results['rate']}\n",
    "    return results"
   ]
  },
  {
   "cell_type": "markdown",
   "metadata": {},
   "source": [
    "### Constants"
   ]
  },
  {
   "cell_type": "code",
   "execution_count": 20,
   "metadata": {},
   "outputs": [],
   "source": [
    "IS_INSTANTANEOUS = False"
   ]
  },
  {
   "cell_type": "markdown",
   "metadata": {},
   "source": [
    "### Paths and directories"
   ]
  },
  {
   "cell_type": "code",
   "execution_count": 21,
   "metadata": {},
   "outputs": [],
   "source": [
    "combined_frames_path = '../outputs/combined_frames.csv'"
   ]
  },
  {
   "cell_type": "code",
   "execution_count": 22,
   "metadata": {},
   "outputs": [],
   "source": [
    "fig_dir = '../outputs/figures/activation_rate/'"
   ]
  },
  {
   "cell_type": "code",
   "execution_count": 23,
   "metadata": {},
   "outputs": [],
   "source": [
    "output_data_dir = '../outputs/data/'"
   ]
  },
  {
   "cell_type": "markdown",
   "metadata": {},
   "source": [
    "### Reading in data"
   ]
  },
  {
   "cell_type": "code",
   "execution_count": 24,
   "metadata": {},
   "outputs": [
    {
     "name": "stdout",
     "output_type": "stream",
     "text": [
      "Shape: (226390, 4)\n",
      "Basic info:\n",
      "<class 'pandas.core.frame.DataFrame'>\n",
      "RangeIndex: 226390 entries, 0 to 226389\n",
      "Data columns (total 4 columns):\n",
      " #   Column        Non-Null Count   Dtype  \n",
      "---  ------        --------------   -----  \n",
      " 0   frame         226390 non-null  int64  \n",
      " 1   pedestrianID  226390 non-null  int64  \n",
      " 2   x             226390 non-null  float64\n",
      " 3   y             226390 non-null  float64\n",
      "dtypes: float64(2), int64(2)\n",
      "memory usage: 6.9 MB\n",
      "None\n",
      "Basic statistical description:\n",
      "               frame   pedestrianID              x              y\n",
      "count  226390.000000  226390.000000  226390.000000  226390.000000\n",
      "mean     2470.663850     155.137179     392.602947     354.959243\n",
      "std      1016.745355      74.562383     180.821820     192.724098\n",
      "min         0.000000       0.000000       0.273183       0.437440\n",
      "25%      1638.000000     100.000000     241.066288     195.457077\n",
      "50%      2390.000000     158.000000     403.850970     356.881671\n",
      "75%      3254.000000     224.000000     535.001010     514.518985\n",
      "max      5687.000000     273.000000     740.906807     700.025809\n"
     ]
    }
   ],
   "source": [
    "data = pd.read_csv(combined_frames_path)\n",
    "data_checks(data)"
   ]
  },
  {
   "cell_type": "markdown",
   "metadata": {},
   "source": [
    "## Analysis"
   ]
  },
  {
   "cell_type": "markdown",
   "metadata": {},
   "source": [
    "### Number of pedestrians recorded"
   ]
  },
  {
   "cell_type": "markdown",
   "metadata": {},
   "source": [
    "By considering the unique pedestrian IDs, we can see how many pedestrians pass through the system over the time recorded by the camera."
   ]
  },
  {
   "cell_type": "code",
   "execution_count": 25,
   "metadata": {},
   "outputs": [
    {
     "data": {
      "text/plain": [
       "array([  1,   2,   3,   4,   5,   6,   7,   8,  30,  31,  32,  33,  69,\n",
       "        78,  79,  80,  83,  84,  86,  88,  97, 108, 111, 112, 114, 115,\n",
       "       118, 120, 121, 122, 123, 124, 125, 126, 127, 131, 132, 136, 147,\n",
       "       156, 157, 159, 161, 163, 164, 165, 166, 167, 168, 169, 170, 171,\n",
       "       172, 173, 174, 233, 243, 245, 246, 247, 248, 250, 251, 199, 208,\n",
       "        13,  16,  18,  19,  87,  90,  91,  92,  93,  94,  95, 128, 129,\n",
       "       130, 148, 149, 175, 176, 177, 178, 179, 180, 181, 182, 183, 184,\n",
       "       185, 186, 249, 252, 253, 254, 255, 256, 257, 258, 259, 261, 264,\n",
       "       267,  20,  21,  22,  23,  40,  41,  42,  43,  44,  45,  46,  47,\n",
       "        48,  49,  50, 133, 134, 137, 139, 143, 150, 151, 187, 188, 189,\n",
       "       190, 192, 195, 197, 198, 200, 201, 202, 203, 204, 205, 206, 207,\n",
       "       209, 210, 211, 213, 214, 215, 216, 217, 218, 219, 220, 221, 222,\n",
       "       223, 224, 225, 226, 227, 228, 229, 230, 231, 232, 235, 236, 237,\n",
       "         9,  10,  11,  12,  34,  35,  36,  37,  38,  89, 269, 191, 193,\n",
       "       194, 196, 212, 262, 265, 266, 268, 270, 271, 272, 273,  14,  15,\n",
       "        17,  72,  57,  58,  59,  60,  61,  62,  63,  64,  65,  66,  96,\n",
       "       100, 101, 102, 103, 104, 105, 106, 107, 135, 138, 140, 141, 142,\n",
       "       144, 145, 146, 153, 155, 234, 238, 239, 240, 241, 242, 244,  27,\n",
       "        28,  29,  39,  67,  70,  73,  74,  75,  76,  77, 109, 110, 113,\n",
       "       116, 117, 119, 152, 154, 158, 160, 162, 263,   0,  81,  82,  98,\n",
       "        85,  26,  68,  71, 260,  25,  52,  54,  55,  56,  99,  53,  24,\n",
       "        51])"
      ]
     },
     "execution_count": 25,
     "metadata": {},
     "output_type": "execute_result"
    }
   ],
   "source": [
    "data['pedestrianID'].unique()"
   ]
  },
  {
   "cell_type": "code",
   "execution_count": 26,
   "metadata": {},
   "outputs": [
    {
     "data": {
      "text/plain": [
       "274"
      ]
     },
     "execution_count": 26,
     "metadata": {},
     "output_type": "execute_result"
    }
   ],
   "source": [
    "len(data['pedestrianID'].unique())"
   ]
  },
  {
   "cell_type": "markdown",
   "metadata": {},
   "source": [
    "There are $274$ unique pedestrian IDs, therefore, there are $274$ different pedestrians who pass through the system.\n",
    "This number is may be impacted by the process used to join up partial trajectories."
   ]
  },
  {
   "cell_type": "markdown",
   "metadata": {},
   "source": [
    "### Variation in number of pedestrians in system over time"
   ]
  },
  {
   "cell_type": "code",
   "execution_count": 27,
   "metadata": {},
   "outputs": [
    {
     "name": "stdout",
     "output_type": "stream",
     "text": [
      "Shape: (5688, 2)\n",
      "Basic info:\n",
      "<class 'pandas.core.frame.DataFrame'>\n",
      "RangeIndex: 5688 entries, 0 to 5687\n",
      "Data columns (total 2 columns):\n",
      " #   Column         Non-Null Count  Dtype\n",
      "---  ------         --------------  -----\n",
      " 0   frame          5688 non-null   int64\n",
      " 1   n_pedestrians  5688 non-null   int64\n",
      "dtypes: int64(2)\n",
      "memory usage: 89.0 KB\n",
      "None\n",
      "Basic statistical description:\n",
      "             frame  n_pedestrians\n",
      "count  5688.000000    5688.000000\n",
      "mean   2843.500000      39.801336\n",
      "std    1642.128497      29.983213\n",
      "min       0.000000       1.000000\n",
      "25%    1421.750000       7.000000\n",
      "50%    2843.500000      50.000000\n",
      "75%    4265.250000      69.000000\n",
      "max    5687.000000      85.000000\n"
     ]
    }
   ],
   "source": [
    "frame_numbers = data['frame'].unique()\n",
    "pedestrians_per_frame = list()\n",
    "for frame_number in frame_numbers:\n",
    "    d = {'frame': frame_number,\n",
    "         'n_pedestrians': get_number_pedestrians_in_frame(data, frame_number)}\n",
    "    pedestrians_per_frame.append(d)\n",
    "\n",
    "pedestrians_per_frame = pd.DataFrame(pedestrians_per_frame)\n",
    "data_checks(pedestrians_per_frame)"
   ]
  },
  {
   "cell_type": "code",
   "execution_count": 28,
   "metadata": {},
   "outputs": [
    {
     "data": {
      "image/png": "[encoded data removed]",
      "text/plain": [
       "<Figure size 432x288 with 1 Axes>"
      ]
     },
     "metadata": {
      "needs_background": "light"
     },
     "output_type": "display_data"
    }
   ],
   "source": [
    "plt.figure()\n",
    "sns.lineplot(x='frame', y='n_pedestrians', data=pedestrians_per_frame)\n",
    "plt.axhline(85, linestyle='--', label='max=85')\n",
    "plt.xlabel('Frames')\n",
    "plt.ylabel('Number of pedestrians in observed environment')\n",
    "plt.legend()\n",
    "plt.savefig(fig_dir + 'pedestrians_in_system.pdf')\n",
    "plt.show()"
   ]
  },
  {
   "cell_type": "markdown",
   "metadata": {},
   "source": [
    "#### Rescaling time to seconds"
   ]
  },
  {
   "cell_type": "code",
   "execution_count": 29,
   "metadata": {},
   "outputs": [],
   "source": [
    "pedestrians_per_frame['time'] = pedestrians_per_frame['frame'] / 25"
   ]
  },
  {
   "cell_type": "code",
   "execution_count": 30,
   "metadata": {},
   "outputs": [
    {
     "data": {
      "image/png": "[encoded data removed]",
      "text/plain": [
       "<Figure size 432x288 with 1 Axes>"
      ]
     },
     "metadata": {
      "needs_background": "light"
     },
     "output_type": "display_data"
    }
   ],
   "source": [
    "plt.figure()\n",
    "sns.lineplot(x='time', y='n_pedestrians', data=pedestrians_per_frame)\n",
    "plt.axhline(85, linestyle='--', label='max=85')\n",
    "plt.xlabel('Time, $s$')\n",
    "plt.ylabel('Number of pedestrians in observed environment')\n",
    "plt.legend()\n",
    "plt.savefig(fig_dir + 'pedestrians_in_system_rescaled.pdf')\n",
    "plt.show()"
   ]
  },
  {
   "cell_type": "markdown",
   "metadata": {},
   "source": [
    "### Distribution of number pedestrians"
   ]
  },
  {
   "cell_type": "code",
   "execution_count": 31,
   "metadata": {},
   "outputs": [
    {
     "data": {
      "image/png": "[encoded data removed]",
      "text/plain": [
       "<Figure size 432x288 with 1 Axes>"
      ]
     },
     "metadata": {
      "needs_background": "light"
     },
     "output_type": "display_data"
    }
   ],
   "source": [
    "make_hist(pedestrians_per_frame['n_pedestrians'],\n",
    "          'Number of pedestrians')"
   ]
  },
  {
   "cell_type": "markdown",
   "metadata": {},
   "source": [
    "## Testing with model"
   ]
  },
  {
   "cell_type": "markdown",
   "metadata": {},
   "source": [
    "Having reviewed how the number of pedestrians in the system varies at any given time, we can compare this behaviour wtih the behaviour exhibitted by the model for different activation rates.\n",
    "To do this, we use the other paramters found so far:\n",
    "* Pedestrian speed - `mean`, `std`, `min`\n",
    "* Number of pedestrian in system"
   ]
  },
  {
   "cell_type": "markdown",
   "metadata": {},
   "source": [
    "### Converting units"
   ]
  },
  {
   "cell_type": "markdown",
   "metadata": {},
   "source": [
    "The model is designed to reflect the system on a pixel and frame basis instead of on a metre and second basis.\n",
    "We, therefore, need to rescale pedestrian speeds to `pixels/frame`.\n",
    "This can be achieved by dividing by the scaling factor $\\frac{25}{14}$."
   ]
  },
  {
   "cell_type": "code",
   "execution_count": 32,
   "metadata": {},
   "outputs": [],
   "source": [
    "scaling_factor = 25/14"
   ]
  },
  {
   "cell_type": "code",
   "execution_count": 33,
   "metadata": {},
   "outputs": [
    {
     "data": {
      "text/plain": [
       "{'mean': 0.8974784080646091,\n",
       " 'std': 0.3719712250899986,\n",
       " 'min': 0.17430201117120372}"
      ]
     },
     "execution_count": 33,
     "metadata": {},
     "output_type": "execute_result"
    }
   ],
   "source": [
    "# Average speed\n",
    "average_speed = {'mean': 1.6026400144010877 / scaling_factor,\n",
    "                 'std': 0.6642343305178546 / scaling_factor,\n",
    "                 'min': 0.31125359137714953 / scaling_factor}\n",
    "\n",
    "average_speed"
   ]
  },
  {
   "cell_type": "code",
   "execution_count": 34,
   "metadata": {},
   "outputs": [
    {
     "data": {
      "text/plain": [
       "{'mean': 1.4724611780672652,\n",
       " 'std': 0.3840910582233141,\n",
       " 'min': 0.24985828798185433}"
      ]
     },
     "execution_count": 34,
     "metadata": {},
     "output_type": "execute_result"
    }
   ],
   "source": [
    "# Average instantaneous speed\n",
    "average_instantaneous_speed = {'mean': 2.6293949608344023 / scaling_factor,\n",
    "                               'std': 0.6858768896844895 / scaling_factor,\n",
    "                               'min': 0.4461755142533113 / scaling_factor}\n",
    "\n",
    "average_instantaneous_speed"
   ]
  },
  {
   "cell_type": "code",
   "execution_count": 35,
   "metadata": {},
   "outputs": [],
   "source": [
    "speed = average_instantaneous_speed if IS_INSTANTANEOUS else average_speed"
   ]
  },
  {
   "cell_type": "markdown",
   "metadata": {},
   "source": [
    "### Setting up parameters"
   ]
  },
  {
   "cell_type": "code",
   "execution_count": 36,
   "metadata": {},
   "outputs": [],
   "source": [
    "model_params = {'station': 'Grand_Central',\n",
    "                'speed_mean': speed['mean'],\n",
    "                'speed_std:': speed['std'],\n",
    "                'speed_min': speed['min'],\n",
    "                'step_limit': 20000,\n",
    "                'do_print': False,\n",
    "                'pop_total': 274}"
   ]
  },
  {
   "cell_type": "code",
   "execution_count": 37,
   "metadata": {},
   "outputs": [],
   "source": [
    "activation_rates = [i / 10 for i in range(10, 21)]"
   ]
  },
  {
   "cell_type": "markdown",
   "metadata": {},
   "source": [
    "### Observed values for errors"
   ]
  },
  {
   "cell_type": "markdown",
   "metadata": {},
   "source": [
    "Calculate values from the data for the following:\n",
    "* The maximum number of pedestrian in the system at any one time,\n",
    "* The time at which this maximum occurs, and\n",
    "* The time at which all pedestrians have completed their trajectories."
   ]
  },
  {
   "cell_type": "code",
   "execution_count": 38,
   "metadata": {},
   "outputs": [
    {
     "data": {
      "text/plain": [
       "85"
      ]
     },
     "execution_count": 38,
     "metadata": {},
     "output_type": "execute_result"
    }
   ],
   "source": [
    "# Maximum number of pedestrians in the system at any one time\n",
    "max_n_peds = max(pedestrians_per_frame['n_pedestrians'])\n",
    "max_n_peds"
   ]
  },
  {
   "cell_type": "code",
   "execution_count": 39,
   "metadata": {},
   "outputs": [
    {
     "data": {
      "text/plain": [
       "1454.0"
      ]
     },
     "execution_count": 39,
     "metadata": {},
     "output_type": "execute_result"
    }
   ],
   "source": [
    "# Time at which the maximum number of pedestrians in the sytem occurs\n",
    "max_peds_frames = pedestrians_per_frame.loc[pedestrians_per_frame['n_pedestrians']==max_n_peds, 'frame']\n",
    "t_max_n_peds = np.mean(max_peds_frames)\n",
    "t_max_n_peds"
   ]
  },
  {
   "cell_type": "code",
   "execution_count": 40,
   "metadata": {},
   "outputs": [
    {
     "data": {
      "text/plain": [
       "5687"
      ]
     },
     "execution_count": 40,
     "metadata": {},
     "output_type": "execute_result"
    }
   ],
   "source": [
    "# Time at which all pedestrians have completed their trajectories\n",
    "end_frame = max(pedestrians_per_frame['frame'])\n",
    "end_frame"
   ]
  },
  {
   "cell_type": "code",
   "execution_count": 41,
   "metadata": {},
   "outputs": [
    {
     "data": {
      "text/html": [
       "<div>\n",
       "<style scoped>\n",
       "    .dataframe tbody tr th:only-of-type {\n",
       "        vertical-align: middle;\n",
       "    }\n",
       "\n",
       "    .dataframe tbody tr th {\n",
       "        vertical-align: top;\n",
       "    }\n",
       "\n",
       "    .dataframe thead th {\n",
       "        text-align: right;\n",
       "    }\n",
       "</style>\n",
       "<table border=\"1\" class=\"dataframe\">\n",
       "  <thead>\n",
       "    <tr style=\"text-align: right;\">\n",
       "      <th></th>\n",
       "      <th>frame</th>\n",
       "      <th>n_pedestrians</th>\n",
       "      <th>time</th>\n",
       "    </tr>\n",
       "  </thead>\n",
       "  <tbody>\n",
       "    <tr>\n",
       "      <th>3037</th>\n",
       "      <td>5687</td>\n",
       "      <td>1</td>\n",
       "      <td>227.48</td>\n",
       "    </tr>\n",
       "  </tbody>\n",
       "</table>\n",
       "</div>"
      ],
      "text/plain": [
       "      frame  n_pedestrians    time\n",
       "3037   5687              1  227.48"
      ]
     },
     "execution_count": 41,
     "metadata": {},
     "output_type": "execute_result"
    }
   ],
   "source": [
    "# Show that we don't have multiple pedestrians in the system at this point\n",
    "final_frame = pedestrians_per_frame.loc[pedestrians_per_frame['frame']==end_frame, :]\n",
    "final_frame"
   ]
  },
  {
   "cell_type": "markdown",
   "metadata": {},
   "source": [
    "### Running model to generate results"
   ]
  },
  {
   "cell_type": "code",
   "execution_count": null,
   "metadata": {},
   "outputs": [
    {
     "name": "stdout",
     "output_type": "stream",
     "text": [
      "Running iteration 0 of rate=1.0\n"
     ]
    },
    {
     "name": "stderr",
     "output_type": "stream",
     "text": [
      "../../../stationsim/stationsim_gcs_model.py:602: RuntimeWarning: speed_std: is not a model parameter.\n",
      "  warnings.warn(f'{key} is not a model parameter.',\n"
     ]
    }
   ],
   "source": [
    "results = list()\n",
    "errors = list()\n",
    "run_count = 0\n",
    "\n",
    "data_results = {'n_max_active_pop': max_n_peds,\n",
    "                't_max_active_pop': t_max_n_peds,\n",
    "                't_max': end_frame}\n",
    "\n",
    "for rate in activation_rates:\n",
    "    model_params['birth_rate'] = rate\n",
    "    for i in range(20):\n",
    "        if run_count % 10 == 1:\n",
    "            print('Taking a quick break')\n",
    "            time.sleep(30)\n",
    "        print(f'Running iteration {i} of rate={rate}')\n",
    "        # Run model and collect results\n",
    "        model = Model(**model_params)\n",
    "        \n",
    "        n_max_active_pop = 0\n",
    "        t_max_active_pop = 0\n",
    "        t_max = False\n",
    "        \n",
    "        for _ in range(20000):\n",
    "            model.step()\n",
    "            timestep_results = {'frame': model.step_id,\n",
    "                                'active_pedestrians': model.pop_active,\n",
    "                                'rate': rate}\n",
    "            results.append(timestep_results)\n",
    "            \n",
    "            # Update max_active_pop\n",
    "            if model.pop_active > n_max_active_pop:\n",
    "                n_max_active_pop = model.pop_active\n",
    "                t_max_active_pop = model.step_id\n",
    "            \n",
    "            # get t_max\n",
    "            if not t_max and model.step_id > 1000 and model.pop_active == 1:\n",
    "                t_max = model.step_id\n",
    "\n",
    "        model_results = {'n_max_active_pop': n_max_active_pop,\n",
    "                         't_max_active_pop': t_max_active_pop,\n",
    "                         't_max': t_max,\n",
    "                         'rate': rate}\n",
    "        \n",
    "        model_errors = get_error(data_results, model_results)\n",
    "        errors.append(model_errors)\n",
    "        run_count += 1"
   ]
  },
  {
   "cell_type": "markdown",
   "metadata": {},
   "source": [
    "Number of pedestrians in system over time"
   ]
  },
  {
   "cell_type": "code",
   "execution_count": null,
   "metadata": {},
   "outputs": [],
   "source": [
    "with open(output_data_dir + 'population_trajectories_average.json', 'w') as f:\n",
    "    json.dump(results, f)"
   ]
  },
  {
   "cell_type": "code",
   "execution_count": null,
   "metadata": {},
   "outputs": [],
   "source": [
    "results = pd.DataFrame(results)\n",
    "results.head()"
   ]
  },
  {
   "cell_type": "code",
   "execution_count": null,
   "metadata": {},
   "outputs": [],
   "source": [
    "results['active_pedestrians'].unique()"
   ]
  },
  {
   "cell_type": "markdown",
   "metadata": {},
   "source": [
    "Errors"
   ]
  },
  {
   "cell_type": "code",
   "execution_count": null,
   "metadata": {},
   "outputs": [],
   "source": [
    "with open(output_data_dir + 'errors_average.json', 'w') as f:\n",
    "    json.dump(errors, f)"
   ]
  },
  {
   "cell_type": "code",
   "execution_count": null,
   "metadata": {},
   "outputs": [],
   "source": [
    "errors = pd.DataFrame(errors)\n",
    "errors.head()"
   ]
  },
  {
   "cell_type": "markdown",
   "metadata": {},
   "source": [
    "### Processing results"
   ]
  },
  {
   "cell_type": "markdown",
   "metadata": {},
   "source": [
    "* Facet grid\n",
    "* Each grid element contains a graph of number of pedestrian in the system for a given time; solid line from data, dashed line with CI from simulations"
   ]
  },
  {
   "cell_type": "code",
   "execution_count": null,
   "metadata": {},
   "outputs": [],
   "source": [
    "with open(output_data_dir + 'population_trajectories_average.json', 'r') as f:\n",
    "    results = json.load(f)\n",
    "results = pd.DataFrame(results)\n",
    "results.head()"
   ]
  },
  {
   "cell_type": "code",
   "execution_count": null,
   "metadata": {},
   "outputs": [],
   "source": [
    "with open(output_data_dir + 'errors_average.json', 'r') as f:\n",
    "    errors = json.load(f)\n",
    "errors = pd.DataFrame(errors)\n",
    "errors.head()"
   ]
  },
  {
   "cell_type": "markdown",
   "metadata": {},
   "source": [
    "Filtering out frames from our model results in which there are no active pedestrians."
   ]
  },
  {
   "cell_type": "code",
   "execution_count": null,
   "metadata": {},
   "outputs": [],
   "source": [
    "results = results.loc[results['active_pedestrians']!=0, :]\n",
    "results.head()"
   ]
  },
  {
   "cell_type": "markdown",
   "metadata": {},
   "source": [
    "#### Visualising the number of pedestrians in system"
   ]
  },
  {
   "cell_type": "code",
   "execution_count": null,
   "metadata": {},
   "outputs": [],
   "source": [
    "for rate in activation_rates:\n",
    "    df = results.loc[results['rate']==rate, :]\n",
    "    print(rate, df.shape)\n",
    "    plt.figure(figsize=(8, 6))\n",
    "    sns.lineplot(data=df, x='frame', y='active_pedestrians', label='Model')\n",
    "    sns.lineplot(x='frame', y='n_pedestrians', data=pedestrians_per_frame, label='Data')\n",
    "    plt.axhline(85, linestyle='--', label='max=85')\n",
    "    plt.xlabel('Frames')\n",
    "    plt.ylabel('Number of pedestrians in observed environment')\n",
    "    plt.legend()\n",
    "    plt.title(f'Birth rate = {rate}')\n",
    "    r = str(rate).replace('.', '_')\n",
    "    plt.savefig(fig_dir + f'activation_rate_average_{r}.pdf')\n",
    "    plt.show()"
   ]
  },
  {
   "cell_type": "markdown",
   "metadata": {},
   "source": [
    "#### Visualising errors"
   ]
  },
  {
   "cell_type": "code",
   "execution_count": null,
   "metadata": {},
   "outputs": [],
   "source": [
    "def make_ridge_plot(data, categorical_var, continuous_var):\n",
    "    # Ridge plot for error in t_max\n",
    "    sns.set_theme(rc={'axes.facecolor': (0, 0, 0, 0)})\n",
    "\n",
    "    # Initialise facegrid\n",
    "    g = sns.FacetGrid(data, row=categorical_var, hue=categorical_var,\n",
    "                      aspect=15, height=0.5)\n",
    "\n",
    "    # Draw densities\n",
    "    g.map(sns.kdeplot, continuous_var,\n",
    "          bw_adjust=0.5, clip_on=False,\n",
    "          fill=True, alpha=1, linewidth=1.5)\n",
    "    g.map(sns.kdeplot, continuous_var, clip_on=False, color='w', lw=2, bw_adjust=0.5)\n",
    "    g.map(plt.axhline, y=0, lw=2, clip_on=False)\n",
    "\n",
    "\n",
    "    # Function to label plots\n",
    "    def label(x, color, label):\n",
    "        ax = plt.gca()\n",
    "        ax.text(0, 0.2, label, color=color,\n",
    "                ha='left', va='center', transform=ax.transAxes)\n",
    "\n",
    "\n",
    "    g.map(label, continuous_var)\n",
    "\n",
    "    # Set plots to overlap\n",
    "    g.fig.subplots_adjust(hspace=0.25)\n",
    "\n",
    "    # Remove axes details that don't work with overlap\n",
    "    g.set_titles('')\n",
    "    g.set(yticks=[])\n",
    "    g.despine(bottom=True, left=True)\n",
    "    plt.show()\n",
    "    return g"
   ]
  },
  {
   "cell_type": "code",
   "execution_count": null,
   "metadata": {},
   "outputs": [],
   "source": [
    "f = make_ridge_plot(errors, 'rate', 't_max')"
   ]
  },
  {
   "cell_type": "code",
   "execution_count": null,
   "metadata": {},
   "outputs": [],
   "source": [
    "f.savefig(fig_dir + 't_max_error_average_ridge.pdf')"
   ]
  },
  {
   "cell_type": "code",
   "execution_count": null,
   "metadata": {},
   "outputs": [],
   "source": [
    "plt.figure()\n",
    "plt.axhline(0, linestyle='--')\n",
    "sns.boxplot(x='rate', y='t_max', data=errors)\n",
    "plt.show()\n",
    "plt.savefig(fig_dir + 't_max_error_average_box.pdf')"
   ]
  },
  {
   "cell_type": "code",
   "execution_count": null,
   "metadata": {},
   "outputs": [],
   "source": [
    "f = make_ridge_plot(errors, 'rate', 'n_max_active_pop')"
   ]
  },
  {
   "cell_type": "code",
   "execution_count": null,
   "metadata": {},
   "outputs": [],
   "source": [
    "f.savefig(fig_dir + 'n_max_active_pop_error_average_ridge.pdf')"
   ]
  },
  {
   "cell_type": "code",
   "execution_count": null,
   "metadata": {},
   "outputs": [],
   "source": [
    "plt.figure()\n",
    "plt.axhline(0, linestyle='--')\n",
    "sns.boxplot(x='rate', y='n_max_active_pop', data=errors)\n",
    "plt.show()\n",
    "plt.savefig(fig_dir + 'n_max_active_pop_error_average_box.pdf')"
   ]
  },
  {
   "cell_type": "code",
   "execution_count": null,
   "metadata": {},
   "outputs": [],
   "source": [
    "f = make_ridge_plot(errors, 'rate', 't_max_active_pop')"
   ]
  },
  {
   "cell_type": "code",
   "execution_count": null,
   "metadata": {},
   "outputs": [],
   "source": [
    "f.savefig(fig_dir + 't_max_active_pop_error_average_ridge.pdf')"
   ]
  },
  {
   "cell_type": "code",
   "execution_count": null,
   "metadata": {},
   "outputs": [],
   "source": [
    "plt.figure()\n",
    "plt.axhline(0, linestyle='--')\n",
    "sns.boxplot(x='rate', y='t_max_active_pop', data=errors)\n",
    "plt.show()\n",
    "plt.savefig(fig_dir + 't_max_active_pop_error_average_box.pdf')"
   ]
  }
 ],
 "metadata": {
  "kernelspec": {
   "display_name": "Python 3",
   "language": "python",
   "name": "python3"
  },
  "language_info": {
   "codemirror_mode": {
    "name": "ipython",
    "version": 3
   },
   "file_extension": ".py",
   "mimetype": "text/x-python",
   "name": "python",
   "nbconvert_exporter": "python",
   "pygments_lexer": "ipython3",
   "version": "3.8.3"
  },
  "toc-autonumbering": true
 },
 "nbformat": 4,
 "nbformat_minor": 4
}
