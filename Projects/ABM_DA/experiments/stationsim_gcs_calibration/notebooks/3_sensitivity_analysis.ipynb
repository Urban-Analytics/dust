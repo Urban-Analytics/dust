{
 "cells": [
  {
   "cell_type": "markdown",
   "metadata": {},
   "source": [
    "# Sensitivity analysis"
   ]
  },
  {
   "cell_type": "markdown",
   "metadata": {},
   "source": [
    "## What is sensitivity analysis?"
   ]
  },
  {
   "cell_type": "markdown",
   "metadata": {},
   "source": [
    "Sensitivity analysis is an approach to model analysis which seeks to explore how the model behaviour varies with respect to changes in model parameters.\n",
    "It can be undertaken with a view to different ideas:\n",
    "* We may wish to confirm that the parameter values arrived at through calibration are \"optimal\". Model calibration undertaken via an optimisation seeks to minimise some cost function/error, and in this situation, the introduction of perturbations to these parameter values should result in an increase in this cost function/error - in this situation, sensitivity analysis would consist of instroducing perturbations to the parameter values and exploring how the cost function varies.\n",
    "* We may wish to explore variable importance. We can compare the extent to which model behaviour changes in response to changes in different parameters values, ranking variables based on which induce the greatest changes in model behaviour. In order to explore this, a cost function/error metric would again be required to quantify the behaviour of the model.\n",
    "* We may simply wish to explore the model behaviour. We can explore how the model behaviour changes in response to changes in different parameter values; this could be something more visual."
   ]
  },
  {
   "cell_type": "markdown",
   "metadata": {},
   "source": [
    "We may wish to divide approaches to sensitivity analysis into two categories: local approaches and global approaches.\n",
    "\n",
    "Local approaches seek to quantify the impact of small perturbations in model parameters.\n",
    "A common approach to this is to use a one-factor-at-a-time method (OAT) whereby small perturbations are introduced to one of the model parameters in question whilst keeping all other model parameters the same, allowing us to understand the impact of changes to a model parameter in isolation.\n",
    "This may, however, overlook interactions between model parameters that may lead to non-linear responses in model behaviour.\n",
    "\n",
    "Global approaches focus on much larger ranges of parameter values, seeking to explore how the model behaviour varies in response to changes in the model parameters over all parameter space.\n",
    "Furthermore, this may also explore the response of the system to simultaneous changes in multiple parameter values."
   ]
  },
  {
   "cell_type": "markdown",
   "metadata": {},
   "source": [
    "In this specific case, we wish to explore the sensitivity of the model with respect to the following parameters:\n",
    "* Mean agent speed\n",
    "* Standard deviation of agent speed\n",
    "* Agent activation rate"
   ]
  },
  {
   "cell_type": "markdown",
   "metadata": {},
   "source": [
    "In order to explore the impact of these parameters, we use the following methods:\n",
    "* Visual methods: Plotting heatmap of agent positions aggregated over all frames to show parts of the model environment that are heavily frequented by agents.\n",
    "* Numerical methods:\n",
    "    * Error with respect to maximum number of pedestrians in environment in environment at any given time\n",
    "    * Error with respect to time taken for all pedestrians to complete their journey\n",
    "    * Error with respect to the time at which the maximum number of pedestrians in the system at a given time occurs\n",
    "\n",
    "The visual approach provides us with a qualitative idea of how the model responds to changes in the inputs parameters, whereas the numerical approaches provide us with a quantitative picture."
   ]
  },
  {
   "cell_type": "markdown",
   "metadata": {},
   "source": [
    "## Setup"
   ]
  },
  {
   "cell_type": "markdown",
   "metadata": {},
   "source": [
    "This section seeks to provide the groundwork for the various approaches to sensitivity analysis that will be carried out below.\n",
    "In short, this means:\n",
    "* Importing the required packages/modules,\n",
    "* Defining paths and directories to inputs and outputs,\n",
    "* Defining any constants that may be used over the course of the analysis,\n",
    "* Defining any classes that we may require that aren't defined elsewhere, and\n",
    "* Defining functions that we wish to use."
   ]
  },
  {
   "cell_type": "markdown",
   "metadata": {},
   "source": [
    "### Imports"
   ]
  },
  {
   "cell_type": "markdown",
   "metadata": {},
   "source": [
    "Standard imports:"
   ]
  },
  {
   "cell_type": "code",
   "execution_count": 1,
   "metadata": {},
   "outputs": [],
   "source": [
    "# System and files\n",
    "import json\n",
    "import os\n",
    "import pickle\n",
    "import sys\n",
    "import time\n",
    "from tqdm import tqdm\n",
    "\n",
    "# Data handling\n",
    "import pandas as pd\n",
    "import numpy as np\n",
    "\n",
    "# Vis\n",
    "import matplotlib.pyplot as plt\n",
    "import seaborn as sns\n",
    "\n",
    "%matplotlib inline"
   ]
  },
  {
   "cell_type": "markdown",
   "metadata": {},
   "source": [
    "Add `stationsim` module to path:"
   ]
  },
  {
   "cell_type": "code",
   "execution_count": 2,
   "metadata": {},
   "outputs": [],
   "source": [
    "sys.path.append('../../../stationsim/')"
   ]
  },
  {
   "cell_type": "markdown",
   "metadata": {},
   "source": [
    "Import `stationsim_gcs`:"
   ]
  },
  {
   "cell_type": "code",
   "execution_count": 3,
   "metadata": {},
   "outputs": [],
   "source": [
    "from stationsim_gcs_model import Model"
   ]
  },
  {
   "cell_type": "markdown",
   "metadata": {},
   "source": [
    "### Paths and directories"
   ]
  },
  {
   "cell_type": "code",
   "execution_count": 4,
   "metadata": {},
   "outputs": [],
   "source": [
    "output_data_dir = '../outputs/data/'"
   ]
  },
  {
   "cell_type": "code",
   "execution_count": 5,
   "metadata": {},
   "outputs": [],
   "source": [
    "fig_dir = '../outputs/figures/sensitivity_analysis/'"
   ]
  },
  {
   "cell_type": "code",
   "execution_count": 6,
   "metadata": {},
   "outputs": [],
   "source": [
    "model_dir = '../outputs/models/'"
   ]
  },
  {
   "cell_type": "markdown",
   "metadata": {},
   "source": [
    "### Constants"
   ]
  },
  {
   "cell_type": "markdown",
   "metadata": {},
   "source": [
    "Observed in the previous notebooks"
   ]
  },
  {
   "cell_type": "code",
   "execution_count": 7,
   "metadata": {},
   "outputs": [],
   "source": [
    "# Maximum number of pedestrians in the system at any one time\n",
    "max_n_peds = 85\n",
    "\n",
    "# Time at which the maximum number of pedestrians in the sytem occurs\n",
    "t_max_n_peds = 1454\n",
    "\n",
    "# Time at which all pedestrians have completed their trajectories\n",
    "end_frame = 5687"
   ]
  },
  {
   "cell_type": "markdown",
   "metadata": {},
   "source": [
    "Observed in the previous notebook"
   ]
  },
  {
   "cell_type": "code",
   "execution_count": 8,
   "metadata": {},
   "outputs": [],
   "source": [
    "scaling_factor = 25/14\n",
    "\n",
    "DEFAULT_SPEED_MEAN = 1.6026400144010877 / scaling_factor\n",
    "DEFAULT_SPEED_STD = 0.6642343305178546 / scaling_factor\n",
    "DEFAULT_ACTIVATION_RATE = 1.6"
   ]
  },
  {
   "cell_type": "markdown",
   "metadata": {},
   "source": [
    "Required for running models and testing the outputs"
   ]
  },
  {
   "cell_type": "code",
   "execution_count": 9,
   "metadata": {},
   "outputs": [],
   "source": [
    "base_model_params = {'station': 'Grand_Central',\n",
    "                     'speed_min': 0.31125359137714953 / scaling_factor,\n",
    "                     'step_limit': 20000,\n",
    "                     'do_print': False,\n",
    "                     'pop_total': 274}"
   ]
  },
  {
   "cell_type": "code",
   "execution_count": 10,
   "metadata": {},
   "outputs": [],
   "source": [
    "data_results = {'n_max_active_pop': max_n_peds,\n",
    "                't_max_active_pop': t_max_n_peds,\n",
    "                't_max': end_frame}"
   ]
  },
  {
   "cell_type": "markdown",
   "metadata": {},
   "source": [
    "### Classes"
   ]
  },
  {
   "cell_type": "markdown",
   "metadata": {},
   "source": [
    "### Functions"
   ]
  },
  {
   "cell_type": "code",
   "execution_count": 11,
   "metadata": {},
   "outputs": [],
   "source": [
    "def __get_error(observed, model, variable):\n",
    "    return observed[variable] - model[variable]"
   ]
  },
  {
   "cell_type": "code",
   "execution_count": 12,
   "metadata": {},
   "outputs": [],
   "source": [
    "def get_error(observed_results, model_results):\n",
    "    \"\"\"\n",
    "    Calculate errors given model results and results from data.\n",
    "    \"\"\"\n",
    "    n_max_peds = __get_error(observed_results, model_results, 'n_max_active_pop')\n",
    "    t_max_peds = __get_error(observed_results, model_results, 't_max_active_pop')\n",
    "    t_max = __get_error(observed_results, model_results, 't_max')\n",
    "    \n",
    "    results = {'n_max_active_pop': n_max_peds,\n",
    "               't_max_active_pop': t_max_peds,\n",
    "               't_max': t_max}\n",
    "    return results"
   ]
  },
  {
   "cell_type": "code",
   "execution_count": 13,
   "metadata": {},
   "outputs": [],
   "source": [
    "def run_model_local(model_params, data_results, var):\n",
    "    \"\"\"\n",
    "    Run model, and collect error outputs.\n",
    "    \"\"\"\n",
    "    \n",
    "    model = Model(**model_params)\n",
    "\n",
    "    n_max_active_pop = 0\n",
    "    t_max_active_pop = 0\n",
    "    t_max = False\n",
    "\n",
    "    for _ in range(model.step_limit):\n",
    "        model.step()\n",
    "\n",
    "        # Update max_active_pop\n",
    "        if model.pop_active > n_max_active_pop:\n",
    "            n_max_active_pop = model.pop_active\n",
    "            t_max_active_pop = model.step_id\n",
    "\n",
    "        # get t_max\n",
    "        if not t_max and model.step_id > 1000 and model.pop_active == 1:\n",
    "            t_max = model.step_id\n",
    "\n",
    "    model_results = {'n_max_active_pop': n_max_active_pop,\n",
    "                     't_max_active_pop': t_max_active_pop,\n",
    "                     't_max': t_max}\n",
    "\n",
    "    model_errors = get_error(data_results, model_results)\n",
    "    model_errors[var] = model_params[var]\n",
    "    return model_errors"
   ]
  },
  {
   "cell_type": "code",
   "execution_count": 14,
   "metadata": {},
   "outputs": [],
   "source": [
    "def run_model_global(model_params, data_results):\n",
    "    model = Model(**model_params)\n",
    "\n",
    "    n_max_active_pop = 0\n",
    "    t_max_active_pop = 0\n",
    "    t_max = False\n",
    "\n",
    "    for _ in range(model.step_limit):\n",
    "        model.step()\n",
    "\n",
    "        # Update max_active_pop\n",
    "        if model.pop_active > n_max_active_pop:\n",
    "            n_max_active_pop = model.pop_active\n",
    "            t_max_active_pop = model.step_id\n",
    "\n",
    "        # get t_max\n",
    "        if not t_max and model.step_id > 1000 and model.pop_active == 1:\n",
    "            t_max = model.step_id\n",
    "\n",
    "    model_results = {'n_max_active_pop': n_max_active_pop,\n",
    "                     't_max_active_pop': t_max_active_pop,\n",
    "                     't_max': t_max}\n",
    "\n",
    "    model_errors = get_error(data_results, model_results)\n",
    "    \n",
    "    parameters = ['birth_rate', 'speed_mean', 'speed_std']\n",
    "    for param in parameters:\n",
    "        model_errors[param] = model_params[param]\n",
    "\n",
    "    return model, model_errors"
   ]
  },
  {
   "cell_type": "code",
   "execution_count": 15,
   "metadata": {},
   "outputs": [],
   "source": [
    "def output_model(model, model_number, model_dir, batch):\n",
    "    filepath = f'{model_dir}model_{batch}_{model_number}.pkl'\n",
    "    with open(filepath, 'wb') as f:\n",
    "        pickle.dump(model, f, pickle.HIGHEST_PROTOCOL)"
   ]
  },
  {
   "cell_type": "markdown",
   "metadata": {},
   "source": [
    "## Local analysis"
   ]
  },
  {
   "cell_type": "markdown",
   "metadata": {},
   "source": [
    "For this investigation, local sensitivity analysis will take the form of a one-at-a-time (OAT) approach.\n",
    "This approach consists of identifying the parameters of interest, fixing each of them at the value produced through calibration and perturbing each of them whilst keeping the others constant.\n",
    "This, in effect, allows us to find\n",
    "$$\\left. \\frac{\\partial Y}{\\partial X} \\right|_x$$\n",
    "where $Y$ is the output variable, $X$ is the parameter and $x$ is the specific value of the parameter that has been chosen."
   ]
  },
  {
   "cell_type": "markdown",
   "metadata": {},
   "source": [
    "The parameters of interest for this analysis are\n",
    "* Activation rate,\n",
    "* Mean speed,\n",
    "* Standard deviation of speed.\n",
    "\n",
    "The calibrated values for each of these parameters, along with the value ranges used for each, are outlined in the table below:\n",
    "\n",
    "| Variable        |  Calibrated value  | Minimum value | Maximum value | Step size |\n",
    "|-----------------|:------------------:|:-------------:|:-------------:|:---------:|\n",
    "| Activation rate |       1.6          |      1.4      |     1.8       |    0.04   |\n",
    "| Mean speed      | 0.8974784080646091 |      0.78     |     1.00      |    0.022  |\n",
    "| Std of speed    | 0.3719712250899986 |      0.32     |     0.42      |    0.01   |"
   ]
  },
  {
   "cell_type": "markdown",
   "metadata": {},
   "source": [
    "* 10 runs per parameter set\n",
    "* Results should show how output values vary in response to changes in a single parameter\n",
    "* Run for 10 different values for each parameter\n",
    "* Series of boxplots/ridgeplot to visualise results"
   ]
  },
  {
   "cell_type": "markdown",
   "metadata": {},
   "source": [
    "### Activation rate"
   ]
  },
  {
   "cell_type": "markdown",
   "metadata": {},
   "source": [
    "#### Set up parameter sets"
   ]
  },
  {
   "cell_type": "code",
   "execution_count": 16,
   "metadata": {},
   "outputs": [],
   "source": [
    "# Activation rates\n",
    "activation_rates = np.arange(1.4, 1.81, 0.04)\n",
    "\n",
    "parameter_sets_ar = list()\n",
    "base_model_params_ar = base_model_params.copy()\n",
    "base_model_params_ar['speed_mean'] = DEFAULT_SPEED_MEAN\n",
    "base_model_params_ar['speed_std'] = DEFAULT_SPEED_STD\n",
    "\n",
    "for activation_rate in activation_rates:\n",
    "    d = base_model_params_ar.copy()\n",
    "    d['birth_rate'] = activation_rate\n",
    "    parameter_sets_ar.append(d)"
   ]
  },
  {
   "cell_type": "code",
   "execution_count": 17,
   "metadata": {},
   "outputs": [
    {
     "data": {
      "text/plain": [
       "array([1.4 , 1.44, 1.48, 1.52, 1.56, 1.6 , 1.64, 1.68, 1.72, 1.76, 1.8 ])"
      ]
     },
     "execution_count": 17,
     "metadata": {},
     "output_type": "execute_result"
    }
   ],
   "source": [
    "activation_rates"
   ]
  },
  {
   "cell_type": "markdown",
   "metadata": {},
   "source": [
    "#### Model runs"
   ]
  },
  {
   "cell_type": "markdown",
   "metadata": {},
   "source": [
    "WARNING: THIS CELL MAY TAKE ~5 HOURS TO RUN."
   ]
  },
  {
   "cell_type": "code",
   "execution_count": 19,
   "metadata": {},
   "outputs": [
    {
     "name": "stderr",
     "output_type": "stream",
     "text": [
      "100%|██████████| 11/11 [7:23:19<00:00, 2418.14s/it] \n"
     ]
    }
   ],
   "source": [
    "results_ar = list()\n",
    "\n",
    "run_per_parameter_set = 10\n",
    "total_runs = len(parameter_sets_ar) * run_per_parameter_set\n",
    "\n",
    "for parameter_set in tqdm(parameter_sets_ar):\n",
    "    for _ in range(run_per_parameter_set):\n",
    "        model_results = run_model_local(parameter_set, data_results, 'birth_rate')\n",
    "        results_ar.append(model_results)"
   ]
  },
  {
   "cell_type": "markdown",
   "metadata": {},
   "source": [
    "#### Data handling"
   ]
  },
  {
   "cell_type": "markdown",
   "metadata": {},
   "source": [
    "Convert to pandas dataframe"
   ]
  },
  {
   "cell_type": "code",
   "execution_count": 20,
   "metadata": {},
   "outputs": [
    {
     "data": {
      "text/html": [
       "<div>\n",
       "<style scoped>\n",
       "    .dataframe tbody tr th:only-of-type {\n",
       "        vertical-align: middle;\n",
       "    }\n",
       "\n",
       "    .dataframe tbody tr th {\n",
       "        vertical-align: top;\n",
       "    }\n",
       "\n",
       "    .dataframe thead th {\n",
       "        text-align: right;\n",
       "    }\n",
       "</style>\n",
       "<table border=\"1\" class=\"dataframe\">\n",
       "  <thead>\n",
       "    <tr style=\"text-align: right;\">\n",
       "      <th></th>\n",
       "      <th>n_max_active_pop</th>\n",
       "      <th>t_max_active_pop</th>\n",
       "      <th>t_max</th>\n",
       "      <th>birth_rate</th>\n",
       "    </tr>\n",
       "  </thead>\n",
       "  <tbody>\n",
       "    <tr>\n",
       "      <th>0</th>\n",
       "      <td>5</td>\n",
       "      <td>-2190</td>\n",
       "      <td>-1550</td>\n",
       "      <td>1.4</td>\n",
       "    </tr>\n",
       "    <tr>\n",
       "      <th>1</th>\n",
       "      <td>15</td>\n",
       "      <td>-1905</td>\n",
       "      <td>-2018</td>\n",
       "      <td>1.4</td>\n",
       "    </tr>\n",
       "    <tr>\n",
       "      <th>2</th>\n",
       "      <td>2</td>\n",
       "      <td>-1744</td>\n",
       "      <td>-3213</td>\n",
       "      <td>1.4</td>\n",
       "    </tr>\n",
       "    <tr>\n",
       "      <th>3</th>\n",
       "      <td>3</td>\n",
       "      <td>-2065</td>\n",
       "      <td>-1669</td>\n",
       "      <td>1.4</td>\n",
       "    </tr>\n",
       "    <tr>\n",
       "      <th>4</th>\n",
       "      <td>6</td>\n",
       "      <td>-1673</td>\n",
       "      <td>-2351</td>\n",
       "      <td>1.4</td>\n",
       "    </tr>\n",
       "  </tbody>\n",
       "</table>\n",
       "</div>"
      ],
      "text/plain": [
       "   n_max_active_pop  t_max_active_pop  t_max  birth_rate\n",
       "0                 5             -2190  -1550         1.4\n",
       "1                15             -1905  -2018         1.4\n",
       "2                 2             -1744  -3213         1.4\n",
       "3                 3             -2065  -1669         1.4\n",
       "4                 6             -1673  -2351         1.4"
      ]
     },
     "execution_count": 20,
     "metadata": {},
     "output_type": "execute_result"
    }
   ],
   "source": [
    "results_ar = pd.DataFrame(results_ar)\n",
    "results_ar.head()"
   ]
  },
  {
   "cell_type": "markdown",
   "metadata": {},
   "source": [
    "Write data to csv"
   ]
  },
  {
   "cell_type": "code",
   "execution_count": 21,
   "metadata": {},
   "outputs": [],
   "source": [
    "results_ar.to_csv(output_data_dir + 'local_ar.csv', index=False)"
   ]
  },
  {
   "cell_type": "code",
   "execution_count": 22,
   "metadata": {},
   "outputs": [
    {
     "data": {
      "text/html": [
       "<div>\n",
       "<style scoped>\n",
       "    .dataframe tbody tr th:only-of-type {\n",
       "        vertical-align: middle;\n",
       "    }\n",
       "\n",
       "    .dataframe tbody tr th {\n",
       "        vertical-align: top;\n",
       "    }\n",
       "\n",
       "    .dataframe thead th {\n",
       "        text-align: right;\n",
       "    }\n",
       "</style>\n",
       "<table border=\"1\" class=\"dataframe\">\n",
       "  <thead>\n",
       "    <tr style=\"text-align: right;\">\n",
       "      <th></th>\n",
       "      <th>n_max_active_pop</th>\n",
       "      <th>t_max_active_pop</th>\n",
       "      <th>t_max</th>\n",
       "      <th>birth_rate</th>\n",
       "    </tr>\n",
       "  </thead>\n",
       "  <tbody>\n",
       "    <tr>\n",
       "      <th>0</th>\n",
       "      <td>5</td>\n",
       "      <td>-2190</td>\n",
       "      <td>-1550</td>\n",
       "      <td>1.4</td>\n",
       "    </tr>\n",
       "    <tr>\n",
       "      <th>1</th>\n",
       "      <td>15</td>\n",
       "      <td>-1905</td>\n",
       "      <td>-2018</td>\n",
       "      <td>1.4</td>\n",
       "    </tr>\n",
       "    <tr>\n",
       "      <th>2</th>\n",
       "      <td>2</td>\n",
       "      <td>-1744</td>\n",
       "      <td>-3213</td>\n",
       "      <td>1.4</td>\n",
       "    </tr>\n",
       "    <tr>\n",
       "      <th>3</th>\n",
       "      <td>3</td>\n",
       "      <td>-2065</td>\n",
       "      <td>-1669</td>\n",
       "      <td>1.4</td>\n",
       "    </tr>\n",
       "    <tr>\n",
       "      <th>4</th>\n",
       "      <td>6</td>\n",
       "      <td>-1673</td>\n",
       "      <td>-2351</td>\n",
       "      <td>1.4</td>\n",
       "    </tr>\n",
       "  </tbody>\n",
       "</table>\n",
       "</div>"
      ],
      "text/plain": [
       "   n_max_active_pop  t_max_active_pop  t_max  birth_rate\n",
       "0                 5             -2190  -1550         1.4\n",
       "1                15             -1905  -2018         1.4\n",
       "2                 2             -1744  -3213         1.4\n",
       "3                 3             -2065  -1669         1.4\n",
       "4                 6             -1673  -2351         1.4"
      ]
     },
     "execution_count": 22,
     "metadata": {},
     "output_type": "execute_result"
    }
   ],
   "source": [
    "results_ar = pd.read_csv(output_data_dir + 'local_ar.csv')\n",
    "results_ar.head()"
   ]
  },
  {
   "cell_type": "markdown",
   "metadata": {},
   "source": [
    "#### Visualisation"
   ]
  },
  {
   "cell_type": "code",
   "execution_count": 24,
   "metadata": {},
   "outputs": [
    {
     "data": {
      "image/png": "[encoded data removed]",
      "text/plain": [
       "<Figure size 432x288 with 1 Axes>"
      ]
     },
     "metadata": {
      "needs_background": "light"
     },
     "output_type": "display_data"
    }
   ],
   "source": [
    "plt.figure()\n",
    "sns.boxplot(x='birth_rate', y='n_max_active_pop', data=results_ar)\n",
    "plt.savefig(fig_dir + 'local/ar_n_max_pop.pdf')\n",
    "plt.show()"
   ]
  },
  {
   "cell_type": "code",
   "execution_count": 25,
   "metadata": {},
   "outputs": [
    {
     "data": {
      "image/png": "[encoded data removed]",
      "text/plain": [
       "<Figure size 432x288 with 1 Axes>"
      ]
     },
     "metadata": {
      "needs_background": "light"
     },
     "output_type": "display_data"
    }
   ],
   "source": [
    "plt.figure()\n",
    "sns.boxplot(x='birth_rate', y='t_max_active_pop', data=results_ar)\n",
    "plt.savefig(fig_dir + 'local/ar_t_max_pop.pdf')\n",
    "plt.show()"
   ]
  },
  {
   "cell_type": "code",
   "execution_count": 26,
   "metadata": {},
   "outputs": [
    {
     "data": {
      "image/png": "[encoded data removed]",
      "text/plain": [
       "<Figure size 432x288 with 1 Axes>"
      ]
     },
     "metadata": {
      "needs_background": "light"
     },
     "output_type": "display_data"
    }
   ],
   "source": [
    "plt.figure()\n",
    "sns.boxplot(x='birth_rate', y='t_max', data=results_ar)\n",
    "plt.savefig(fig_dir + 'local/ar_t_max.pdf')\n",
    "plt.show()"
   ]
  },
  {
   "cell_type": "markdown",
   "metadata": {},
   "source": [
    "### Mean speed"
   ]
  },
  {
   "cell_type": "markdown",
   "metadata": {},
   "source": [
    "#### Set up parameter sets"
   ]
  },
  {
   "cell_type": "code",
   "execution_count": 27,
   "metadata": {},
   "outputs": [],
   "source": [
    "# Mean speed\n",
    "mean_speeds = np.arange(0.78, 1.01, 0.022)\n",
    "\n",
    "parameter_sets_ms = list()\n",
    "base_model_params_ms = base_model_params.copy()\n",
    "base_model_params_ms['birth_rate'] = DEFAULT_ACTIVATION_RATE\n",
    "base_model_params_ms['speed_std'] = DEFAULT_SPEED_STD\n",
    "\n",
    "for mean_speed in mean_speeds:\n",
    "    d = base_model_params_ms.copy()\n",
    "    d['speed_mean'] = mean_speed\n",
    "    for _ in range(10):\n",
    "        parameter_sets_ms.append(d)"
   ]
  },
  {
   "cell_type": "code",
   "execution_count": 28,
   "metadata": {},
   "outputs": [
    {
     "data": {
      "text/plain": [
       "array([0.78 , 0.802, 0.824, 0.846, 0.868, 0.89 , 0.912, 0.934, 0.956,\n",
       "       0.978, 1.   ])"
      ]
     },
     "execution_count": 28,
     "metadata": {},
     "output_type": "execute_result"
    }
   ],
   "source": [
    "mean_speeds"
   ]
  },
  {
   "cell_type": "markdown",
   "metadata": {},
   "source": [
    "#### Model runs"
   ]
  },
  {
   "cell_type": "markdown",
   "metadata": {},
   "source": [
    "WARNING: THIS CELL MAY TAKE ~5 HOURS TO RUN."
   ]
  },
  {
   "cell_type": "code",
   "execution_count": 29,
   "metadata": {},
   "outputs": [
    {
     "name": "stderr",
     "output_type": "stream",
     "text": [
      "100%|██████████| 110/110 [7:14:00<00:00, 236.73s/it]  \n"
     ]
    }
   ],
   "source": [
    "results_ms = list()\n",
    "\n",
    "for parameter_set in tqdm(parameter_sets_ms):\n",
    "    model_results = run_model_local(parameter_set, data_results, 'speed_mean')\n",
    "    results_ms.append(model_results)"
   ]
  },
  {
   "cell_type": "markdown",
   "metadata": {},
   "source": [
    "#### Data handling"
   ]
  },
  {
   "cell_type": "markdown",
   "metadata": {},
   "source": [
    "Convert to pandas dataframe"
   ]
  },
  {
   "cell_type": "code",
   "execution_count": 30,
   "metadata": {},
   "outputs": [
    {
     "data": {
      "text/html": [
       "<div>\n",
       "<style scoped>\n",
       "    .dataframe tbody tr th:only-of-type {\n",
       "        vertical-align: middle;\n",
       "    }\n",
       "\n",
       "    .dataframe tbody tr th {\n",
       "        vertical-align: top;\n",
       "    }\n",
       "\n",
       "    .dataframe thead th {\n",
       "        text-align: right;\n",
       "    }\n",
       "</style>\n",
       "<table border=\"1\" class=\"dataframe\">\n",
       "  <thead>\n",
       "    <tr style=\"text-align: right;\">\n",
       "      <th></th>\n",
       "      <th>n_max_active_pop</th>\n",
       "      <th>t_max_active_pop</th>\n",
       "      <th>t_max</th>\n",
       "      <th>speed_mean</th>\n",
       "    </tr>\n",
       "  </thead>\n",
       "  <tbody>\n",
       "    <tr>\n",
       "      <th>0</th>\n",
       "      <td>-9</td>\n",
       "      <td>-2782</td>\n",
       "      <td>-2851</td>\n",
       "      <td>0.78</td>\n",
       "    </tr>\n",
       "    <tr>\n",
       "      <th>1</th>\n",
       "      <td>-12</td>\n",
       "      <td>-2391</td>\n",
       "      <td>-2104</td>\n",
       "      <td>0.78</td>\n",
       "    </tr>\n",
       "    <tr>\n",
       "      <th>2</th>\n",
       "      <td>-15</td>\n",
       "      <td>-1094</td>\n",
       "      <td>-1941</td>\n",
       "      <td>0.78</td>\n",
       "    </tr>\n",
       "    <tr>\n",
       "      <th>3</th>\n",
       "      <td>-8</td>\n",
       "      <td>-1407</td>\n",
       "      <td>-2175</td>\n",
       "      <td>0.78</td>\n",
       "    </tr>\n",
       "    <tr>\n",
       "      <th>4</th>\n",
       "      <td>-8</td>\n",
       "      <td>-829</td>\n",
       "      <td>-1866</td>\n",
       "      <td>0.78</td>\n",
       "    </tr>\n",
       "  </tbody>\n",
       "</table>\n",
       "</div>"
      ],
      "text/plain": [
       "   n_max_active_pop  t_max_active_pop  t_max  speed_mean\n",
       "0                -9             -2782  -2851        0.78\n",
       "1               -12             -2391  -2104        0.78\n",
       "2               -15             -1094  -1941        0.78\n",
       "3                -8             -1407  -2175        0.78\n",
       "4                -8              -829  -1866        0.78"
      ]
     },
     "execution_count": 30,
     "metadata": {},
     "output_type": "execute_result"
    }
   ],
   "source": [
    "results_ms = pd.DataFrame(results_ms)\n",
    "results_ms.head()"
   ]
  },
  {
   "cell_type": "markdown",
   "metadata": {},
   "source": [
    "Write data to csv"
   ]
  },
  {
   "cell_type": "code",
   "execution_count": 31,
   "metadata": {},
   "outputs": [],
   "source": [
    "results_ms.to_csv(output_data_dir + 'local_ms.csv', index=False)"
   ]
  },
  {
   "cell_type": "code",
   "execution_count": 32,
   "metadata": {},
   "outputs": [
    {
     "data": {
      "text/html": [
       "<div>\n",
       "<style scoped>\n",
       "    .dataframe tbody tr th:only-of-type {\n",
       "        vertical-align: middle;\n",
       "    }\n",
       "\n",
       "    .dataframe tbody tr th {\n",
       "        vertical-align: top;\n",
       "    }\n",
       "\n",
       "    .dataframe thead th {\n",
       "        text-align: right;\n",
       "    }\n",
       "</style>\n",
       "<table border=\"1\" class=\"dataframe\">\n",
       "  <thead>\n",
       "    <tr style=\"text-align: right;\">\n",
       "      <th></th>\n",
       "      <th>n_max_active_pop</th>\n",
       "      <th>t_max_active_pop</th>\n",
       "      <th>t_max</th>\n",
       "      <th>speed_mean</th>\n",
       "    </tr>\n",
       "  </thead>\n",
       "  <tbody>\n",
       "    <tr>\n",
       "      <th>0</th>\n",
       "      <td>-9</td>\n",
       "      <td>-2782</td>\n",
       "      <td>-2851</td>\n",
       "      <td>0.78</td>\n",
       "    </tr>\n",
       "    <tr>\n",
       "      <th>1</th>\n",
       "      <td>-12</td>\n",
       "      <td>-2391</td>\n",
       "      <td>-2104</td>\n",
       "      <td>0.78</td>\n",
       "    </tr>\n",
       "    <tr>\n",
       "      <th>2</th>\n",
       "      <td>-15</td>\n",
       "      <td>-1094</td>\n",
       "      <td>-1941</td>\n",
       "      <td>0.78</td>\n",
       "    </tr>\n",
       "    <tr>\n",
       "      <th>3</th>\n",
       "      <td>-8</td>\n",
       "      <td>-1407</td>\n",
       "      <td>-2175</td>\n",
       "      <td>0.78</td>\n",
       "    </tr>\n",
       "    <tr>\n",
       "      <th>4</th>\n",
       "      <td>-8</td>\n",
       "      <td>-829</td>\n",
       "      <td>-1866</td>\n",
       "      <td>0.78</td>\n",
       "    </tr>\n",
       "  </tbody>\n",
       "</table>\n",
       "</div>"
      ],
      "text/plain": [
       "   n_max_active_pop  t_max_active_pop  t_max  speed_mean\n",
       "0                -9             -2782  -2851        0.78\n",
       "1               -12             -2391  -2104        0.78\n",
       "2               -15             -1094  -1941        0.78\n",
       "3                -8             -1407  -2175        0.78\n",
       "4                -8              -829  -1866        0.78"
      ]
     },
     "execution_count": 32,
     "metadata": {},
     "output_type": "execute_result"
    }
   ],
   "source": [
    "results_ms = pd.read_csv(output_data_dir + 'local_ms.csv')\n",
    "results_ms.head()"
   ]
  },
  {
   "cell_type": "markdown",
   "metadata": {},
   "source": [
    "#### Visualisation"
   ]
  },
  {
   "cell_type": "code",
   "execution_count": 33,
   "metadata": {},
   "outputs": [
    {
     "data": {
      "image/png": "[encoded data removed]",
      "text/plain": [
       "<Figure size 432x288 with 1 Axes>"
      ]
     },
     "metadata": {
      "needs_background": "light"
     },
     "output_type": "display_data"
    }
   ],
   "source": [
    "plt.figure()\n",
    "sns.boxplot(x='speed_mean', y='n_max_active_pop', data=results_ms)\n",
    "plt.savefig(fig_dir + 'local/ms_n_max_pop.pdf')\n",
    "plt.show()"
   ]
  },
  {
   "cell_type": "code",
   "execution_count": 34,
   "metadata": {},
   "outputs": [
    {
     "data": {
      "image/png": "[encoded data removed]",
      "text/plain": [
       "<Figure size 432x288 with 1 Axes>"
      ]
     },
     "metadata": {
      "needs_background": "light"
     },
     "output_type": "display_data"
    }
   ],
   "source": [
    "plt.figure()\n",
    "sns.boxplot(x='speed_mean', y='t_max_active_pop', data=results_ms)\n",
    "plt.savefig(fig_dir + 'local/ms_t_max_pop.pdf')\n",
    "plt.show()"
   ]
  },
  {
   "cell_type": "code",
   "execution_count": 35,
   "metadata": {},
   "outputs": [
    {
     "data": {
      "image/png": "[encoded data removed]",
      "text/plain": [
       "<Figure size 432x288 with 1 Axes>"
      ]
     },
     "metadata": {
      "needs_background": "light"
     },
     "output_type": "display_data"
    }
   ],
   "source": [
    "plt.figure()\n",
    "sns.boxplot(x='speed_mean', y='t_max', data=results_ms)\n",
    "plt.savefig(fig_dir + 'local/ms_t_max.pdf')\n",
    "plt.show()"
   ]
  },
  {
   "cell_type": "markdown",
   "metadata": {},
   "source": [
    "### std speed"
   ]
  },
  {
   "cell_type": "markdown",
   "metadata": {},
   "source": [
    "#### Set up parameter sets"
   ]
  },
  {
   "cell_type": "code",
   "execution_count": 36,
   "metadata": {},
   "outputs": [],
   "source": [
    "# std speed\n",
    "std_speeds = np.arange(0.32, 0.421, 0.01)\n",
    "\n",
    "parameter_sets_ss = list()\n",
    "base_model_params_ss = base_model_params.copy()\n",
    "base_model_params_ss['birth_rate'] = DEFAULT_ACTIVATION_RATE\n",
    "base_model_params_ss['speed_mean'] = DEFAULT_SPEED_MEAN\n",
    "\n",
    "for std_speed in std_speeds:\n",
    "    d = base_model_params_ss.copy()\n",
    "    d['speed_std'] = std_speed\n",
    "    for _ in range(10):\n",
    "        parameter_sets_ss.append(d)"
   ]
  },
  {
   "cell_type": "code",
   "execution_count": 37,
   "metadata": {},
   "outputs": [
    {
     "data": {
      "text/plain": [
       "array([0.32, 0.33, 0.34, 0.35, 0.36, 0.37, 0.38, 0.39, 0.4 , 0.41, 0.42])"
      ]
     },
     "execution_count": 37,
     "metadata": {},
     "output_type": "execute_result"
    }
   ],
   "source": [
    "std_speeds"
   ]
  },
  {
   "cell_type": "markdown",
   "metadata": {},
   "source": [
    "#### Model runs"
   ]
  },
  {
   "cell_type": "markdown",
   "metadata": {},
   "source": [
    "WARNING: THIS CELL MAY TAKE ~5 HOURS TO RUN."
   ]
  },
  {
   "cell_type": "code",
   "execution_count": 38,
   "metadata": {},
   "outputs": [
    {
     "name": "stderr",
     "output_type": "stream",
     "text": [
      "100%|██████████| 110/110 [6:02:14<00:00, 197.58s/it] \n"
     ]
    }
   ],
   "source": [
    "results_ss = list()\n",
    "\n",
    "for parameter_set in tqdm(parameter_sets_ss):\n",
    "    model_results = run_model_local(parameter_set, data_results, 'speed_std')\n",
    "    results_ss.append(model_results)"
   ]
  },
  {
   "cell_type": "markdown",
   "metadata": {},
   "source": [
    "#### Data handling"
   ]
  },
  {
   "cell_type": "markdown",
   "metadata": {},
   "source": [
    "Convert to pandas dataframe"
   ]
  },
  {
   "cell_type": "code",
   "execution_count": 39,
   "metadata": {},
   "outputs": [
    {
     "data": {
      "text/html": [
       "<div>\n",
       "<style scoped>\n",
       "    .dataframe tbody tr th:only-of-type {\n",
       "        vertical-align: middle;\n",
       "    }\n",
       "\n",
       "    .dataframe tbody tr th {\n",
       "        vertical-align: top;\n",
       "    }\n",
       "\n",
       "    .dataframe thead th {\n",
       "        text-align: right;\n",
       "    }\n",
       "</style>\n",
       "<table border=\"1\" class=\"dataframe\">\n",
       "  <thead>\n",
       "    <tr style=\"text-align: right;\">\n",
       "      <th></th>\n",
       "      <th>n_max_active_pop</th>\n",
       "      <th>t_max_active_pop</th>\n",
       "      <th>t_max</th>\n",
       "      <th>speed_std</th>\n",
       "    </tr>\n",
       "  </thead>\n",
       "  <tbody>\n",
       "    <tr>\n",
       "      <th>0</th>\n",
       "      <td>-1</td>\n",
       "      <td>-1235</td>\n",
       "      <td>-1606</td>\n",
       "      <td>0.32</td>\n",
       "    </tr>\n",
       "    <tr>\n",
       "      <th>1</th>\n",
       "      <td>1</td>\n",
       "      <td>-2313</td>\n",
       "      <td>-1537</td>\n",
       "      <td>0.32</td>\n",
       "    </tr>\n",
       "    <tr>\n",
       "      <th>2</th>\n",
       "      <td>-3</td>\n",
       "      <td>-1782</td>\n",
       "      <td>-1616</td>\n",
       "      <td>0.32</td>\n",
       "    </tr>\n",
       "    <tr>\n",
       "      <th>3</th>\n",
       "      <td>-10</td>\n",
       "      <td>-2110</td>\n",
       "      <td>-1280</td>\n",
       "      <td>0.32</td>\n",
       "    </tr>\n",
       "    <tr>\n",
       "      <th>4</th>\n",
       "      <td>-2</td>\n",
       "      <td>-2688</td>\n",
       "      <td>-2894</td>\n",
       "      <td>0.32</td>\n",
       "    </tr>\n",
       "  </tbody>\n",
       "</table>\n",
       "</div>"
      ],
      "text/plain": [
       "   n_max_active_pop  t_max_active_pop  t_max  speed_std\n",
       "0                -1             -1235  -1606       0.32\n",
       "1                 1             -2313  -1537       0.32\n",
       "2                -3             -1782  -1616       0.32\n",
       "3               -10             -2110  -1280       0.32\n",
       "4                -2             -2688  -2894       0.32"
      ]
     },
     "execution_count": 39,
     "metadata": {},
     "output_type": "execute_result"
    }
   ],
   "source": [
    "results_ss = pd.DataFrame(results_ss)\n",
    "results_ss.head()"
   ]
  },
  {
   "cell_type": "markdown",
   "metadata": {},
   "source": [
    "Write data to csv"
   ]
  },
  {
   "cell_type": "code",
   "execution_count": 40,
   "metadata": {},
   "outputs": [],
   "source": [
    "results_ss.to_csv(output_data_dir + 'local_ss.csv', index=False)"
   ]
  },
  {
   "cell_type": "code",
   "execution_count": 41,
   "metadata": {},
   "outputs": [
    {
     "data": {
      "text/html": [
       "<div>\n",
       "<style scoped>\n",
       "    .dataframe tbody tr th:only-of-type {\n",
       "        vertical-align: middle;\n",
       "    }\n",
       "\n",
       "    .dataframe tbody tr th {\n",
       "        vertical-align: top;\n",
       "    }\n",
       "\n",
       "    .dataframe thead th {\n",
       "        text-align: right;\n",
       "    }\n",
       "</style>\n",
       "<table border=\"1\" class=\"dataframe\">\n",
       "  <thead>\n",
       "    <tr style=\"text-align: right;\">\n",
       "      <th></th>\n",
       "      <th>n_max_active_pop</th>\n",
       "      <th>t_max_active_pop</th>\n",
       "      <th>t_max</th>\n",
       "      <th>speed_std</th>\n",
       "    </tr>\n",
       "  </thead>\n",
       "  <tbody>\n",
       "    <tr>\n",
       "      <th>0</th>\n",
       "      <td>-1</td>\n",
       "      <td>-1235</td>\n",
       "      <td>-1606</td>\n",
       "      <td>0.32</td>\n",
       "    </tr>\n",
       "    <tr>\n",
       "      <th>1</th>\n",
       "      <td>1</td>\n",
       "      <td>-2313</td>\n",
       "      <td>-1537</td>\n",
       "      <td>0.32</td>\n",
       "    </tr>\n",
       "    <tr>\n",
       "      <th>2</th>\n",
       "      <td>-3</td>\n",
       "      <td>-1782</td>\n",
       "      <td>-1616</td>\n",
       "      <td>0.32</td>\n",
       "    </tr>\n",
       "    <tr>\n",
       "      <th>3</th>\n",
       "      <td>-10</td>\n",
       "      <td>-2110</td>\n",
       "      <td>-1280</td>\n",
       "      <td>0.32</td>\n",
       "    </tr>\n",
       "    <tr>\n",
       "      <th>4</th>\n",
       "      <td>-2</td>\n",
       "      <td>-2688</td>\n",
       "      <td>-2894</td>\n",
       "      <td>0.32</td>\n",
       "    </tr>\n",
       "  </tbody>\n",
       "</table>\n",
       "</div>"
      ],
      "text/plain": [
       "   n_max_active_pop  t_max_active_pop  t_max  speed_std\n",
       "0                -1             -1235  -1606       0.32\n",
       "1                 1             -2313  -1537       0.32\n",
       "2                -3             -1782  -1616       0.32\n",
       "3               -10             -2110  -1280       0.32\n",
       "4                -2             -2688  -2894       0.32"
      ]
     },
     "execution_count": 41,
     "metadata": {},
     "output_type": "execute_result"
    }
   ],
   "source": [
    "results_ss = pd.read_csv(output_data_dir + 'local_ss.csv')\n",
    "results_ss.head()"
   ]
  },
  {
   "cell_type": "markdown",
   "metadata": {},
   "source": [
    "#### Visualisation"
   ]
  },
  {
   "cell_type": "code",
   "execution_count": 42,
   "metadata": {},
   "outputs": [
    {
     "data": {
      "image/png": "[encoded data removed]",
      "text/plain": [
       "<Figure size 432x288 with 1 Axes>"
      ]
     },
     "metadata": {
      "needs_background": "light"
     },
     "output_type": "display_data"
    }
   ],
   "source": [
    "plt.figure()\n",
    "sns.boxplot(x='speed_std', y='n_max_active_pop', data=results_ss)\n",
    "plt.savefig(fig_dir + 'local/ss_n_max_pop.pdf')\n",
    "plt.show()"
   ]
  },
  {
   "cell_type": "code",
   "execution_count": 43,
   "metadata": {},
   "outputs": [
    {
     "data": {
      "image/png": "[encoded data removed]",
      "text/plain": [
       "<Figure size 432x288 with 1 Axes>"
      ]
     },
     "metadata": {
      "needs_background": "light"
     },
     "output_type": "display_data"
    }
   ],
   "source": [
    "plt.figure()\n",
    "sns.boxplot(x='speed_std', y='t_max_active_pop', data=results_ss)\n",
    "plt.savefig(fig_dir + 'local/ss_t_max_pop.pdf')\n",
    "plt.show()"
   ]
  },
  {
   "cell_type": "code",
   "execution_count": 44,
   "metadata": {},
   "outputs": [
    {
     "data": {
      "image/png": "[encoded data removed]",
      "text/plain": [
       "<Figure size 432x288 with 1 Axes>"
      ]
     },
     "metadata": {
      "needs_background": "light"
     },
     "output_type": "display_data"
    }
   ],
   "source": [
    "plt.figure()\n",
    "sns.boxplot(x='speed_std', y='t_max', data=results_ss)\n",
    "plt.savefig(fig_dir + 'local/ss_t_max.pdf')\n",
    "plt.show()"
   ]
  },
  {
   "cell_type": "markdown",
   "metadata": {},
   "source": [
    "## Global analysis"
   ]
  },
  {
   "cell_type": "markdown",
   "metadata": {},
   "source": [
    "In this section, we undertake a global sensitivity analysis via two approaches: a regression-based approach and a visualisation-based approach."
   ]
  },
  {
   "cell_type": "markdown",
   "metadata": {},
   "source": [
    "In the regression-based approach, we seek to fit a regression model for which we consider the following input variables:\n",
    "* Mean agent speed,\n",
    "* Standard deviation of agent speed,\n",
    "* Agent activation rate,\n",
    "\n",
    "and the following output variables:\n",
    "* Error with respect to maximum number of pedestrians in environment in environment at any given time,\n",
    "* Error with respect to time taken for all pedestrians to complete their journey,\n",
    "* Error with respect to the time at which the maximum number of pedestrians in the system at a given time occurs.\n",
    "\n",
    "This will give us a quanititative picture of how each of these response variables varies with respect to each of the model parameters outlined above, as well as how interactions between these variables may impact the response variables."
   ]
  },
  {
   "cell_type": "markdown",
   "metadata": {},
   "source": [
    "In the visualisation approach, we seek to visualise how the behaviour of the model varies with respect to changes in each of the model parameters.\n",
    "These visualisations will take the form of heatmaps which detail the frequency with which different sections of the model environment are visited by pedestrians."
   ]
  },
  {
   "cell_type": "markdown",
   "metadata": {},
   "source": [
    "In order to apply each of these approaches, the model is run 5 times with the following ranges of paramter values:\n",
    "\n",
    "| Variable        |  Calibrated value  | Minimum value | Maximum value |\n",
    "|-----------------|:------------------:|:-------------:|:-------------:|\n",
    "| Activation rate |       1.6          |      1.0      |     2.0       |\n",
    "| Mean speed      | 0.8974784080646091 |      0.5      |     1.5       |\n",
    "| Std of speed    | 0.3719712250899986 |      0.2      |     1.0       |"
   ]
  },
  {
   "cell_type": "markdown",
   "metadata": {},
   "source": [
    "### Set up parameter sets"
   ]
  },
  {
   "cell_type": "code",
   "execution_count": 16,
   "metadata": {},
   "outputs": [],
   "source": [
    "activation_rate_max = 2\n",
    "activation_rate_min = 1"
   ]
  },
  {
   "cell_type": "code",
   "execution_count": 17,
   "metadata": {},
   "outputs": [],
   "source": [
    "mean_speed_max = 1.5\n",
    "mean_speed_min = 0.5"
   ]
  },
  {
   "cell_type": "code",
   "execution_count": 18,
   "metadata": {},
   "outputs": [],
   "source": [
    "std_speed_max = 1\n",
    "std_speed_min = 0.2"
   ]
  },
  {
   "cell_type": "code",
   "execution_count": 19,
   "metadata": {},
   "outputs": [],
   "source": [
    "parameter_sets = list()\n",
    "np.random.seed(666)\n",
    "n_runs = 200\n",
    "\n",
    "for _ in range(n_runs):\n",
    "    mean_speed = np.random.uniform(mean_speed_min, mean_speed_max)\n",
    "    std_speed = np.random.uniform(std_speed_min, std_speed_max)\n",
    "    activation_rate = np.random.uniform(activation_rate_min, activation_rate_max)\n",
    "    d = base_model_params.copy()\n",
    "    d['speed_mean'] = mean_speed\n",
    "    d['speed_std'] = std_speed\n",
    "    d['birth_rate'] = activation_rate        \n",
    "    parameter_sets.append(d)"
   ]
  },
  {
   "cell_type": "code",
   "execution_count": 20,
   "metadata": {},
   "outputs": [
    {
     "data": {
      "text/html": [
       "<div>\n",
       "<style scoped>\n",
       "    .dataframe tbody tr th:only-of-type {\n",
       "        vertical-align: middle;\n",
       "    }\n",
       "\n",
       "    .dataframe tbody tr th {\n",
       "        vertical-align: top;\n",
       "    }\n",
       "\n",
       "    .dataframe thead th {\n",
       "        text-align: right;\n",
       "    }\n",
       "</style>\n",
       "<table border=\"1\" class=\"dataframe\">\n",
       "  <thead>\n",
       "    <tr style=\"text-align: right;\">\n",
       "      <th></th>\n",
       "      <th>station</th>\n",
       "      <th>speed_min</th>\n",
       "      <th>step_limit</th>\n",
       "      <th>do_print</th>\n",
       "      <th>pop_total</th>\n",
       "      <th>speed_mean</th>\n",
       "      <th>speed_std</th>\n",
       "      <th>birth_rate</th>\n",
       "    </tr>\n",
       "  </thead>\n",
       "  <tbody>\n",
       "    <tr>\n",
       "      <th>0</th>\n",
       "      <td>Grand_Central</td>\n",
       "      <td>0.174302</td>\n",
       "      <td>20000</td>\n",
       "      <td>False</td>\n",
       "      <td>274</td>\n",
       "      <td>1.200437</td>\n",
       "      <td>0.875349</td>\n",
       "      <td>1.676514</td>\n",
       "    </tr>\n",
       "    <tr>\n",
       "      <th>1</th>\n",
       "      <td>Grand_Central</td>\n",
       "      <td>0.174302</td>\n",
       "      <td>20000</td>\n",
       "      <td>False</td>\n",
       "      <td>274</td>\n",
       "      <td>1.227858</td>\n",
       "      <td>0.961166</td>\n",
       "      <td>1.012703</td>\n",
       "    </tr>\n",
       "    <tr>\n",
       "      <th>2</th>\n",
       "      <td>Grand_Central</td>\n",
       "      <td>0.174302</td>\n",
       "      <td>20000</td>\n",
       "      <td>False</td>\n",
       "      <td>274</td>\n",
       "      <td>0.913588</td>\n",
       "      <td>0.239050</td>\n",
       "      <td>1.099929</td>\n",
       "    </tr>\n",
       "    <tr>\n",
       "      <th>3</th>\n",
       "      <td>Grand_Central</td>\n",
       "      <td>0.174302</td>\n",
       "      <td>20000</td>\n",
       "      <td>False</td>\n",
       "      <td>274</td>\n",
       "      <td>1.008066</td>\n",
       "      <td>0.360198</td>\n",
       "      <td>1.744154</td>\n",
       "    </tr>\n",
       "    <tr>\n",
       "      <th>4</th>\n",
       "      <td>Grand_Central</td>\n",
       "      <td>0.174302</td>\n",
       "      <td>20000</td>\n",
       "      <td>False</td>\n",
       "      <td>274</td>\n",
       "      <td>0.692892</td>\n",
       "      <td>0.760676</td>\n",
       "      <td>1.293228</td>\n",
       "    </tr>\n",
       "  </tbody>\n",
       "</table>\n",
       "</div>"
      ],
      "text/plain": [
       "         station  speed_min  step_limit  do_print  pop_total  speed_mean  \\\n",
       "0  Grand_Central   0.174302       20000     False        274    1.200437   \n",
       "1  Grand_Central   0.174302       20000     False        274    1.227858   \n",
       "2  Grand_Central   0.174302       20000     False        274    0.913588   \n",
       "3  Grand_Central   0.174302       20000     False        274    1.008066   \n",
       "4  Grand_Central   0.174302       20000     False        274    0.692892   \n",
       "\n",
       "   speed_std  birth_rate  \n",
       "0   0.875349    1.676514  \n",
       "1   0.961166    1.012703  \n",
       "2   0.239050    1.099929  \n",
       "3   0.360198    1.744154  \n",
       "4   0.760676    1.293228  "
      ]
     },
     "execution_count": 20,
     "metadata": {},
     "output_type": "execute_result"
    }
   ],
   "source": [
    "df = pd.DataFrame(parameter_sets)\n",
    "df.head()"
   ]
  },
  {
   "cell_type": "markdown",
   "metadata": {},
   "source": [
    "Plot the distriubtion of each of the parameters of interest:"
   ]
  },
  {
   "cell_type": "code",
   "execution_count": 21,
   "metadata": {},
   "outputs": [
    {
     "data": {
      "image/png": "[encoded data removed]",
      "text/plain": [
       "<Figure size 432x288 with 1 Axes>"
      ]
     },
     "metadata": {
      "needs_background": "light"
     },
     "output_type": "display_data"
    },
    {
     "data": {
      "image/png": "[encoded data removed]",
      "text/plain": [
       "<Figure size 432x288 with 1 Axes>"
      ]
     },
     "metadata": {
      "needs_background": "light"
     },
     "output_type": "display_data"
    },
    {
     "data": {
      "image/png": "[encoded data removed]",
      "text/plain": [
       "<Figure size 432x288 with 1 Axes>"
      ]
     },
     "metadata": {
      "needs_background": "light"
     },
     "output_type": "display_data"
    }
   ],
   "source": [
    "parameters = ['speed_mean', 'speed_std', 'birth_rate']\n",
    "\n",
    "for param in parameters:\n",
    "    plt.figure()\n",
    "    plt.hist(df[param])\n",
    "    plt.show()"
   ]
  },
  {
   "cell_type": "markdown",
   "metadata": {},
   "source": [
    "Check for any correlation between the parameters of interest:"
   ]
  },
  {
   "cell_type": "code",
   "execution_count": 22,
   "metadata": {},
   "outputs": [
    {
     "data": {
      "text/html": [
       "<div>\n",
       "<style scoped>\n",
       "    .dataframe tbody tr th:only-of-type {\n",
       "        vertical-align: middle;\n",
       "    }\n",
       "\n",
       "    .dataframe tbody tr th {\n",
       "        vertical-align: top;\n",
       "    }\n",
       "\n",
       "    .dataframe thead th {\n",
       "        text-align: right;\n",
       "    }\n",
       "</style>\n",
       "<table border=\"1\" class=\"dataframe\">\n",
       "  <thead>\n",
       "    <tr style=\"text-align: right;\">\n",
       "      <th></th>\n",
       "      <th>speed_mean</th>\n",
       "      <th>speed_std</th>\n",
       "      <th>birth_rate</th>\n",
       "    </tr>\n",
       "  </thead>\n",
       "  <tbody>\n",
       "    <tr>\n",
       "      <th>speed_mean</th>\n",
       "      <td>1.000000</td>\n",
       "      <td>0.008274</td>\n",
       "      <td>0.010753</td>\n",
       "    </tr>\n",
       "    <tr>\n",
       "      <th>speed_std</th>\n",
       "      <td>0.008274</td>\n",
       "      <td>1.000000</td>\n",
       "      <td>0.007947</td>\n",
       "    </tr>\n",
       "    <tr>\n",
       "      <th>birth_rate</th>\n",
       "      <td>0.010753</td>\n",
       "      <td>0.007947</td>\n",
       "      <td>1.000000</td>\n",
       "    </tr>\n",
       "  </tbody>\n",
       "</table>\n",
       "</div>"
      ],
      "text/plain": [
       "            speed_mean  speed_std  birth_rate\n",
       "speed_mean    1.000000   0.008274    0.010753\n",
       "speed_std     0.008274   1.000000    0.007947\n",
       "birth_rate    0.010753   0.007947    1.000000"
      ]
     },
     "execution_count": 22,
     "metadata": {},
     "output_type": "execute_result"
    }
   ],
   "source": [
    "tdf = df.loc[:, parameters]\n",
    "tdf.corr()"
   ]
  },
  {
   "cell_type": "markdown",
   "metadata": {},
   "source": [
    "Split the runs into two batches:"
   ]
  },
  {
   "cell_type": "code",
   "execution_count": 23,
   "metadata": {},
   "outputs": [
    {
     "name": "stdout",
     "output_type": "stream",
     "text": [
      "100 100\n"
     ]
    }
   ],
   "source": [
    "midpoint = n_runs // 2\n",
    "parameter_sets_1 = parameter_sets[: midpoint]\n",
    "parameter_sets_2 = parameter_sets[midpoint :]\n",
    "print(len(parameter_sets_1), len(parameter_sets_2))"
   ]
  },
  {
   "cell_type": "markdown",
   "metadata": {},
   "source": [
    "### Runs"
   ]
  },
  {
   "cell_type": "markdown",
   "metadata": {},
   "source": [
    "Set up containers:"
   ]
  },
  {
   "cell_type": "code",
   "execution_count": 26,
   "metadata": {},
   "outputs": [],
   "source": [
    "global_results_1 = list()\n",
    "global_results_2 = list()"
   ]
  },
  {
   "cell_type": "markdown",
   "metadata": {},
   "source": [
    "Run first batch:"
   ]
  },
  {
   "cell_type": "code",
   "execution_count": 27,
   "metadata": {},
   "outputs": [
    {
     "name": "stderr",
     "output_type": "stream",
     "text": [
      "100%|██████████| 100/100 [9:10:35<00:00, 330.35s/it] \n"
     ]
    }
   ],
   "source": [
    "i = 0\n",
    "for parameter_set in tqdm(parameter_sets_1):\n",
    "    if i % 20 == 11:\n",
    "        time.sleep(30)\n",
    "    model, results = run_model_global(parameter_set, data_results)\n",
    "    global_results_1.append(results)\n",
    "    \n",
    "    output_model(model, i, model_dir, 1)\n",
    "    i += 1"
   ]
  },
  {
   "cell_type": "markdown",
   "metadata": {},
   "source": [
    "Convert the results to a dataframe and write to csv:"
   ]
  },
  {
   "cell_type": "code",
   "execution_count": 28,
   "metadata": {},
   "outputs": [
    {
     "data": {
      "text/html": [
       "<div>\n",
       "<style scoped>\n",
       "    .dataframe tbody tr th:only-of-type {\n",
       "        vertical-align: middle;\n",
       "    }\n",
       "\n",
       "    .dataframe tbody tr th {\n",
       "        vertical-align: top;\n",
       "    }\n",
       "\n",
       "    .dataframe thead th {\n",
       "        text-align: right;\n",
       "    }\n",
       "</style>\n",
       "<table border=\"1\" class=\"dataframe\">\n",
       "  <thead>\n",
       "    <tr style=\"text-align: right;\">\n",
       "      <th></th>\n",
       "      <th>n_max_active_pop</th>\n",
       "      <th>t_max_active_pop</th>\n",
       "      <th>t_max</th>\n",
       "      <th>birth_rate</th>\n",
       "      <th>speed_mean</th>\n",
       "      <th>speed_std</th>\n",
       "    </tr>\n",
       "  </thead>\n",
       "  <tbody>\n",
       "    <tr>\n",
       "      <th>0</th>\n",
       "      <td>-2</td>\n",
       "      <td>-1918</td>\n",
       "      <td>-1347</td>\n",
       "      <td>1.676514</td>\n",
       "      <td>1.200437</td>\n",
       "      <td>0.875349</td>\n",
       "    </tr>\n",
       "    <tr>\n",
       "      <th>1</th>\n",
       "      <td>28</td>\n",
       "      <td>-5262</td>\n",
       "      <td>-2986</td>\n",
       "      <td>1.012703</td>\n",
       "      <td>1.227858</td>\n",
       "      <td>0.961166</td>\n",
       "    </tr>\n",
       "    <tr>\n",
       "      <th>2</th>\n",
       "      <td>26</td>\n",
       "      <td>-1366</td>\n",
       "      <td>-2947</td>\n",
       "      <td>1.099929</td>\n",
       "      <td>0.913588</td>\n",
       "      <td>0.239050</td>\n",
       "    </tr>\n",
       "    <tr>\n",
       "      <th>3</th>\n",
       "      <td>0</td>\n",
       "      <td>-1644</td>\n",
       "      <td>-961</td>\n",
       "      <td>1.744154</td>\n",
       "      <td>1.008066</td>\n",
       "      <td>0.360198</td>\n",
       "    </tr>\n",
       "    <tr>\n",
       "      <th>4</th>\n",
       "      <td>15</td>\n",
       "      <td>-674</td>\n",
       "      <td>-1626</td>\n",
       "      <td>1.293228</td>\n",
       "      <td>0.692892</td>\n",
       "      <td>0.760676</td>\n",
       "    </tr>\n",
       "  </tbody>\n",
       "</table>\n",
       "</div>"
      ],
      "text/plain": [
       "   n_max_active_pop  t_max_active_pop  t_max  birth_rate  speed_mean  \\\n",
       "0                -2             -1918  -1347    1.676514    1.200437   \n",
       "1                28             -5262  -2986    1.012703    1.227858   \n",
       "2                26             -1366  -2947    1.099929    0.913588   \n",
       "3                 0             -1644   -961    1.744154    1.008066   \n",
       "4                15              -674  -1626    1.293228    0.692892   \n",
       "\n",
       "   speed_std  \n",
       "0   0.875349  \n",
       "1   0.961166  \n",
       "2   0.239050  \n",
       "3   0.360198  \n",
       "4   0.760676  "
      ]
     },
     "execution_count": 28,
     "metadata": {},
     "output_type": "execute_result"
    }
   ],
   "source": [
    "global_results_1 = pd.DataFrame(global_results_1)\n",
    "global_results_1.head()"
   ]
  },
  {
   "cell_type": "code",
   "execution_count": 29,
   "metadata": {},
   "outputs": [],
   "source": [
    "global_results_1.to_csv(output_data_dir + 'global_errors_1.csv', index=False)"
   ]
  },
  {
   "cell_type": "markdown",
   "metadata": {},
   "source": [
    "Run second batch:"
   ]
  },
  {
   "cell_type": "code",
   "execution_count": 30,
   "metadata": {},
   "outputs": [
    {
     "name": "stderr",
     "output_type": "stream",
     "text": [
      "100%|██████████| 100/100 [6:09:58<00:00, 221.98s/it] \n"
     ]
    }
   ],
   "source": [
    "i = 0\n",
    "for parameter_set in tqdm(parameter_sets_2):\n",
    "    if i % 20 == 11:\n",
    "        time.sleep(60)\n",
    "    model, results = run_model_global(parameter_set, data_results)\n",
    "    global_results_2.append(results)\n",
    "    \n",
    "    output_model(model, i, model_dir, 2)\n",
    "    i += 1"
   ]
  },
  {
   "cell_type": "markdown",
   "metadata": {},
   "source": [
    "Convert the results to a dataframe and write to csv:"
   ]
  },
  {
   "cell_type": "code",
   "execution_count": 31,
   "metadata": {},
   "outputs": [
    {
     "data": {
      "text/html": [
       "<div>\n",
       "<style scoped>\n",
       "    .dataframe tbody tr th:only-of-type {\n",
       "        vertical-align: middle;\n",
       "    }\n",
       "\n",
       "    .dataframe tbody tr th {\n",
       "        vertical-align: top;\n",
       "    }\n",
       "\n",
       "    .dataframe thead th {\n",
       "        text-align: right;\n",
       "    }\n",
       "</style>\n",
       "<table border=\"1\" class=\"dataframe\">\n",
       "  <thead>\n",
       "    <tr style=\"text-align: right;\">\n",
       "      <th></th>\n",
       "      <th>n_max_active_pop</th>\n",
       "      <th>t_max_active_pop</th>\n",
       "      <th>t_max</th>\n",
       "      <th>birth_rate</th>\n",
       "      <th>speed_mean</th>\n",
       "      <th>speed_std</th>\n",
       "    </tr>\n",
       "  </thead>\n",
       "  <tbody>\n",
       "    <tr>\n",
       "      <th>0</th>\n",
       "      <td>-5</td>\n",
       "      <td>-1200</td>\n",
       "      <td>-1536</td>\n",
       "      <td>1.649283</td>\n",
       "      <td>0.708949</td>\n",
       "      <td>0.206626</td>\n",
       "    </tr>\n",
       "    <tr>\n",
       "      <th>1</th>\n",
       "      <td>6</td>\n",
       "      <td>-1934</td>\n",
       "      <td>-1567</td>\n",
       "      <td>1.439688</td>\n",
       "      <td>1.282874</td>\n",
       "      <td>0.284804</td>\n",
       "    </tr>\n",
       "    <tr>\n",
       "      <th>2</th>\n",
       "      <td>-5</td>\n",
       "      <td>-2430</td>\n",
       "      <td>-929</td>\n",
       "      <td>1.648376</td>\n",
       "      <td>0.591670</td>\n",
       "      <td>0.369886</td>\n",
       "    </tr>\n",
       "    <tr>\n",
       "      <th>3</th>\n",
       "      <td>19</td>\n",
       "      <td>-3018</td>\n",
       "      <td>-2677</td>\n",
       "      <td>1.129597</td>\n",
       "      <td>1.101797</td>\n",
       "      <td>0.574736</td>\n",
       "    </tr>\n",
       "    <tr>\n",
       "      <th>4</th>\n",
       "      <td>-19</td>\n",
       "      <td>-1243</td>\n",
       "      <td>-929</td>\n",
       "      <td>1.947473</td>\n",
       "      <td>0.746014</td>\n",
       "      <td>0.821157</td>\n",
       "    </tr>\n",
       "  </tbody>\n",
       "</table>\n",
       "</div>"
      ],
      "text/plain": [
       "   n_max_active_pop  t_max_active_pop  t_max  birth_rate  speed_mean  \\\n",
       "0                -5             -1200  -1536    1.649283    0.708949   \n",
       "1                 6             -1934  -1567    1.439688    1.282874   \n",
       "2                -5             -2430   -929    1.648376    0.591670   \n",
       "3                19             -3018  -2677    1.129597    1.101797   \n",
       "4               -19             -1243   -929    1.947473    0.746014   \n",
       "\n",
       "   speed_std  \n",
       "0   0.206626  \n",
       "1   0.284804  \n",
       "2   0.369886  \n",
       "3   0.574736  \n",
       "4   0.821157  "
      ]
     },
     "execution_count": 31,
     "metadata": {},
     "output_type": "execute_result"
    }
   ],
   "source": [
    "global_results_2 = pd.DataFrame(global_results_2)\n",
    "global_results_2.head()"
   ]
  },
  {
   "cell_type": "code",
   "execution_count": 32,
   "metadata": {},
   "outputs": [],
   "source": [
    "global_results_2.to_csv(output_data_dir + 'global_errors_2.csv', index=False)"
   ]
  },
  {
   "cell_type": "markdown",
   "metadata": {},
   "source": [
    "#### Read data back in"
   ]
  },
  {
   "cell_type": "markdown",
   "metadata": {},
   "source": [
    "Read in csv:"
   ]
  },
  {
   "cell_type": "code",
   "execution_count": 16,
   "metadata": {},
   "outputs": [
    {
     "data": {
      "text/html": [
       "<div>\n",
       "<style scoped>\n",
       "    .dataframe tbody tr th:only-of-type {\n",
       "        vertical-align: middle;\n",
       "    }\n",
       "\n",
       "    .dataframe tbody tr th {\n",
       "        vertical-align: top;\n",
       "    }\n",
       "\n",
       "    .dataframe thead th {\n",
       "        text-align: right;\n",
       "    }\n",
       "</style>\n",
       "<table border=\"1\" class=\"dataframe\">\n",
       "  <thead>\n",
       "    <tr style=\"text-align: right;\">\n",
       "      <th></th>\n",
       "      <th>n_max_active_pop</th>\n",
       "      <th>t_max_active_pop</th>\n",
       "      <th>t_max</th>\n",
       "      <th>birth_rate</th>\n",
       "      <th>speed_mean</th>\n",
       "      <th>speed_std</th>\n",
       "    </tr>\n",
       "  </thead>\n",
       "  <tbody>\n",
       "    <tr>\n",
       "      <th>0</th>\n",
       "      <td>-2</td>\n",
       "      <td>-1918</td>\n",
       "      <td>-1347</td>\n",
       "      <td>1.676514</td>\n",
       "      <td>1.200437</td>\n",
       "      <td>0.875349</td>\n",
       "    </tr>\n",
       "    <tr>\n",
       "      <th>1</th>\n",
       "      <td>28</td>\n",
       "      <td>-5262</td>\n",
       "      <td>-2986</td>\n",
       "      <td>1.012703</td>\n",
       "      <td>1.227858</td>\n",
       "      <td>0.961166</td>\n",
       "    </tr>\n",
       "    <tr>\n",
       "      <th>2</th>\n",
       "      <td>26</td>\n",
       "      <td>-1366</td>\n",
       "      <td>-2947</td>\n",
       "      <td>1.099929</td>\n",
       "      <td>0.913588</td>\n",
       "      <td>0.239050</td>\n",
       "    </tr>\n",
       "    <tr>\n",
       "      <th>3</th>\n",
       "      <td>0</td>\n",
       "      <td>-1644</td>\n",
       "      <td>-961</td>\n",
       "      <td>1.744154</td>\n",
       "      <td>1.008066</td>\n",
       "      <td>0.360198</td>\n",
       "    </tr>\n",
       "    <tr>\n",
       "      <th>4</th>\n",
       "      <td>15</td>\n",
       "      <td>-674</td>\n",
       "      <td>-1626</td>\n",
       "      <td>1.293228</td>\n",
       "      <td>0.692892</td>\n",
       "      <td>0.760676</td>\n",
       "    </tr>\n",
       "  </tbody>\n",
       "</table>\n",
       "</div>"
      ],
      "text/plain": [
       "   n_max_active_pop  t_max_active_pop  t_max  birth_rate  speed_mean  \\\n",
       "0                -2             -1918  -1347    1.676514    1.200437   \n",
       "1                28             -5262  -2986    1.012703    1.227858   \n",
       "2                26             -1366  -2947    1.099929    0.913588   \n",
       "3                 0             -1644   -961    1.744154    1.008066   \n",
       "4                15              -674  -1626    1.293228    0.692892   \n",
       "\n",
       "   speed_std  \n",
       "0   0.875349  \n",
       "1   0.961166  \n",
       "2   0.239050  \n",
       "3   0.360198  \n",
       "4   0.760676  "
      ]
     },
     "execution_count": 16,
     "metadata": {},
     "output_type": "execute_result"
    }
   ],
   "source": [
    "global_results_1 = pd.read_csv(output_data_dir + 'global_errors_1.csv')\n",
    "global_results_1.head()"
   ]
  },
  {
   "cell_type": "code",
   "execution_count": 17,
   "metadata": {},
   "outputs": [
    {
     "data": {
      "text/html": [
       "<div>\n",
       "<style scoped>\n",
       "    .dataframe tbody tr th:only-of-type {\n",
       "        vertical-align: middle;\n",
       "    }\n",
       "\n",
       "    .dataframe tbody tr th {\n",
       "        vertical-align: top;\n",
       "    }\n",
       "\n",
       "    .dataframe thead th {\n",
       "        text-align: right;\n",
       "    }\n",
       "</style>\n",
       "<table border=\"1\" class=\"dataframe\">\n",
       "  <thead>\n",
       "    <tr style=\"text-align: right;\">\n",
       "      <th></th>\n",
       "      <th>n_max_active_pop</th>\n",
       "      <th>t_max_active_pop</th>\n",
       "      <th>t_max</th>\n",
       "      <th>birth_rate</th>\n",
       "      <th>speed_mean</th>\n",
       "      <th>speed_std</th>\n",
       "    </tr>\n",
       "  </thead>\n",
       "  <tbody>\n",
       "    <tr>\n",
       "      <th>0</th>\n",
       "      <td>-5</td>\n",
       "      <td>-1200</td>\n",
       "      <td>-1536</td>\n",
       "      <td>1.649283</td>\n",
       "      <td>0.708949</td>\n",
       "      <td>0.206626</td>\n",
       "    </tr>\n",
       "    <tr>\n",
       "      <th>1</th>\n",
       "      <td>6</td>\n",
       "      <td>-1934</td>\n",
       "      <td>-1567</td>\n",
       "      <td>1.439688</td>\n",
       "      <td>1.282874</td>\n",
       "      <td>0.284804</td>\n",
       "    </tr>\n",
       "    <tr>\n",
       "      <th>2</th>\n",
       "      <td>-5</td>\n",
       "      <td>-2430</td>\n",
       "      <td>-929</td>\n",
       "      <td>1.648376</td>\n",
       "      <td>0.591670</td>\n",
       "      <td>0.369886</td>\n",
       "    </tr>\n",
       "    <tr>\n",
       "      <th>3</th>\n",
       "      <td>19</td>\n",
       "      <td>-3018</td>\n",
       "      <td>-2677</td>\n",
       "      <td>1.129597</td>\n",
       "      <td>1.101797</td>\n",
       "      <td>0.574736</td>\n",
       "    </tr>\n",
       "    <tr>\n",
       "      <th>4</th>\n",
       "      <td>-19</td>\n",
       "      <td>-1243</td>\n",
       "      <td>-929</td>\n",
       "      <td>1.947473</td>\n",
       "      <td>0.746014</td>\n",
       "      <td>0.821157</td>\n",
       "    </tr>\n",
       "  </tbody>\n",
       "</table>\n",
       "</div>"
      ],
      "text/plain": [
       "   n_max_active_pop  t_max_active_pop  t_max  birth_rate  speed_mean  \\\n",
       "0                -5             -1200  -1536    1.649283    0.708949   \n",
       "1                 6             -1934  -1567    1.439688    1.282874   \n",
       "2                -5             -2430   -929    1.648376    0.591670   \n",
       "3                19             -3018  -2677    1.129597    1.101797   \n",
       "4               -19             -1243   -929    1.947473    0.746014   \n",
       "\n",
       "   speed_std  \n",
       "0   0.206626  \n",
       "1   0.284804  \n",
       "2   0.369886  \n",
       "3   0.574736  \n",
       "4   0.821157  "
      ]
     },
     "execution_count": 17,
     "metadata": {},
     "output_type": "execute_result"
    }
   ],
   "source": [
    "global_results_2 = pd.read_csv(output_data_dir + 'global_errors_2.csv')\n",
    "global_results_2.head()"
   ]
  },
  {
   "cell_type": "code",
   "execution_count": 18,
   "metadata": {},
   "outputs": [
    {
     "data": {
      "text/html": [
       "<div>\n",
       "<style scoped>\n",
       "    .dataframe tbody tr th:only-of-type {\n",
       "        vertical-align: middle;\n",
       "    }\n",
       "\n",
       "    .dataframe tbody tr th {\n",
       "        vertical-align: top;\n",
       "    }\n",
       "\n",
       "    .dataframe thead th {\n",
       "        text-align: right;\n",
       "    }\n",
       "</style>\n",
       "<table border=\"1\" class=\"dataframe\">\n",
       "  <thead>\n",
       "    <tr style=\"text-align: right;\">\n",
       "      <th></th>\n",
       "      <th>n_max_active_pop</th>\n",
       "      <th>t_max_active_pop</th>\n",
       "      <th>t_max</th>\n",
       "      <th>birth_rate</th>\n",
       "      <th>speed_mean</th>\n",
       "      <th>speed_std</th>\n",
       "    </tr>\n",
       "  </thead>\n",
       "  <tbody>\n",
       "    <tr>\n",
       "      <th>0</th>\n",
       "      <td>-2</td>\n",
       "      <td>-1918</td>\n",
       "      <td>-1347</td>\n",
       "      <td>1.676514</td>\n",
       "      <td>1.200437</td>\n",
       "      <td>0.875349</td>\n",
       "    </tr>\n",
       "    <tr>\n",
       "      <th>1</th>\n",
       "      <td>28</td>\n",
       "      <td>-5262</td>\n",
       "      <td>-2986</td>\n",
       "      <td>1.012703</td>\n",
       "      <td>1.227858</td>\n",
       "      <td>0.961166</td>\n",
       "    </tr>\n",
       "    <tr>\n",
       "      <th>2</th>\n",
       "      <td>26</td>\n",
       "      <td>-1366</td>\n",
       "      <td>-2947</td>\n",
       "      <td>1.099929</td>\n",
       "      <td>0.913588</td>\n",
       "      <td>0.239050</td>\n",
       "    </tr>\n",
       "    <tr>\n",
       "      <th>3</th>\n",
       "      <td>0</td>\n",
       "      <td>-1644</td>\n",
       "      <td>-961</td>\n",
       "      <td>1.744154</td>\n",
       "      <td>1.008066</td>\n",
       "      <td>0.360198</td>\n",
       "    </tr>\n",
       "    <tr>\n",
       "      <th>4</th>\n",
       "      <td>15</td>\n",
       "      <td>-674</td>\n",
       "      <td>-1626</td>\n",
       "      <td>1.293228</td>\n",
       "      <td>0.692892</td>\n",
       "      <td>0.760676</td>\n",
       "    </tr>\n",
       "  </tbody>\n",
       "</table>\n",
       "</div>"
      ],
      "text/plain": [
       "   n_max_active_pop  t_max_active_pop  t_max  birth_rate  speed_mean  \\\n",
       "0                -2             -1918  -1347    1.676514    1.200437   \n",
       "1                28             -5262  -2986    1.012703    1.227858   \n",
       "2                26             -1366  -2947    1.099929    0.913588   \n",
       "3                 0             -1644   -961    1.744154    1.008066   \n",
       "4                15              -674  -1626    1.293228    0.692892   \n",
       "\n",
       "   speed_std  \n",
       "0   0.875349  \n",
       "1   0.961166  \n",
       "2   0.239050  \n",
       "3   0.360198  \n",
       "4   0.760676  "
      ]
     },
     "execution_count": 18,
     "metadata": {},
     "output_type": "execute_result"
    }
   ],
   "source": [
    "global_results = pd.concat([global_results_1, global_results_2])\n",
    "global_results.head()"
   ]
  },
  {
   "cell_type": "code",
   "execution_count": 19,
   "metadata": {},
   "outputs": [
    {
     "name": "stdout",
     "output_type": "stream",
     "text": [
      "(100, 6) (100, 6) (200, 6)\n"
     ]
    }
   ],
   "source": [
    "print(global_results_1.shape, global_results_2.shape, global_results.shape)"
   ]
  },
  {
   "cell_type": "markdown",
   "metadata": {},
   "source": [
    "### Regression setup"
   ]
  },
  {
   "cell_type": "code",
   "execution_count": 20,
   "metadata": {},
   "outputs": [],
   "source": [
    "import statsmodels.api as sm"
   ]
  },
  {
   "cell_type": "markdown",
   "metadata": {},
   "source": [
    "### Regression: Maximum number of pedestrians in environment"
   ]
  },
  {
   "cell_type": "code",
   "execution_count": 21,
   "metadata": {},
   "outputs": [],
   "source": [
    "predictor_vars = ['birth_rate', 'speed_mean', 'speed_std']\n",
    "response_var = ['n_max_active_pop']"
   ]
  },
  {
   "cell_type": "code",
   "execution_count": 22,
   "metadata": {},
   "outputs": [],
   "source": [
    "Y = global_results.loc[:, response_var]\n",
    "X = global_results.loc[:, predictor_vars]\n",
    "X = sm.add_constant(X)"
   ]
  },
  {
   "cell_type": "code",
   "execution_count": 23,
   "metadata": {},
   "outputs": [
    {
     "name": "stdout",
     "output_type": "stream",
     "text": [
      "(200, 4)\n"
     ]
    }
   ],
   "source": [
    "print(X.shape)"
   ]
  },
  {
   "cell_type": "code",
   "execution_count": 24,
   "metadata": {},
   "outputs": [
    {
     "name": "stdout",
     "output_type": "stream",
     "text": [
      "(200, 1)\n"
     ]
    }
   ],
   "source": [
    "print(Y.shape)"
   ]
  },
  {
   "cell_type": "code",
   "execution_count": 25,
   "metadata": {},
   "outputs": [],
   "source": [
    "ols = sm.OLS(Y, X).fit()"
   ]
  },
  {
   "cell_type": "code",
   "execution_count": 26,
   "metadata": {},
   "outputs": [
    {
     "data": {
      "text/html": [
       "<table class=\"simpletable\">\n",
       "<caption>OLS Regression Results</caption>\n",
       "<tr>\n",
       "  <th>Dep. Variable:</th>    <td>n_max_active_pop</td> <th>  R-squared:         </th> <td>   0.917</td> \n",
       "</tr>\n",
       "<tr>\n",
       "  <th>Model:</th>                   <td>OLS</td>       <th>  Adj. R-squared:    </th> <td>   0.916</td> \n",
       "</tr>\n",
       "<tr>\n",
       "  <th>Method:</th>             <td>Least Squares</td>  <th>  F-statistic:       </th> <td>   719.7</td> \n",
       "</tr>\n",
       "<tr>\n",
       "  <th>Date:</th>             <td>Wed, 20 Jan 2021</td> <th>  Prob (F-statistic):</th> <td>1.65e-105</td>\n",
       "</tr>\n",
       "<tr>\n",
       "  <th>Time:</th>                 <td>13:53:31</td>     <th>  Log-Likelihood:    </th> <td> -574.04</td> \n",
       "</tr>\n",
       "<tr>\n",
       "  <th>No. Observations:</th>      <td>   200</td>      <th>  AIC:               </th> <td>   1156.</td> \n",
       "</tr>\n",
       "<tr>\n",
       "  <th>Df Residuals:</th>          <td>   196</td>      <th>  BIC:               </th> <td>   1169.</td> \n",
       "</tr>\n",
       "<tr>\n",
       "  <th>Df Model:</th>              <td>     3</td>      <th>                     </th>     <td> </td>    \n",
       "</tr>\n",
       "<tr>\n",
       "  <th>Covariance Type:</th>      <td>nonrobust</td>    <th>                     </th>     <td> </td>    \n",
       "</tr>\n",
       "</table>\n",
       "<table class=\"simpletable\">\n",
       "<tr>\n",
       "       <td></td>         <th>coef</th>     <th>std err</th>      <th>t</th>      <th>P>|t|</th>  <th>[0.025</th>    <th>0.975]</th>  \n",
       "</tr>\n",
       "<tr>\n",
       "  <th>const</th>      <td>   64.5287</td> <td>    2.036</td> <td>   31.692</td> <td> 0.000</td> <td>   60.513</td> <td>   68.544</td>\n",
       "</tr>\n",
       "<tr>\n",
       "  <th>birth_rate</th> <td>  -47.0461</td> <td>    1.035</td> <td>  -45.453</td> <td> 0.000</td> <td>  -49.087</td> <td>  -45.005</td>\n",
       "</tr>\n",
       "<tr>\n",
       "  <th>speed_mean</th> <td>   10.7265</td> <td>    1.060</td> <td>   10.124</td> <td> 0.000</td> <td>    8.637</td> <td>   12.816</td>\n",
       "</tr>\n",
       "<tr>\n",
       "  <th>speed_std</th>  <td>   -0.0905</td> <td>    1.321</td> <td>   -0.069</td> <td> 0.945</td> <td>   -2.695</td> <td>    2.514</td>\n",
       "</tr>\n",
       "</table>\n",
       "<table class=\"simpletable\">\n",
       "<tr>\n",
       "  <th>Omnibus:</th>       <td> 3.440</td> <th>  Durbin-Watson:     </th> <td>   2.011</td>\n",
       "</tr>\n",
       "<tr>\n",
       "  <th>Prob(Omnibus):</th> <td> 0.179</td> <th>  Jarque-Bera (JB):  </th> <td>   3.634</td>\n",
       "</tr>\n",
       "<tr>\n",
       "  <th>Skew:</th>          <td> 0.125</td> <th>  Prob(JB):          </th> <td>   0.163</td>\n",
       "</tr>\n",
       "<tr>\n",
       "  <th>Kurtosis:</th>      <td> 3.611</td> <th>  Cond. No.          </th> <td>    16.3</td>\n",
       "</tr>\n",
       "</table><br/><br/>Notes:<br/>[1] Standard Errors assume that the covariance matrix of the errors is correctly specified."
      ],
      "text/plain": [
       "<class 'statsmodels.iolib.summary.Summary'>\n",
       "\"\"\"\n",
       "                            OLS Regression Results                            \n",
       "==============================================================================\n",
       "Dep. Variable:       n_max_active_pop   R-squared:                       0.917\n",
       "Model:                            OLS   Adj. R-squared:                  0.916\n",
       "Method:                 Least Squares   F-statistic:                     719.7\n",
       "Date:                Wed, 20 Jan 2021   Prob (F-statistic):          1.65e-105\n",
       "Time:                        13:53:31   Log-Likelihood:                -574.04\n",
       "No. Observations:                 200   AIC:                             1156.\n",
       "Df Residuals:                     196   BIC:                             1169.\n",
       "Df Model:                           3                                         \n",
       "Covariance Type:            nonrobust                                         \n",
       "==============================================================================\n",
       "                 coef    std err          t      P>|t|      [0.025      0.975]\n",
       "------------------------------------------------------------------------------\n",
       "const         64.5287      2.036     31.692      0.000      60.513      68.544\n",
       "birth_rate   -47.0461      1.035    -45.453      0.000     -49.087     -45.005\n",
       "speed_mean    10.7265      1.060     10.124      0.000       8.637      12.816\n",
       "speed_std     -0.0905      1.321     -0.069      0.945      -2.695       2.514\n",
       "==============================================================================\n",
       "Omnibus:                        3.440   Durbin-Watson:                   2.011\n",
       "Prob(Omnibus):                  0.179   Jarque-Bera (JB):                3.634\n",
       "Skew:                           0.125   Prob(JB):                        0.163\n",
       "Kurtosis:                       3.611   Cond. No.                         16.3\n",
       "==============================================================================\n",
       "\n",
       "Notes:\n",
       "[1] Standard Errors assume that the covariance matrix of the errors is correctly specified.\n",
       "\"\"\""
      ]
     },
     "execution_count": 26,
     "metadata": {},
     "output_type": "execute_result"
    }
   ],
   "source": [
    "ols.summary()"
   ]
  },
  {
   "cell_type": "code",
   "execution_count": 27,
   "metadata": {},
   "outputs": [
    {
     "data": {
      "image/png": "[encoded data removed]",
      "text/plain": [
       "<Figure size 432x288 with 1 Axes>"
      ]
     },
     "metadata": {
      "needs_background": "light"
     },
     "output_type": "display_data"
    },
    {
     "data": {
      "image/png": "[encoded data removed]",
      "text/plain": [
       "<Figure size 432x288 with 1 Axes>"
      ]
     },
     "metadata": {
      "needs_background": "light"
     },
     "output_type": "display_data"
    },
    {
     "data": {
      "image/png": "[encoded data removed]",
      "text/plain": [
       "<Figure size 432x288 with 1 Axes>"
      ]
     },
     "metadata": {
      "needs_background": "light"
     },
     "output_type": "display_data"
    }
   ],
   "source": [
    "for predictor_var in predictor_vars:\n",
    "    plt.figure()\n",
    "    sns.scatterplot(x=predictor_var, y=response_var[0], data=global_results)\n",
    "    plt.savefig(fig_dir + f'global/{predictor_var}_n_max_pop.pdf')\n",
    "    plt.show()"
   ]
  },
  {
   "cell_type": "markdown",
   "metadata": {},
   "source": [
    "### Regression: Time of maximum number of pedestrians"
   ]
  },
  {
   "cell_type": "code",
   "execution_count": 28,
   "metadata": {},
   "outputs": [],
   "source": [
    "response_var = ['t_max_active_pop']"
   ]
  },
  {
   "cell_type": "code",
   "execution_count": 29,
   "metadata": {},
   "outputs": [],
   "source": [
    "Y = global_results.loc[:, response_var]"
   ]
  },
  {
   "cell_type": "code",
   "execution_count": 30,
   "metadata": {},
   "outputs": [],
   "source": [
    "ols = sm.OLS(Y, X).fit()"
   ]
  },
  {
   "cell_type": "code",
   "execution_count": 31,
   "metadata": {},
   "outputs": [
    {
     "data": {
      "text/html": [
       "<table class=\"simpletable\">\n",
       "<caption>OLS Regression Results</caption>\n",
       "<tr>\n",
       "  <th>Dep. Variable:</th>    <td>t_max_active_pop</td> <th>  R-squared:         </th> <td>   0.261</td>\n",
       "</tr>\n",
       "<tr>\n",
       "  <th>Model:</th>                   <td>OLS</td>       <th>  Adj. R-squared:    </th> <td>   0.249</td>\n",
       "</tr>\n",
       "<tr>\n",
       "  <th>Method:</th>             <td>Least Squares</td>  <th>  F-statistic:       </th> <td>   23.04</td>\n",
       "</tr>\n",
       "<tr>\n",
       "  <th>Date:</th>             <td>Wed, 20 Jan 2021</td> <th>  Prob (F-statistic):</th> <td>8.08e-13</td>\n",
       "</tr>\n",
       "<tr>\n",
       "  <th>Time:</th>                 <td>13:53:32</td>     <th>  Log-Likelihood:    </th> <td> -1628.2</td>\n",
       "</tr>\n",
       "<tr>\n",
       "  <th>No. Observations:</th>      <td>   200</td>      <th>  AIC:               </th> <td>   3264.</td>\n",
       "</tr>\n",
       "<tr>\n",
       "  <th>Df Residuals:</th>          <td>   196</td>      <th>  BIC:               </th> <td>   3278.</td>\n",
       "</tr>\n",
       "<tr>\n",
       "  <th>Df Model:</th>              <td>     3</td>      <th>                     </th>     <td> </td>   \n",
       "</tr>\n",
       "<tr>\n",
       "  <th>Covariance Type:</th>      <td>nonrobust</td>    <th>                     </th>     <td> </td>   \n",
       "</tr>\n",
       "</table>\n",
       "<table class=\"simpletable\">\n",
       "<tr>\n",
       "       <td></td>         <th>coef</th>     <th>std err</th>      <th>t</th>      <th>P>|t|</th>  <th>[0.025</th>    <th>0.975]</th>  \n",
       "</tr>\n",
       "<tr>\n",
       "  <th>const</th>      <td>-4198.7089</td> <td>  396.164</td> <td>  -10.598</td> <td> 0.000</td> <td>-4980.001</td> <td>-3417.417</td>\n",
       "</tr>\n",
       "<tr>\n",
       "  <th>birth_rate</th> <td> 1617.3883</td> <td>  201.387</td> <td>    8.031</td> <td> 0.000</td> <td> 1220.224</td> <td> 2014.552</td>\n",
       "</tr>\n",
       "<tr>\n",
       "  <th>speed_mean</th> <td> -445.8812</td> <td>  206.147</td> <td>   -2.163</td> <td> 0.032</td> <td> -852.433</td> <td>  -39.329</td>\n",
       "</tr>\n",
       "<tr>\n",
       "  <th>speed_std</th>  <td>  130.0261</td> <td>  256.983</td> <td>    0.506</td> <td> 0.613</td> <td> -376.781</td> <td>  636.833</td>\n",
       "</tr>\n",
       "</table>\n",
       "<table class=\"simpletable\">\n",
       "<tr>\n",
       "  <th>Omnibus:</th>       <td> 0.282</td> <th>  Durbin-Watson:     </th> <td>   2.151</td>\n",
       "</tr>\n",
       "<tr>\n",
       "  <th>Prob(Omnibus):</th> <td> 0.869</td> <th>  Jarque-Bera (JB):  </th> <td>   0.128</td>\n",
       "</tr>\n",
       "<tr>\n",
       "  <th>Skew:</th>          <td> 0.053</td> <th>  Prob(JB):          </th> <td>   0.938</td>\n",
       "</tr>\n",
       "<tr>\n",
       "  <th>Kurtosis:</th>      <td> 3.063</td> <th>  Cond. No.          </th> <td>    16.3</td>\n",
       "</tr>\n",
       "</table><br/><br/>Notes:<br/>[1] Standard Errors assume that the covariance matrix of the errors is correctly specified."
      ],
      "text/plain": [
       "<class 'statsmodels.iolib.summary.Summary'>\n",
       "\"\"\"\n",
       "                            OLS Regression Results                            \n",
       "==============================================================================\n",
       "Dep. Variable:       t_max_active_pop   R-squared:                       0.261\n",
       "Model:                            OLS   Adj. R-squared:                  0.249\n",
       "Method:                 Least Squares   F-statistic:                     23.04\n",
       "Date:                Wed, 20 Jan 2021   Prob (F-statistic):           8.08e-13\n",
       "Time:                        13:53:32   Log-Likelihood:                -1628.2\n",
       "No. Observations:                 200   AIC:                             3264.\n",
       "Df Residuals:                     196   BIC:                             3278.\n",
       "Df Model:                           3                                         \n",
       "Covariance Type:            nonrobust                                         \n",
       "==============================================================================\n",
       "                 coef    std err          t      P>|t|      [0.025      0.975]\n",
       "------------------------------------------------------------------------------\n",
       "const      -4198.7089    396.164    -10.598      0.000   -4980.001   -3417.417\n",
       "birth_rate  1617.3883    201.387      8.031      0.000    1220.224    2014.552\n",
       "speed_mean  -445.8812    206.147     -2.163      0.032    -852.433     -39.329\n",
       "speed_std    130.0261    256.983      0.506      0.613    -376.781     636.833\n",
       "==============================================================================\n",
       "Omnibus:                        0.282   Durbin-Watson:                   2.151\n",
       "Prob(Omnibus):                  0.869   Jarque-Bera (JB):                0.128\n",
       "Skew:                           0.053   Prob(JB):                        0.938\n",
       "Kurtosis:                       3.063   Cond. No.                         16.3\n",
       "==============================================================================\n",
       "\n",
       "Notes:\n",
       "[1] Standard Errors assume that the covariance matrix of the errors is correctly specified.\n",
       "\"\"\""
      ]
     },
     "execution_count": 31,
     "metadata": {},
     "output_type": "execute_result"
    }
   ],
   "source": [
    "ols.summary()"
   ]
  },
  {
   "cell_type": "code",
   "execution_count": 32,
   "metadata": {},
   "outputs": [
    {
     "data": {
      "image/png": "[encoded data removed]",
      "text/plain": [
       "<Figure size 432x288 with 1 Axes>"
      ]
     },
     "metadata": {
      "needs_background": "light"
     },
     "output_type": "display_data"
    },
    {
     "data": {
      "image/png": "[encoded data removed]",
      "text/plain": [
       "<Figure size 432x288 with 1 Axes>"
      ]
     },
     "metadata": {
      "needs_background": "light"
     },
     "output_type": "display_data"
    },
    {
     "data": {
      "image/png": "[encoded data removed]",
      "text/plain": [
       "<Figure size 432x288 with 1 Axes>"
      ]
     },
     "metadata": {
      "needs_background": "light"
     },
     "output_type": "display_data"
    }
   ],
   "source": [
    "for predictor_var in predictor_vars:\n",
    "    plt.figure()\n",
    "    sns.scatterplot(x=predictor_var, y=response_var[0], data=global_results)\n",
    "    plt.savefig(fig_dir + f'global/{predictor_var}_t_max_pop.pdf')\n",
    "    plt.show()"
   ]
  },
  {
   "cell_type": "markdown",
   "metadata": {},
   "source": [
    "### Regression: Time of completion"
   ]
  },
  {
   "cell_type": "code",
   "execution_count": 33,
   "metadata": {},
   "outputs": [],
   "source": [
    "response_var = ['t_max']"
   ]
  },
  {
   "cell_type": "code",
   "execution_count": 34,
   "metadata": {},
   "outputs": [],
   "source": [
    "Y = global_results.loc[:, response_var]"
   ]
  },
  {
   "cell_type": "code",
   "execution_count": 35,
   "metadata": {},
   "outputs": [],
   "source": [
    "ols = sm.OLS(Y, X).fit()"
   ]
  },
  {
   "cell_type": "code",
   "execution_count": 36,
   "metadata": {},
   "outputs": [
    {
     "data": {
      "text/html": [
       "<table class=\"simpletable\">\n",
       "<caption>OLS Regression Results</caption>\n",
       "<tr>\n",
       "  <th>Dep. Variable:</th>          <td>t_max</td>      <th>  R-squared:         </th> <td>   0.781</td>\n",
       "</tr>\n",
       "<tr>\n",
       "  <th>Model:</th>                   <td>OLS</td>       <th>  Adj. R-squared:    </th> <td>   0.778</td>\n",
       "</tr>\n",
       "<tr>\n",
       "  <th>Method:</th>             <td>Least Squares</td>  <th>  F-statistic:       </th> <td>   233.4</td>\n",
       "</tr>\n",
       "<tr>\n",
       "  <th>Date:</th>             <td>Wed, 20 Jan 2021</td> <th>  Prob (F-statistic):</th> <td>1.97e-64</td>\n",
       "</tr>\n",
       "<tr>\n",
       "  <th>Time:</th>                 <td>13:53:32</td>     <th>  Log-Likelihood:    </th> <td> -1510.9</td>\n",
       "</tr>\n",
       "<tr>\n",
       "  <th>No. Observations:</th>      <td>   200</td>      <th>  AIC:               </th> <td>   3030.</td>\n",
       "</tr>\n",
       "<tr>\n",
       "  <th>Df Residuals:</th>          <td>   196</td>      <th>  BIC:               </th> <td>   3043.</td>\n",
       "</tr>\n",
       "<tr>\n",
       "  <th>Df Model:</th>              <td>     3</td>      <th>                     </th>     <td> </td>   \n",
       "</tr>\n",
       "<tr>\n",
       "  <th>Covariance Type:</th>      <td>nonrobust</td>    <th>                     </th>     <td> </td>   \n",
       "</tr>\n",
       "</table>\n",
       "<table class=\"simpletable\">\n",
       "<tr>\n",
       "       <td></td>         <th>coef</th>     <th>std err</th>      <th>t</th>      <th>P>|t|</th>  <th>[0.025</th>    <th>0.975]</th>  \n",
       "</tr>\n",
       "<tr>\n",
       "  <th>const</th>      <td>-6415.5400</td> <td>  220.373</td> <td>  -29.112</td> <td> 0.000</td> <td>-6850.147</td> <td>-5980.933</td>\n",
       "</tr>\n",
       "<tr>\n",
       "  <th>birth_rate</th> <td> 2942.8234</td> <td>  112.025</td> <td>   26.269</td> <td> 0.000</td> <td> 2721.894</td> <td> 3163.752</td>\n",
       "</tr>\n",
       "<tr>\n",
       "  <th>speed_mean</th> <td>  292.8607</td> <td>  114.673</td> <td>    2.554</td> <td> 0.011</td> <td>   66.709</td> <td>  519.012</td>\n",
       "</tr>\n",
       "<tr>\n",
       "  <th>speed_std</th>  <td> -246.0445</td> <td>  142.951</td> <td>   -1.721</td> <td> 0.087</td> <td> -527.964</td> <td>   35.875</td>\n",
       "</tr>\n",
       "</table>\n",
       "<table class=\"simpletable\">\n",
       "<tr>\n",
       "  <th>Omnibus:</th>       <td>32.723</td> <th>  Durbin-Watson:     </th> <td>   2.040</td>\n",
       "</tr>\n",
       "<tr>\n",
       "  <th>Prob(Omnibus):</th> <td> 0.000</td> <th>  Jarque-Bera (JB):  </th> <td>  54.180</td>\n",
       "</tr>\n",
       "<tr>\n",
       "  <th>Skew:</th>          <td>-0.872</td> <th>  Prob(JB):          </th> <td>1.72e-12</td>\n",
       "</tr>\n",
       "<tr>\n",
       "  <th>Kurtosis:</th>      <td> 4.860</td> <th>  Cond. No.          </th> <td>    16.3</td>\n",
       "</tr>\n",
       "</table><br/><br/>Notes:<br/>[1] Standard Errors assume that the covariance matrix of the errors is correctly specified."
      ],
      "text/plain": [
       "<class 'statsmodels.iolib.summary.Summary'>\n",
       "\"\"\"\n",
       "                            OLS Regression Results                            \n",
       "==============================================================================\n",
       "Dep. Variable:                  t_max   R-squared:                       0.781\n",
       "Model:                            OLS   Adj. R-squared:                  0.778\n",
       "Method:                 Least Squares   F-statistic:                     233.4\n",
       "Date:                Wed, 20 Jan 2021   Prob (F-statistic):           1.97e-64\n",
       "Time:                        13:53:32   Log-Likelihood:                -1510.9\n",
       "No. Observations:                 200   AIC:                             3030.\n",
       "Df Residuals:                     196   BIC:                             3043.\n",
       "Df Model:                           3                                         \n",
       "Covariance Type:            nonrobust                                         \n",
       "==============================================================================\n",
       "                 coef    std err          t      P>|t|      [0.025      0.975]\n",
       "------------------------------------------------------------------------------\n",
       "const      -6415.5400    220.373    -29.112      0.000   -6850.147   -5980.933\n",
       "birth_rate  2942.8234    112.025     26.269      0.000    2721.894    3163.752\n",
       "speed_mean   292.8607    114.673      2.554      0.011      66.709     519.012\n",
       "speed_std   -246.0445    142.951     -1.721      0.087    -527.964      35.875\n",
       "==============================================================================\n",
       "Omnibus:                       32.723   Durbin-Watson:                   2.040\n",
       "Prob(Omnibus):                  0.000   Jarque-Bera (JB):               54.180\n",
       "Skew:                          -0.872   Prob(JB):                     1.72e-12\n",
       "Kurtosis:                       4.860   Cond. No.                         16.3\n",
       "==============================================================================\n",
       "\n",
       "Notes:\n",
       "[1] Standard Errors assume that the covariance matrix of the errors is correctly specified.\n",
       "\"\"\""
      ]
     },
     "execution_count": 36,
     "metadata": {},
     "output_type": "execute_result"
    }
   ],
   "source": [
    "ols.summary()"
   ]
  },
  {
   "cell_type": "code",
   "execution_count": 37,
   "metadata": {},
   "outputs": [
    {
     "data": {
      "image/png": "[encoded data removed]",
      "text/plain": [
       "<Figure size 432x288 with 1 Axes>"
      ]
     },
     "metadata": {
      "needs_background": "light"
     },
     "output_type": "display_data"
    },
    {
     "data": {
      "image/png": "[encoded data removed]",
      "text/plain": [
       "<Figure size 432x288 with 1 Axes>"
      ]
     },
     "metadata": {
      "needs_background": "light"
     },
     "output_type": "display_data"
    },
    {
     "data": {
      "image/png": "[encoded data removed]",
      "text/plain": [
       "<Figure size 432x288 with 1 Axes>"
      ]
     },
     "metadata": {
      "needs_background": "light"
     },
     "output_type": "display_data"
    }
   ],
   "source": [
    "for predictor_var in predictor_vars:\n",
    "    plt.figure()\n",
    "    sns.scatterplot(x=predictor_var, y=response_var[0], data=global_results)\n",
    "    plt.savefig(fig_dir + f'global/{predictor_var}_t_max.pdf')\n",
    "    plt.show()"
   ]
  },
  {
   "cell_type": "markdown",
   "metadata": {},
   "source": [
    "### Visualisations"
   ]
  },
  {
   "cell_type": "markdown",
   "metadata": {},
   "source": [
    "Read in model pickles:"
   ]
  },
  {
   "cell_type": "code",
   "execution_count": null,
   "metadata": {},
   "outputs": [
    {
     "name": "stderr",
     "output_type": "stream",
     "text": [
      " 38%|███▊      | 77/200 [01:03<01:20,  1.54it/s]"
     ]
    }
   ],
   "source": [
    "agent_data = list()\n",
    "\n",
    "for filename in tqdm(os.listdir(model_dir)):\n",
    "    full_filename = model_dir + filename\n",
    "    with open(full_filename, 'rb') as f:\n",
    "        model = pickle.load(f)\n",
    "    agent_data.append(model.history_state)\n",
    "\n",
    "print(len(agent_data))"
   ]
  }
 ],
 "metadata": {
  "kernelspec": {
   "display_name": "Python 3",
   "language": "python",
   "name": "python3"
  },
  "language_info": {
   "codemirror_mode": {
    "name": "ipython",
    "version": 3
   },
   "file_extension": ".py",
   "mimetype": "text/x-python",
   "name": "python",
   "nbconvert_exporter": "python",
   "pygments_lexer": "ipython3",
   "version": "3.8.3"
  },
  "toc-autonumbering": true,
  "toc-showcode": false,
  "toc-showmarkdowntxt": false,
  "toc-showtags": false
 },
 "nbformat": 4,
 "nbformat_minor": 4
}
