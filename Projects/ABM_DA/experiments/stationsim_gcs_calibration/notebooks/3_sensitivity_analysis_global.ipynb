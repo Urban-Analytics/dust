{
 "cells": [
  {
   "cell_type": "markdown",
   "metadata": {},
   "source": [
    "# Sensitivity analysis"
   ]
  },
  {
   "cell_type": "markdown",
   "metadata": {},
   "source": [
    "## What is sensitivity analysis?"
   ]
  },
  {
   "cell_type": "markdown",
   "metadata": {},
   "source": [
    "Sensitivity analysis is an approach to model analysis which seeks to explore how the model behaviour varies with respect to changes in model parameters.\n",
    "It can be undertaken with a view to different ideas:\n",
    "* We may wish to confirm that the parameter values arrived at through calibration are \"optimal\". Model calibration undertaken via an optimisation seeks to minimise some cost function/error, and in this situation, the introduction of perturbations to these parameter values should result in an increase in this cost function/error - in this situation, sensitivity analysis would consist of instroducing perturbations to the parameter values and exploring how the cost function varies.\n",
    "* We may wish to explore variable importance. We can compare the extent to which model behaviour changes in response to changes in different parameters values, ranking variables based on which induce the greatest changes in model behaviour. In order to explore this, a cost function/error metric would again be required to quantify the behaviour of the model.\n",
    "* We may simply wish to explore the model behaviour. We can explore how the model behaviour changes in response to changes in different parameter values; this could be something more visual."
   ]
  },
  {
   "cell_type": "markdown",
   "metadata": {},
   "source": [
    "We may wish to divide approaches to sensitivity analysis into two categories: local approaches and global approaches.\n",
    "\n",
    "Local approaches seek to quantify the impact of small perturbations in model parameters.\n",
    "A common approach to this is to use a one-factor-at-a-time method (OAT) whereby small perturbations are introduced to one of the model parameters in question whilst keeping all other model parameters the same, allowing us to understand the impact of changes to a model parameter in isolation.\n",
    "This may, however, overlook interactions between model parameters that may lead to non-linear responses in model behaviour.\n",
    "\n",
    "Global approaches focus on much larger ranges of parameter values, seeking to explore how the model behaviour varies in response to changes in the model parameters over all parameter space.\n",
    "Furthermore, this may also explore the response of the system to simultaneous changes in multiple parameter values."
   ]
  },
  {
   "cell_type": "markdown",
   "metadata": {},
   "source": [
    "In this specific case, we wish to explore the sensitivity of the model with respect to the following parameters:\n",
    "* Mean agent speed\n",
    "* Standard deviation of agent speed\n",
    "* Agent activation rate"
   ]
  },
  {
   "cell_type": "markdown",
   "metadata": {},
   "source": [
    "In order to explore the impact of these parameters, we use the following methods:\n",
    "* Visual methods: Plotting heatmap of agent positions aggregated over all frames to show parts of the model environment that are heavily frequented by agents.\n",
    "* Numerical methods:\n",
    "    * Error with respect to maximum number of pedestrians in environment in environment at any given time\n",
    "    * Error with respect to time taken for all pedestrians to complete their journey\n",
    "    * Error with respect to the time at which the maximum number of pedestrians in the system at a given time occurs\n",
    "\n",
    "The visual approach provides us with a qualitative idea of how the model responds to changes in the inputs parameters, whereas the numerical approaches provide us with a quantitative picture."
   ]
  },
  {
   "cell_type": "markdown",
   "metadata": {},
   "source": [
    "## Setup"
   ]
  },
  {
   "cell_type": "markdown",
   "metadata": {},
   "source": [
    "This section seeks to provide the groundwork for the various approaches to sensitivity analysis that will be carried out below.\n",
    "In short, this means:\n",
    "* Importing the required packages/modules,\n",
    "* Defining paths and directories to inputs and outputs,\n",
    "* Defining any constants that may be used over the course of the analysis,\n",
    "* Defining any classes that we may require that aren't defined elsewhere, and\n",
    "* Defining functions that we wish to use."
   ]
  },
  {
   "cell_type": "markdown",
   "metadata": {},
   "source": [
    "### Imports"
   ]
  },
  {
   "cell_type": "markdown",
   "metadata": {},
   "source": [
    "Standard imports:"
   ]
  },
  {
   "cell_type": "code",
   "execution_count": 1,
   "metadata": {},
   "outputs": [],
   "source": [
    "# System and files\n",
    "import json\n",
    "import os\n",
    "import pickle\n",
    "import sys\n",
    "import time\n",
    "from tqdm import tqdm\n",
    "\n",
    "# Data handling\n",
    "import pandas as pd\n",
    "import numpy as np\n",
    "\n",
    "# Vis\n",
    "import matplotlib.pyplot as plt\n",
    "import seaborn as sns\n",
    "\n",
    "%matplotlib inline"
   ]
  },
  {
   "cell_type": "markdown",
   "metadata": {},
   "source": [
    "Add `stationsim` module to path:"
   ]
  },
  {
   "cell_type": "code",
   "execution_count": 2,
   "metadata": {},
   "outputs": [],
   "source": [
    "sys.path.append('../../../stationsim/')"
   ]
  },
  {
   "cell_type": "markdown",
   "metadata": {},
   "source": [
    "Import `stationsim_gcs`:"
   ]
  },
  {
   "cell_type": "code",
   "execution_count": 3,
   "metadata": {},
   "outputs": [],
   "source": [
    "from stationsim_gcs_model import Model"
   ]
  },
  {
   "cell_type": "markdown",
   "metadata": {},
   "source": [
    "### Paths and directories"
   ]
  },
  {
   "cell_type": "code",
   "execution_count": 4,
   "metadata": {},
   "outputs": [],
   "source": [
    "output_data_dir = '../outputs/data/'"
   ]
  },
  {
   "cell_type": "code",
   "execution_count": 5,
   "metadata": {},
   "outputs": [],
   "source": [
    "fig_dir = '../outputs/figures/sensitivity_analysis/'"
   ]
  },
  {
   "cell_type": "code",
   "execution_count": 6,
   "metadata": {},
   "outputs": [],
   "source": [
    "model_dir = '../outputs/models/'"
   ]
  },
  {
   "cell_type": "markdown",
   "metadata": {},
   "source": [
    "### Constants"
   ]
  },
  {
   "cell_type": "markdown",
   "metadata": {},
   "source": [
    "Observed in the previous notebooks"
   ]
  },
  {
   "cell_type": "code",
   "execution_count": 7,
   "metadata": {},
   "outputs": [],
   "source": [
    "# Maximum number of pedestrians in the system at any one time\n",
    "max_n_peds = 85\n",
    "\n",
    "# Time at which the maximum number of pedestrians in the sytem occurs\n",
    "t_max_n_peds = 1454\n",
    "\n",
    "# Time at which all pedestrians have completed their trajectories\n",
    "end_frame = 5687"
   ]
  },
  {
   "cell_type": "markdown",
   "metadata": {},
   "source": [
    "Observed in the previous notebook"
   ]
  },
  {
   "cell_type": "code",
   "execution_count": 8,
   "metadata": {},
   "outputs": [],
   "source": [
    "scaling_factor = 25/14\n",
    "\n",
    "DEFAULT_SPEED_MEAN = 1.6026400144010877 / scaling_factor\n",
    "DEFAULT_SPEED_STD = 0.6642343305178546 / scaling_factor\n",
    "DEFAULT_ACTIVATION_RATE = 1.6"
   ]
  },
  {
   "cell_type": "markdown",
   "metadata": {},
   "source": [
    "Required for running models and testing the outputs"
   ]
  },
  {
   "cell_type": "code",
   "execution_count": 9,
   "metadata": {},
   "outputs": [],
   "source": [
    "base_model_params = {'station': 'Grand_Central',\n",
    "                     'speed_min': 0.31125359137714953 / scaling_factor,\n",
    "                     'step_limit': 20000,\n",
    "                     'do_print': False,\n",
    "                     'pop_total': 274}"
   ]
  },
  {
   "cell_type": "code",
   "execution_count": 10,
   "metadata": {},
   "outputs": [],
   "source": [
    "data_results = {'n_max_active_pop': max_n_peds,\n",
    "                't_max_active_pop': t_max_n_peds,\n",
    "                't_max': end_frame}"
   ]
  },
  {
   "cell_type": "markdown",
   "metadata": {},
   "source": [
    "### Classes"
   ]
  },
  {
   "cell_type": "markdown",
   "metadata": {},
   "source": [
    "### Functions"
   ]
  },
  {
   "cell_type": "code",
   "execution_count": 11,
   "metadata": {},
   "outputs": [],
   "source": [
    "def __get_error(observed, model, variable):\n",
    "    return observed[variable] - model[variable]"
   ]
  },
  {
   "cell_type": "code",
   "execution_count": 12,
   "metadata": {},
   "outputs": [],
   "source": [
    "def get_error(observed_results, model_results):\n",
    "    \"\"\"\n",
    "    Calculate errors given model results and results from data.\n",
    "    \"\"\"\n",
    "    n_max_peds = __get_error(observed_results, model_results, 'n_max_active_pop')\n",
    "    t_max_peds = __get_error(observed_results, model_results, 't_max_active_pop')\n",
    "    t_max = __get_error(observed_results, model_results, 't_max')\n",
    "    \n",
    "    results = {'n_max_active_pop': n_max_peds,\n",
    "               't_max_active_pop': t_max_peds,\n",
    "               't_max': t_max}\n",
    "    return results"
   ]
  },
  {
   "cell_type": "code",
   "execution_count": 13,
   "metadata": {},
   "outputs": [],
   "source": [
    "def run_model_local(model_params, data_results, var):\n",
    "    \"\"\"\n",
    "    Run model, and collect error outputs.\n",
    "    \"\"\"\n",
    "    \n",
    "    model = Model(**model_params)\n",
    "\n",
    "    n_max_active_pop = 0\n",
    "    t_max_active_pop = 0\n",
    "    t_max = False\n",
    "\n",
    "    for _ in range(model.step_limit):\n",
    "        model.step()\n",
    "\n",
    "        # Update max_active_pop\n",
    "        if model.pop_active > n_max_active_pop:\n",
    "            n_max_active_pop = model.pop_active\n",
    "            t_max_active_pop = model.step_id\n",
    "\n",
    "        # get t_max\n",
    "        if not t_max and model.step_id > 1000 and model.pop_active == 1:\n",
    "            t_max = model.step_id\n",
    "\n",
    "    model_results = {'n_max_active_pop': n_max_active_pop,\n",
    "                     't_max_active_pop': t_max_active_pop,\n",
    "                     't_max': t_max}\n",
    "\n",
    "    model_errors = get_error(data_results, model_results)\n",
    "    model_errors[var] = model_params[var]\n",
    "    return model_errors"
   ]
  },
  {
   "cell_type": "code",
   "execution_count": 14,
   "metadata": {},
   "outputs": [],
   "source": [
    "def run_model_global(model_params, data_results):\n",
    "    model = Model(**model_params)\n",
    "\n",
    "    n_max_active_pop = 0\n",
    "    t_max_active_pop = 0\n",
    "    t_max = False\n",
    "\n",
    "    for _ in range(model.step_limit):\n",
    "        model.step()\n",
    "\n",
    "        # Update max_active_pop\n",
    "        if model.pop_active > n_max_active_pop:\n",
    "            n_max_active_pop = model.pop_active\n",
    "            t_max_active_pop = model.step_id\n",
    "\n",
    "        # get t_max\n",
    "        if not t_max and model.step_id > 1000 and model.pop_active == 1:\n",
    "            t_max = model.step_id\n",
    "\n",
    "    model_results = {'n_max_active_pop': n_max_active_pop,\n",
    "                     't_max_active_pop': t_max_active_pop,\n",
    "                     't_max': t_max}\n",
    "\n",
    "    model_errors = get_error(data_results, model_results)\n",
    "    \n",
    "    parameters = ['birth_rate', 'speed_mean', 'speed_std']\n",
    "    for param in parameters:\n",
    "        model_errors[param] = model_params[param]\n",
    "\n",
    "    return model, model_errors"
   ]
  },
  {
   "cell_type": "code",
   "execution_count": 15,
   "metadata": {},
   "outputs": [],
   "source": [
    "def output_model(model, model_number, model_dir, batch):\n",
    "    filepath = f'{model_dir}model_{batch}_{model_number}.pkl'\n",
    "    with open(filepath, 'wb') as f:\n",
    "        pickle.dump(model, f, pickle.HIGHEST_PROTOCOL)"
   ]
  },
  {
   "cell_type": "markdown",
   "metadata": {},
   "source": [
    "## Global analysis"
   ]
  },
  {
   "cell_type": "markdown",
   "metadata": {},
   "source": [
    "In this section, we undertake a global sensitivity analysis via two approaches: a regression-based approach and a visualisation-based approach."
   ]
  },
  {
   "cell_type": "markdown",
   "metadata": {},
   "source": [
    "In the regression-based approach, we seek to fit a regression model for which we consider the following input variables:\n",
    "* Mean agent speed,\n",
    "* Standard deviation of agent speed,\n",
    "* Agent activation rate,\n",
    "\n",
    "and the following output variables:\n",
    "* Error with respect to maximum number of pedestrians in environment in environment at any given time,\n",
    "* Error with respect to time taken for all pedestrians to complete their journey,\n",
    "* Error with respect to the time at which the maximum number of pedestrians in the system at a given time occurs.\n",
    "\n",
    "This will give us a quanititative picture of how each of these response variables varies with respect to each of the model parameters outlined above, as well as how interactions between these variables may impact the response variables."
   ]
  },
  {
   "cell_type": "markdown",
   "metadata": {},
   "source": [
    "In the visualisation approach, we seek to visualise how the behaviour of the model varies with respect to changes in each of the model parameters.\n",
    "These visualisations will take the form of heatmaps which detail the frequency with which different sections of the model environment are visited by pedestrians."
   ]
  },
  {
   "cell_type": "markdown",
   "metadata": {},
   "source": [
    "In order to apply each of these approaches, the model is run 5 times with the following ranges of paramter values:\n",
    "\n",
    "| Variable        |  Calibrated value  | Minimum value | Maximum value |\n",
    "|-----------------|:------------------:|:-------------:|:-------------:|\n",
    "| Activation rate |       1.6          |      1.0      |     2.0       |\n",
    "| Mean speed      | 0.8974784080646091 |      0.5      |     1.5       |\n",
    "| Std of speed    | 0.3719712250899986 |      0.2      |     1.0       |"
   ]
  },
  {
   "cell_type": "markdown",
   "metadata": {},
   "source": [
    "### Set up parameter sets"
   ]
  },
  {
   "cell_type": "code",
   "execution_count": 16,
   "metadata": {},
   "outputs": [],
   "source": [
    "activation_rate_max = 2\n",
    "activation_rate_min = 1"
   ]
  },
  {
   "cell_type": "code",
   "execution_count": 17,
   "metadata": {},
   "outputs": [],
   "source": [
    "mean_speed_max = 1.5\n",
    "mean_speed_min = 0.5"
   ]
  },
  {
   "cell_type": "code",
   "execution_count": 18,
   "metadata": {},
   "outputs": [],
   "source": [
    "std_speed_max = 1\n",
    "std_speed_min = 0.2"
   ]
  },
  {
   "cell_type": "code",
   "execution_count": 19,
   "metadata": {},
   "outputs": [],
   "source": [
    "parameter_sets = list()\n",
    "np.random.seed(666)\n",
    "n_runs = 200\n",
    "\n",
    "for _ in range(n_runs):\n",
    "    mean_speed = np.random.uniform(mean_speed_min, mean_speed_max)\n",
    "    std_speed = np.random.uniform(std_speed_min, std_speed_max)\n",
    "    activation_rate = np.random.uniform(activation_rate_min, activation_rate_max)\n",
    "    d = base_model_params.copy()\n",
    "    d['speed_mean'] = mean_speed\n",
    "    d['speed_std'] = std_speed\n",
    "    d['birth_rate'] = activation_rate        \n",
    "    parameter_sets.append(d)"
   ]
  },
  {
   "cell_type": "code",
   "execution_count": 20,
   "metadata": {},
   "outputs": [
    {
     "data": {
      "text/html": [
       "<div>\n",
       "<style scoped>\n",
       "    .dataframe tbody tr th:only-of-type {\n",
       "        vertical-align: middle;\n",
       "    }\n",
       "\n",
       "    .dataframe tbody tr th {\n",
       "        vertical-align: top;\n",
       "    }\n",
       "\n",
       "    .dataframe thead th {\n",
       "        text-align: right;\n",
       "    }\n",
       "</style>\n",
       "<table border=\"1\" class=\"dataframe\">\n",
       "  <thead>\n",
       "    <tr style=\"text-align: right;\">\n",
       "      <th></th>\n",
       "      <th>station</th>\n",
       "      <th>speed_min</th>\n",
       "      <th>step_limit</th>\n",
       "      <th>do_print</th>\n",
       "      <th>pop_total</th>\n",
       "      <th>speed_mean</th>\n",
       "      <th>speed_std</th>\n",
       "      <th>birth_rate</th>\n",
       "    </tr>\n",
       "  </thead>\n",
       "  <tbody>\n",
       "    <tr>\n",
       "      <th>0</th>\n",
       "      <td>Grand_Central</td>\n",
       "      <td>0.174302</td>\n",
       "      <td>20000</td>\n",
       "      <td>False</td>\n",
       "      <td>274</td>\n",
       "      <td>1.200437</td>\n",
       "      <td>0.875349</td>\n",
       "      <td>1.676514</td>\n",
       "    </tr>\n",
       "    <tr>\n",
       "      <th>1</th>\n",
       "      <td>Grand_Central</td>\n",
       "      <td>0.174302</td>\n",
       "      <td>20000</td>\n",
       "      <td>False</td>\n",
       "      <td>274</td>\n",
       "      <td>1.227858</td>\n",
       "      <td>0.961166</td>\n",
       "      <td>1.012703</td>\n",
       "    </tr>\n",
       "    <tr>\n",
       "      <th>2</th>\n",
       "      <td>Grand_Central</td>\n",
       "      <td>0.174302</td>\n",
       "      <td>20000</td>\n",
       "      <td>False</td>\n",
       "      <td>274</td>\n",
       "      <td>0.913588</td>\n",
       "      <td>0.239050</td>\n",
       "      <td>1.099929</td>\n",
       "    </tr>\n",
       "    <tr>\n",
       "      <th>3</th>\n",
       "      <td>Grand_Central</td>\n",
       "      <td>0.174302</td>\n",
       "      <td>20000</td>\n",
       "      <td>False</td>\n",
       "      <td>274</td>\n",
       "      <td>1.008066</td>\n",
       "      <td>0.360198</td>\n",
       "      <td>1.744154</td>\n",
       "    </tr>\n",
       "    <tr>\n",
       "      <th>4</th>\n",
       "      <td>Grand_Central</td>\n",
       "      <td>0.174302</td>\n",
       "      <td>20000</td>\n",
       "      <td>False</td>\n",
       "      <td>274</td>\n",
       "      <td>0.692892</td>\n",
       "      <td>0.760676</td>\n",
       "      <td>1.293228</td>\n",
       "    </tr>\n",
       "  </tbody>\n",
       "</table>\n",
       "</div>"
      ],
      "text/plain": [
       "         station  speed_min  step_limit  do_print  pop_total  speed_mean  \\\n",
       "0  Grand_Central   0.174302       20000     False        274    1.200437   \n",
       "1  Grand_Central   0.174302       20000     False        274    1.227858   \n",
       "2  Grand_Central   0.174302       20000     False        274    0.913588   \n",
       "3  Grand_Central   0.174302       20000     False        274    1.008066   \n",
       "4  Grand_Central   0.174302       20000     False        274    0.692892   \n",
       "\n",
       "   speed_std  birth_rate  \n",
       "0   0.875349    1.676514  \n",
       "1   0.961166    1.012703  \n",
       "2   0.239050    1.099929  \n",
       "3   0.360198    1.744154  \n",
       "4   0.760676    1.293228  "
      ]
     },
     "execution_count": 20,
     "metadata": {},
     "output_type": "execute_result"
    }
   ],
   "source": [
    "df = pd.DataFrame(parameter_sets)\n",
    "df.head()"
   ]
  },
  {
   "cell_type": "markdown",
   "metadata": {},
   "source": [
    "Plot the distriubtion of each of the parameters of interest:"
   ]
  },
  {
   "cell_type": "code",
   "execution_count": 21,
   "metadata": {},
   "outputs": [
    {
     "data": {
      "image/png": "[encoded data removed]",
      "text/plain": [
       "<Figure size 432x288 with 1 Axes>"
      ]
     },
     "metadata": {
      "needs_background": "light"
     },
     "output_type": "display_data"
    },
    {
     "data": {
      "image/png": "[encoded data removed]",
      "text/plain": [
       "<Figure size 432x288 with 1 Axes>"
      ]
     },
     "metadata": {
      "needs_background": "light"
     },
     "output_type": "display_data"
    },
    {
     "data": {
      "image/png": "[encoded data removed]",
      "text/plain": [
       "<Figure size 432x288 with 1 Axes>"
      ]
     },
     "metadata": {
      "needs_background": "light"
     },
     "output_type": "display_data"
    }
   ],
   "source": [
    "parameters = ['speed_mean', 'speed_std', 'birth_rate']\n",
    "\n",
    "for param in parameters:\n",
    "    plt.figure()\n",
    "    plt.hist(df[param])\n",
    "    plt.show()"
   ]
  },
  {
   "cell_type": "markdown",
   "metadata": {},
   "source": [
    "Check for any correlation between the parameters of interest:"
   ]
  },
  {
   "cell_type": "code",
   "execution_count": 22,
   "metadata": {},
   "outputs": [
    {
     "data": {
      "text/html": [
       "<div>\n",
       "<style scoped>\n",
       "    .dataframe tbody tr th:only-of-type {\n",
       "        vertical-align: middle;\n",
       "    }\n",
       "\n",
       "    .dataframe tbody tr th {\n",
       "        vertical-align: top;\n",
       "    }\n",
       "\n",
       "    .dataframe thead th {\n",
       "        text-align: right;\n",
       "    }\n",
       "</style>\n",
       "<table border=\"1\" class=\"dataframe\">\n",
       "  <thead>\n",
       "    <tr style=\"text-align: right;\">\n",
       "      <th></th>\n",
       "      <th>speed_mean</th>\n",
       "      <th>speed_std</th>\n",
       "      <th>birth_rate</th>\n",
       "    </tr>\n",
       "  </thead>\n",
       "  <tbody>\n",
       "    <tr>\n",
       "      <th>speed_mean</th>\n",
       "      <td>1.000000</td>\n",
       "      <td>0.008274</td>\n",
       "      <td>0.010753</td>\n",
       "    </tr>\n",
       "    <tr>\n",
       "      <th>speed_std</th>\n",
       "      <td>0.008274</td>\n",
       "      <td>1.000000</td>\n",
       "      <td>0.007947</td>\n",
       "    </tr>\n",
       "    <tr>\n",
       "      <th>birth_rate</th>\n",
       "      <td>0.010753</td>\n",
       "      <td>0.007947</td>\n",
       "      <td>1.000000</td>\n",
       "    </tr>\n",
       "  </tbody>\n",
       "</table>\n",
       "</div>"
      ],
      "text/plain": [
       "            speed_mean  speed_std  birth_rate\n",
       "speed_mean    1.000000   0.008274    0.010753\n",
       "speed_std     0.008274   1.000000    0.007947\n",
       "birth_rate    0.010753   0.007947    1.000000"
      ]
     },
     "execution_count": 22,
     "metadata": {},
     "output_type": "execute_result"
    }
   ],
   "source": [
    "tdf = df.loc[:, parameters]\n",
    "tdf.corr()"
   ]
  },
  {
   "cell_type": "markdown",
   "metadata": {},
   "source": [
    "Split the runs into two batches:"
   ]
  },
  {
   "cell_type": "code",
   "execution_count": 23,
   "metadata": {},
   "outputs": [
    {
     "name": "stdout",
     "output_type": "stream",
     "text": [
      "100 100\n"
     ]
    }
   ],
   "source": [
    "midpoint = n_runs // 2\n",
    "parameter_sets_1 = parameter_sets[: midpoint]\n",
    "parameter_sets_2 = parameter_sets[midpoint :]\n",
    "print(len(parameter_sets_1), len(parameter_sets_2))"
   ]
  },
  {
   "cell_type": "markdown",
   "metadata": {},
   "source": [
    "### Runs"
   ]
  },
  {
   "cell_type": "markdown",
   "metadata": {},
   "source": [
    "Set up containers:"
   ]
  },
  {
   "cell_type": "code",
   "execution_count": 26,
   "metadata": {},
   "outputs": [],
   "source": [
    "global_results_1 = list()\n",
    "global_results_2 = list()"
   ]
  },
  {
   "cell_type": "markdown",
   "metadata": {},
   "source": [
    "Run first batch:"
   ]
  },
  {
   "cell_type": "code",
   "execution_count": 27,
   "metadata": {},
   "outputs": [
    {
     "name": "stderr",
     "output_type": "stream",
     "text": [
      "100%|██████████| 100/100 [5:45:19<00:00, 207.19s/it] \n"
     ]
    }
   ],
   "source": [
    "i = 0\n",
    "for parameter_set in tqdm(parameter_sets_1):\n",
    "    if i % 20 == 11:\n",
    "        time.sleep(30)\n",
    "    model, results = run_model_global(parameter_set, data_results)\n",
    "    global_results_1.append(results)\n",
    "    \n",
    "    output_model(model, i, model_dir, 1)\n",
    "    i += 1"
   ]
  },
  {
   "cell_type": "markdown",
   "metadata": {},
   "source": [
    "Convert the results to a dataframe and write to csv:"
   ]
  },
  {
   "cell_type": "code",
   "execution_count": 28,
   "metadata": {},
   "outputs": [
    {
     "data": {
      "text/html": [
       "<div>\n",
       "<style scoped>\n",
       "    .dataframe tbody tr th:only-of-type {\n",
       "        vertical-align: middle;\n",
       "    }\n",
       "\n",
       "    .dataframe tbody tr th {\n",
       "        vertical-align: top;\n",
       "    }\n",
       "\n",
       "    .dataframe thead th {\n",
       "        text-align: right;\n",
       "    }\n",
       "</style>\n",
       "<table border=\"1\" class=\"dataframe\">\n",
       "  <thead>\n",
       "    <tr style=\"text-align: right;\">\n",
       "      <th></th>\n",
       "      <th>n_max_active_pop</th>\n",
       "      <th>t_max_active_pop</th>\n",
       "      <th>t_max</th>\n",
       "      <th>birth_rate</th>\n",
       "      <th>speed_mean</th>\n",
       "      <th>speed_std</th>\n",
       "    </tr>\n",
       "  </thead>\n",
       "  <tbody>\n",
       "    <tr>\n",
       "      <th>0</th>\n",
       "      <td>3</td>\n",
       "      <td>-1962</td>\n",
       "      <td>-1280</td>\n",
       "      <td>1.676514</td>\n",
       "      <td>1.200437</td>\n",
       "      <td>0.875349</td>\n",
       "    </tr>\n",
       "    <tr>\n",
       "      <th>1</th>\n",
       "      <td>35</td>\n",
       "      <td>-4744</td>\n",
       "      <td>-3780</td>\n",
       "      <td>1.012703</td>\n",
       "      <td>1.227858</td>\n",
       "      <td>0.961166</td>\n",
       "    </tr>\n",
       "    <tr>\n",
       "      <th>2</th>\n",
       "      <td>27</td>\n",
       "      <td>-2161</td>\n",
       "      <td>-2989</td>\n",
       "      <td>1.099929</td>\n",
       "      <td>0.913588</td>\n",
       "      <td>0.239050</td>\n",
       "    </tr>\n",
       "    <tr>\n",
       "      <th>3</th>\n",
       "      <td>-6</td>\n",
       "      <td>-2002</td>\n",
       "      <td>-1043</td>\n",
       "      <td>1.744154</td>\n",
       "      <td>1.008066</td>\n",
       "      <td>0.360198</td>\n",
       "    </tr>\n",
       "    <tr>\n",
       "      <th>4</th>\n",
       "      <td>12</td>\n",
       "      <td>-809</td>\n",
       "      <td>-3048</td>\n",
       "      <td>1.293228</td>\n",
       "      <td>0.692892</td>\n",
       "      <td>0.760676</td>\n",
       "    </tr>\n",
       "  </tbody>\n",
       "</table>\n",
       "</div>"
      ],
      "text/plain": [
       "   n_max_active_pop  t_max_active_pop  t_max  birth_rate  speed_mean  \\\n",
       "0                 3             -1962  -1280    1.676514    1.200437   \n",
       "1                35             -4744  -3780    1.012703    1.227858   \n",
       "2                27             -2161  -2989    1.099929    0.913588   \n",
       "3                -6             -2002  -1043    1.744154    1.008066   \n",
       "4                12              -809  -3048    1.293228    0.692892   \n",
       "\n",
       "   speed_std  \n",
       "0   0.875349  \n",
       "1   0.961166  \n",
       "2   0.239050  \n",
       "3   0.360198  \n",
       "4   0.760676  "
      ]
     },
     "execution_count": 28,
     "metadata": {},
     "output_type": "execute_result"
    }
   ],
   "source": [
    "global_results_1 = pd.DataFrame(global_results_1)\n",
    "global_results_1.head()"
   ]
  },
  {
   "cell_type": "code",
   "execution_count": 29,
   "metadata": {},
   "outputs": [],
   "source": [
    "global_results_1.to_csv(output_data_dir + 'global_errors_1.csv', index=False)"
   ]
  },
  {
   "cell_type": "markdown",
   "metadata": {},
   "source": [
    "Run second batch:"
   ]
  },
  {
   "cell_type": "code",
   "execution_count": 30,
   "metadata": {},
   "outputs": [
    {
     "name": "stderr",
     "output_type": "stream",
     "text": [
      "100%|██████████| 100/100 [5:53:41<00:00, 212.22s/it] \n"
     ]
    }
   ],
   "source": [
    "i = 0\n",
    "for parameter_set in tqdm(parameter_sets_2):\n",
    "    if i % 20 == 11:\n",
    "        time.sleep(60)\n",
    "    model, results = run_model_global(parameter_set, data_results)\n",
    "    global_results_2.append(results)\n",
    "    \n",
    "    output_model(model, i, model_dir, 2)\n",
    "    i += 1"
   ]
  },
  {
   "cell_type": "markdown",
   "metadata": {},
   "source": [
    "Convert the results to a dataframe and write to csv:"
   ]
  },
  {
   "cell_type": "code",
   "execution_count": 31,
   "metadata": {},
   "outputs": [
    {
     "data": {
      "text/html": [
       "<div>\n",
       "<style scoped>\n",
       "    .dataframe tbody tr th:only-of-type {\n",
       "        vertical-align: middle;\n",
       "    }\n",
       "\n",
       "    .dataframe tbody tr th {\n",
       "        vertical-align: top;\n",
       "    }\n",
       "\n",
       "    .dataframe thead th {\n",
       "        text-align: right;\n",
       "    }\n",
       "</style>\n",
       "<table border=\"1\" class=\"dataframe\">\n",
       "  <thead>\n",
       "    <tr style=\"text-align: right;\">\n",
       "      <th></th>\n",
       "      <th>n_max_active_pop</th>\n",
       "      <th>t_max_active_pop</th>\n",
       "      <th>t_max</th>\n",
       "      <th>birth_rate</th>\n",
       "      <th>speed_mean</th>\n",
       "      <th>speed_std</th>\n",
       "    </tr>\n",
       "  </thead>\n",
       "  <tbody>\n",
       "    <tr>\n",
       "      <th>0</th>\n",
       "      <td>-19</td>\n",
       "      <td>-2686</td>\n",
       "      <td>-2095</td>\n",
       "      <td>1.649283</td>\n",
       "      <td>0.708949</td>\n",
       "      <td>0.206626</td>\n",
       "    </tr>\n",
       "    <tr>\n",
       "      <th>1</th>\n",
       "      <td>26</td>\n",
       "      <td>-1552</td>\n",
       "      <td>-847</td>\n",
       "      <td>1.439688</td>\n",
       "      <td>1.282874</td>\n",
       "      <td>0.284804</td>\n",
       "    </tr>\n",
       "    <tr>\n",
       "      <th>2</th>\n",
       "      <td>-29</td>\n",
       "      <td>-2263</td>\n",
       "      <td>-2689</td>\n",
       "      <td>1.648376</td>\n",
       "      <td>0.591670</td>\n",
       "      <td>0.369886</td>\n",
       "    </tr>\n",
       "    <tr>\n",
       "      <th>3</th>\n",
       "      <td>35</td>\n",
       "      <td>-606</td>\n",
       "      <td>-3052</td>\n",
       "      <td>1.129597</td>\n",
       "      <td>1.101797</td>\n",
       "      <td>0.574736</td>\n",
       "    </tr>\n",
       "    <tr>\n",
       "      <th>4</th>\n",
       "      <td>-29</td>\n",
       "      <td>-1847</td>\n",
       "      <td>-418</td>\n",
       "      <td>1.947473</td>\n",
       "      <td>0.746014</td>\n",
       "      <td>0.821157</td>\n",
       "    </tr>\n",
       "  </tbody>\n",
       "</table>\n",
       "</div>"
      ],
      "text/plain": [
       "   n_max_active_pop  t_max_active_pop  t_max  birth_rate  speed_mean  \\\n",
       "0               -19             -2686  -2095    1.649283    0.708949   \n",
       "1                26             -1552   -847    1.439688    1.282874   \n",
       "2               -29             -2263  -2689    1.648376    0.591670   \n",
       "3                35              -606  -3052    1.129597    1.101797   \n",
       "4               -29             -1847   -418    1.947473    0.746014   \n",
       "\n",
       "   speed_std  \n",
       "0   0.206626  \n",
       "1   0.284804  \n",
       "2   0.369886  \n",
       "3   0.574736  \n",
       "4   0.821157  "
      ]
     },
     "execution_count": 31,
     "metadata": {},
     "output_type": "execute_result"
    }
   ],
   "source": [
    "global_results_2 = pd.DataFrame(global_results_2)\n",
    "global_results_2.head()"
   ]
  },
  {
   "cell_type": "code",
   "execution_count": 32,
   "metadata": {},
   "outputs": [],
   "source": [
    "global_results_2.to_csv(output_data_dir + 'global_errors_2.csv', index=False)"
   ]
  },
  {
   "cell_type": "markdown",
   "metadata": {},
   "source": [
    "#### Read data back in"
   ]
  },
  {
   "cell_type": "markdown",
   "metadata": {},
   "source": [
    "Read in csv:"
   ]
  },
  {
   "cell_type": "code",
   "execution_count": 33,
   "metadata": {},
   "outputs": [
    {
     "data": {
      "text/html": [
       "<div>\n",
       "<style scoped>\n",
       "    .dataframe tbody tr th:only-of-type {\n",
       "        vertical-align: middle;\n",
       "    }\n",
       "\n",
       "    .dataframe tbody tr th {\n",
       "        vertical-align: top;\n",
       "    }\n",
       "\n",
       "    .dataframe thead th {\n",
       "        text-align: right;\n",
       "    }\n",
       "</style>\n",
       "<table border=\"1\" class=\"dataframe\">\n",
       "  <thead>\n",
       "    <tr style=\"text-align: right;\">\n",
       "      <th></th>\n",
       "      <th>n_max_active_pop</th>\n",
       "      <th>t_max_active_pop</th>\n",
       "      <th>t_max</th>\n",
       "      <th>birth_rate</th>\n",
       "      <th>speed_mean</th>\n",
       "      <th>speed_std</th>\n",
       "    </tr>\n",
       "  </thead>\n",
       "  <tbody>\n",
       "    <tr>\n",
       "      <th>0</th>\n",
       "      <td>3</td>\n",
       "      <td>-1962</td>\n",
       "      <td>-1280</td>\n",
       "      <td>1.676514</td>\n",
       "      <td>1.200437</td>\n",
       "      <td>0.875349</td>\n",
       "    </tr>\n",
       "    <tr>\n",
       "      <th>1</th>\n",
       "      <td>35</td>\n",
       "      <td>-4744</td>\n",
       "      <td>-3780</td>\n",
       "      <td>1.012703</td>\n",
       "      <td>1.227858</td>\n",
       "      <td>0.961166</td>\n",
       "    </tr>\n",
       "    <tr>\n",
       "      <th>2</th>\n",
       "      <td>27</td>\n",
       "      <td>-2161</td>\n",
       "      <td>-2989</td>\n",
       "      <td>1.099929</td>\n",
       "      <td>0.913588</td>\n",
       "      <td>0.239050</td>\n",
       "    </tr>\n",
       "    <tr>\n",
       "      <th>3</th>\n",
       "      <td>-6</td>\n",
       "      <td>-2002</td>\n",
       "      <td>-1043</td>\n",
       "      <td>1.744154</td>\n",
       "      <td>1.008066</td>\n",
       "      <td>0.360198</td>\n",
       "    </tr>\n",
       "    <tr>\n",
       "      <th>4</th>\n",
       "      <td>12</td>\n",
       "      <td>-809</td>\n",
       "      <td>-3048</td>\n",
       "      <td>1.293228</td>\n",
       "      <td>0.692892</td>\n",
       "      <td>0.760676</td>\n",
       "    </tr>\n",
       "  </tbody>\n",
       "</table>\n",
       "</div>"
      ],
      "text/plain": [
       "   n_max_active_pop  t_max_active_pop  t_max  birth_rate  speed_mean  \\\n",
       "0                 3             -1962  -1280    1.676514    1.200437   \n",
       "1                35             -4744  -3780    1.012703    1.227858   \n",
       "2                27             -2161  -2989    1.099929    0.913588   \n",
       "3                -6             -2002  -1043    1.744154    1.008066   \n",
       "4                12              -809  -3048    1.293228    0.692892   \n",
       "\n",
       "   speed_std  \n",
       "0   0.875349  \n",
       "1   0.961166  \n",
       "2   0.239050  \n",
       "3   0.360198  \n",
       "4   0.760676  "
      ]
     },
     "execution_count": 33,
     "metadata": {},
     "output_type": "execute_result"
    }
   ],
   "source": [
    "global_results_1 = pd.read_csv(output_data_dir + 'global_errors_1.csv')\n",
    "global_results_1.head()"
   ]
  },
  {
   "cell_type": "code",
   "execution_count": 34,
   "metadata": {},
   "outputs": [
    {
     "data": {
      "text/html": [
       "<div>\n",
       "<style scoped>\n",
       "    .dataframe tbody tr th:only-of-type {\n",
       "        vertical-align: middle;\n",
       "    }\n",
       "\n",
       "    .dataframe tbody tr th {\n",
       "        vertical-align: top;\n",
       "    }\n",
       "\n",
       "    .dataframe thead th {\n",
       "        text-align: right;\n",
       "    }\n",
       "</style>\n",
       "<table border=\"1\" class=\"dataframe\">\n",
       "  <thead>\n",
       "    <tr style=\"text-align: right;\">\n",
       "      <th></th>\n",
       "      <th>n_max_active_pop</th>\n",
       "      <th>t_max_active_pop</th>\n",
       "      <th>t_max</th>\n",
       "      <th>birth_rate</th>\n",
       "      <th>speed_mean</th>\n",
       "      <th>speed_std</th>\n",
       "    </tr>\n",
       "  </thead>\n",
       "  <tbody>\n",
       "    <tr>\n",
       "      <th>0</th>\n",
       "      <td>-19</td>\n",
       "      <td>-2686</td>\n",
       "      <td>-2095</td>\n",
       "      <td>1.649283</td>\n",
       "      <td>0.708949</td>\n",
       "      <td>0.206626</td>\n",
       "    </tr>\n",
       "    <tr>\n",
       "      <th>1</th>\n",
       "      <td>26</td>\n",
       "      <td>-1552</td>\n",
       "      <td>-847</td>\n",
       "      <td>1.439688</td>\n",
       "      <td>1.282874</td>\n",
       "      <td>0.284804</td>\n",
       "    </tr>\n",
       "    <tr>\n",
       "      <th>2</th>\n",
       "      <td>-29</td>\n",
       "      <td>-2263</td>\n",
       "      <td>-2689</td>\n",
       "      <td>1.648376</td>\n",
       "      <td>0.591670</td>\n",
       "      <td>0.369886</td>\n",
       "    </tr>\n",
       "    <tr>\n",
       "      <th>3</th>\n",
       "      <td>35</td>\n",
       "      <td>-606</td>\n",
       "      <td>-3052</td>\n",
       "      <td>1.129597</td>\n",
       "      <td>1.101797</td>\n",
       "      <td>0.574736</td>\n",
       "    </tr>\n",
       "    <tr>\n",
       "      <th>4</th>\n",
       "      <td>-29</td>\n",
       "      <td>-1847</td>\n",
       "      <td>-418</td>\n",
       "      <td>1.947473</td>\n",
       "      <td>0.746014</td>\n",
       "      <td>0.821157</td>\n",
       "    </tr>\n",
       "  </tbody>\n",
       "</table>\n",
       "</div>"
      ],
      "text/plain": [
       "   n_max_active_pop  t_max_active_pop  t_max  birth_rate  speed_mean  \\\n",
       "0               -19             -2686  -2095    1.649283    0.708949   \n",
       "1                26             -1552   -847    1.439688    1.282874   \n",
       "2               -29             -2263  -2689    1.648376    0.591670   \n",
       "3                35              -606  -3052    1.129597    1.101797   \n",
       "4               -29             -1847   -418    1.947473    0.746014   \n",
       "\n",
       "   speed_std  \n",
       "0   0.206626  \n",
       "1   0.284804  \n",
       "2   0.369886  \n",
       "3   0.574736  \n",
       "4   0.821157  "
      ]
     },
     "execution_count": 34,
     "metadata": {},
     "output_type": "execute_result"
    }
   ],
   "source": [
    "global_results_2 = pd.read_csv(output_data_dir + 'global_errors_2.csv')\n",
    "global_results_2.head()"
   ]
  },
  {
   "cell_type": "code",
   "execution_count": 35,
   "metadata": {},
   "outputs": [
    {
     "data": {
      "text/html": [
       "<div>\n",
       "<style scoped>\n",
       "    .dataframe tbody tr th:only-of-type {\n",
       "        vertical-align: middle;\n",
       "    }\n",
       "\n",
       "    .dataframe tbody tr th {\n",
       "        vertical-align: top;\n",
       "    }\n",
       "\n",
       "    .dataframe thead th {\n",
       "        text-align: right;\n",
       "    }\n",
       "</style>\n",
       "<table border=\"1\" class=\"dataframe\">\n",
       "  <thead>\n",
       "    <tr style=\"text-align: right;\">\n",
       "      <th></th>\n",
       "      <th>n_max_active_pop</th>\n",
       "      <th>t_max_active_pop</th>\n",
       "      <th>t_max</th>\n",
       "      <th>birth_rate</th>\n",
       "      <th>speed_mean</th>\n",
       "      <th>speed_std</th>\n",
       "    </tr>\n",
       "  </thead>\n",
       "  <tbody>\n",
       "    <tr>\n",
       "      <th>0</th>\n",
       "      <td>3</td>\n",
       "      <td>-1962</td>\n",
       "      <td>-1280</td>\n",
       "      <td>1.676514</td>\n",
       "      <td>1.200437</td>\n",
       "      <td>0.875349</td>\n",
       "    </tr>\n",
       "    <tr>\n",
       "      <th>1</th>\n",
       "      <td>35</td>\n",
       "      <td>-4744</td>\n",
       "      <td>-3780</td>\n",
       "      <td>1.012703</td>\n",
       "      <td>1.227858</td>\n",
       "      <td>0.961166</td>\n",
       "    </tr>\n",
       "    <tr>\n",
       "      <th>2</th>\n",
       "      <td>27</td>\n",
       "      <td>-2161</td>\n",
       "      <td>-2989</td>\n",
       "      <td>1.099929</td>\n",
       "      <td>0.913588</td>\n",
       "      <td>0.239050</td>\n",
       "    </tr>\n",
       "    <tr>\n",
       "      <th>3</th>\n",
       "      <td>-6</td>\n",
       "      <td>-2002</td>\n",
       "      <td>-1043</td>\n",
       "      <td>1.744154</td>\n",
       "      <td>1.008066</td>\n",
       "      <td>0.360198</td>\n",
       "    </tr>\n",
       "    <tr>\n",
       "      <th>4</th>\n",
       "      <td>12</td>\n",
       "      <td>-809</td>\n",
       "      <td>-3048</td>\n",
       "      <td>1.293228</td>\n",
       "      <td>0.692892</td>\n",
       "      <td>0.760676</td>\n",
       "    </tr>\n",
       "  </tbody>\n",
       "</table>\n",
       "</div>"
      ],
      "text/plain": [
       "   n_max_active_pop  t_max_active_pop  t_max  birth_rate  speed_mean  \\\n",
       "0                 3             -1962  -1280    1.676514    1.200437   \n",
       "1                35             -4744  -3780    1.012703    1.227858   \n",
       "2                27             -2161  -2989    1.099929    0.913588   \n",
       "3                -6             -2002  -1043    1.744154    1.008066   \n",
       "4                12              -809  -3048    1.293228    0.692892   \n",
       "\n",
       "   speed_std  \n",
       "0   0.875349  \n",
       "1   0.961166  \n",
       "2   0.239050  \n",
       "3   0.360198  \n",
       "4   0.760676  "
      ]
     },
     "execution_count": 35,
     "metadata": {},
     "output_type": "execute_result"
    }
   ],
   "source": [
    "global_results = pd.concat([global_results_1, global_results_2])\n",
    "global_results.head()"
   ]
  },
  {
   "cell_type": "code",
   "execution_count": 36,
   "metadata": {},
   "outputs": [
    {
     "name": "stdout",
     "output_type": "stream",
     "text": [
      "(100, 6) (100, 6) (200, 6)\n"
     ]
    }
   ],
   "source": [
    "print(global_results_1.shape, global_results_2.shape, global_results.shape)"
   ]
  },
  {
   "cell_type": "markdown",
   "metadata": {},
   "source": [
    "### Regression setup"
   ]
  },
  {
   "cell_type": "code",
   "execution_count": 37,
   "metadata": {},
   "outputs": [],
   "source": [
    "import statsmodels.api as sm"
   ]
  },
  {
   "cell_type": "markdown",
   "metadata": {},
   "source": [
    "### Regression: Maximum number of pedestrians in environment"
   ]
  },
  {
   "cell_type": "code",
   "execution_count": 38,
   "metadata": {},
   "outputs": [],
   "source": [
    "predictor_vars = ['birth_rate', 'speed_mean', 'speed_std']\n",
    "response_var = ['n_max_active_pop']"
   ]
  },
  {
   "cell_type": "code",
   "execution_count": 39,
   "metadata": {},
   "outputs": [],
   "source": [
    "Y = global_results.loc[:, response_var]\n",
    "X = global_results.loc[:, predictor_vars]\n",
    "X = sm.add_constant(X)"
   ]
  },
  {
   "cell_type": "code",
   "execution_count": 40,
   "metadata": {},
   "outputs": [
    {
     "name": "stdout",
     "output_type": "stream",
     "text": [
      "(200, 4)\n"
     ]
    }
   ],
   "source": [
    "print(X.shape)"
   ]
  },
  {
   "cell_type": "code",
   "execution_count": 41,
   "metadata": {},
   "outputs": [
    {
     "name": "stdout",
     "output_type": "stream",
     "text": [
      "(200, 1)\n"
     ]
    }
   ],
   "source": [
    "print(Y.shape)"
   ]
  },
  {
   "cell_type": "code",
   "execution_count": 42,
   "metadata": {},
   "outputs": [],
   "source": [
    "ols = sm.OLS(Y, X).fit()"
   ]
  },
  {
   "cell_type": "code",
   "execution_count": 43,
   "metadata": {},
   "outputs": [
    {
     "data": {
      "text/html": [
       "<table class=\"simpletable\">\n",
       "<caption>OLS Regression Results</caption>\n",
       "<tr>\n",
       "  <th>Dep. Variable:</th>    <td>n_max_active_pop</td> <th>  R-squared:         </th> <td>   0.912</td> \n",
       "</tr>\n",
       "<tr>\n",
       "  <th>Model:</th>                   <td>OLS</td>       <th>  Adj. R-squared:    </th> <td>   0.911</td> \n",
       "</tr>\n",
       "<tr>\n",
       "  <th>Method:</th>             <td>Least Squares</td>  <th>  F-statistic:       </th> <td>   677.0</td> \n",
       "</tr>\n",
       "<tr>\n",
       "  <th>Date:</th>             <td>Thu, 28 Jan 2021</td> <th>  Prob (F-statistic):</th> <td>3.94e-103</td>\n",
       "</tr>\n",
       "<tr>\n",
       "  <th>Time:</th>                 <td>10:38:23</td>     <th>  Log-Likelihood:    </th> <td> -628.16</td> \n",
       "</tr>\n",
       "<tr>\n",
       "  <th>No. Observations:</th>      <td>   200</td>      <th>  AIC:               </th> <td>   1264.</td> \n",
       "</tr>\n",
       "<tr>\n",
       "  <th>Df Residuals:</th>          <td>   196</td>      <th>  BIC:               </th> <td>   1278.</td> \n",
       "</tr>\n",
       "<tr>\n",
       "  <th>Df Model:</th>              <td>     3</td>      <th>                     </th>     <td> </td>    \n",
       "</tr>\n",
       "<tr>\n",
       "  <th>Covariance Type:</th>      <td>nonrobust</td>    <th>                     </th>     <td> </td>    \n",
       "</tr>\n",
       "</table>\n",
       "<table class=\"simpletable\">\n",
       "<tr>\n",
       "       <td></td>         <th>coef</th>     <th>std err</th>      <th>t</th>      <th>P>|t|</th>  <th>[0.025</th>    <th>0.975]</th>  \n",
       "</tr>\n",
       "<tr>\n",
       "  <th>const</th>      <td>   29.3219</td> <td>    2.669</td> <td>   10.987</td> <td> 0.000</td> <td>   24.059</td> <td>   34.585</td>\n",
       "</tr>\n",
       "<tr>\n",
       "  <th>birth_rate</th> <td>  -45.6610</td> <td>    1.357</td> <td>  -33.656</td> <td> 0.000</td> <td>  -48.337</td> <td>  -42.985</td>\n",
       "</tr>\n",
       "<tr>\n",
       "  <th>speed_mean</th> <td>   41.4596</td> <td>    1.389</td> <td>   29.853</td> <td> 0.000</td> <td>   38.721</td> <td>   44.198</td>\n",
       "</tr>\n",
       "<tr>\n",
       "  <th>speed_std</th>  <td>    9.2348</td> <td>    1.731</td> <td>    5.334</td> <td> 0.000</td> <td>    5.821</td> <td>   12.649</td>\n",
       "</tr>\n",
       "</table>\n",
       "<table class=\"simpletable\">\n",
       "<tr>\n",
       "  <th>Omnibus:</th>       <td> 2.058</td> <th>  Durbin-Watson:     </th> <td>   1.932</td>\n",
       "</tr>\n",
       "<tr>\n",
       "  <th>Prob(Omnibus):</th> <td> 0.357</td> <th>  Jarque-Bera (JB):  </th> <td>   1.912</td>\n",
       "</tr>\n",
       "<tr>\n",
       "  <th>Skew:</th>          <td>-0.240</td> <th>  Prob(JB):          </th> <td>   0.384</td>\n",
       "</tr>\n",
       "<tr>\n",
       "  <th>Kurtosis:</th>      <td> 3.003</td> <th>  Cond. No.          </th> <td>    16.3</td>\n",
       "</tr>\n",
       "</table><br/><br/>Notes:<br/>[1] Standard Errors assume that the covariance matrix of the errors is correctly specified."
      ],
      "text/plain": [
       "<class 'statsmodels.iolib.summary.Summary'>\n",
       "\"\"\"\n",
       "                            OLS Regression Results                            \n",
       "==============================================================================\n",
       "Dep. Variable:       n_max_active_pop   R-squared:                       0.912\n",
       "Model:                            OLS   Adj. R-squared:                  0.911\n",
       "Method:                 Least Squares   F-statistic:                     677.0\n",
       "Date:                Thu, 28 Jan 2021   Prob (F-statistic):          3.94e-103\n",
       "Time:                        10:38:23   Log-Likelihood:                -628.16\n",
       "No. Observations:                 200   AIC:                             1264.\n",
       "Df Residuals:                     196   BIC:                             1278.\n",
       "Df Model:                           3                                         \n",
       "Covariance Type:            nonrobust                                         \n",
       "==============================================================================\n",
       "                 coef    std err          t      P>|t|      [0.025      0.975]\n",
       "------------------------------------------------------------------------------\n",
       "const         29.3219      2.669     10.987      0.000      24.059      34.585\n",
       "birth_rate   -45.6610      1.357    -33.656      0.000     -48.337     -42.985\n",
       "speed_mean    41.4596      1.389     29.853      0.000      38.721      44.198\n",
       "speed_std      9.2348      1.731      5.334      0.000       5.821      12.649\n",
       "==============================================================================\n",
       "Omnibus:                        2.058   Durbin-Watson:                   1.932\n",
       "Prob(Omnibus):                  0.357   Jarque-Bera (JB):                1.912\n",
       "Skew:                          -0.240   Prob(JB):                        0.384\n",
       "Kurtosis:                       3.003   Cond. No.                         16.3\n",
       "==============================================================================\n",
       "\n",
       "Notes:\n",
       "[1] Standard Errors assume that the covariance matrix of the errors is correctly specified.\n",
       "\"\"\""
      ]
     },
     "execution_count": 43,
     "metadata": {},
     "output_type": "execute_result"
    }
   ],
   "source": [
    "ols.summary()"
   ]
  },
  {
   "cell_type": "code",
   "execution_count": 44,
   "metadata": {},
   "outputs": [
    {
     "data": {
      "image/png": "[encoded data removed]",
      "text/plain": [
       "<Figure size 432x288 with 1 Axes>"
      ]
     },
     "metadata": {
      "needs_background": "light"
     },
     "output_type": "display_data"
    },
    {
     "data": {
      "image/png": "[encoded data removed]",
      "text/plain": [
       "<Figure size 432x288 with 1 Axes>"
      ]
     },
     "metadata": {
      "needs_background": "light"
     },
     "output_type": "display_data"
    },
    {
     "data": {
      "image/png": "[encoded data removed]",
      "text/plain": [
       "<Figure size 432x288 with 1 Axes>"
      ]
     },
     "metadata": {
      "needs_background": "light"
     },
     "output_type": "display_data"
    }
   ],
   "source": [
    "for predictor_var in predictor_vars:\n",
    "    plt.figure()\n",
    "    sns.scatterplot(x=predictor_var, y=response_var[0], data=global_results)\n",
    "    plt.savefig(fig_dir + f'global/{predictor_var}_n_max_pop.pdf')\n",
    "    plt.show()"
   ]
  },
  {
   "cell_type": "markdown",
   "metadata": {},
   "source": [
    "### Regression: Time of maximum number of pedestrians"
   ]
  },
  {
   "cell_type": "code",
   "execution_count": 45,
   "metadata": {},
   "outputs": [],
   "source": [
    "response_var = ['t_max_active_pop']"
   ]
  },
  {
   "cell_type": "code",
   "execution_count": 46,
   "metadata": {},
   "outputs": [],
   "source": [
    "Y = global_results.loc[:, response_var]"
   ]
  },
  {
   "cell_type": "code",
   "execution_count": 47,
   "metadata": {},
   "outputs": [],
   "source": [
    "ols = sm.OLS(Y, X).fit()"
   ]
  },
  {
   "cell_type": "code",
   "execution_count": 48,
   "metadata": {},
   "outputs": [
    {
     "data": {
      "text/html": [
       "<table class=\"simpletable\">\n",
       "<caption>OLS Regression Results</caption>\n",
       "<tr>\n",
       "  <th>Dep. Variable:</th>    <td>t_max_active_pop</td> <th>  R-squared:         </th> <td>   0.335</td>\n",
       "</tr>\n",
       "<tr>\n",
       "  <th>Model:</th>                   <td>OLS</td>       <th>  Adj. R-squared:    </th> <td>   0.325</td>\n",
       "</tr>\n",
       "<tr>\n",
       "  <th>Method:</th>             <td>Least Squares</td>  <th>  F-statistic:       </th> <td>   32.92</td>\n",
       "</tr>\n",
       "<tr>\n",
       "  <th>Date:</th>             <td>Thu, 28 Jan 2021</td> <th>  Prob (F-statistic):</th> <td>2.82e-17</td>\n",
       "</tr>\n",
       "<tr>\n",
       "  <th>Time:</th>                 <td>10:38:23</td>     <th>  Log-Likelihood:    </th> <td> -1620.2</td>\n",
       "</tr>\n",
       "<tr>\n",
       "  <th>No. Observations:</th>      <td>   200</td>      <th>  AIC:               </th> <td>   3248.</td>\n",
       "</tr>\n",
       "<tr>\n",
       "  <th>Df Residuals:</th>          <td>   196</td>      <th>  BIC:               </th> <td>   3262.</td>\n",
       "</tr>\n",
       "<tr>\n",
       "  <th>Df Model:</th>              <td>     3</td>      <th>                     </th>     <td> </td>   \n",
       "</tr>\n",
       "<tr>\n",
       "  <th>Covariance Type:</th>      <td>nonrobust</td>    <th>                     </th>     <td> </td>   \n",
       "</tr>\n",
       "</table>\n",
       "<table class=\"simpletable\">\n",
       "<tr>\n",
       "       <td></td>         <th>coef</th>     <th>std err</th>      <th>t</th>      <th>P>|t|</th>  <th>[0.025</th>    <th>0.975]</th>  \n",
       "</tr>\n",
       "<tr>\n",
       "  <th>const</th>      <td>-5607.2032</td> <td>  380.678</td> <td>  -14.730</td> <td> 0.000</td> <td>-6357.955</td> <td>-4856.452</td>\n",
       "</tr>\n",
       "<tr>\n",
       "  <th>birth_rate</th> <td> 1786.1364</td> <td>  193.515</td> <td>    9.230</td> <td> 0.000</td> <td> 1404.497</td> <td> 2167.775</td>\n",
       "</tr>\n",
       "<tr>\n",
       "  <th>speed_mean</th> <td>  708.1949</td> <td>  198.089</td> <td>    3.575</td> <td> 0.000</td> <td>  317.535</td> <td> 1098.855</td>\n",
       "</tr>\n",
       "<tr>\n",
       "  <th>speed_std</th>  <td>   39.6881</td> <td>  246.938</td> <td>    0.161</td> <td> 0.872</td> <td> -447.308</td> <td>  526.684</td>\n",
       "</tr>\n",
       "</table>\n",
       "<table class=\"simpletable\">\n",
       "<tr>\n",
       "  <th>Omnibus:</th>       <td> 1.229</td> <th>  Durbin-Watson:     </th> <td>   1.997</td>\n",
       "</tr>\n",
       "<tr>\n",
       "  <th>Prob(Omnibus):</th> <td> 0.541</td> <th>  Jarque-Bera (JB):  </th> <td>   0.929</td>\n",
       "</tr>\n",
       "<tr>\n",
       "  <th>Skew:</th>          <td> 0.148</td> <th>  Prob(JB):          </th> <td>   0.629</td>\n",
       "</tr>\n",
       "<tr>\n",
       "  <th>Kurtosis:</th>      <td> 3.153</td> <th>  Cond. No.          </th> <td>    16.3</td>\n",
       "</tr>\n",
       "</table><br/><br/>Notes:<br/>[1] Standard Errors assume that the covariance matrix of the errors is correctly specified."
      ],
      "text/plain": [
       "<class 'statsmodels.iolib.summary.Summary'>\n",
       "\"\"\"\n",
       "                            OLS Regression Results                            \n",
       "==============================================================================\n",
       "Dep. Variable:       t_max_active_pop   R-squared:                       0.335\n",
       "Model:                            OLS   Adj. R-squared:                  0.325\n",
       "Method:                 Least Squares   F-statistic:                     32.92\n",
       "Date:                Thu, 28 Jan 2021   Prob (F-statistic):           2.82e-17\n",
       "Time:                        10:38:23   Log-Likelihood:                -1620.2\n",
       "No. Observations:                 200   AIC:                             3248.\n",
       "Df Residuals:                     196   BIC:                             3262.\n",
       "Df Model:                           3                                         \n",
       "Covariance Type:            nonrobust                                         \n",
       "==============================================================================\n",
       "                 coef    std err          t      P>|t|      [0.025      0.975]\n",
       "------------------------------------------------------------------------------\n",
       "const      -5607.2032    380.678    -14.730      0.000   -6357.955   -4856.452\n",
       "birth_rate  1786.1364    193.515      9.230      0.000    1404.497    2167.775\n",
       "speed_mean   708.1949    198.089      3.575      0.000     317.535    1098.855\n",
       "speed_std     39.6881    246.938      0.161      0.872    -447.308     526.684\n",
       "==============================================================================\n",
       "Omnibus:                        1.229   Durbin-Watson:                   1.997\n",
       "Prob(Omnibus):                  0.541   Jarque-Bera (JB):                0.929\n",
       "Skew:                           0.148   Prob(JB):                        0.629\n",
       "Kurtosis:                       3.153   Cond. No.                         16.3\n",
       "==============================================================================\n",
       "\n",
       "Notes:\n",
       "[1] Standard Errors assume that the covariance matrix of the errors is correctly specified.\n",
       "\"\"\""
      ]
     },
     "execution_count": 48,
     "metadata": {},
     "output_type": "execute_result"
    }
   ],
   "source": [
    "ols.summary()"
   ]
  },
  {
   "cell_type": "code",
   "execution_count": 49,
   "metadata": {},
   "outputs": [
    {
     "data": {
      "image/png": "[encoded data removed]",
      "text/plain": [
       "<Figure size 432x288 with 1 Axes>"
      ]
     },
     "metadata": {
      "needs_background": "light"
     },
     "output_type": "display_data"
    },
    {
     "data": {
      "image/png": "[encoded data removed]",
      "text/plain": [
       "<Figure size 432x288 with 1 Axes>"
      ]
     },
     "metadata": {
      "needs_background": "light"
     },
     "output_type": "display_data"
    },
    {
     "data": {
      "image/png": "[encoded data removed]",
      "text/plain": [
       "<Figure size 432x288 with 1 Axes>"
      ]
     },
     "metadata": {
      "needs_background": "light"
     },
     "output_type": "display_data"
    }
   ],
   "source": [
    "for predictor_var in predictor_vars:\n",
    "    plt.figure()\n",
    "    sns.scatterplot(x=predictor_var, y=response_var[0], data=global_results)\n",
    "    plt.savefig(fig_dir + f'global/{predictor_var}_t_max_pop.pdf')\n",
    "    plt.show()"
   ]
  },
  {
   "cell_type": "markdown",
   "metadata": {},
   "source": [
    "### Regression: Time of completion"
   ]
  },
  {
   "cell_type": "code",
   "execution_count": 50,
   "metadata": {},
   "outputs": [],
   "source": [
    "response_var = ['t_max']"
   ]
  },
  {
   "cell_type": "code",
   "execution_count": 51,
   "metadata": {},
   "outputs": [],
   "source": [
    "Y = global_results.loc[:, response_var]"
   ]
  },
  {
   "cell_type": "code",
   "execution_count": 52,
   "metadata": {},
   "outputs": [],
   "source": [
    "ols = sm.OLS(Y, X).fit()"
   ]
  },
  {
   "cell_type": "code",
   "execution_count": 53,
   "metadata": {},
   "outputs": [
    {
     "data": {
      "text/html": [
       "<table class=\"simpletable\">\n",
       "<caption>OLS Regression Results</caption>\n",
       "<tr>\n",
       "  <th>Dep. Variable:</th>          <td>t_max</td>      <th>  R-squared:         </th> <td>   0.642</td>\n",
       "</tr>\n",
       "<tr>\n",
       "  <th>Model:</th>                   <td>OLS</td>       <th>  Adj. R-squared:    </th> <td>   0.637</td>\n",
       "</tr>\n",
       "<tr>\n",
       "  <th>Method:</th>             <td>Least Squares</td>  <th>  F-statistic:       </th> <td>   117.2</td>\n",
       "</tr>\n",
       "<tr>\n",
       "  <th>Date:</th>             <td>Thu, 28 Jan 2021</td> <th>  Prob (F-statistic):</th> <td>1.66e-43</td>\n",
       "</tr>\n",
       "<tr>\n",
       "  <th>Time:</th>                 <td>10:38:24</td>     <th>  Log-Likelihood:    </th> <td> -1590.1</td>\n",
       "</tr>\n",
       "<tr>\n",
       "  <th>No. Observations:</th>      <td>   200</td>      <th>  AIC:               </th> <td>   3188.</td>\n",
       "</tr>\n",
       "<tr>\n",
       "  <th>Df Residuals:</th>          <td>   196</td>      <th>  BIC:               </th> <td>   3201.</td>\n",
       "</tr>\n",
       "<tr>\n",
       "  <th>Df Model:</th>              <td>     3</td>      <th>                     </th>     <td> </td>   \n",
       "</tr>\n",
       "<tr>\n",
       "  <th>Covariance Type:</th>      <td>nonrobust</td>    <th>                     </th>     <td> </td>   \n",
       "</tr>\n",
       "</table>\n",
       "<table class=\"simpletable\">\n",
       "<tr>\n",
       "       <td></td>         <th>coef</th>     <th>std err</th>      <th>t</th>      <th>P>|t|</th>  <th>[0.025</th>    <th>0.975]</th>  \n",
       "</tr>\n",
       "<tr>\n",
       "  <th>const</th>      <td>-7473.1938</td> <td>  327.463</td> <td>  -22.822</td> <td> 0.000</td> <td>-8118.996</td> <td>-6827.391</td>\n",
       "</tr>\n",
       "<tr>\n",
       "  <th>birth_rate</th> <td> 2995.5692</td> <td>  166.463</td> <td>   17.995</td> <td> 0.000</td> <td> 2667.280</td> <td> 3323.858</td>\n",
       "</tr>\n",
       "<tr>\n",
       "  <th>speed_mean</th> <td>  864.0805</td> <td>  170.398</td> <td>    5.071</td> <td> 0.000</td> <td>  528.032</td> <td> 1200.129</td>\n",
       "</tr>\n",
       "<tr>\n",
       "  <th>speed_std</th>  <td> -118.2640</td> <td>  212.418</td> <td>   -0.557</td> <td> 0.578</td> <td> -537.182</td> <td>  300.654</td>\n",
       "</tr>\n",
       "</table>\n",
       "<table class=\"simpletable\">\n",
       "<tr>\n",
       "  <th>Omnibus:</th>       <td>168.892</td> <th>  Durbin-Watson:     </th> <td>   2.070</td>\n",
       "</tr>\n",
       "<tr>\n",
       "  <th>Prob(Omnibus):</th> <td> 0.000</td>  <th>  Jarque-Bera (JB):  </th> <td>3546.843</td>\n",
       "</tr>\n",
       "<tr>\n",
       "  <th>Skew:</th>          <td>-3.022</td>  <th>  Prob(JB):          </th> <td>    0.00</td>\n",
       "</tr>\n",
       "<tr>\n",
       "  <th>Kurtosis:</th>      <td>22.726</td>  <th>  Cond. No.          </th> <td>    16.3</td>\n",
       "</tr>\n",
       "</table><br/><br/>Notes:<br/>[1] Standard Errors assume that the covariance matrix of the errors is correctly specified."
      ],
      "text/plain": [
       "<class 'statsmodels.iolib.summary.Summary'>\n",
       "\"\"\"\n",
       "                            OLS Regression Results                            \n",
       "==============================================================================\n",
       "Dep. Variable:                  t_max   R-squared:                       0.642\n",
       "Model:                            OLS   Adj. R-squared:                  0.637\n",
       "Method:                 Least Squares   F-statistic:                     117.2\n",
       "Date:                Thu, 28 Jan 2021   Prob (F-statistic):           1.66e-43\n",
       "Time:                        10:38:24   Log-Likelihood:                -1590.1\n",
       "No. Observations:                 200   AIC:                             3188.\n",
       "Df Residuals:                     196   BIC:                             3201.\n",
       "Df Model:                           3                                         \n",
       "Covariance Type:            nonrobust                                         \n",
       "==============================================================================\n",
       "                 coef    std err          t      P>|t|      [0.025      0.975]\n",
       "------------------------------------------------------------------------------\n",
       "const      -7473.1938    327.463    -22.822      0.000   -8118.996   -6827.391\n",
       "birth_rate  2995.5692    166.463     17.995      0.000    2667.280    3323.858\n",
       "speed_mean   864.0805    170.398      5.071      0.000     528.032    1200.129\n",
       "speed_std   -118.2640    212.418     -0.557      0.578    -537.182     300.654\n",
       "==============================================================================\n",
       "Omnibus:                      168.892   Durbin-Watson:                   2.070\n",
       "Prob(Omnibus):                  0.000   Jarque-Bera (JB):             3546.843\n",
       "Skew:                          -3.022   Prob(JB):                         0.00\n",
       "Kurtosis:                      22.726   Cond. No.                         16.3\n",
       "==============================================================================\n",
       "\n",
       "Notes:\n",
       "[1] Standard Errors assume that the covariance matrix of the errors is correctly specified.\n",
       "\"\"\""
      ]
     },
     "execution_count": 53,
     "metadata": {},
     "output_type": "execute_result"
    }
   ],
   "source": [
    "ols.summary()"
   ]
  },
  {
   "cell_type": "code",
   "execution_count": 54,
   "metadata": {},
   "outputs": [
    {
     "data": {
      "image/png": "[encoded data removed]",
      "text/plain": [
       "<Figure size 432x288 with 1 Axes>"
      ]
     },
     "metadata": {
      "needs_background": "light"
     },
     "output_type": "display_data"
    },
    {
     "data": {
      "image/png": "[encoded data removed]",
      "text/plain": [
       "<Figure size 432x288 with 1 Axes>"
      ]
     },
     "metadata": {
      "needs_background": "light"
     },
     "output_type": "display_data"
    },
    {
     "data": {
      "image/png": "[encoded data removed]",
      "text/plain": [
       "<Figure size 432x288 with 1 Axes>"
      ]
     },
     "metadata": {
      "needs_background": "light"
     },
     "output_type": "display_data"
    }
   ],
   "source": [
    "for predictor_var in predictor_vars:\n",
    "    plt.figure()\n",
    "    sns.scatterplot(x=predictor_var, y=response_var[0], data=global_results)\n",
    "    plt.savefig(fig_dir + f'global/{predictor_var}_t_max.pdf')\n",
    "    plt.show()"
   ]
  },
  {
   "cell_type": "markdown",
   "metadata": {},
   "source": [
    "### Visualisations"
   ]
  },
  {
   "cell_type": "markdown",
   "metadata": {},
   "source": [
    "Read in each of the model pickles, cataloguing them:"
   ]
  },
  {
   "cell_type": "code",
   "execution_count": 55,
   "metadata": {},
   "outputs": [
    {
     "name": "stderr",
     "output_type": "stream",
     "text": [
      "100%|██████████| 200/200 [03:08<00:00,  1.06it/s]\n"
     ]
    }
   ],
   "source": [
    "model_catalogue = list()\n",
    "\n",
    "for filename in tqdm(os.listdir(model_dir)):\n",
    "    full_filename = model_dir + filename\n",
    "    with open(full_filename, 'rb') as f:\n",
    "        model = pickle.load(f)\n",
    "    \n",
    "    d = {'model_path': full_filename,\n",
    "         'birth_rate': model.birth_rate,\n",
    "         'speed_mean': model.speed_mean,\n",
    "         'speed_std': model.speed_std}\n",
    "    model_catalogue.append(d)"
   ]
  },
  {
   "cell_type": "code",
   "execution_count": 70,
   "metadata": {},
   "outputs": [
    {
     "data": {
      "text/html": [
       "<div>\n",
       "<style scoped>\n",
       "    .dataframe tbody tr th:only-of-type {\n",
       "        vertical-align: middle;\n",
       "    }\n",
       "\n",
       "    .dataframe tbody tr th {\n",
       "        vertical-align: top;\n",
       "    }\n",
       "\n",
       "    .dataframe thead th {\n",
       "        text-align: right;\n",
       "    }\n",
       "</style>\n",
       "<table border=\"1\" class=\"dataframe\">\n",
       "  <thead>\n",
       "    <tr style=\"text-align: right;\">\n",
       "      <th></th>\n",
       "      <th>model_path</th>\n",
       "      <th>birth_rate</th>\n",
       "      <th>speed_mean</th>\n",
       "      <th>speed_std</th>\n",
       "    </tr>\n",
       "  </thead>\n",
       "  <tbody>\n",
       "    <tr>\n",
       "      <th>0</th>\n",
       "      <td>../outputs/models/model_2_37.pkl</td>\n",
       "      <td>1.580754</td>\n",
       "      <td>0.524711</td>\n",
       "      <td>0.479437</td>\n",
       "    </tr>\n",
       "    <tr>\n",
       "      <th>1</th>\n",
       "      <td>../outputs/models/model_1_14.pkl</td>\n",
       "      <td>1.191369</td>\n",
       "      <td>0.653674</td>\n",
       "      <td>0.862772</td>\n",
       "    </tr>\n",
       "    <tr>\n",
       "      <th>2</th>\n",
       "      <td>../outputs/models/model_1_9.pkl</td>\n",
       "      <td>1.325691</td>\n",
       "      <td>0.759132</td>\n",
       "      <td>0.667050</td>\n",
       "    </tr>\n",
       "    <tr>\n",
       "      <th>3</th>\n",
       "      <td>../outputs/models/model_1_16.pkl</td>\n",
       "      <td>1.393476</td>\n",
       "      <td>1.351788</td>\n",
       "      <td>0.534466</td>\n",
       "    </tr>\n",
       "    <tr>\n",
       "      <th>4</th>\n",
       "      <td>../outputs/models/model_2_75.pkl</td>\n",
       "      <td>1.307660</td>\n",
       "      <td>1.037976</td>\n",
       "      <td>0.807804</td>\n",
       "    </tr>\n",
       "  </tbody>\n",
       "</table>\n",
       "</div>"
      ],
      "text/plain": [
       "                         model_path  birth_rate  speed_mean  speed_std\n",
       "0  ../outputs/models/model_2_37.pkl    1.580754    0.524711   0.479437\n",
       "1  ../outputs/models/model_1_14.pkl    1.191369    0.653674   0.862772\n",
       "2   ../outputs/models/model_1_9.pkl    1.325691    0.759132   0.667050\n",
       "3  ../outputs/models/model_1_16.pkl    1.393476    1.351788   0.534466\n",
       "4  ../outputs/models/model_2_75.pkl    1.307660    1.037976   0.807804"
      ]
     },
     "execution_count": 70,
     "metadata": {},
     "output_type": "execute_result"
    }
   ],
   "source": [
    "model_catalogue = pd.DataFrame(model_catalogue)\n",
    "model_catalogue.head()"
   ]
  },
  {
   "cell_type": "code",
   "execution_count": 71,
   "metadata": {},
   "outputs": [],
   "source": [
    "model_catalogue.to_csv(output_data_dir + 'model_catalogue.csv', index=False)"
   ]
  },
  {
   "cell_type": "code",
   "execution_count": 72,
   "metadata": {},
   "outputs": [
    {
     "data": {
      "image/png": "[encoded data removed]",
      "text/plain": [
       "<Figure size 432x288 with 1 Axes>"
      ]
     },
     "metadata": {
      "needs_background": "light"
     },
     "output_type": "display_data"
    },
    {
     "data": {
      "image/png": "[encoded data removed]",
      "text/plain": [
       "<Figure size 432x288 with 1 Axes>"
      ]
     },
     "metadata": {
      "needs_background": "light"
     },
     "output_type": "display_data"
    },
    {
     "data": {
      "image/png": "[encoded data removed]",
      "text/plain": [
       "<Figure size 432x288 with 1 Axes>"
      ]
     },
     "metadata": {
      "needs_background": "light"
     },
     "output_type": "display_data"
    }
   ],
   "source": [
    "for variable in ['birth_rate', 'speed_mean', 'speed_std']:\n",
    "    plt.figure()\n",
    "    plt.hist(model_catalogue[variable])\n",
    "    plt.xlabel(variable)\n",
    "    plt.ylabel('Frequency')\n",
    "    plt.show()"
   ]
  },
  {
   "cell_type": "code",
   "execution_count": 132,
   "metadata": {},
   "outputs": [],
   "source": [
    "slice_proportion = 5"
   ]
  },
  {
   "cell_type": "code",
   "execution_count": 133,
   "metadata": {},
   "outputs": [],
   "source": [
    "birth_rate_regimes = {'high': activation_rate_max,\n",
    "                      'nominal': DEFAULT_ACTIVATION_RATE,\n",
    "                      'low': activation_rate_min,\n",
    "                      'step': (activation_rate_max-activation_rate_min)/slice_proportion}\n",
    "\n",
    "speed_mean_regimes = {'high': mean_speed_max,\n",
    "                      'nominal': DEFAULT_SPEED_MEAN,\n",
    "                      'low': mean_speed_min,\n",
    "                      'step': (mean_speed_max-mean_speed_min)/slice_proportion}\n",
    "\n",
    "speed_std_regimes = {'high': std_speed_max,\n",
    "                     'nominal': DEFAULT_SPEED_STD,\n",
    "                     'low': std_speed_min,\n",
    "                     'step': (std_speed_max-std_speed_min)/slice_proportion}\n",
    "\n",
    "regimes = {'birth_rate': birth_rate_regimes,\n",
    "           'speed_mean': speed_mean_regimes,\n",
    "           'speed_std': speed_std_regimes}"
   ]
  },
  {
   "cell_type": "code",
   "execution_count": 134,
   "metadata": {},
   "outputs": [],
   "source": [
    "regime_names = ['high', 'nominal', 'low']"
   ]
  },
  {
   "cell_type": "code",
   "execution_count": 135,
   "metadata": {},
   "outputs": [],
   "source": [
    "def __get_set(df: pd.DataFrame, var: str, lower, upper) -> set:\n",
    "    tdf = model_catalogue.loc[(model_catalogue[var] >= lower) & (model_catalogue[var] <= upper), :]\n",
    "    files = set(tdf['model_path'])\n",
    "    return files   \n",
    "\n",
    "def __get_low(model_catalogue: pd.DataFrame, regimes: dict, parameter: str) -> set:\n",
    "    param_regimes = regimes[parameter]\n",
    "    lower = param_regimes['low']\n",
    "    upper = param_regimes['low'] + param_regimes['step']\n",
    "    files = __get_set(model_catalogue, parameter, lower, upper)\n",
    "    return files\n",
    "\n",
    "def __get_nominal(model_catalogue: pd.DataFrame, regimes: dict, parameter: str) -> set:\n",
    "    param_regimes = regimes[parameter]\n",
    "    half_step = param_regimes['step'] / 2\n",
    "    lower = param_regimes['nominal'] - half_step\n",
    "    upper = param_regimes['nominal'] + half_step\n",
    "    files = __get_set(model_catalogue, parameter, lower, upper)\n",
    "    return files\n",
    "\n",
    "def __get_high(model_catalogue: pd.DataFrame, regimes: dict, parameter: str) -> set:\n",
    "    param_regimes = regimes[parameter]\n",
    "    lower = param_regimes['high'] - param_regimes['step']\n",
    "    upper = param_regimes['high']\n",
    "    files = __get_set(model_catalogue, parameter, lower, upper)\n",
    "    return files"
   ]
  },
  {
   "cell_type": "code",
   "execution_count": 136,
   "metadata": {},
   "outputs": [],
   "source": [
    "regime_funcs = {'high': __get_high,\n",
    "                'nominal': __get_nominal,\n",
    "                'low': __get_low}"
   ]
  },
  {
   "cell_type": "code",
   "execution_count": 137,
   "metadata": {},
   "outputs": [],
   "source": [
    "models_by_regime = list()\n",
    "for ar_regime in regime_names:\n",
    "    for ms_regime in regime_names:\n",
    "        for ss_regime in regime_names:\n",
    "            ar_models = regime_funcs[ar_regime](model_catalogue, regimes, 'birth_rate')\n",
    "            ms_models = regime_funcs[ms_regime](model_catalogue, regimes, 'speed_mean')\n",
    "            ss_models = regime_funcs[ss_regime](model_catalogue, regimes, 'speed_std')\n",
    "            \n",
    "            model_paths = ar_models.intersection(ms_models, ss_models)\n",
    "            \n",
    "            d = {'birth_rate': ar_regime,\n",
    "                 'speed_mean': ms_regime,\n",
    "                 'speed_std': ss_regime,\n",
    "                 'model_paths': list(model_paths)}\n",
    "            models_by_regime.append(d)"
   ]
  },
  {
   "cell_type": "code",
   "execution_count": 138,
   "metadata": {},
   "outputs": [
    {
     "data": {
      "text/html": [
       "<div>\n",
       "<style scoped>\n",
       "    .dataframe tbody tr th:only-of-type {\n",
       "        vertical-align: middle;\n",
       "    }\n",
       "\n",
       "    .dataframe tbody tr th {\n",
       "        vertical-align: top;\n",
       "    }\n",
       "\n",
       "    .dataframe thead th {\n",
       "        text-align: right;\n",
       "    }\n",
       "</style>\n",
       "<table border=\"1\" class=\"dataframe\">\n",
       "  <thead>\n",
       "    <tr style=\"text-align: right;\">\n",
       "      <th></th>\n",
       "      <th>birth_rate</th>\n",
       "      <th>speed_mean</th>\n",
       "      <th>speed_std</th>\n",
       "      <th>model_paths</th>\n",
       "    </tr>\n",
       "  </thead>\n",
       "  <tbody>\n",
       "    <tr>\n",
       "      <th>0</th>\n",
       "      <td>high</td>\n",
       "      <td>high</td>\n",
       "      <td>high</td>\n",
       "      <td>[../outputs/models/model_1_91.pkl, ../outputs/...</td>\n",
       "    </tr>\n",
       "    <tr>\n",
       "      <th>1</th>\n",
       "      <td>high</td>\n",
       "      <td>high</td>\n",
       "      <td>nominal</td>\n",
       "      <td>[../outputs/models/model_1_30.pkl]</td>\n",
       "    </tr>\n",
       "    <tr>\n",
       "      <th>2</th>\n",
       "      <td>high</td>\n",
       "      <td>high</td>\n",
       "      <td>low</td>\n",
       "      <td>[../outputs/models/model_2_47.pkl]</td>\n",
       "    </tr>\n",
       "    <tr>\n",
       "      <th>3</th>\n",
       "      <td>high</td>\n",
       "      <td>nominal</td>\n",
       "      <td>high</td>\n",
       "      <td>[../outputs/models/model_2_82.pkl, ../outputs/...</td>\n",
       "    </tr>\n",
       "    <tr>\n",
       "      <th>4</th>\n",
       "      <td>high</td>\n",
       "      <td>nominal</td>\n",
       "      <td>nominal</td>\n",
       "      <td>[]</td>\n",
       "    </tr>\n",
       "  </tbody>\n",
       "</table>\n",
       "</div>"
      ],
      "text/plain": [
       "  birth_rate speed_mean speed_std  \\\n",
       "0       high       high      high   \n",
       "1       high       high   nominal   \n",
       "2       high       high       low   \n",
       "3       high    nominal      high   \n",
       "4       high    nominal   nominal   \n",
       "\n",
       "                                         model_paths  \n",
       "0  [../outputs/models/model_1_91.pkl, ../outputs/...  \n",
       "1                 [../outputs/models/model_1_30.pkl]  \n",
       "2                 [../outputs/models/model_2_47.pkl]  \n",
       "3  [../outputs/models/model_2_82.pkl, ../outputs/...  \n",
       "4                                                 []  "
      ]
     },
     "execution_count": 138,
     "metadata": {},
     "output_type": "execute_result"
    }
   ],
   "source": [
    "models_by_regime = pd.DataFrame(models_by_regime)\n",
    "models_by_regime.head()"
   ]
  },
  {
   "cell_type": "code",
   "execution_count": 139,
   "metadata": {},
   "outputs": [],
   "source": [
    "def __is_empty_list(row):\n",
    "    return row['model_paths'] == []"
   ]
  },
  {
   "cell_type": "code",
   "execution_count": 140,
   "metadata": {},
   "outputs": [],
   "source": [
    "def __get_n_paths(row):\n",
    "    return len(row['model_paths'])"
   ]
  },
  {
   "cell_type": "code",
   "execution_count": 141,
   "metadata": {},
   "outputs": [],
   "source": [
    "models_by_regime['no_paths'] = models_by_regime.apply(__is_empty_list, axis=1)\n",
    "models_by_regime['n_paths'] = models_by_regime.apply(__get_n_paths, axis=1)"
   ]
  },
  {
   "cell_type": "code",
   "execution_count": 142,
   "metadata": {},
   "outputs": [
    {
     "data": {
      "text/plain": [
       "2"
      ]
     },
     "execution_count": 142,
     "metadata": {},
     "output_type": "execute_result"
    }
   ],
   "source": [
    "sum(models_by_regime['no_paths'])"
   ]
  },
  {
   "cell_type": "code",
   "execution_count": 144,
   "metadata": {},
   "outputs": [
    {
     "data": {
      "image/png": "[encoded data removed]",
      "text/plain": [
       "<Figure size 432x288 with 1 Axes>"
      ]
     },
     "metadata": {
      "needs_background": "light"
     },
     "output_type": "display_data"
    }
   ],
   "source": [
    "plt.figure()\n",
    "plt.hist(models_by_regime['n_paths'])\n",
    "plt.ylabel('Frequency')\n",
    "plt.xlabel('Number of models for a given parameter regime combination')\n",
    "plt.show()"
   ]
  },
  {
   "cell_type": "code",
   "execution_count": 145,
   "metadata": {},
   "outputs": [
    {
     "data": {
      "text/html": [
       "<div>\n",
       "<style scoped>\n",
       "    .dataframe tbody tr th:only-of-type {\n",
       "        vertical-align: middle;\n",
       "    }\n",
       "\n",
       "    .dataframe tbody tr th {\n",
       "        vertical-align: top;\n",
       "    }\n",
       "\n",
       "    .dataframe thead th {\n",
       "        text-align: right;\n",
       "    }\n",
       "</style>\n",
       "<table border=\"1\" class=\"dataframe\">\n",
       "  <thead>\n",
       "    <tr style=\"text-align: right;\">\n",
       "      <th></th>\n",
       "      <th>birth_rate</th>\n",
       "      <th>speed_mean</th>\n",
       "      <th>speed_std</th>\n",
       "      <th>model_paths</th>\n",
       "      <th>no_paths</th>\n",
       "      <th>n_paths</th>\n",
       "    </tr>\n",
       "  </thead>\n",
       "  <tbody>\n",
       "    <tr>\n",
       "      <th>9</th>\n",
       "      <td>nominal</td>\n",
       "      <td>high</td>\n",
       "      <td>high</td>\n",
       "      <td>[../outputs/models/model_1_8.pkl, ../outputs/m...</td>\n",
       "      <td>False</td>\n",
       "      <td>4</td>\n",
       "    </tr>\n",
       "    <tr>\n",
       "      <th>10</th>\n",
       "      <td>nominal</td>\n",
       "      <td>high</td>\n",
       "      <td>nominal</td>\n",
       "      <td>[../outputs/models/model_2_50.pkl, ../outputs/...</td>\n",
       "      <td>False</td>\n",
       "      <td>3</td>\n",
       "    </tr>\n",
       "    <tr>\n",
       "      <th>11</th>\n",
       "      <td>nominal</td>\n",
       "      <td>high</td>\n",
       "      <td>low</td>\n",
       "      <td>[../outputs/models/model_2_77.pkl, ../outputs/...</td>\n",
       "      <td>False</td>\n",
       "      <td>4</td>\n",
       "    </tr>\n",
       "    <tr>\n",
       "      <th>12</th>\n",
       "      <td>nominal</td>\n",
       "      <td>nominal</td>\n",
       "      <td>high</td>\n",
       "      <td>[../outputs/models/model_2_64.pkl, ../outputs/...</td>\n",
       "      <td>False</td>\n",
       "      <td>4</td>\n",
       "    </tr>\n",
       "    <tr>\n",
       "      <th>13</th>\n",
       "      <td>nominal</td>\n",
       "      <td>nominal</td>\n",
       "      <td>nominal</td>\n",
       "      <td>[../outputs/models/model_1_71.pkl, ../outputs/...</td>\n",
       "      <td>False</td>\n",
       "      <td>3</td>\n",
       "    </tr>\n",
       "    <tr>\n",
       "      <th>14</th>\n",
       "      <td>nominal</td>\n",
       "      <td>nominal</td>\n",
       "      <td>low</td>\n",
       "      <td>[]</td>\n",
       "      <td>True</td>\n",
       "      <td>0</td>\n",
       "    </tr>\n",
       "    <tr>\n",
       "      <th>15</th>\n",
       "      <td>nominal</td>\n",
       "      <td>low</td>\n",
       "      <td>high</td>\n",
       "      <td>[../outputs/models/model_1_27.pkl]</td>\n",
       "      <td>False</td>\n",
       "      <td>1</td>\n",
       "    </tr>\n",
       "    <tr>\n",
       "      <th>16</th>\n",
       "      <td>nominal</td>\n",
       "      <td>low</td>\n",
       "      <td>nominal</td>\n",
       "      <td>[../outputs/models/model_2_61.pkl, ../outputs/...</td>\n",
       "      <td>False</td>\n",
       "      <td>4</td>\n",
       "    </tr>\n",
       "    <tr>\n",
       "      <th>17</th>\n",
       "      <td>nominal</td>\n",
       "      <td>low</td>\n",
       "      <td>low</td>\n",
       "      <td>[../outputs/models/model_1_42.pkl, ../outputs/...</td>\n",
       "      <td>False</td>\n",
       "      <td>2</td>\n",
       "    </tr>\n",
       "  </tbody>\n",
       "</table>\n",
       "</div>"
      ],
      "text/plain": [
       "   birth_rate speed_mean speed_std  \\\n",
       "9     nominal       high      high   \n",
       "10    nominal       high   nominal   \n",
       "11    nominal       high       low   \n",
       "12    nominal    nominal      high   \n",
       "13    nominal    nominal   nominal   \n",
       "14    nominal    nominal       low   \n",
       "15    nominal        low      high   \n",
       "16    nominal        low   nominal   \n",
       "17    nominal        low       low   \n",
       "\n",
       "                                          model_paths  no_paths  n_paths  \n",
       "9   [../outputs/models/model_1_8.pkl, ../outputs/m...     False        4  \n",
       "10  [../outputs/models/model_2_50.pkl, ../outputs/...     False        3  \n",
       "11  [../outputs/models/model_2_77.pkl, ../outputs/...     False        4  \n",
       "12  [../outputs/models/model_2_64.pkl, ../outputs/...     False        4  \n",
       "13  [../outputs/models/model_1_71.pkl, ../outputs/...     False        3  \n",
       "14                                                 []      True        0  \n",
       "15                 [../outputs/models/model_1_27.pkl]     False        1  \n",
       "16  [../outputs/models/model_2_61.pkl, ../outputs/...     False        4  \n",
       "17  [../outputs/models/model_1_42.pkl, ../outputs/...     False        2  "
      ]
     },
     "execution_count": 145,
     "metadata": {},
     "output_type": "execute_result"
    }
   ],
   "source": [
    "models_by_regime.loc[models_by_regime['birth_rate']=='nominal', :]"
   ]
  },
  {
   "cell_type": "code",
   "execution_count": 146,
   "metadata": {},
   "outputs": [
    {
     "data": {
      "text/html": [
       "<div>\n",
       "<style scoped>\n",
       "    .dataframe tbody tr th:only-of-type {\n",
       "        vertical-align: middle;\n",
       "    }\n",
       "\n",
       "    .dataframe tbody tr th {\n",
       "        vertical-align: top;\n",
       "    }\n",
       "\n",
       "    .dataframe thead th {\n",
       "        text-align: right;\n",
       "    }\n",
       "</style>\n",
       "<table border=\"1\" class=\"dataframe\">\n",
       "  <thead>\n",
       "    <tr style=\"text-align: right;\">\n",
       "      <th></th>\n",
       "      <th>birth_rate</th>\n",
       "      <th>speed_mean</th>\n",
       "      <th>speed_std</th>\n",
       "      <th>model_paths</th>\n",
       "      <th>no_paths</th>\n",
       "      <th>n_paths</th>\n",
       "    </tr>\n",
       "  </thead>\n",
       "  <tbody>\n",
       "    <tr>\n",
       "      <th>3</th>\n",
       "      <td>high</td>\n",
       "      <td>nominal</td>\n",
       "      <td>high</td>\n",
       "      <td>[../outputs/models/model_2_82.pkl, ../outputs/...</td>\n",
       "      <td>False</td>\n",
       "      <td>2</td>\n",
       "    </tr>\n",
       "    <tr>\n",
       "      <th>4</th>\n",
       "      <td>high</td>\n",
       "      <td>nominal</td>\n",
       "      <td>nominal</td>\n",
       "      <td>[]</td>\n",
       "      <td>True</td>\n",
       "      <td>0</td>\n",
       "    </tr>\n",
       "    <tr>\n",
       "      <th>5</th>\n",
       "      <td>high</td>\n",
       "      <td>nominal</td>\n",
       "      <td>low</td>\n",
       "      <td>[../outputs/models/model_2_8.pkl, ../outputs/m...</td>\n",
       "      <td>False</td>\n",
       "      <td>2</td>\n",
       "    </tr>\n",
       "    <tr>\n",
       "      <th>12</th>\n",
       "      <td>nominal</td>\n",
       "      <td>nominal</td>\n",
       "      <td>high</td>\n",
       "      <td>[../outputs/models/model_2_64.pkl, ../outputs/...</td>\n",
       "      <td>False</td>\n",
       "      <td>4</td>\n",
       "    </tr>\n",
       "    <tr>\n",
       "      <th>13</th>\n",
       "      <td>nominal</td>\n",
       "      <td>nominal</td>\n",
       "      <td>nominal</td>\n",
       "      <td>[../outputs/models/model_1_71.pkl, ../outputs/...</td>\n",
       "      <td>False</td>\n",
       "      <td>3</td>\n",
       "    </tr>\n",
       "    <tr>\n",
       "      <th>14</th>\n",
       "      <td>nominal</td>\n",
       "      <td>nominal</td>\n",
       "      <td>low</td>\n",
       "      <td>[]</td>\n",
       "      <td>True</td>\n",
       "      <td>0</td>\n",
       "    </tr>\n",
       "    <tr>\n",
       "      <th>21</th>\n",
       "      <td>low</td>\n",
       "      <td>nominal</td>\n",
       "      <td>high</td>\n",
       "      <td>[../outputs/models/model_1_87.pkl]</td>\n",
       "      <td>False</td>\n",
       "      <td>1</td>\n",
       "    </tr>\n",
       "    <tr>\n",
       "      <th>22</th>\n",
       "      <td>low</td>\n",
       "      <td>nominal</td>\n",
       "      <td>nominal</td>\n",
       "      <td>[../outputs/models/model_1_40.pkl]</td>\n",
       "      <td>False</td>\n",
       "      <td>1</td>\n",
       "    </tr>\n",
       "    <tr>\n",
       "      <th>23</th>\n",
       "      <td>low</td>\n",
       "      <td>nominal</td>\n",
       "      <td>low</td>\n",
       "      <td>[../outputs/models/model_2_21.pkl, ../outputs/...</td>\n",
       "      <td>False</td>\n",
       "      <td>2</td>\n",
       "    </tr>\n",
       "  </tbody>\n",
       "</table>\n",
       "</div>"
      ],
      "text/plain": [
       "   birth_rate speed_mean speed_std  \\\n",
       "3        high    nominal      high   \n",
       "4        high    nominal   nominal   \n",
       "5        high    nominal       low   \n",
       "12    nominal    nominal      high   \n",
       "13    nominal    nominal   nominal   \n",
       "14    nominal    nominal       low   \n",
       "21        low    nominal      high   \n",
       "22        low    nominal   nominal   \n",
       "23        low    nominal       low   \n",
       "\n",
       "                                          model_paths  no_paths  n_paths  \n",
       "3   [../outputs/models/model_2_82.pkl, ../outputs/...     False        2  \n",
       "4                                                  []      True        0  \n",
       "5   [../outputs/models/model_2_8.pkl, ../outputs/m...     False        2  \n",
       "12  [../outputs/models/model_2_64.pkl, ../outputs/...     False        4  \n",
       "13  [../outputs/models/model_1_71.pkl, ../outputs/...     False        3  \n",
       "14                                                 []      True        0  \n",
       "21                 [../outputs/models/model_1_87.pkl]     False        1  \n",
       "22                 [../outputs/models/model_1_40.pkl]     False        1  \n",
       "23  [../outputs/models/model_2_21.pkl, ../outputs/...     False        2  "
      ]
     },
     "execution_count": 146,
     "metadata": {},
     "output_type": "execute_result"
    }
   ],
   "source": [
    "models_by_regime.loc[models_by_regime['speed_mean']=='nominal', :]"
   ]
  },
  {
   "cell_type": "code",
   "execution_count": 147,
   "metadata": {},
   "outputs": [
    {
     "data": {
      "text/html": [
       "<div>\n",
       "<style scoped>\n",
       "    .dataframe tbody tr th:only-of-type {\n",
       "        vertical-align: middle;\n",
       "    }\n",
       "\n",
       "    .dataframe tbody tr th {\n",
       "        vertical-align: top;\n",
       "    }\n",
       "\n",
       "    .dataframe thead th {\n",
       "        text-align: right;\n",
       "    }\n",
       "</style>\n",
       "<table border=\"1\" class=\"dataframe\">\n",
       "  <thead>\n",
       "    <tr style=\"text-align: right;\">\n",
       "      <th></th>\n",
       "      <th>birth_rate</th>\n",
       "      <th>speed_mean</th>\n",
       "      <th>speed_std</th>\n",
       "      <th>model_paths</th>\n",
       "      <th>no_paths</th>\n",
       "      <th>n_paths</th>\n",
       "    </tr>\n",
       "  </thead>\n",
       "  <tbody>\n",
       "    <tr>\n",
       "      <th>1</th>\n",
       "      <td>high</td>\n",
       "      <td>high</td>\n",
       "      <td>nominal</td>\n",
       "      <td>[../outputs/models/model_1_30.pkl]</td>\n",
       "      <td>False</td>\n",
       "      <td>1</td>\n",
       "    </tr>\n",
       "    <tr>\n",
       "      <th>4</th>\n",
       "      <td>high</td>\n",
       "      <td>nominal</td>\n",
       "      <td>nominal</td>\n",
       "      <td>[]</td>\n",
       "      <td>True</td>\n",
       "      <td>0</td>\n",
       "    </tr>\n",
       "    <tr>\n",
       "      <th>7</th>\n",
       "      <td>high</td>\n",
       "      <td>low</td>\n",
       "      <td>nominal</td>\n",
       "      <td>[../outputs/models/model_1_90.pkl]</td>\n",
       "      <td>False</td>\n",
       "      <td>1</td>\n",
       "    </tr>\n",
       "    <tr>\n",
       "      <th>10</th>\n",
       "      <td>nominal</td>\n",
       "      <td>high</td>\n",
       "      <td>nominal</td>\n",
       "      <td>[../outputs/models/model_2_50.pkl, ../outputs/...</td>\n",
       "      <td>False</td>\n",
       "      <td>3</td>\n",
       "    </tr>\n",
       "    <tr>\n",
       "      <th>13</th>\n",
       "      <td>nominal</td>\n",
       "      <td>nominal</td>\n",
       "      <td>nominal</td>\n",
       "      <td>[../outputs/models/model_1_71.pkl, ../outputs/...</td>\n",
       "      <td>False</td>\n",
       "      <td>3</td>\n",
       "    </tr>\n",
       "    <tr>\n",
       "      <th>16</th>\n",
       "      <td>nominal</td>\n",
       "      <td>low</td>\n",
       "      <td>nominal</td>\n",
       "      <td>[../outputs/models/model_2_61.pkl, ../outputs/...</td>\n",
       "      <td>False</td>\n",
       "      <td>4</td>\n",
       "    </tr>\n",
       "    <tr>\n",
       "      <th>19</th>\n",
       "      <td>low</td>\n",
       "      <td>high</td>\n",
       "      <td>nominal</td>\n",
       "      <td>[../outputs/models/model_2_67.pkl]</td>\n",
       "      <td>False</td>\n",
       "      <td>1</td>\n",
       "    </tr>\n",
       "    <tr>\n",
       "      <th>22</th>\n",
       "      <td>low</td>\n",
       "      <td>nominal</td>\n",
       "      <td>nominal</td>\n",
       "      <td>[../outputs/models/model_1_40.pkl]</td>\n",
       "      <td>False</td>\n",
       "      <td>1</td>\n",
       "    </tr>\n",
       "    <tr>\n",
       "      <th>25</th>\n",
       "      <td>low</td>\n",
       "      <td>low</td>\n",
       "      <td>nominal</td>\n",
       "      <td>[../outputs/models/model_1_6.pkl, ../outputs/m...</td>\n",
       "      <td>False</td>\n",
       "      <td>2</td>\n",
       "    </tr>\n",
       "  </tbody>\n",
       "</table>\n",
       "</div>"
      ],
      "text/plain": [
       "   birth_rate speed_mean speed_std  \\\n",
       "1        high       high   nominal   \n",
       "4        high    nominal   nominal   \n",
       "7        high        low   nominal   \n",
       "10    nominal       high   nominal   \n",
       "13    nominal    nominal   nominal   \n",
       "16    nominal        low   nominal   \n",
       "19        low       high   nominal   \n",
       "22        low    nominal   nominal   \n",
       "25        low        low   nominal   \n",
       "\n",
       "                                          model_paths  no_paths  n_paths  \n",
       "1                  [../outputs/models/model_1_30.pkl]     False        1  \n",
       "4                                                  []      True        0  \n",
       "7                  [../outputs/models/model_1_90.pkl]     False        1  \n",
       "10  [../outputs/models/model_2_50.pkl, ../outputs/...     False        3  \n",
       "13  [../outputs/models/model_1_71.pkl, ../outputs/...     False        3  \n",
       "16  [../outputs/models/model_2_61.pkl, ../outputs/...     False        4  \n",
       "19                 [../outputs/models/model_2_67.pkl]     False        1  \n",
       "22                 [../outputs/models/model_1_40.pkl]     False        1  \n",
       "25  [../outputs/models/model_1_6.pkl, ../outputs/m...     False        2  "
      ]
     },
     "execution_count": 147,
     "metadata": {},
     "output_type": "execute_result"
    }
   ],
   "source": [
    "models_by_regime.loc[models_by_regime['speed_std']=='nominal', :]"
   ]
  }
 ],
 "metadata": {
  "kernelspec": {
   "display_name": "Python 3",
   "language": "python",
   "name": "python3"
  },
  "language_info": {
   "codemirror_mode": {
    "name": "ipython",
    "version": 3
   },
   "file_extension": ".py",
   "mimetype": "text/x-python",
   "name": "python",
   "nbconvert_exporter": "python",
   "pygments_lexer": "ipython3",
   "version": "3.8.3"
  },
  "toc-autonumbering": true,
  "toc-showcode": false,
  "toc-showmarkdowntxt": false,
  "toc-showtags": false
 },
 "nbformat": 4,
 "nbformat_minor": 4
}
