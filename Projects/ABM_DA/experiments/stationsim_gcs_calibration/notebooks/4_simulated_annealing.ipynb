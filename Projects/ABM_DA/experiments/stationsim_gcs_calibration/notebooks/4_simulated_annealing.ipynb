{
 "cells": [
  {
   "cell_type": "markdown",
   "metadata": {},
   "source": [
    "# Simulated Annealing"
   ]
  },
  {
   "cell_type": "markdown",
   "metadata": {},
   "source": [
    "Simulated annealing algorithm:\n",
    "* Select an initial solution\n",
    "* Select  the  temperature  change  counter  k=0\n",
    "* Select  a  temperature  cooling  schedule\n",
    "* Select an initial temperature\n",
    "* Select a repetition schedule, that defines the number of iterations executed at eachtemperature\n",
    "* For t in \\[$t_{max}$, $t_{min}$\\]:\n",
    "    * For m in \\[0, $m_{max}$\\]\n",
    "        * Generate a solution\n",
    "        * Calculate energy diff\n",
    "        * If energy diff < 0 then take new state\n",
    "        * If energy diff > 0 then take new state with probability exp(-energy diff/t)"
   ]
  },
  {
   "cell_type": "markdown",
   "metadata": {},
   "source": [
    "## Imports"
   ]
  },
  {
   "cell_type": "code",
   "execution_count": 1,
   "metadata": {},
   "outputs": [],
   "source": [
    "import json\n",
    "from math import exp\n",
    "import matplotlib.pyplot as plt\n",
    "import numpy as np\n",
    "import pandas as pd\n",
    "from random import random, uniform\n",
    "import seaborn as sns\n",
    "import sys\n",
    "import time\n",
    "\n",
    "%matplotlib inline\n",
    "sys.path.append('../../../stationsim/')\n",
    "from stationsim_gcs_model import Model"
   ]
  },
  {
   "cell_type": "markdown",
   "metadata": {},
   "source": [
    "## Constants"
   ]
  },
  {
   "cell_type": "code",
   "execution_count": 2,
   "metadata": {},
   "outputs": [],
   "source": [
    "METROPOLIS = 1\n",
    "TIME_TO_COMPLETION = 5687\n",
    "MAX_ACTIVE_POPULATION = 85\n",
    "NEIGHBOURHOOD = 0.5\n",
    "TEMPERATURE_DROP = 4"
   ]
  },
  {
   "cell_type": "markdown",
   "metadata": {},
   "source": [
    "## Classes"
   ]
  },
  {
   "cell_type": "code",
   "execution_count": 3,
   "metadata": {},
   "outputs": [],
   "source": [
    "class State():\n",
    "    def __init__(self, model_params):\n",
    "        self.model_params = model_params\n",
    "        self.model = Model(**self.model_params)\n",
    "        self.population_over_time = [self.model.pop_active]\n",
    "\n",
    "    def get_energy(self):\n",
    "        return abs(self.__get_time_to_completion() - TIME_TO_COMPLETION)\n",
    "        # return abs(self.__get_max_active_population() - MAX_ACTIVE_POPULATION)\n",
    "\n",
    "    def __get_max_active_population(self):\n",
    "        return max(self.population_over_time)\n",
    "\n",
    "    def __get_time_to_completion(self):\n",
    "        return self.model.finish_step_id\n",
    "\n",
    "    def run_model(self):\n",
    "        for _ in range(self.model.step_limit):\n",
    "            self.model.step()\n",
    "            self.population_over_time.append(self.model.pop_active)"
   ]
  },
  {
   "cell_type": "markdown",
   "metadata": {},
   "source": [
    "## Functions"
   ]
  },
  {
   "cell_type": "code",
   "execution_count": 4,
   "metadata": {},
   "outputs": [],
   "source": [
    "def get_next_state(current_state):\n",
    "    # Get current parameter values\n",
    "    model_params = current_state.model_params\n",
    "    \n",
    "    # Do something to perturb the variable of interest\n",
    "    new_model_params = model_params.copy()\n",
    "    perturbation = uniform(-NEIGHBOURHOOD, NEIGHBOURHOOD)\n",
    "    new_model_params['birth_rate'] += perturbation\n",
    "    \n",
    "    # Make new state and run model for new values\n",
    "    state = State(new_model_params)\n",
    "    state.run_model()\n",
    "    return state"
   ]
  },
  {
   "cell_type": "code",
   "execution_count": 5,
   "metadata": {},
   "outputs": [],
   "source": [
    "def simulated_annealing(initial_state, temp_min=0, temp_max=100):\n",
    "    params = [initial_state.model_params]\n",
    "    state = initial_state\n",
    "\n",
    "    for temp in range(temp_max, temp_min, -TEMPERATURE_DROP):\n",
    "        for i in range(METROPOLIS):\n",
    "            print(f'Run {i} for temperature {temp}')\n",
    "            current_energy = state.get_energy()\n",
    "            next_state = get_next_state(state)\n",
    "            next_energy = next_state.get_energy()\n",
    "            energy_change = next_energy - current_energy\n",
    "\n",
    "            if energy_change < 0:\n",
    "                print('Change state - greed')\n",
    "                state = next_state\n",
    "            elif exp(energy_change / temp) > random():\n",
    "                print('Change state - exploration')\n",
    "                state = next_state\n",
    "            params.append(state.model_params)\n",
    "    return initial_state, state, params"
   ]
  },
  {
   "cell_type": "markdown",
   "metadata": {},
   "source": [
    "## Run"
   ]
  },
  {
   "cell_type": "code",
   "execution_count": 6,
   "metadata": {},
   "outputs": [
    {
     "name": "stdout",
     "output_type": "stream",
     "text": [
      "mean: 0.8974784080646091, std: 0.3719712250899986, min: 0.17430201117120372\n"
     ]
    }
   ],
   "source": [
    "scaling_factor = 25/14\n",
    "speed_mean = 1.6026400144010877 / scaling_factor\n",
    "speed_std = 0.6642343305178546 / scaling_factor\n",
    "speed_min = 0.31125359137714953 / scaling_factor\n",
    "\n",
    "print(f'mean: {speed_mean}, std: {speed_std}, min: {speed_min}')"
   ]
  },
  {
   "cell_type": "code",
   "execution_count": 7,
   "metadata": {},
   "outputs": [
    {
     "name": "stderr",
     "output_type": "stream",
     "text": [
      "../../../stationsim/stationsim_gcs_model.py:573: RuntimeWarning: speed_std: is not a model parameter.\n",
      "  warnings.warn(f'{key} is not a model parameter.',\n"
     ]
    }
   ],
   "source": [
    "model_params = {'station': 'Grand_Central',\n",
    "                'speed_mean': speed_mean,\n",
    "                'speed_std:': speed_std,\n",
    "                'speed_min': speed_min,\n",
    "                'step_limit': 20000,\n",
    "                'do_print': False,\n",
    "                'pop_total': 274,\n",
    "                'birth_rate': 1.5}\n",
    "\n",
    "state = State(model_params)\n",
    "state.run_model()"
   ]
  },
  {
   "cell_type": "code",
   "execution_count": 8,
   "metadata": {},
   "outputs": [
    {
     "name": "stdout",
     "output_type": "stream",
     "text": [
      "Run 0 for temperature 100\n"
     ]
    },
    {
     "ename": "TypeError",
     "evalue": "random() takes no arguments (2 given)",
     "output_type": "error",
     "traceback": [
      "\u001b[0;31m---------------------------------------------------------------------------\u001b[0m",
      "\u001b[0;31mTypeError\u001b[0m                                 Traceback (most recent call last)",
      "\u001b[0;32m<ipython-input-8-8eb14974bb55>\u001b[0m in \u001b[0;36m<module>\u001b[0;34m\u001b[0m\n\u001b[0;32m----> 1\u001b[0;31m \u001b[0minitial_state\u001b[0m\u001b[0;34m,\u001b[0m \u001b[0mfinal_state\u001b[0m\u001b[0;34m,\u001b[0m \u001b[0mparam_list\u001b[0m \u001b[0;34m=\u001b[0m \u001b[0msimulated_annealing\u001b[0m\u001b[0;34m(\u001b[0m\u001b[0mstate\u001b[0m\u001b[0;34m)\u001b[0m\u001b[0;34m\u001b[0m\u001b[0;34m\u001b[0m\u001b[0m\n\u001b[0m",
      "\u001b[0;32m<ipython-input-5-cefdd3a50607>\u001b[0m in \u001b[0;36msimulated_annealing\u001b[0;34m(initial_state, temp_min, temp_max)\u001b[0m\n\u001b[1;32m     14\u001b[0m                 \u001b[0mprint\u001b[0m\u001b[0;34m(\u001b[0m\u001b[0;34m'Change state - greed'\u001b[0m\u001b[0;34m)\u001b[0m\u001b[0;34m\u001b[0m\u001b[0;34m\u001b[0m\u001b[0m\n\u001b[1;32m     15\u001b[0m                 \u001b[0mstate\u001b[0m \u001b[0;34m=\u001b[0m \u001b[0mnext_state\u001b[0m\u001b[0;34m\u001b[0m\u001b[0;34m\u001b[0m\u001b[0m\n\u001b[0;32m---> 16\u001b[0;31m             \u001b[0;32melif\u001b[0m \u001b[0mexp\u001b[0m\u001b[0;34m(\u001b[0m\u001b[0menergy_change\u001b[0m \u001b[0;34m/\u001b[0m \u001b[0mtemp\u001b[0m\u001b[0;34m)\u001b[0m \u001b[0;34m>\u001b[0m \u001b[0mrandom\u001b[0m\u001b[0;34m(\u001b[0m\u001b[0;36m0\u001b[0m\u001b[0;34m,\u001b[0m \u001b[0;36m1\u001b[0m\u001b[0;34m)\u001b[0m\u001b[0;34m:\u001b[0m\u001b[0;34m\u001b[0m\u001b[0;34m\u001b[0m\u001b[0m\n\u001b[0m\u001b[1;32m     17\u001b[0m                 \u001b[0mprint\u001b[0m\u001b[0;34m(\u001b[0m\u001b[0;34m'Change state - exploration'\u001b[0m\u001b[0;34m)\u001b[0m\u001b[0;34m\u001b[0m\u001b[0;34m\u001b[0m\u001b[0m\n\u001b[1;32m     18\u001b[0m                 \u001b[0mstate\u001b[0m \u001b[0;34m=\u001b[0m \u001b[0mnext_state\u001b[0m\u001b[0;34m\u001b[0m\u001b[0;34m\u001b[0m\u001b[0m\n",
      "\u001b[0;31mTypeError\u001b[0m: random() takes no arguments (2 given)"
     ]
    }
   ],
   "source": [
    "initial_state, final_state, param_list = simulated_annealing(state)"
   ]
  },
  {
   "cell_type": "markdown",
   "metadata": {},
   "source": [
    "## Bibliography"
   ]
  },
  {
   "cell_type": "markdown",
   "metadata": {},
   "source": []
  }
 ],
 "metadata": {
  "kernelspec": {
   "display_name": "Python 3",
   "language": "python",
   "name": "python3"
  },
  "language_info": {
   "codemirror_mode": {
    "name": "ipython",
    "version": 3
   },
   "file_extension": ".py",
   "mimetype": "text/x-python",
   "name": "python",
   "nbconvert_exporter": "python",
   "pygments_lexer": "ipython3",
   "version": "3.8.3"
  }
 },
 "nbformat": 4,
 "nbformat_minor": 4
}
