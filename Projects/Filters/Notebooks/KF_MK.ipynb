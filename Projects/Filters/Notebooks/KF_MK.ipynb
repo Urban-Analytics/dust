{
 "cells": [
  {
   "cell_type": "markdown",
   "metadata": {},
   "source": [
    "# Kalman Filter\n",
    "\n",
    "Author: [Minh Kieu](https://github.com/leminhkieu) (with some extra text by [Nick Malleson](https://github.com/nickmalleson/)).\n",
    "\n",
    "This notebook explains classical Kalman Filter (KF) and give a simple examples. The Kalman Filter is a method that can be used to estimate a new system state from previous states and new, noisy, information. \n",
    "\n",
    "The code is adapted from:\n",
    "\n",
    " - https://arxiv.org/ftp/arxiv/papers/1204/1204.0375.pdf\n",
    " - https://stackoverflow.com/questions/13901997/kalman-2d-filter-in-python\n",
    " \n",
    "As this is part of a project about agent-based modelling, its applicability to these kinds of models will be discussed explicitly."
   ]
  },
  {
   "cell_type": "code",
   "execution_count": 11,
   "metadata": {
    "collapsed": true
   },
   "outputs": [],
   "source": [
    "import numpy as np\n",
    "%matplotlib inline\n",
    "import matplotlib.pyplot as plt"
   ]
  },
  {
   "cell_type": "markdown",
   "metadata": {},
   "source": [
    "## Example: location and velocity of a moving object\n",
    "\n",
    "This example simulates the hypothetical movement of an object on a flat plan. The system is represented by a **state matrix**, $X$, which has a dimension $N$. In our case $N=3$ because we have 2D location and velocity ($x$, $y$, $velocity$).\n",
    "\n",
    "We can estimate $X$ by taking observations. However, usually we do not observe all of the variables (in this case we only know the location ($x$, $y$) but not the velocity). Therefore the **measurement matrix**, $Z$, which we use to estimate $X$, has a dimension smaller or equal to $N$: $dim(Z) \\leq N$.\n",
    "\n",
    "These matrices will be elaborated on below.\n",
    "\n",
    "## Main functions: _predict_ and _update_"
   ]
  },
  {
   "cell_type": "markdown",
   "metadata": {},
   "source": [
    "### Predict\n",
    "\n",
    "A Kalman Filter has two main functions: _predict_ and _update_.\n",
    "\n",
    "The purpose of the **predict** step is to estimate the current state of the system at time $k$, based on the previous measurements. In the context of agent-based modelling, predict means iterating the model for a number of time steps (i.e. running the model). Mathematically, the update step looks like this:\n",
    "\n",
    "$$\n",
    "X_{k+1} = f(X_k) + W_k\n",
    "$$\n",
    "\n",
    "We try to estimate the new state of the system at the next time step ($X_{k+1}$) by applying a function to the old state ($f(X_k)$) and adding some noise ($W_k$). With an ABM, $f(X_k)$ means 'run the model forward'. However, to make the Kalman Filter work, we assume here that $f$ is linear (this probably isn't a safe assumption for an ABM), so therefore we can do:\n",
    "\n",
    "$$\n",
    "X_{k+1} = F*X_k + W_k\n",
    "$$\n",
    "\n",
    "This means that we can simply multiply our current state $X_k$ by another matrix, $F$, to get the new state. $F$ is called the _state transition matrix_. So what does $F$ look like?  \n",
    "\n",
    "With simple systems, it is easy to define $F$. For example, with our example of position ($x$ and $y$) and velocity ($v_x$ and $v_y$), the state transition matrix would look like:\n",
    "\n",
    "$$\n",
    "X = \n",
    " \\begin{bmatrix}\n",
    "   x \\\\\n",
    "   y \\\\\n",
    "   v_x \\\\\n",
    "   v_y\n",
    " \\end{bmatrix}\n",
    "$$\n",
    " \n",
    "(Big '$X$' means state transition matrix and little '$x$' means the x coordinate; sorry, I know that's confusing!).\n",
    "\n",
    "Then if we assume that the object is not accelarating, and we know it's current speed, $\\Delta v$, $F$ looks like:\n",
    "\n",
    "$$\n",
    "F = \n",
    " \\begin{bmatrix}\n",
    "   1 & 0 & \\Delta v_x & 0 \\\\ \n",
    "   0 & 1 & 0 & \\Delta v_y \\\\ \n",
    "   0 & 0 &  1 & 0 \\\\ \n",
    "   0 & 0 & 0 & 1 \\\\ \n",
    " \\end{bmatrix}\n",
    "$$\n",
    "\n",
    "When we do $F * X$, the velocity of the object doesn't change, but it's $x$ and $y$ coordinates will change by $\\Delta v_x$ and $\\Delta v_y$ (i.e. the amount it has moved in the $x$ and $y$ planes).\n",
    "\n",
    "We also need to calculate the _predicted covariance_ in the predict step. This comes from the initial uncertainty covariance matrix, whose purpose is to quantify the covariance between the model parameters. Assuming there is no covariance between the parameters ($x$, $y$, $v_x$, $v_y$) it will look like: \n",
    "\n",
    "$$\n",
    " P' = \n",
    " \\begin{bmatrix}\n",
    "   1 & 0 & 0 & 0 \\\\ \n",
    "   0 & 1 & 0 & 0 \\\\ \n",
    "   0 & 0 &  1 & 0 \\\\ \n",
    "   0 & 0 & 0 & 1 \\\\ \n",
    " \\end{bmatrix}\n",
    "$$\n",
    "\n",
    "Then the _predicted covariance_ can be calculated as:\n",
    "\n",
    "$$\n",
    " P' = F P F^T + Q\n",
    "$$\n"
   ]
  },
  {
   "cell_type": "markdown",
   "metadata": {},
   "source": [
    "### Update\n",
    "\n",
    "The **update** step _combines new measurements with current system state_. In this manner, the modelled state of the system after the update step should be more similar to the real system state.\n",
    "\n",
    "To begin with, we need some measurements. Call these $z$. We can then use these measurements to estimate the difference between the actual value and the measured value, $y$, by using the state transition matrix:\n",
    "\n",
    "$$\n",
    " y = z - H . x'\n",
    "$$\n",
    "\n",
    "where $y$ is the difference between the real and measured value, $z$ is the measurement, $H$ is the state transition matrix (the same as $F$ in the previous step). Note that in this application, $F$ and $H$ are basically the same, but in a real application they could be different. This can occur when we _meausure_ one thing, but _model_ another. For example, here we both model and measure the object's location and velocity. But it is possible that we would measure something else, like the \n",
    "\n",
    "$F$ is the transition function (i.e. our model) but $H$ is a function that translates from measurements to \n",
    "\n",
    "Then we can do:\n",
    "\n",
    "$$\n",
    " S = H P' H^T + R \\\\\n",
    " K = P' H^T S^{-1}\n",
    "$$\n",
    "\n",
    "where\n",
    " - $R$ is the measurement noise (the measuring device should state what this is);\n",
    " - $K$ is the Kalman Gain matrix (discussed below)\n",
    " - $S$ is the total error in the system (error in the prediction plus error in the measurement)\n",
    "\n",
    "The Kalman Gain parameter, $K$, determines how much weight to give to the current prediction v.s. the new measurement. The amount of uncertainty around the measurements determines how much infuence they should have on the prediction (i.e. less uncertainty -> more confidence in the measured values -> a greater impact on the prediction). To estimate $K$ we need to quantify the error in the model prediction and the error in the new measurements. Importantly for agent-based modelling, _how do we calculate the uncertainty of our model?_.\n",
    "\n",
    "Finally update $X$ (the system state) ad $P$ (the covariance) according to the Kalman Gain.  :\n",
    "\n",
    "$$\n",
    " x = x' + K.y \\\\\n",
    " P = (I - K H)P'\n",
    "$$\n",
    "\n"
   ]
  },
  {
   "cell_type": "markdown",
   "metadata": {},
   "source": [
    "## The code\n",
    "\n",
    "The following code implements the _predict_ and _update_ functions. The symbols used are:\n",
    "\n",
    "For **predict**:\n",
    "\n",
    "X,P,A,Q,B,U\n",
    "\n",
    " - `X`: initial state matrix before application of the _predict_ and _update_ functions (i.e. the state at time $k-1$). This is a list of current values for each of the state variables.\n",
    " - `P`: initial uncertaity coveriance matrix (at time $k-1$), representing the covariance of the uncertainty of the variables. This is a matrix with shape $N * N$.\n",
    " - `A`: next state function: $X' = F*x$ (an $n * n$ matrix)\n",
    " - `Q`: motion noise (same shape as $P$)\n",
    " - `B`: The input effect matrix (n x 1)\n",
    " - `U`: ??\n",
    "\n",
    "For **udpate**:\n",
    " - `X`: the state matrix after the `predict` step\n",
    " - `P`: the _predicted_ covariance matrix (i.e. the covariance after the `predict` step). \n",
    " - `Y`: the difference between the measurements and the current state estimate (_correct?_)\n",
    " - `H`: measurement function: position z=H*x\n",
    " - `R`: measurement noise (same shape as H)\n",
    "\n",
    "_What are these?_:\n",
    "\n",
    " - `measurement`: an observation of the system state (same shape as H*x)\n",
    " - `motion`: external motion added to state vector x\n",
    " \n",
    " "
   ]
  },
  {
   "cell_type": "code",
   "execution_count": 5,
   "metadata": {
    "collapsed": true
   },
   "outputs": [],
   "source": [
    "\"\"\"\n",
    "First, let's define the predict and update algorithms for the Kalman filter. \n",
    "If you need to read the equations, refer to https://en.wikipedia.org/wiki/Kalman_filter\n",
    "\n",
    "   Parameters:\n",
    "        X: initial state\n",
    "        P: initial uncertainty coveriance matrix\n",
    "        measurement: observed postion (same shape as H*x)\n",
    "        R: measurement noise (same shape as H)\n",
    "        motion: external motion added to state vector x\n",
    "        Q: motion noise (same shape as P)\n",
    "        A: next state function: x_prime = F*x (n x n matrix)\n",
    "        B: The input effect matrix (n x 1)\n",
    "        H: measurement function: position z=H*x\n",
    "        \n",
    "        Return: the updated and predicted new values for (x,P)\n",
    "    \"\"\"\n",
    "def kf_predict(X,P,A,Q,B,U):\n",
    "    X = np.dot(A,X) + np.dot(B,U) #predict the state (a piori)\n",
    "    P = np.dot(A, np.dot(P,A.T)) +Q  #estimate the covariance matrix (a piori)\n",
    "    return(X,P)\n",
    "    \n",
    "def kf_update(X,P,Y,H,R):\n",
    "    V = Y.T-np.dot(H,X) #innovation or measurement residual\n",
    "    S = np.dot(H, np.dot(P,H.T))+R #measurement prediction covariance\n",
    "    K = np.dot(P, np.dot(H.T, np.linalg.inv(S)))  #Kalman gain\n",
    "    X = X + np.dot(K,V)  #now estimate the mean (a posteriori)\n",
    "    P = P - np.dot(K,np.dot(S,K.T)) #estimate the covariance matrix (a posteriori)\n",
    "    return(X,P,K,V,S,H)"
   ]
  },
  {
   "cell_type": "code",
   "execution_count": 14,
   "metadata": {
    "collapsed": true
   },
   "outputs": [],
   "source": [
    "\"\"\"\n",
    "Now example: Tracking of mobile in wireless network\n",
    "Initialisation of state matrices\n",
    "Please note that for KF the results are very sensitive to parameters, I would suggest to play abit with the parameters\n",
    "\"\"\"\n",
    "\n",
    "X = np.array([[0.0],[0.0],[0.1],[0.1]]) #first two for location (0,0), later two for velocity (0.1,0.1) at a 2-D lattice x,y\n",
    "#P = np.diag((0.01,0.01,0.01,0.01))\n",
    "P = np.matrix(np.eye(4))*1000 # initial uncertainty\n",
    "dt = 0.1 #this will shape the state transition model A\n",
    "A = np.array([[1,0,dt,0],[0,1,0,dt],[0,0,1,0],[0,0,0,1]]) #transition matrix (x_t-1 -> x_t)\n",
    "H = np.array([[1,0,0,0],[0,1,0,0]]) #measurement matrix   y = H*x   (x, the true state, cannot be observed)\n",
    "Q = np.eye(X.shape[0])\n",
    "B = np.eye(X.shape[0])\n",
    "U = np.zeros((X.shape[0],1))\n",
    "#Measurement matrices\n",
    "N=20\n",
    "true_x = np.linspace(0.0, 10.0, N)\n",
    "true_y = true_x**2\n",
    "observed_x = true_x + 0.1*np.random.random(N)*true_x\n",
    "observed_y = true_y + 0.1*np.random.random(N)*true_y\n",
    "Y= np.vstack((observed_x,observed_y)).T\n",
    "result = []\n",
    "\n",
    "R =0.1**2"
   ]
  },
  {
   "cell_type": "markdown",
   "metadata": {},
   "source": [
    " - Tranlating the model into matrix A can be difficult (e.g. non-trivial to do with an ABM). \n",
    "   - (An emulator could be used to translate the model into A)\n",
    "\n",
    " \n",
    " "
   ]
  },
  {
   "cell_type": "code",
   "execution_count": 15,
   "metadata": {},
   "outputs": [
    {
     "data": {
      "text/plain": [
       "[<matplotlib.lines.Line2D at 0x122511a90>]"
      ]
     },
     "execution_count": 15,
     "metadata": {},
     "output_type": "execute_result"
    },
    {
     "data": {
      "image/png": "[encoded data removed]",
      "text/plain": [
       "<Figure size 432x288 with 1 Axes>"
      ]
     },
     "metadata": {},
     "output_type": "display_data"
    }
   ],
   "source": [
    "#now the main KF loop\n",
    "for i in range(0,N):\n",
    "    \n",
    "    #print(X)\n",
    "    (X,P,K,V,S,H)=kf_update(X,P,np.array([Y[i]]),H,R)\n",
    "    (X,P)= kf_predict(X,P,A,Q,B,U)\n",
    "    #print(K)\n",
    "    result.append((X[:2]).tolist())\n",
    "#plotting\n",
    "kalman_x, kalman_y = zip(*result)\n",
    "plt.plot(observed_x, observed_y, 'ro')\n",
    "plt.plot(kalman_x, kalman_y, 'g-')\n",
    "#plt.show()"
   ]
  },
  {
   "cell_type": "code",
   "execution_count": null,
   "metadata": {
    "collapsed": true
   },
   "outputs": [],
   "source": []
  }
 ],
 "metadata": {
  "kernelspec": {
   "display_name": "Python 3",
   "language": "python",
   "name": "python3"
  },
  "language_info": {
   "codemirror_mode": {
    "name": "ipython",
    "version": 3
   },
   "file_extension": ".py",
   "mimetype": "text/x-python",
   "name": "python",
   "nbconvert_exporter": "python",
   "pygments_lexer": "ipython3",
   "version": "3.6.5"
  }
 },
 "nbformat": 4,
 "nbformat_minor": 2
}
