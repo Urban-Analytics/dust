{
 "cells": [
  {
   "cell_type": "markdown",
   "metadata": {},
   "source": [
    "# Probabilistic Microsimulation\n",
    "\n",
    "Playing around with ideas about probabilistic microsimulation"
   ]
  },
  {
   "cell_type": "code",
   "execution_count": 1,
   "metadata": {},
   "outputs": [],
   "source": [
    "# Initialise\n",
    "\n",
    "import pymc3 as pm\n",
    "\n",
    "from IPython.core.pylabtools import figsize\n",
    "import matplotlib.pyplot as plt\n",
    "import scipy.stats as stats\n",
    "import numpy as np\n",
    "import random\n",
    "import math\n",
    "import daft"
   ]
  },
  {
   "cell_type": "markdown",
   "metadata": {},
   "source": [
    "## Define the population\n",
    "\n",
    "The population is defined by a series of lists; one list for each characteristic of the individuals."
   ]
  },
  {
   "cell_type": "code",
   "execution_count": 51,
   "metadata": {},
   "outputs": [
    {
     "name": "stderr",
     "output_type": "stream",
     "text": [
      "INFO (theano.gof.compilelock): Refreshing lock /Users/nick/.theano/compiledir_Darwin-18.2.0-x86_64-i386-64bit-i386-3.7.1-64/lock_dir/lock\n",
      "INFO (theano.gof.compilelock): Refreshing lock /Users/nick/.theano/compiledir_Darwin-18.2.0-x86_64-i386-64bit-i386-3.7.1-64/lock_dir/lock\n"
     ]
    }
   ],
   "source": [
    "N = 100 # The number of individuals we're going to create\n",
    "a = np.arange(N) # A list of indixces (0, 1, ..., N)\n",
    "\n",
    "# All distributions etc. need to be defined within the context of a pymc model\n",
    "model = pm.Model()\n",
    "\n",
    "# Age is represented using a poisson distribution with the lambda parameter representing the expected age\n",
    "# Lambda is randomly drawn from a normal distribution with mean 30 (mean pop age = 30)\n",
    "pop_ages\n",
    "\n",
    "# Income is also poisson.\n",
    "pop_inc = []\n",
    "\n",
    "# Assume sex is either male or female, so represent with a Bernouilli distribution\n",
    "pop_sex = []\n",
    "\n",
    "\n",
    "\n",
    "with model:\n",
    "    for i in a:\n",
    "        age = abs(random.gauss(mu=30, sigma=20)) # (make absolute so no one is negative age)\n",
    "        inc = abs(random.gauss(mu=30, sigma=20)) # (make absolute so no one is negative age)\n",
    "        pop_age.append( pm.Poisson(name=\"age\"+str(i), mu=age) )\n",
    "        pop_inc.append( pm.Poisson(name=\"inc\"+str(i), mu=inc) )\n",
    "        pop_sex.append( pm.Bernoulli(name=\"sex\"+str(i), p=0.5) )"
   ]
  },
  {
   "cell_type": "markdown",
   "metadata": {},
   "source": [
    "The population is defined by a series of probability distributions, one for each of the characteristics of the individuals. These are:\n",
    "\n",
    "  - Age: $A$, which we will model with a Poisson distribution.\n",
    "  \n",
    "    $$A \\sim \\text{Poi}(A_p) $$\n",
    "  \n",
    "  Poisson's have a single parameter (usually called $\\lambda$). We don't know anything about this parameter, so model it with a uniform distribution between 0-100 called $A_p$.\n",
    "  \n",
    "  $$A_p \\sim \\text{Uni}(0,100) $$\n",
    "  \n",
    "  - Income: $I$, is also a Poisson. \n",
    "  \n",
    "  $$I \\sim \\text{Poi}(I_p) $$\n",
    "  \n",
    "  This time though we model it's parameter with another Poisson distribution, $I_p$ so that we can assume that the mean aggregate income of the population is ~£25k. I.e. \n",
    "  \n",
    "  $$I_p \\sim \\text{Poi}(25) $$\n",
    "\n",
    "  - Sex: $S$ is assumed to be either male or female for now, so can be simulated with a Bernoulli distribution:\n",
    "  \n",
    "  $$S \\sim \\text{Ber}(S_p) $$\n",
    "  \n",
    "  where the parameter, (usually called $p$), can also be represented with a uniform distribution between 0 - 1:\n",
    "  \n",
    "  $$S_p \\sim \\text{Uni}(0,1) $$"
   ]
  },
  {
   "cell_type": "markdown",
   "metadata": {},
   "source": [
    "Lets display those relationships in a graph using the [daft](http://daft-pgm.org/) library:\n",
    "\n",
    "(_I don't think I am using the correct symbols on this graph_)\n",
    "\n",
    "(_Also, those nodes are latent, how to represent the aggregate data (observations)?_)"
   ]
  },
  {
   "cell_type": "code",
   "execution_count": 54,
   "metadata": {},
   "outputs": [
    {
     "data": {
      "text/plain": [
       "<matplotlib.axes._axes.Axes at 0x1c1c2ceda0>"
      ]
     },
     "execution_count": 54,
     "metadata": {},
     "output_type": "execute_result"
    },
    {
     "data": {
      "image/png": "[encoded data removed]",
      "text/plain": [
       "<Figure size 170.079x170.079 with 1 Axes>"
      ]
     },
     "metadata": {},
     "output_type": "display_data"
    }
   ],
   "source": [
    "from matplotlib import rc\n",
    "\n",
    "rc(\"font\", family=\"serif\", size=12)\n",
    "rc(\"text\", usetex=True)\n",
    "\n",
    "pgm = daft.PGM([3.0, 3.0], origin=[0.3, 0.3], observed_style=\"inner\")\n",
    "\n",
    "# Add the parameters\n",
    "pgm.add_node(daft.Node(\"age_param\", r\"$A_p$\", 1.0, 3.0))#, fixed=True))\n",
    "pgm.add_node(daft.Node(\"inc_param\", r\"$I_p$\", 2.0, 3.0))#, fixed=True))\n",
    "pgm.add_node(daft.Node(\"sex_param\", r\"$S_p$\", 3.0, 3.0))#, fixed=True))\n",
    "\n",
    "# Add the distribtions\n",
    "pgm.add_node(daft.Node(\"age\", r\"$A$\", 1.0, 2.0))\n",
    "pgm.add_node(daft.Node(\"inc\", r\"$I$\", 2.0, 2.0))\n",
    "pgm.add_node(daft.Node(\"sex\", r\"$S$\", 3.0, 2.0))\n",
    "\n",
    "# Edges between them\n",
    "pgm.add_edge(\"age_param\", \"age\")\n",
    "pgm.add_edge(\"inc_param\", \"inc\")\n",
    "pgm.add_edge(\"sex_param\", \"sex\")\n",
    "\n",
    "# The final node (i.e. the actual individual) and edges to it\n",
    "pgm.add_node(daft.Node(\"person\", r\"$P_n$\", 2.0, 1.0))\n",
    "pgm.add_edge(\"age\", \"person\")\n",
    "pgm.add_edge(\"inc\", \"person\")\n",
    "pgm.add_edge(\"sex\", \"person\")\n",
    "\n",
    "pgm.add_plate(daft.Plate([1.5, 0.4, 1.5, 1.2], label=r\"$n = 1, \\cdots, N$\"))\n",
    "\n",
    "\n",
    "# Render and save.\n",
    "pgm.render()\n",
    "#pgm.figure.savefig(\"nogray.pdf\")\n",
    "#pgm.figure.savefig(\"nogray.png\", dpi=150)"
   ]
  },
  {
   "cell_type": "markdown",
   "metadata": {},
   "source": [
    "Now define those programatically:"
   ]
  },
  {
   "cell_type": "code",
   "execution_count": 5,
   "metadata": {},
   "outputs": [],
   "source": [
    "N = 100 # The number of individuals we're going to create\n",
    "a = np.arange(N) # A list of indixces (0, 1, ..., N)\n",
    "\n",
    "# All distributions etc. need to be defined within the context of a pymc model\n",
    "model = pm.Model()\n",
    "\n",
    "with model:\n",
    "    # Individual age is represented using a poisson distribution with the lambda parameter representing the \n",
    "    # expected age of the person.\n",
    "    # The lambda parameter is itself represented with a distribution. We don't know anything about it so\n",
    "    # make it uniform (OK, it could also be Poisson if we have some ideas about the aggregate distributions\n",
    "    # of the individuals' ages, e.g. if we assume that most people are 30, but keep it uniform for now).\n",
    "    # We want to find good values for those parameters ... \n",
    "    # (shape creates N different distributions; one for each individual)\n",
    "    pop_age_param = pm.Uniform(\"age_param\", lower=0, upper= 100, shape=N) # Not great if people are older than 100\n",
    "    pop_age = pm.Poisson(\"age\", mu=pop_age_param, shape=N)\n",
    "\n",
    "    # Income is also poisson. This time assume that the expected income of an individual is likely to be ~25k\n",
    "    pop_inc_param = pm.Poisson(\"inc_param\", mu=25, shape=N)\n",
    "    pop_inc = pm.Poisson(\"inc\", mu=pop_inc_param, shape=N)\n",
    "\n",
    "    # Assume sex is either male or female, so represent with a Bernouilli distribution. Again, there is a \n",
    "    # parameter that we need to estimate an appropriate value for\n",
    "    pop_sex_param = pm.Uniform(\"sex_param\", lower=0.0, upper=1.0, shape=N)\n",
    "    pop_sex = pm.Bernoulli(\"sex\", p = pop_sex_param, shape=N)"
   ]
  },
  {
   "cell_type": "markdown",
   "metadata": {},
   "source": [
    "## Interrogate the (prior) population\n",
    "\n",
    "Lets have a look at the population priors; before observing any real data."
   ]
  },
  {
   "cell_type": "code",
   "execution_count": 6,
   "metadata": {},
   "outputs": [
    {
     "name": "stdout",
     "output_type": "stream",
     "text": [
      "Ages: ['50', '50', '50', '50', '50', '50', '50', '50', '50', '50', '50', '50', '50', '50', '50', '50', '50', '50', '50', '50', '50', '50', '50', '50', '50', '50', '50', '50', '50', '50', '50', '50', '50', '50', '50', '50', '50', '50', '50', '50', '50', '50', '50', '50', '50', '50', '50', '50', '50', '50', '50', '50', '50', '50', '50', '50', '50', '50', '50', '50', '50', '50', '50', '50', '50', '50', '50', '50', '50', '50', '50', '50', '50', '50', '50', '50', '50', '50', '50', '50', '50', '50', '50', '50', '50', '50', '50', '50', '50', '50', '50', '50', '50', '50', '50', '50', '50', '50', '50', '50']\n",
      "Incomes: ['25', '25', '25', '25', '25', '25', '25', '25', '25', '25', '25', '25', '25', '25', '25', '25', '25', '25', '25', '25', '25', '25', '25', '25', '25', '25', '25', '25', '25', '25', '25', '25', '25', '25', '25', '25', '25', '25', '25', '25', '25', '25', '25', '25', '25', '25', '25', '25', '25', '25', '25', '25', '25', '25', '25', '25', '25', '25', '25', '25', '25', '25', '25', '25', '25', '25', '25', '25', '25', '25', '25', '25', '25', '25', '25', '25', '25', '25', '25', '25', '25', '25', '25', '25', '25', '25', '25', '25', '25', '25', '25', '25', '25', '25', '25', '25', '25', '25', '25', '25']\n",
      "Sexes: ['0', '0', '0', '0', '0', '0', '0', '0', '0', '0', '0', '0', '0', '0', '0', '0', '0', '0', '0', '0', '0', '0', '0', '0', '0', '0', '0', '0', '0', '0', '0', '0', '0', '0', '0', '0', '0', '0', '0', '0', '0', '0', '0', '0', '0', '0', '0', '0', '0', '0', '0', '0', '0', '0', '0', '0', '0', '0', '0', '0', '0', '0', '0', '0', '0', '0', '0', '0', '0', '0', '0', '0', '0', '0', '0', '0', '0', '0', '0', '0', '0', '0', '0', '0', '0', '0', '0', '0', '0', '0', '0', '0', '0', '0', '0', '0', '0', '0', '0', '0']\n"
     ]
    }
   ],
   "source": [
    "# Initial values ('test_value')\n",
    "with model:\n",
    "    print(\"Ages: \" +    str([ str(pop_age[i].tag.test_value) for i in a ] ) )\n",
    "    print(\"Incomes: \" + str([ str(pop_inc[i].tag.test_value) for i in a ] ) )\n",
    "    print(\"Sexes: \" +   str([ str(pop_sex[i].tag.test_value) for i in a ] ) )\n",
    "#with model:\n",
    "    #print(\"Ages: \" +    str([ x.tag.test_value for x in pop_age ] ) )\n",
    "    #print(\"Incomes: \" + str([ x.tag.test_value for x in pop_inc ] ) )\n",
    "    #print(\"Sexes: \" +   str([ x.tag.test_value for x in pop_sex ] ) )"
   ]
  },
  {
   "cell_type": "markdown",
   "metadata": {},
   "source": [
    "## Model aggregate data\n",
    "\n",
    "The previous variables are all latent; they cannot be observed directly. Instead, we will have aggregate data that tell us about the underying population. These need to be included in the model as 'observed' nodes (i.e. stochastic variables that have a fixed value)."
   ]
  },
  {
   "cell_type": "code",
   "execution_count": null,
   "metadata": {},
   "outputs": [],
   "source": []
  },
  {
   "cell_type": "markdown",
   "metadata": {},
   "source": []
  },
  {
   "cell_type": "code",
   "execution_count": null,
   "metadata": {},
   "outputs": [],
   "source": []
  },
  {
   "cell_type": "code",
   "execution_count": 1,
   "metadata": {},
   "outputs": [],
   "source": []
  },
  {
   "cell_type": "markdown",
   "metadata": {},
   "source": [
    "### Observe aggregate data\n",
    "\n",
    "Now lets observe some 'real' data (an age, income, sex table) ... \n",
    "\n",
    "XXXX"
   ]
  },
  {
   "cell_type": "code",
   "execution_count": null,
   "metadata": {},
   "outputs": [],
   "source": []
  }
 ],
 "metadata": {
  "kernelspec": {
   "display_name": "Python 3",
   "language": "python",
   "name": "python3"
  },
  "language_info": {
   "codemirror_mode": {
    "name": "ipython",
    "version": 3
   },
   "file_extension": ".py",
   "mimetype": "text/x-python",
   "name": "python",
   "nbconvert_exporter": "python",
   "pygments_lexer": "ipython3",
   "version": "3.7.1"
  }
 },
 "nbformat": 4,
 "nbformat_minor": 2
}
